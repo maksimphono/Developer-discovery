{
 "cells": [
  {
   "cell_type": "code",
   "execution_count": 1,
   "id": "ff7897d9-4eb0-45b0-9108-1e25b1533011",
   "metadata": {},
   "outputs": [
    {
     "name": "stdout",
     "output_type": "stream",
     "text": [
      "Collection(Database(MongoClient(host=['192.168.43.78:27020'], document_class=dict, tz_aware=False, connect=True), 'mini_database'), 'projects')\n"
     ]
    }
   ],
   "source": [
    "from pymongo import MongoClient\n",
    "\n",
    "# single machine setup (mongo is running here localy)\n",
    "#MY_DATABASE_LINK = 'mongodb://192.168.100.57:27020/'\n",
    "# multiple mechine setup (mongo is running on another machine)\n",
    "MY_DATABASE_LINK = 'mongodb://192.168.43.78:27020/'\n",
    "\n",
    "class DatabaseConnect:\n",
    "    DB_LINK = MY_DATABASE_LINK\n",
    "\n",
    "    class Base:\n",
    "        client = None\n",
    "        @classmethod\n",
    "        def connect(cls, databaseName):\n",
    "            cls.client = MongoClient(DatabaseConnect.DB_LINK)\n",
    "            # Access the database\n",
    "            return cls.client[databaseName]\n",
    "\n",
    "        @classmethod\n",
    "        def close(cls):\n",
    "            if cls.client:\n",
    "                cls.client.close()\n",
    "                cls.client = None\n",
    "\n",
    "        @classmethod\n",
    "        def getCollection(cls, collectionName):\n",
    "            return cls.client[collectionName]\n",
    "\n",
    "\n",
    "    class mini_database(Base):\n",
    "        @classmethod\n",
    "        def projects(cls):\n",
    "            #print(cls.connect)\n",
    "            \n",
    "            return cls.connect('mini_database')['projects']\n",
    "        @classmethod\n",
    "        def users(cls):\n",
    "            return cls.connect('mini_database')['users']\n",
    "\n",
    "projectsCollection = DatabaseConnect.mini_database.projects()\n",
    "usersCollection = DatabaseConnect.mini_database.users()\n",
    "print(projectsCollection)"
   ]
  },
  {
   "cell_type": "code",
   "execution_count": 2,
   "id": "0493c1d7-05a0-4f37-896f-75282fa4814f",
   "metadata": {},
   "outputs": [],
   "source": [
    "import numpy as np"
   ]
  },
  {
   "cell_type": "code",
   "execution_count": 165,
   "id": "7a3bb257-9cda-4e46-bed9-a7b13cb91b0a",
   "metadata": {},
   "outputs": [],
   "source": [
    "def getProjectsStars(projectsNum : int) -> list:\n",
    "    count = projectsNum\n",
    "    cursor = projectsCollection.find()\n",
    "    stars = []\n",
    "\n",
    "    for proj in cursor:\n",
    "        if count <= 0: break\n",
    "        stars.append(proj[\"stars\"])\n",
    "        count -= 1\n",
    "\n",
    "    return np.array(stars)\n",
    "\n",
    "def getProjectsForPeriods(stars : list, periodSize = 50):\n",
    "    class Period(list):\n",
    "        def __init__(self, *args, **kwargs):\n",
    "            super().__init__(*args, **kwargs)\n",
    "            self.projectsAmount = 0\n",
    "\n",
    "        def includes(self, n):\n",
    "            return (self[0] <= n) and (self[1] >= n)\n",
    "\n",
    "\n",
    "    maxVal = max(stars)\n",
    "    print(maxVal)\n",
    "    # construct periods:\n",
    "    periods = [Period((i, i + periodSize)) for i in range(0, maxVal + periodSize, periodSize)]\n",
    "    if maxVal % periodSize: periods += [Period((maxVal - (maxVal % periodSize), maxVal))]\n",
    "\n",
    "    print(len(periods))\n",
    "    projectsPerPeriod = [0] * len(periods)\n",
    "    projectsCursor = projectsCollection.find()\n",
    "\n",
    "    for projectStars in stars:\n",
    "        for index, period in enumerate(periods):\n",
    "            if period.includes(projectStars):\n",
    "                period.projectsAmount += 1\n",
    "                #projectsPerPeriod[index] += 1\n",
    "\n",
    "    return {\"periods\" : periods, \"projects_amount\" : projectsPerPeriod}"
   ]
  },
  {
   "cell_type": "code",
   "execution_count": 172,
   "id": "f984eedc-7707-4aba-8bfd-d33f50837217",
   "metadata": {},
   "outputs": [
    {
     "data": {
      "text/plain": [
       "np.int64(346938)"
      ]
     },
     "execution_count": 172,
     "metadata": {},
     "output_type": "execute_result"
    }
   ],
   "source": [
    "starsArray = getProjectsStars(10000)\n",
    "\n",
    "maximum = max(starsArray)\n",
    "maximum"
   ]
  },
  {
   "cell_type": "code",
   "execution_count": 174,
   "id": "8caa7fac-825a-4258-97d0-bb653172a256",
   "metadata": {},
   "outputs": [
    {
     "name": "stdout",
     "output_type": "stream",
     "text": [
      "Threshold: 0.0\n",
      "Original size: 10000\n",
      "4700\n"
     ]
    }
   ],
   "source": [
    "def percentile_threshold(likes, percentile=50):\n",
    "    return np.percentile(likes, percentile)\n",
    "\n",
    "threshold = percentile_threshold(starsArray, 70)  # Keep top 25% posts\n",
    "\n",
    "print(\"Threshold:\", threshold)\n",
    "print(f\"Original size: {len(starsArray)}\")\n",
    "print(len(starsArray[starsArray > threshold]))"
   ]
  },
  {
   "cell_type": "code",
   "execution_count": 163,
   "id": "ca0c720b-4057-403e-8806-372bb5845160",
   "metadata": {},
   "outputs": [
    {
     "data": {
      "text/plain": [
       "np.float64(59.01316985951076)"
      ]
     },
     "execution_count": 163,
     "metadata": {},
     "output_type": "execute_result"
    }
   ],
   "source": [
    "nonZero = np.array([p.projectsAmount for p in projectsForPeriods])\n",
    "nonZero = nonZero[nonZero > 0]\n",
    "calculateOptimal(nonZero, 2)"
   ]
  },
  {
   "cell_type": "code",
   "execution_count": 164,
   "id": "5510c045-0b1a-4d2d-ae3a-cad67c858adb",
   "metadata": {},
   "outputs": [
    {
     "data": {
      "text/plain": [
       "array([759,  30,  18,  11,  16,   7,   3,   5,   1,   4,   5,   4,   5,\n",
       "         1,   1,   1,   2,   2,   3,   1,   2,   3,   1,   1,   2,   2,\n",
       "         1,   2,   1,   2,   1,   1,   2,   2,   1,   1,   1,   1,   1,\n",
       "         1,   2,   1,   1,   1,   1,   1,   1,   1,   1,   5,   1,   1,\n",
       "         1,   1,   1,   1,   2,   1,   1,   1,   1,   1,   2,   1,   1,\n",
       "         1,   1,   1,   1,   1,   2,   1,   2,   1,   1,   1,   1,   1,\n",
       "         1,   2,   1,   1,   1,   1,   1,   2,   1,   1,   1,   1,   1,\n",
       "         1,   1,   1,   2,   1,   2,   1,   1,   1,   1,   1,   1,   1,\n",
       "         1,   1,   1,   1,   1,   1,   1,   1,   1,   1,   1,   1,   1,\n",
       "         1,   1,   1,   1,   2,   1,   1,   1,   1,   1,   1,   1,   1,\n",
       "         1,   2,   1,   2,   1,   1,   1,   1,   1,   1,   1,   1,   1,\n",
       "         1,   1,   1,   1,   1,   1,   1,   1,   1,   1,   1,   1,   1,\n",
       "         1,   1,   1,   1,   1,   1,   1,   1,   1,   1])"
      ]
     },
     "execution_count": 164,
     "metadata": {},
     "output_type": "execute_result"
    }
   ],
   "source": [
    "nonZero"
   ]
  },
  {
   "cell_type": "code",
   "execution_count": null,
   "id": "e336778d-cffb-43e6-8f3b-facc02c8d68e",
   "metadata": {},
   "outputs": [],
   "source": []
  }
 ],
 "metadata": {
  "kernelspec": {
   "display_name": "Python 3 (ipykernel)",
   "language": "python",
   "name": "python3"
  },
  "language_info": {
   "codemirror_mode": {
    "name": "ipython",
    "version": 3
   },
   "file_extension": ".py",
   "mimetype": "text/x-python",
   "name": "python",
   "nbconvert_exporter": "python",
   "pygments_lexer": "ipython3",
   "version": "3.11.11"
  }
 },
 "nbformat": 4,
 "nbformat_minor": 5
}
