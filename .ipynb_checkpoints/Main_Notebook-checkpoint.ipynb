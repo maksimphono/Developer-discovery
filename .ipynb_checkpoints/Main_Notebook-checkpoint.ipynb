{
 "cells": [
  {
   "cell_type": "code",
   "execution_count": 1,
   "id": "ff7897d9-4eb0-45b0-9108-1e25b1533011",
   "metadata": {},
   "outputs": [
    {
     "name": "stdout",
     "output_type": "stream",
     "text": [
      "Collection(Database(MongoClient(host=['192.168.1.191:27020'], document_class=dict, tz_aware=False, connect=True), 'mini_database'), 'projects')\n"
     ]
    }
   ],
   "source": [
    "from pymongo import MongoClient\n",
    "\n",
    "# single machine setup (mongo is running here localy)\n",
    "MY_DATABASE_LINK = 'mongodb://192.168.1.191:27020/' #'mongodb://192.168.100.57:27020/'\n",
    "# multiple mechine setup (mongo is running on another machine)\n",
    "#MY_DATABASE_LINK = 'mongodb://192.168.43.78:27020/'\n",
    "\n",
    "class DatabaseConnect:\n",
    "    DB_LINK = MY_DATABASE_LINK\n",
    "\n",
    "    class Base:\n",
    "        client = None\n",
    "        @classmethod\n",
    "        def connect(cls, databaseName):\n",
    "            cls.client = MongoClient(DatabaseConnect.DB_LINK)\n",
    "            # Access the database\n",
    "            return cls.client[databaseName]\n",
    "\n",
    "        @classmethod\n",
    "        def close(cls):\n",
    "            if cls.client:\n",
    "                cls.client.close()\n",
    "                cls.client = None\n",
    "\n",
    "        @classmethod\n",
    "        def getCollection(cls, collectionName):\n",
    "            return cls.client[collectionName]\n",
    "\n",
    "\n",
    "    class mini_database(Base):\n",
    "        @classmethod\n",
    "        def projects(cls):\n",
    "            #print(cls.connect)\n",
    "            \n",
    "            return cls.connect('mini_database')['projects']\n",
    "        @classmethod\n",
    "        def users(cls):\n",
    "            return cls.connect('mini_database')['users']\n",
    "\n",
    "projectsCollection = DatabaseConnect.mini_database.projects()\n",
    "usersCollection = DatabaseConnect.mini_database.users()\n",
    "print(projectsCollection)"
   ]
  },
  {
   "cell_type": "code",
   "execution_count": 2,
   "id": "0493c1d7-05a0-4f37-896f-75282fa4814f",
   "metadata": {},
   "outputs": [],
   "source": [
    "import numpy as np"
   ]
  },
  {
   "cell_type": "code",
   "execution_count": 3,
   "id": "7a3bb257-9cda-4e46-bed9-a7b13cb91b0a",
   "metadata": {},
   "outputs": [],
   "source": [
    "def getProjectsStars(projectsNum : int) -> list:\n",
    "    count = projectsNum\n",
    "    cursor = projectsCollection.find()\n",
    "    stars = []\n",
    "\n",
    "    for proj in cursor:\n",
    "        if count <= 0: break\n",
    "        stars.append(proj[\"stars\"])\n",
    "        count -= 1\n",
    "\n",
    "    return np.array(stars)\n",
    "\n",
    "def getProjectsForPeriods(stars : list, periodSize = 50):\n",
    "    class Period(list):\n",
    "        def __init__(self, *args, **kwargs):\n",
    "            super().__init__(*args, **kwargs)\n",
    "            self.projectsAmount = 0\n",
    "\n",
    "        def includes(self, n):\n",
    "            return (self[0] <= n) and (self[1] >= n)\n",
    "\n",
    "\n",
    "    maxVal = max(stars)\n",
    "    print(maxVal)\n",
    "    # construct periods:\n",
    "    periods = [Period((i, i + periodSize)) for i in range(0, maxVal + periodSize, periodSize)]\n",
    "    if maxVal % periodSize: periods += [Period((maxVal - (maxVal % periodSize), maxVal))]\n",
    "\n",
    "    print(len(periods))\n",
    "    projectsPerPeriod = [0] * len(periods)\n",
    "    projectsCursor = projectsCollection.find()\n",
    "\n",
    "    for projectStars in stars:\n",
    "        for index, period in enumerate(periods):\n",
    "            if period.includes(projectStars):\n",
    "                period.projectsAmount += 1\n",
    "                #projectsPerPeriod[index] += 1\n",
    "\n",
    "    return {\"periods\" : periods, \"projects_amount\" : projectsPerPeriod}"
   ]
  },
  {
   "cell_type": "code",
   "execution_count": 4,
   "id": "f984eedc-7707-4aba-8bfd-d33f50837217",
   "metadata": {},
   "outputs": [
    {
     "data": {
      "text/plain": [
       "284894"
      ]
     },
     "execution_count": 4,
     "metadata": {},
     "output_type": "execute_result"
    }
   ],
   "source": [
    "starsArray = getProjectsStars(1000)\n",
    "\n",
    "maximum = max(starsArray)\n",
    "maximum"
   ]
  },
  {
   "cell_type": "code",
   "execution_count": 5,
   "id": "8caa7fac-825a-4258-97d0-bb653172a256",
   "metadata": {},
   "outputs": [
    {
     "name": "stdout",
     "output_type": "stream",
     "text": [
      "Threshold: 2.0\n",
      "Original size: 1000\n",
      "272\n"
     ]
    }
   ],
   "source": [
    "def percentile_threshold(likes, percentile=50):\n",
    "    return np.percentile(likes, percentile)\n",
    "\n",
    "threshold = percentile_threshold(starsArray, 70)  # Keep top 30% posts\n",
    "\n",
    "print(\"Threshold:\", threshold)\n",
    "print(f\"Original size: {len(starsArray)}\")\n",
    "print(len(starsArray[starsArray > threshold]))"
   ]
  },
  {
   "cell_type": "code",
   "execution_count": null,
   "id": "8e505ce6-03df-4b65-a3c2-ba7e380511ec",
   "metadata": {},
   "outputs": [],
   "source": [
    "class ProjectsCollectionManager:\n",
    "    def __init__(self, userNumber, validate = lambda data: True):\n",
    "        self.userNumber = userNumber\n",
    "    def preprocess():\n",
    "        pass"
   ]
  },
  {
   "cell_type": "code",
   "execution_count": 21,
   "id": "e336778d-cffb-43e6-8f3b-facc02c8d68e",
   "metadata": {
    "scrolled": true
   },
   "outputs": [
    {
     "name": "stdout",
     "output_type": "stream",
     "text": [
      "Scanning user: 0\n",
      "Scanning user: 1\n",
      "Scanning user: 2\n",
      "Scanning user: 3\n",
      "Scanning user: 4\n",
      "Scanning user: 5\n",
      "Scanning user: 6\n",
      "Scanning user: 7\n",
      "Scanning user: 8\n",
      "Scanning user: 9\n"
     ]
    },
    {
     "data": {
      "text/plain": [
       "134"
      ]
     },
     "execution_count": 21,
     "metadata": {},
     "output_type": "execute_result"
    }
   ],
   "source": [
    "\n",
    "\n",
    "from copy import deepcopy\n",
    "\n",
    "def projectDataIsSufficient(projectData):\n",
    "    return (projectData and projectData[\"description\"] and (len(projectData[\"topics\"]) or projectData[\"language\"]))\n",
    "\n",
    "def projectDataIsValid(projectData : dict):\n",
    "    # will check if project data can actually be used in the training (can specify other conditions)\n",
    "    #return projectData and len(projectData[\"description\"]) > 0\n",
    "    return projectDataIsSufficient(projectData)\n",
    "\n",
    "def getProjectsDataForUsers(usersNumber = float(\"inf\")) -> dict[str, list]:\n",
    "    # will return a dictionary, where keys are users ids and values are lists of projects ids, each user has contributed to\n",
    "    i = 0\n",
    "    count = usersNumber\n",
    "    cursor = usersCollection.find()\n",
    "    data = {}\n",
    "\n",
    "    for user in cursor:\n",
    "        if count <= 0: break\n",
    "        print(f\"Scanning user: {i}\")\n",
    "        projectsIDList = user[\"projects\"]\n",
    "\n",
    "        projects = []\n",
    "\n",
    "        for proj_id in projectsIDList:\n",
    "            projectData = projectsCollection.find_one({\"id\" : proj_id}, {\"_id\" : False})\n",
    "\n",
    "            if projectDataIsValid(projectData):\n",
    "                projects.append(projectData)\n",
    "        \n",
    "        if len(projects):\n",
    "            data[user[\"id\"]] = deepcopy(projects)\n",
    "            count -= 1\n",
    "\n",
    "        i += 1\n",
    "\n",
    "    return data\n",
    "\n",
    "usersProjects = getProjectsDataForUsers(10)\n",
    "\n",
    "sum([len(projLst) for projLst in usersProjects.values()])"
   ]
  },
  {
   "cell_type": "code",
   "execution_count": 22,
   "id": "ab584272-0117-4d61-a11b-dcc5772e5a0e",
   "metadata": {},
   "outputs": [],
   "source": [
    "import re\n",
    "\n",
    "def translateText(text):\n",
    "    if text.isascii(): return text\n",
    "\n",
    "    try:\n",
    "        async def inner():\n",
    "            nonlocal text\n",
    "            from googletrans import Translator\n",
    "\n",
    "            async with Translator() as translator:\n",
    "                result = await translator.translate(text, dest = \"en\")\n",
    "\n",
    "            return result\n",
    "            \n",
    "        import asyncio\n",
    "        import nest_asyncio\n",
    "\n",
    "        nest_asyncio.apply()  # Patch the event loop    \n",
    "        return asyncio.run(inner()).text\n",
    "\n",
    "    except Exception as exp:\n",
    "        if str(type(exp)) == \"<class 'httpx.ConnectError'>\":\n",
    "            return text\n",
    "        else:\n",
    "            raise exp"
   ]
  },
  {
   "cell_type": "code",
   "execution_count": 23,
   "id": "0eb03de6-3eed-4f2b-a7e7-8bc48049542d",
   "metadata": {},
   "outputs": [],
   "source": [
    "import nltk\n",
    "from nltk.corpus import stopwords\n",
    "from nltk.tokenize import word_tokenize\n",
    "from nltk.stem import WordNetLemmatizer\n",
    "import string\n",
    "\n",
    "def textPreprocessing(text):\n",
    "    # Initialize tools\n",
    "    stop_words = set(stopwords.words(\"english\"))\n",
    "    lemmatizer = WordNetLemmatizer()\n",
    "\n",
    "    # Translate:\n",
    "    text = translateText(text)\n",
    "    # Remove unicode:\n",
    "    text = text.encode(\"ascii\", \"ignore\").decode()\n",
    "    # Process camel case:\n",
    "    #text = processCamelCase(text)\n",
    "    # Lower the text:\n",
    "    text = text.lower()\n",
    "    # Remove punctuation\n",
    "    text = text.translate(str.maketrans(string.punctuation, \" \" * len(string.punctuation)))\n",
    "    # Remove stop-words:\n",
    "    #text = re.sub(\"\\s\" + \"|\".join(stop_words) + \"\\s\", \" \", text)\n",
    "    # Remove new lines\n",
    "    text = re.sub(r\"\\n\", \" \", text)\n",
    "    # Remove multiple spaces:\n",
    "    text = re.sub(\"\\s+\", \" \", text).strip()\n",
    "\n",
    "    tokens = [word for word in word_tokenize(text) if not word in stop_words]  # Tokenize into words\n",
    "    tokens = [lemmatizer.lemmatize(word) for word in tokens if word not in stop_words]  # Remove stopwords & lemmatize\n",
    "\n",
    "    return tokens\n",
    "\n",
    "\n",
    "def projectsDataPreprocessing(projects : np.array(dict)) -> np.array([{\"tokens\" : str, \"tags\" : list}]):\n",
    "    # will take in an array of projects and prepare it to be consumed by the model\n",
    "    # takes: array of projects (as dictionaries); returns: text data and tags for every project in array\n",
    "    result = []\n",
    "\n",
    "    for proj in projects:\n",
    "        text = textPreprocessing(\" \".join([proj[\"name\"], proj[\"description\"]]))\n",
    "        tags = [proj[\"id\"], proj[\"name\"], proj[\"language\"]] + proj[\"topics\"] if proj[\"language\"] else proj[\"topics\"]\n",
    "        result.append({\"tokens\" : text, \"tags\" : tags})\n",
    "\n",
    "    return result"
   ]
  },
  {
   "cell_type": "code",
   "execution_count": 24,
   "id": "22b852d5-562b-4199-817e-e13e69e36c79",
   "metadata": {},
   "outputs": [
    {
     "data": {
      "text/plain": [
       "10"
      ]
     },
     "execution_count": 24,
     "metadata": {},
     "output_type": "execute_result"
    }
   ],
   "source": [
    "processedProjects = {}\n",
    "for user_id, userProjs in usersProjects.items():\n",
    "    #print(type(np.array(userProjs)))\n",
    "    usersProjects[user_id] = projectsDataPreprocessing(userProjs)\n",
    "\n",
    "#textPreprocessing(\"JPush's officially supported React Native plugin (Android & iOS). 你好\")\n",
    "#re.sub(\"\\s(\" + \"|\".join(stop_words) + \")\\s\", \" \", \" on sdf of sdfx a kjn the\")\n",
    "len(usersProjects)"
   ]
  },
  {
   "cell_type": "code",
   "execution_count": 10,
   "id": "2752c177-0a15-4e46-af68-deee8b35a225",
   "metadata": {},
   "outputs": [
    {
     "data": {
      "text/plain": [
       "[{'tokens': ['awesome',\n",
       "   'code',\n",
       "   'streamer',\n",
       "   'list',\n",
       "   'code',\n",
       "   'streamer',\n",
       "   'multiple',\n",
       "   'plataforms',\n",
       "   'like',\n",
       "   'twitch',\n",
       "   'youtube',\n",
       "   'etc'],\n",
       "  'tags': ['awesome', 'awesome-list', 'lists', 'resources']},\n",
       " {'tokens': ['smart',\n",
       "   'home',\n",
       "   'mqtt',\n",
       "   'experimental',\n",
       "   'wip',\n",
       "   'bridge',\n",
       "   'google',\n",
       "   'smart',\n",
       "   'home',\n",
       "   'mqtt'],\n",
       "  'tags': ['github:alvarowolfx/smart-home-mqtt',\n",
       "   'smart-home-mqtt',\n",
       "   'JavaScript']},\n",
       " {'tokens': ['typeorm',\n",
       "   'seeding',\n",
       "   'delightful',\n",
       "   'way',\n",
       "   'seed',\n",
       "   'test',\n",
       "   'data',\n",
       "   'database'],\n",
       "  'tags': ['github:betiol/typeorm-seeding', 'typeorm-seeding', 'TypeScript']},\n",
       " {'tokens': ['express',\n",
       "   'response',\n",
       "   'formatter',\n",
       "   'sparkle',\n",
       "   'better',\n",
       "   'way',\n",
       "   'format',\n",
       "   'express',\n",
       "   'response'],\n",
       "  'tags': ['github:betiol/express-response-formatter',\n",
       "   'express-response-formatter',\n",
       "   'TypeScript']},\n",
       " {'tokens': ['desafio', 'rn', 'desafio', 'react', 'native'],\n",
       "  'tags': ['github:betiol/desafio-rn', 'desafio-rn', 'TypeScript']},\n",
       " {'tokens': ['command',\n",
       "   'line',\n",
       "   'go',\n",
       "   'ip',\n",
       "   'server',\n",
       "   'return',\n",
       "   'server',\n",
       "   'name',\n",
       "   'ip',\n",
       "   'specific',\n",
       "   'server'],\n",
       "  'tags': ['github:betiol/command-line-go-ip-servers',\n",
       "   'command-line-go-ip-servers',\n",
       "   'Go']},\n",
       " {'tokens': ['smart',\n",
       "   'home',\n",
       "   'mqtt',\n",
       "   'experimental',\n",
       "   'wip',\n",
       "   'bridge',\n",
       "   'google',\n",
       "   'smart',\n",
       "   'home',\n",
       "   'mqtt'],\n",
       "  'tags': ['github:betiol/smart-home-mqtt', 'smart-home-mqtt', 'JavaScript']}]"
      ]
     },
     "execution_count": 10,
     "metadata": {},
     "output_type": "execute_result"
    }
   ],
   "source": [
    "list(usersProjects.values())[0]"
   ]
  },
  {
   "cell_type": "code",
   "execution_count": 25,
   "id": "b604bd30-9adc-4217-b8fb-c12f861d5a4c",
   "metadata": {},
   "outputs": [],
   "source": [
    "import json\n",
    "with open(\"./mycache/preprocessedData_19-03-25.json\", \"w\") as file:\n",
    "    json.dump(usersProjects, fp = file)"
   ]
  },
  {
   "cell_type": "code",
   "execution_count": 12,
   "id": "ebc718e5-d83e-4bfc-a8c2-e676cf5779e0",
   "metadata": {},
   "outputs": [],
   "source": [
    "#import gensim\n",
    "#from gensim.models.doc2vec import TaggedDocument\n",
    "#from nltk.tokenize import word_tokenize"
   ]
  }
 ],
 "metadata": {
  "kernelspec": {
   "display_name": "Python 3 (ipykernel)",
   "language": "python",
   "name": "python3"
  },
  "language_info": {
   "codemirror_mode": {
    "name": "ipython",
    "version": 3
   },
   "file_extension": ".py",
   "mimetype": "text/x-python",
   "name": "python",
   "nbconvert_exporter": "python",
   "pygments_lexer": "ipython3",
   "version": "3.11.11"
  }
 },
 "nbformat": 4,
 "nbformat_minor": 5
}
