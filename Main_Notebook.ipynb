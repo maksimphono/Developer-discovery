{
 "cells": [
  {
   "cell_type": "code",
   "execution_count": 1,
   "id": "ff7897d9-4eb0-45b0-9108-1e25b1533011",
   "metadata": {},
   "outputs": [
    {
     "name": "stdout",
     "output_type": "stream",
     "text": [
      "Collection(Database(MongoClient(host=['192.168.1.191:27020'], document_class=dict, tz_aware=False, connect=True), 'mini_database'), 'projects')\n"
     ]
    }
   ],
   "source": [
    "from pymongo import MongoClient\n",
    "\n",
    "# single machine setup (mongo is running here localy)\n",
    "MY_DATABASE_LINK = 'mongodb://192.168.1.191:27020/' #'mongodb://192.168.100.57:27020/'\n",
    "# multiple mechine setup (mongo is running on another machine)\n",
    "#MY_DATABASE_LINK = 'mongodb://192.168.43.78:27020/'\n",
    "\n",
    "class DatabaseConnect:\n",
    "    DB_LINK = MY_DATABASE_LINK\n",
    "\n",
    "    class Base:\n",
    "        client = None\n",
    "        @classmethod\n",
    "        def connect(cls, databaseName):\n",
    "            cls.client = MongoClient(DatabaseConnect.DB_LINK)\n",
    "            # Access the database\n",
    "            return cls.client[databaseName]\n",
    "\n",
    "        @classmethod\n",
    "        def close(cls):\n",
    "            if cls.client:\n",
    "                cls.client.close()\n",
    "                cls.client = None\n",
    "\n",
    "        @classmethod\n",
    "        def getCollection(cls, collectionName):\n",
    "            return cls.client[collectionName]\n",
    "\n",
    "\n",
    "    class mini_database(Base):\n",
    "        @classmethod\n",
    "        def projects(cls):\n",
    "            #print(cls.connect)\n",
    "            \n",
    "            return cls.connect('mini_database')['projects']\n",
    "        @classmethod\n",
    "        def users(cls):\n",
    "            return cls.connect('mini_database')['users']\n",
    "\n",
    "projectsCollection = DatabaseConnect.mini_database.projects()\n",
    "usersCollection = DatabaseConnect.mini_database.users()\n",
    "print(projectsCollection)"
   ]
  },
  {
   "cell_type": "code",
   "execution_count": 2,
   "id": "0493c1d7-05a0-4f37-896f-75282fa4814f",
   "metadata": {},
   "outputs": [],
   "source": [
    "import numpy as np"
   ]
  },
  {
   "cell_type": "code",
   "execution_count": 3,
   "id": "7a3bb257-9cda-4e46-bed9-a7b13cb91b0a",
   "metadata": {},
   "outputs": [],
   "source": [
    "def getProjectsStars(projectsNum : int) -> list:\n",
    "    count = projectsNum\n",
    "    cursor = projectsCollection.find()\n",
    "    stars = []\n",
    "\n",
    "    for proj in cursor:\n",
    "        if count <= 0: break\n",
    "        stars.append(proj[\"stars\"])\n",
    "        count -= 1\n",
    "\n",
    "    return np.array(stars)\n",
    "\n",
    "def getProjectsForPeriods(stars : list, periodSize = 50):\n",
    "    class Period(list):\n",
    "        def __init__(self, *args, **kwargs):\n",
    "            super().__init__(*args, **kwargs)\n",
    "            self.projectsAmount = 0\n",
    "\n",
    "        def includes(self, n):\n",
    "            return (self[0] <= n) and (self[1] >= n)\n",
    "\n",
    "\n",
    "    maxVal = max(stars)\n",
    "    print(maxVal)\n",
    "    # construct periods:\n",
    "    periods = [Period((i, i + periodSize)) for i in range(0, maxVal + periodSize, periodSize)]\n",
    "    if maxVal % periodSize: periods += [Period((maxVal - (maxVal % periodSize), maxVal))]\n",
    "\n",
    "    print(len(periods))\n",
    "    projectsPerPeriod = [0] * len(periods)\n",
    "    projectsCursor = projectsCollection.find()\n",
    "\n",
    "    for projectStars in stars:\n",
    "        for index, period in enumerate(periods):\n",
    "            if period.includes(projectStars):\n",
    "                period.projectsAmount += 1\n",
    "                #projectsPerPeriod[index] += 1\n",
    "\n",
    "    return {\"periods\" : periods, \"projects_amount\" : projectsPerPeriod}"
   ]
  },
  {
   "cell_type": "code",
   "execution_count": 4,
   "id": "f984eedc-7707-4aba-8bfd-d33f50837217",
   "metadata": {},
   "outputs": [
    {
     "data": {
      "text/plain": [
       "346938"
      ]
     },
     "execution_count": 4,
     "metadata": {},
     "output_type": "execute_result"
    }
   ],
   "source": [
    "starsArray = getProjectsStars(10000)\n",
    "\n",
    "maximum = max(starsArray)\n",
    "maximum"
   ]
  },
  {
   "cell_type": "code",
   "execution_count": 5,
   "id": "8caa7fac-825a-4258-97d0-bb653172a256",
   "metadata": {},
   "outputs": [
    {
     "name": "stdout",
     "output_type": "stream",
     "text": [
      "Threshold: 2.0\n",
      "Original size: 10000\n",
      "2775\n"
     ]
    }
   ],
   "source": [
    "def percentile_threshold(likes, percentile=50):\n",
    "    return np.percentile(likes, percentile)\n",
    "\n",
    "threshold = percentile_threshold(starsArray, 70)  # Keep top 30% posts\n",
    "\n",
    "print(\"Threshold:\", threshold)\n",
    "print(f\"Original size: {len(starsArray)}\")\n",
    "print(len(starsArray[starsArray > threshold]))"
   ]
  },
  {
   "cell_type": "code",
   "execution_count": 6,
   "id": "ca0c720b-4057-403e-8806-372bb5845160",
   "metadata": {},
   "outputs": [
    {
     "ename": "NameError",
     "evalue": "name 'projectsForPeriods' is not defined",
     "output_type": "error",
     "traceback": [
      "\u001b[0;31m---------------------------------------------------------------------------\u001b[0m",
      "\u001b[0;31mNameError\u001b[0m                                 Traceback (most recent call last)",
      "Cell \u001b[0;32mIn[6], line 1\u001b[0m\n\u001b[0;32m----> 1\u001b[0m nonZero \u001b[38;5;241m=\u001b[39m np\u001b[38;5;241m.\u001b[39marray([p\u001b[38;5;241m.\u001b[39mprojectsAmount \u001b[38;5;28;01mfor\u001b[39;00m p \u001b[38;5;129;01min\u001b[39;00m \u001b[43mprojectsForPeriods\u001b[49m])\n\u001b[1;32m      2\u001b[0m nonZero \u001b[38;5;241m=\u001b[39m nonZero[nonZero \u001b[38;5;241m>\u001b[39m \u001b[38;5;241m0\u001b[39m]\n\u001b[1;32m      3\u001b[0m calculateOptimal(nonZero, \u001b[38;5;241m2\u001b[39m)\n",
      "\u001b[0;31mNameError\u001b[0m: name 'projectsForPeriods' is not defined"
     ]
    }
   ],
   "source": [
    "nonZero = np.array([p.projectsAmount for p in projectsForPeriods])\n",
    "nonZero = nonZero[nonZero > 0]\n",
    "calculateOptimal(nonZero, 2)"
   ]
  },
  {
   "cell_type": "code",
   "execution_count": null,
   "id": "5510c045-0b1a-4d2d-ae3a-cad67c858adb",
   "metadata": {},
   "outputs": [],
   "source": [
    "nonZero"
   ]
  },
  {
   "cell_type": "code",
   "execution_count": null,
   "id": "e336778d-cffb-43e6-8f3b-facc02c8d68e",
   "metadata": {
    "scrolled": true
   },
   "outputs": [],
   "source": [
    "from copy import deepcopy\n",
    "\n",
    "def projectDataIsValid(projectData : dict):\n",
    "    # will check if project data can actually be used in the training (can specify other conditions)\n",
    "    return projectData and len(projectData[\"description\"]) > 0\n",
    "\n",
    "def getProjectsDataForUsers(usersNumber = float(\"inf\")) -> dict[str, list]:\n",
    "    # will return a dictionary, where keys are users ids and values are lists of projects ids, each user has contributed to\n",
    "    i = 0\n",
    "    count = usersNumber\n",
    "    cursor = usersCollection.find()\n",
    "    data = {}\n",
    "\n",
    "    for user in cursor:\n",
    "        if count <= 0: break\n",
    "        print(f\"Scanning user: {i}\")\n",
    "        projectsIDList = user[\"projects\"]\n",
    "\n",
    "        projects = []\n",
    "\n",
    "        for proj_id in projectsIDList:\n",
    "            projectData = projectsCollection.find_one({\"id\" : proj_id}, {\"_id\" : False})\n",
    "\n",
    "            if projectDataIsValid(projectData):\n",
    "                projects.append(projectData)\n",
    "        \n",
    "        if len(projects):\n",
    "            data[user[\"id\"]] = deepcopy(projects)\n",
    "            count -= 1\n",
    "\n",
    "        i += 1\n",
    "\n",
    "    return data\n",
    "\n",
    "getProjectsDataForUsers(2)"
   ]
  },
  {
   "cell_type": "code",
   "execution_count": 7,
   "id": "0c39fa4b-3e12-44ce-888e-4b324538bb44",
   "metadata": {},
   "outputs": [
    {
     "data": {
      "text/plain": [
       "('jhgf yjhgbvf tfvbn nsderftghbv', 3)"
      ]
     },
     "execution_count": 7,
     "metadata": {},
     "output_type": "execute_result"
    }
   ],
   "source": [
    "import re\n",
    "\n",
    "def processWord(camelCase):\n",
    "    template = \"[a-z][A-Z]\"\n",
    "    text = camelCase\n",
    "    n = 0\n",
    "    spans = []\n",
    "\n",
    "    while found := re.search(template, text[n:]):\n",
    "        spans.append((found.span()[0] + n, found.span()[1] + n))\n",
    "        n += found.span()[1]\n",
    "\n",
    "    #print([text[span[0]:span[1]] for span in spans])\n",
    "\n",
    "    i = 0\n",
    "    for span in spans:\n",
    "        start = span[0] + i\n",
    "        end = span[1] + i - 1\n",
    "        text = text[:start] + f\"{text[start]} {text[end].lower()}\" + text[end + 1:]\n",
    "        i += 1\n",
    "\n",
    "    return (text, i)"
   ]
  },
  {
   "cell_type": "code",
   "execution_count": 11,
   "id": "1febbe00-c46f-4aab-8f89-37659c527ac0",
   "metadata": {},
   "outputs": [
    {
     "data": {
      "text/plain": [
       "'qwerfgvfd e cdfg wertghn, gvg evc jhgf yjhgbvf tfvbn nsderftghbv m'"
      ]
     },
     "execution_count": 11,
     "metadata": {},
     "output_type": "execute_result"
    }
   ],
   "source": [
    "def processCamelCase(camelCase):\n",
    "    template = \"[a-z]+[A-Z]+[a-z]*[A-Z]*[a-z]*[A-Z]*[a-z]*[A-Z]*[a-z]*\"\n",
    "    text = camelCase\n",
    "    n = 0\n",
    "    spans = []\n",
    "\n",
    "    while found := re.search(template, text[n:]):\n",
    "        spans.append((found.span()[0] + n, found.span()[1] + n))\n",
    "        n += found.span()[1]\n",
    "\n",
    "    shift = 0\n",
    "    for span in spans:\n",
    "        start = span[0] + shift\n",
    "        end = span[1] + shift\n",
    "        replacement, lenDifference = processWord(text[start:end])\n",
    "        text = text[:start] + replacement + text[end:]\n",
    "        shift += lenDifference\n",
    "\n",
    "    return text"
   ]
  },
  {
   "cell_type": "code",
   "execution_count": null,
   "id": "0eb03de6-3eed-4f2b-a7e7-8bc48049542d",
   "metadata": {},
   "outputs": [],
   "source": [
    "def textPreprocessing(text):\n",
    "    import nltk\n",
    "    from nltk.corpus import stopwords\n",
    "    #from nltk.stem import WordNetLemmatizer\n",
    "    import string\n",
    "\n",
    "    # Initialize tools\n",
    "    stop_words = set(stopwords.words(\"english\"))\n",
    "    #lemmatizer = WordNetLemmatizer()\n",
    "\n",
    "    text = text.lower()  # Convert to lowercase\n",
    "    text = text.translate(str.maketrans(\"\", \"\", string.punctuation))  # Remove punctuation\n",
    "    tokens = word_tokenize(text)  # Tokenize into words\n",
    "    tokens = [lemmatizer.lemmatize(word) for word in tokens if word not in stop_words]  # Remove stopwords & lemmatize\n",
    "    return tokens\n",
    "\n",
    "\n",
    "def projectsDataPreprocessing(projects : np.array[dict]) -> np.array[{\"text\" : str, \"tags\" : list}]:\n",
    "    # will take in an array of projects and prepare it to be consumed by the model\n",
    "    # takes: array of projects (as dictionaries); returns: text data and tags for every project in array\n",
    "    for proj in projects:\n",
    "        text = \". \".join([proj[\"name\"], proj[\"description\"]])\n",
    "        tags = [proj[\"language\"], *proj[\"topics\"]] if proj[\"language\"] else proj[\"topics\"]\n",
    "\n",
    "        "
   ]
  },
  {
   "cell_type": "code",
   "execution_count": null,
   "id": "8ffc1596-cbe7-43a6-9525-9a8b77f2d42c",
   "metadata": {},
   "outputs": [],
   "source": []
  },
  {
   "cell_type": "code",
   "execution_count": null,
   "id": "f2ebdfc4-6bc3-4243-b946-5d58b6a086fe",
   "metadata": {},
   "outputs": [],
   "source": []
  }
 ],
 "metadata": {
  "kernelspec": {
   "display_name": "Python 3 (ipykernel)",
   "language": "python",
   "name": "python3"
  },
  "language_info": {
   "codemirror_mode": {
    "name": "ipython",
    "version": 3
   },
   "file_extension": ".py",
   "mimetype": "text/x-python",
   "name": "python",
   "nbconvert_exporter": "python",
   "pygments_lexer": "ipython3",
   "version": "3.11.11"
  }
 },
 "nbformat": 4,
 "nbformat_minor": 5
}
