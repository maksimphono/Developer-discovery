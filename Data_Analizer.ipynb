{
 "cells": [
  {
   "cell_type": "code",
   "execution_count": 30,
   "id": "34d932b3-e28e-48a0-bcc4-2730e75e9518",
   "metadata": {},
   "outputs": [
    {
     "name": "stdout",
     "output_type": "stream",
     "text": [
      "Collection(Database(MongoClient(host=['192.168.1.191:27020'], document_class=dict, tz_aware=False, connect=True), 'mini_database'), 'projects')\n"
     ]
    }
   ],
   "source": [
    "from pandas import DataFrame as DF, Series\n",
    "import numpy as np\n",
    "from pymongo import MongoClient\n",
    "\n",
    "# single machine setup (mongo is running here localy)\n",
    "MY_DATABASE_LINK = 'mongodb://192.168.1.191:27020/' #'mongodb://192.168.100.57:27020/'\n",
    "# multiple mechine setup (mongo is running on another machine)\n",
    "#MY_DATABASE_LINK = 'mongodb://192.168.43.78:27020/'\n",
    "\n",
    "class DatabaseConnect:\n",
    "    DB_LINK = MY_DATABASE_LINK\n",
    "\n",
    "    class Base:\n",
    "        client = None\n",
    "        @classmethod\n",
    "        def connect(cls, databaseName):\n",
    "            cls.client = MongoClient(DatabaseConnect.DB_LINK)\n",
    "            # Access the database\n",
    "            return cls.client[databaseName]\n",
    "\n",
    "        @classmethod\n",
    "        def close(cls):\n",
    "            if cls.client:\n",
    "                cls.client.close()\n",
    "                cls.client = None\n",
    "\n",
    "        @classmethod\n",
    "        def getCollection(cls, collectionName):\n",
    "            return cls.client[collectionName]\n",
    "\n",
    "\n",
    "    class mini_database(Base):\n",
    "        @classmethod\n",
    "        def projects(cls):\n",
    "            return cls.connect('mini_database')['projects']\n",
    "        @classmethod\n",
    "        def users(cls):\n",
    "            return cls.connect('mini_database')['users']\n",
    "\n",
    "projectsCollection = DatabaseConnect.mini_database.projects()\n",
    "print(projectsCollection)\n"
   ]
  },
  {
   "cell_type": "code",
   "execution_count": 38,
   "id": "e4e3dc50-9d2b-4e54-a366-a0c15d568cd5",
   "metadata": {},
   "outputs": [
    {
     "data": {
      "text/plain": [
       "np.float64(2.0)"
      ]
     },
     "execution_count": 38,
     "metadata": {},
     "output_type": "execute_result"
    }
   ],
   "source": [
    "def getProjectsStars() -> list:\n",
    "    cursor = projectsCollection.find()\n",
    "    stars = []\n",
    "\n",
    "    for proj in cursor:\n",
    "        try:\n",
    "            stars.append(proj[\"stars\"])\n",
    "        except KeyError:\n",
    "            continue\n",
    "\n",
    "    return np.array(stars)\n",
    "\n",
    "def percentileThreshold(stars, percentile=50):\n",
    "    return np.percentile(stars, percentile)\n",
    "\n",
    "starsArray = getProjectsStars()\n",
    "starsThreshold = percentileThreshold(starsArray, 75)  # Keep top 25% posts\n",
    "starsThreshold"
   ]
  },
  {
   "cell_type": "code",
   "execution_count": 40,
   "id": "e6782dea-4c11-426c-813a-03a982687ce5",
   "metadata": {},
   "outputs": [],
   "source": [
    "def collectProjectsStatistics():\n",
    "    global starsThreshold\n",
    "    stats = Series({\n",
    "        \"Total project\" : 0,\n",
    "        \"High quality\" : 0,\n",
    "        \"Good\" : 0,\n",
    "        \"Sufficient\" : 0,\n",
    "        \"Has description\" : 0,\n",
    "        \"Has topics\" : 0,\n",
    "        \"Avg description length\" : 0\n",
    "    })\n",
    "    description_lengths = []\n",
    "    cursor = projectsCollection.find()\n",
    "\n",
    "    for proj in cursor:\n",
    "        try:\n",
    "            desc = proj[\"description\"]\n",
    "            #print(desc)\n",
    "        except KeyError:\n",
    "            continue\n",
    "        if desc:\n",
    "            stats[\"Has description\"] += 1\n",
    "            #print(type(desc))\n",
    "            description_lengths.append(len(desc))\n",
    "        \n",
    "        if len(proj[\"topics\"]):\n",
    "            stats[\"Has topics\"] += 1\n",
    "\n",
    "        if desc and (len(proj[\"topics\"]) and proj[\"language\"]) and proj[\"stars\"] >= starsThreshold:\n",
    "            stats[\"High quality\"] += 1\n",
    "        \n",
    "        if desc and (len(proj[\"topics\"]) and proj[\"language\"]):\n",
    "            stats[\"Good\"] += 1\n",
    "        \n",
    "        if desc and (len(proj[\"topics\"]) or proj[\"language\"]):\n",
    "            stats[\"Sufficient\"] += 1\n",
    "        stats[\"Total project\"] += 1\n",
    "\n",
    "    stats[\"Avg description length\"] = sum(description_lengths) / stats[\"Has description\"]\n",
    "\n",
    "    return stats"
   ]
  },
  {
   "cell_type": "code",
   "execution_count": 41,
   "id": "48b69ba1-3a66-4bfb-9148-939ad1e34a35",
   "metadata": {},
   "outputs": [
    {
     "name": "stderr",
     "output_type": "stream",
     "text": [
      "/tmp/ipykernel_1225/3129867531.py:39: FutureWarning: Setting an item of incompatible dtype is deprecated and will raise an error in a future version of pandas. Value '69.4804533075639' has dtype incompatible with int64, please explicitly cast to a compatible dtype first.\n",
      "  stats[\"Avg description length\"] = sum(description_lengths) / stats[\"Has description\"]\n"
     ]
    }
   ],
   "source": [
    "stats = collectProjectsStatistics()"
   ]
  },
  {
   "cell_type": "code",
   "execution_count": 4,
   "id": "b433805b-3b1c-49b5-b74d-14d33eae88a0",
   "metadata": {},
   "outputs": [],
   "source": [
    "from matplotlib import pyplot as plt"
   ]
  },
  {
   "cell_type": "code",
   "execution_count": 13,
   "id": "7acea3de-b893-4880-b86f-02919d14e830",
   "metadata": {},
   "outputs": [
    {
     "data": {
      "text/plain": [
       "Index(['Total project', 'High quality', 'Good', 'Sufficient',\n",
       "       'Has description', 'Has topics', 'Avg description length'],\n",
       "      dtype='object')"
      ]
     },
     "execution_count": 13,
     "metadata": {},
     "output_type": "execute_result"
    }
   ],
   "source": [
    "stats.index"
   ]
  },
  {
   "cell_type": "code",
   "execution_count": 42,
   "id": "7c49b2cc-21bf-4cf0-8eea-d75df1a810ad",
   "metadata": {},
   "outputs": [
    {
     "data": {
      "image/png": "[encoded data removed]",
      "text/plain": [
       "<Figure size 800x400 with 1 Axes>"
      ]
     },
     "metadata": {},
     "output_type": "display_data"
    }
   ],
   "source": [
    "labels = \"High quality,Good,Sufficient\".split(\",\")\n",
    "proportions = [stats[lbl] for lbl in labels]\n",
    "proportions = proportions / sum(proportions) * 100 # Proportions of each category\n",
    "colors = ['red', 'orange', 'pink', 'brown', 'green']\n",
    "explode = (0,) * len(proportions)  # Explode the 2nd slice\n",
    "\n",
    "# Creating the pie chart\n",
    "plt.figure(figsize=(8,4))\n",
    "plt.pie(proportions, labels=labels, colors=colors, autopct='%1.1f%%', explode=explode, shadow=False, startangle=140)\n",
    "\n",
    "# Display the chart\n",
    "plt.axis('equal')  # Ensures the pie is a circle\n",
    "plt.title(\"Projects data Distribution by quality\")\n",
    "plt.legend()\n",
    "plt.show()"
   ]
  },
  {
   "cell_type": "code",
   "execution_count": 43,
   "id": "19789fbe-4a13-4cb6-bf78-17cff06d0f97",
   "metadata": {},
   "outputs": [
    {
     "data": {
      "text/plain": [
       "Total project             31113.000000\n",
       "High quality               4258.000000\n",
       "Good                       6015.000000\n",
       "Sufficient                19818.000000\n",
       "Has description           22766.000000\n",
       "Has topics                 6719.000000\n",
       "Avg description length       69.480453\n",
       "dtype: float64"
      ]
     },
     "execution_count": 43,
     "metadata": {},
     "output_type": "execute_result"
    }
   ],
   "source": [
    "stats"
   ]
  },
  {
   "cell_type": "code",
   "execution_count": null,
   "id": "29a07a3f-f9e2-46fd-831a-28ec6ae18a04",
   "metadata": {},
   "outputs": [],
   "source": []
  }
 ],
 "metadata": {
  "kernelspec": {
   "display_name": "Python 3 (ipykernel)",
   "language": "python",
   "name": "python3"
  },
  "language_info": {
   "codemirror_mode": {
    "name": "ipython",
    "version": 3
   },
   "file_extension": ".py",
   "mimetype": "text/x-python",
   "name": "python",
   "nbconvert_exporter": "python",
   "pygments_lexer": "ipython3",
   "version": "3.11.11"
  }
 },
 "nbformat": 4,
 "nbformat_minor": 5
}
