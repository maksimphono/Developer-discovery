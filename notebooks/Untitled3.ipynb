{
 "cells": [
  {
   "cell_type": "code",
   "execution_count": 1,
   "id": "3bce6637-5aa1-49af-b27d-7a4a725bcf47",
   "metadata": {},
   "outputs": [],
   "source": [
    "import argostranslate.package\n",
    "import argostranslate.translate\n",
    "from langdetect import detect, lang_detect_exception"
   ]
  },
  {
   "cell_type": "code",
   "execution_count": 28,
   "id": "116431ca-9a06-451a-8441-313f4b0e5597",
   "metadata": {},
   "outputs": [
    {
     "name": "stdout",
     "output_type": "stream",
     "text": [
      "th\n"
     ]
    },
    {
     "ename": "AttributeError",
     "evalue": "'NoneType' object has no attribute 'get_translation'",
     "output_type": "error",
     "traceback": [
      "\u001b[0;31m---------------------------------------------------------------------------\u001b[0m",
      "\u001b[0;31mAttributeError\u001b[0m                            Traceback (most recent call last)",
      "Cell \u001b[0;32mIn[28], line 5\u001b[0m\n\u001b[1;32m      1\u001b[0m s \u001b[38;5;241m=\u001b[39m \u001b[38;5;124m\"\u001b[39m\u001b[38;5;124mสวัสดี,สบายดีไหม\u001b[39m\u001b[38;5;124m\"\u001b[39m\u001b[38;5;66;03m#\"नमस्ते, आप कैसे हैं\"#\"สวัสดี,สบายดีไหม\"\u001b[39;00m\n\u001b[1;32m      3\u001b[0m \u001b[38;5;28mprint\u001b[39m(detect(s))\n\u001b[0;32m----> 5\u001b[0m \u001b[38;5;28mprint\u001b[39m(\u001b[43margostranslate\u001b[49m\u001b[38;5;241;43m.\u001b[39;49m\u001b[43mtranslate\u001b[49m\u001b[38;5;241;43m.\u001b[39;49m\u001b[43mtranslate\u001b[49m\u001b[43m(\u001b[49m\u001b[43ms\u001b[49m\u001b[43m,\u001b[49m\u001b[43m \u001b[49m\u001b[38;5;124;43m'\u001b[39;49m\u001b[38;5;124;43mvi\u001b[39;49m\u001b[38;5;124;43m'\u001b[39;49m\u001b[43m,\u001b[49m\u001b[43m \u001b[49m\u001b[38;5;124;43m\"\u001b[39;49m\u001b[38;5;124;43men\u001b[39;49m\u001b[38;5;124;43m\"\u001b[39;49m\u001b[43m)\u001b[49m)\n\u001b[1;32m      7\u001b[0m \u001b[38;5;28;01mfor\u001b[39;00m sym \u001b[38;5;129;01min\u001b[39;00m s:\n\u001b[1;32m      8\u001b[0m     \u001b[38;5;28;01mtry\u001b[39;00m:\n",
      "File \u001b[0;32m/usr/local/lib/python3.11/site-packages/argostranslate/translate.py:683\u001b[0m, in \u001b[0;36mtranslate\u001b[0;34m(q, from_code, to_code)\u001b[0m\n\u001b[1;32m    672\u001b[0m \u001b[38;5;28;01mdef\u001b[39;00m\u001b[38;5;250m \u001b[39m\u001b[38;5;21mtranslate\u001b[39m(q: \u001b[38;5;28mstr\u001b[39m, from_code: \u001b[38;5;28mstr\u001b[39m, to_code: \u001b[38;5;28mstr\u001b[39m) \u001b[38;5;241m-\u001b[39m\u001b[38;5;241m>\u001b[39m \u001b[38;5;28mstr\u001b[39m:\n\u001b[1;32m    673\u001b[0m \u001b[38;5;250m    \u001b[39m\u001b[38;5;124;03m\"\"\"Translate a string of text\u001b[39;00m\n\u001b[1;32m    674\u001b[0m \n\u001b[1;32m    675\u001b[0m \u001b[38;5;124;03m    Args:\u001b[39;00m\n\u001b[0;32m   (...)\u001b[0m\n\u001b[1;32m    681\u001b[0m \u001b[38;5;124;03m        The translated text\u001b[39;00m\n\u001b[1;32m    682\u001b[0m \u001b[38;5;124;03m    \"\"\"\u001b[39;00m\n\u001b[0;32m--> 683\u001b[0m     translation \u001b[38;5;241m=\u001b[39m \u001b[43mget_translation_from_codes\u001b[49m\u001b[43m(\u001b[49m\u001b[43mfrom_code\u001b[49m\u001b[43m,\u001b[49m\u001b[43m \u001b[49m\u001b[43mto_code\u001b[49m\u001b[43m)\u001b[49m\n\u001b[1;32m    684\u001b[0m     \u001b[38;5;28;01mreturn\u001b[39;00m translation\u001b[38;5;241m.\u001b[39mtranslate(q)\n",
      "File \u001b[0;32m/usr/local/lib/python3.11/site-packages/argostranslate/translate.py:669\u001b[0m, in \u001b[0;36mget_translation_from_codes\u001b[0;34m(from_code, to_code)\u001b[0m\n\u001b[1;32m    667\u001b[0m from_lang \u001b[38;5;241m=\u001b[39m get_language_from_code(from_code)\n\u001b[1;32m    668\u001b[0m to_lang \u001b[38;5;241m=\u001b[39m get_language_from_code(to_code)\n\u001b[0;32m--> 669\u001b[0m \u001b[38;5;28;01mreturn\u001b[39;00m \u001b[43mfrom_lang\u001b[49m\u001b[38;5;241;43m.\u001b[39;49m\u001b[43mget_translation\u001b[49m(to_lang)\n",
      "\u001b[0;31mAttributeError\u001b[0m: 'NoneType' object has no attribute 'get_translation'"
     ]
    }
   ],
   "source": [
    "s = \"\"#\"नमस्ते, आप कैसे हैं\"#\"สวัสดี,สบายดีไหม\"\n",
    "\n",
    "print(detect(s))\n",
    "\n",
    "print(argostranslate.translate.translate(s, 'vi', \"en\"))\n",
    "\n",
    "for sym in s:\n",
    "    try:\n",
    "        print(sym)\n",
    "        print(detect(sym))\n",
    "    except lang_detect_exception.LangDetectException:\n",
    "        continue\n",
    "\n"
   ]
  },
  {
   "cell_type": "code",
   "execution_count": 49,
   "id": "53d578df-f39b-4df3-b70f-f09361a1bf5b",
   "metadata": {},
   "outputs": [
    {
     "data": {
      "text/plain": [
       "[(软件, zh-cn, 0, 2),\n",
       " (Software, en, 3, 11),\n",
       " (是一系列按照, zh-cn, 12, 18),\n",
       " (안녕하세요, ko, 20, 25),\n",
       " (特定, zh-cn, 27, 29),\n",
       " (สวัสดีเป็นยังไงบ้าง, th, 37, 50),\n",
       " (顺序组织的電腦数据和指令，是電腦中的非有形部分。電腦中的有形部分稱為硬體，由電腦的外殼及各零件及電路所組成。電腦軟體需有硬體才能運作，反之亦然，軟體和硬體都無法在不互相配合的情形下進行實際的運作。, zh-cn, 51, 149)]"
      ]
     },
     "execution_count": 49,
     "metadata": {},
     "output_type": "execute_result"
    }
   ],
   "source": [
    "def processKO(sym):\n",
    "    code = ord(sym)\n",
    "    if 0x3040 <= code <= 0x309F or 0x30A0 <= code <= 0x30FF:\n",
    "        return \"ja\"\n",
    "    # 韩语谚文\n",
    "    if 0xAC00 <= code <= 0xD7AF or 0x1100 <= code <= 0x11FF:\n",
    "        return \"ko\"\n",
    "    # 中文（CJK 统一汉字）\n",
    "    if 0x4E00 <= code <= 0x9FFF:\n",
    "        return \"zh-cn\"\n",
    "\n",
    "def mydetect(text):\n",
    "    class Part:\n",
    "        def __init__(self, text = \"\", lang = None, start = 0, end = 0):\n",
    "            self.text = text \n",
    "            self.lang = lang \n",
    "            self.start = start \n",
    "            self.end = end\n",
    "\n",
    "        def __str__(self):\n",
    "            return \"(\" + \", \".join(map(str, [self.text, self.lang, self.start, self.end])) + \")\"\n",
    "\n",
    "        def __repr__(self):\n",
    "            return str(self)\n",
    "\n",
    "    parts = [Part()]\n",
    "    start = 0\n",
    "    # separate by parts:\n",
    "    for i, sym in enumerate(text):\n",
    "        try:\n",
    "            detect(sym)\n",
    "            parts[-1].text += sym\n",
    "        except lang_detect_exception.LangDetectException:\n",
    "            # this error is mostly thrown when the separation sign is detected\n",
    "            if sym != \" \" and len(parts[-1].text):\n",
    "                parts[-1].start = start\n",
    "                parts[-1].end = i\n",
    "                parts[-1].lang = detect(parts[-1].text)\n",
    "\n",
    "                if parts[-1].lang == \"ko\":\n",
    "                    parts[-1].lang = processKO(parts[-1].text[0])\n",
    "                \n",
    "                parts.append(Part())\n",
    "\n",
    "            start = i + 1\n",
    "            continue\n",
    "\n",
    "    parts[-1].lang = detect(parts[-1].text)\n",
    "    parts[-1].start = start\n",
    "    parts[-1].end = len(text)\n",
    "\n",
    "    if parts[-1].lang == \"ko\":\n",
    "        parts[-1].lang = processKO(parts[-1].text[0])\n",
    "\n",
    "    return parts\n",
    "\n",
    "s = \"软件(Software)是一系列按照, 안녕하세요, 特定(สวัสดี เป็นยังไงบ้าง)顺序组织的電腦数据和指令，是電腦中的非有形部分。電腦中的有形部分稱為硬體，由電腦的外殼及各零件及電路所組成。電腦軟體需有硬體才能運作，反之亦然，軟體和硬體都無法在不互相配合的情形下進行實際的運作。\"\n",
    "\n",
    "mydetect(s)"
   ]
  },
  {
   "cell_type": "code",
   "execution_count": 48,
   "id": "a63325ec-c20c-409b-8eb7-45505f647d52",
   "metadata": {},
   "outputs": [
    {
     "data": {
      "text/plain": [
       "'0x987a'"
      ]
     },
     "execution_count": 48,
     "metadata": {},
     "output_type": "execute_result"
    }
   ],
   "source": [
    "hex(ord(\"顺\"))"
   ]
  },
  {
   "cell_type": "code",
   "execution_count": null,
   "id": "ee374e28-3cea-487c-814f-95063c477b2b",
   "metadata": {},
   "outputs": [],
   "source": []
  }
 ],
 "metadata": {
  "kernelspec": {
   "display_name": "Python 3 (ipykernel)",
   "language": "python",
   "name": "python3"
  },
  "language_info": {
   "codemirror_mode": {
    "name": "ipython",
    "version": 3
   },
   "file_extension": ".py",
   "mimetype": "text/x-python",
   "name": "python",
   "nbconvert_exporter": "python",
   "pygments_lexer": "ipython3",
   "version": "3.11.11"
  }
 },
 "nbformat": 4,
 "nbformat_minor": 5
}
