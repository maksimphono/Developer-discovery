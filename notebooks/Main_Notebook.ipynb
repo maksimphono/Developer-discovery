{
 "cells": [
  {
   "cell_type": "code",
   "execution_count": 1,
   "id": "26212e0c-ae50-44cc-a2d8-059a4bfc5a9d",
   "metadata": {},
   "outputs": [],
   "source": [
    "import sys\n",
    "sys.path.append('/home/trukhinmaksim/src')"
   ]
  },
  {
   "cell_type": "code",
   "execution_count": 3,
   "id": "0493c1d7-05a0-4f37-896f-75282fa4814f",
   "metadata": {},
   "outputs": [],
   "source": [
    "import numpy as np"
   ]
  },
  {
   "cell_type": "code",
   "execution_count": 2,
   "id": "ff7897d9-4eb0-45b0-9108-1e25b1533011",
   "metadata": {},
   "outputs": [
    {
     "name": "stdout",
     "output_type": "stream",
     "text": [
      "Collection(Database(MongoClient(host=['10.22.112.39:27020'], document_class=dict, tz_aware=False, connect=True), 'mini_database'), 'projects')\n"
     ]
    }
   ],
   "source": [
    "from src.utils.DatabaseConnect import DatabaseConnect\n",
    "\n",
    "# single machine setup (mongo is running here localy)\n",
    "# \"ip a\" for ip address\n",
    "MY_DATABASE_LINK = 'mongodb://10.22.112.39:27020/' #'mongodb://192.168.100.57:27020/'\n",
    "# multiple mechine setup (mongo is running on another machine)\n",
    "#MY_DATABASE_LINK = 'mongodb://192.168.43.78:27020/'\n",
    "\n",
    "DatabaseConnect.DB_LINK = MY_DATABASE_LINK\n",
    "\n",
    "projectsCollection = DatabaseConnect.mini_database.projects()\n",
    "usersCollection = DatabaseConnect.mini_database.users()\n",
    "print(projectsCollection)"
   ]
  },
  {
   "cell_type": "code",
   "execution_count": 4,
   "id": "fd90b42e-421f-42f2-8449-01a3969b52a0",
   "metadata": {},
   "outputs": [
    {
     "name": "stdout",
     "output_type": "stream",
     "text": [
      "Scanned 2000 projects\n",
      "Maximum stars amount: 284894\n",
      "Number of projects, that has more stars than threshold: 476\n",
      "Stars threshold: 2.0\n"
     ]
    }
   ],
   "source": [
    "def findApproximateStarsThreshold(projectsNum : int, percentile=50):\n",
    "    count = projectsNum\n",
    "    cursor = projectsCollection.find()\n",
    "    stars = []\n",
    "\n",
    "    for proj in cursor:\n",
    "        if count <= 0: break\n",
    "        stars.append(proj[\"stars\"])\n",
    "        count -= 1\n",
    "\n",
    "    stars = np.array(stars)\n",
    "    print(f\"Scanned {projectsNum - count} projects\")\n",
    "    print(f\"Maximum stars amount: {stars.max()}\")\n",
    "\n",
    "    threshold = np.percentile(stars, percentile)\n",
    "    print(f\"Number of projects, that has more stars than threshold: {len(stars[stars > threshold])}\")\n",
    "\n",
    "    return threshold\n",
    "\n",
    "# Keep top 30% of projects\n",
    "srarsThreshold = findApproximateStarsThreshold(2000, 75)\n",
    "print(f\"Stars threshold: {srarsThreshold}\")"
   ]
  },
  {
   "cell_type": "code",
   "execution_count": 5,
   "id": "0a070392-2ce0-49a1-a62e-601a1b0b0ff2",
   "metadata": {},
   "outputs": [],
   "source": [
    "from src.utils.CacheAdapter import JSONAdapter\n",
    "from src.utils.DatasetManager import ProjectsDatasetManager"
   ]
  },
  {
   "cell_type": "code",
   "execution_count": 6,
   "id": "53a2718f-e135-4206-923a-b6c2455a3d7d",
   "metadata": {
    "scrolled": true
   },
   "outputs": [],
   "source": [
    "# Validators are used to filter data by quality, \n",
    "# for example, I can take only those project, that has long description, readme file and many stars\n",
    "\n",
    "def projectDataIsSufficient(projectData):\n",
    "    # filters sufficient data (has description and one(or both) of topics or language)\n",
    "    return (projectData and projectData[\"description\"] and (len(projectData[\"topics\"]) or projectData[\"language\"]))\n",
    "\n",
    "USERS_NUMBER_TO_SCAN = 2\n",
    "\n",
    "adapter = JSONAdapter()\n",
    "ProjectsDatasetManager.usersCollection = usersCollection\n",
    "ProjectsDatasetManager.projectsCollection = projectsCollection"
   ]
  },
  {
   "cell_type": "code",
   "execution_count": 7,
   "id": "68abf954-8868-44f6-9a20-82436febdb6e",
   "metadata": {},
   "outputs": [],
   "source": [
    "manager = ProjectsDatasetManager(USERS_NUMBER_TO_SCAN, validate = projectDataIsSufficient, cacheAdapter = adapter)"
   ]
  },
  {
   "cell_type": "code",
   "execution_count": 8,
   "id": "0f17d63d-793b-494b-886a-4694e5fc1648",
   "metadata": {},
   "outputs": [
    {
     "name": "stdout",
     "output_type": "stream",
     "text": [
      "Scanning user: 0\n",
      "Scanning user: 1\n"
     ]
    },
    {
     "data": {
      "text/plain": [
       "{'github:betiol': array([{'tokens': ['awesome', 'code', 'streamer', 'list', 'code', 'streamer', 'multiple', 'plataforms', 'like', 'twitch', 'youtube'], 'tags': ['github:lucasfloriani/awesome-code-streamers', 'awesome-code-streamers', '', 'awesome', 'awesome-list', 'lists', 'resources']},\n",
       "        {'tokens': ['smart', 'home', 'mqtt', 'experimental', 'wip', 'bridge', 'google', 'smart', 'home', 'mqtt'], 'tags': ['github:alvarowolfx/smart-home-mqtt', 'smart-home-mqtt', 'JavaScript']},\n",
       "        {'tokens': ['typeorm', 'seeding', 'delightful', 'way', 'seed', 'test', 'data', 'database'], 'tags': ['github:betiol/typeorm-seeding', 'typeorm-seeding', 'TypeScript']},\n",
       "        {'tokens': ['express', 'response', 'formatter', 'sparkle', 'better', 'way', 'format', 'express', 'response'], 'tags': ['github:betiol/express-response-formatter', 'express-response-formatter', 'TypeScript']},\n",
       "        {'tokens': ['desafio', 'rn', 'desafio', 'react', 'native'], 'tags': ['github:betiol/desafio-rn', 'desafio-rn', 'TypeScript']},\n",
       "        {'tokens': ['command', 'line', 'go', 'ip', 'server', 'return', 'server', 'name', 'ip', 'specific', 'server'], 'tags': ['github:betiol/command-line-go-ip-servers', 'command-line-go-ip-servers', 'Go']},\n",
       "        {'tokens': ['smart', 'home', 'mqtt', 'experimental', 'wip', 'bridge', 'google', 'smart', 'home', 'mqtt'], 'tags': ['github:betiol/smart-home-mqtt', 'smart-home-mqtt', 'JavaScript']}],\n",
       "       dtype=object),\n",
       " 'github:DestinyJun': array([{'tokens': ['rbi', 'safe', 'angular'], 'tags': ['github:DestinyJun/rbi-safe', 'rbi-safe', 'TypeScript']},\n",
       "        {'tokens': ['rbi', 'safe'], 'tags': ['github:moonshinean/rbi-safe', 'rbi-safe', 'TypeScript']},\n",
       "        {'tokens': ['gtcashapp', 'appandroidreact', 'native'], 'tags': ['github:DestinyJun/gtcashapp', 'gtcashapp', 'JavaScript']},\n",
       "        {'tokens': ['ecmascript', 'study', 'j'], 'tags': ['github:DestinyJun/ECMAScript6', 'ECMAScript6-study', 'JavaScript']},\n",
       "        {'tokens': ['rbi', 'safe', 'app', 'appandroidreact', 'react', 'native'], 'tags': ['github:DestinyJun/rbi-safe-app', 'rbi-safe-app', 'JavaScript']},\n",
       "        {'tokens': ['react', 'rbi', 'website', 'admin', 'react', 'antd'], 'tags': ['github:DestinyJun/react-rbi-website-admin', 'react-rbi-website-admin', 'JavaScript']},\n",
       "        {'tokens': ['react', 'native', 'app', 'react', 'native'], 'tags': ['github:DestinyJun/my-react-native-app', 'my-react-native-app', 'Java']},\n",
       "        {'tokens': ['gt', 'cash', 'vueweb'], 'tags': ['github:DestinyJun/gt-cash', 'gt-cash', 'Vue']},\n",
       "        {'tokens': ['wx', 'questionnaire', 'tp'], 'tags': ['github:DestinyJun/wx_questionnaire', 'wx_questionnaire', 'PHP']},\n",
       "        {'tokens': ['react', 'native', 'study', 'react', 'native'], 'tags': ['github:DestinyJun/react-native-study', 'react-native-study', 'JavaScript']},\n",
       "        {'tokens': ['typescript', 'study', 'typescript'], 'tags': ['github:DestinyJun/typescript-study', 'typescript-study', 'JavaScript']},\n",
       "        {'tokens': ['smart', 'property', 'manager'], 'tags': ['github:DestinyJun/smart-property-manager', 'smart-property-manager', 'TypeScript']},\n",
       "        {'tokens': ['gaotou', 'angular'], 'tags': ['github:DestinyJun/gaotou2', 'gaotou2', 'TypeScript']},\n",
       "        {'tokens': ['webpack', 'study', 'webpack'], 'tags': ['github:DestinyJun/webpack-study', 'webpack-study', 'JavaScript']},\n",
       "        {'tokens': ['gt', 'cash', 'view', 'webvue'], 'tags': ['github:DestinyJun/gt-cash-view', 'gt-cash-view', 'JavaScript']},\n",
       "        {'tokens': ['php', 'study', 'php'], 'tags': ['github:DestinyJun/php-study', 'php-study', 'PHP']},\n",
       "        {'tokens': ['rbi', 'quote', 'vue', 'j'], 'tags': ['github:DestinyJun/rbi-quote', 'rbi-quote', 'Vue']},\n",
       "        {'tokens': ['cs', 'study', 'cs', 'demo'], 'tags': ['github:DestinyJun/css3-study', 'css3-study', 'HTML']}],\n",
       "       dtype=object)}"
      ]
     },
     "execution_count": 8,
     "metadata": {},
     "output_type": "execute_result"
    }
   ],
   "source": [
    "manager.fromDB()\n",
    "manager.preprocess()\n",
    "manager.data"
   ]
  },
  {
   "cell_type": "code",
   "execution_count": 9,
   "id": "9b548fdf-f3f5-4595-9026-9ed2c2b9d5a3",
   "metadata": {},
   "outputs": [],
   "source": [
    "import gensim\n",
    "from gensim.models.doc2vec import TaggedDocument"
   ]
  },
  {
   "cell_type": "code",
   "execution_count": 10,
   "id": "ebc718e5-d83e-4bfc-a8c2-e676cf5779e0",
   "metadata": {},
   "outputs": [],
   "source": [
    "def flatternData(data : dict[str, list]) -> np.array(dict):\n",
    "    # takes in data in form of dict, where each key is a user id and each value is a list of that user's projects\n",
    "    # returns just flat list of these projects \n",
    "    result = []\n",
    "\n",
    "    for projectsArray in data.values():\n",
    "        for project in projectsArray:\n",
    "            result.append(project)\n",
    "\n",
    "    return np.array(result)\n",
    "\n",
    "manager.data = flatternData(manager.data)"
   ]
  },
  {
   "cell_type": "code",
   "execution_count": 11,
   "id": "b1f34f45-9fc1-404c-9710-8d59a72910a5",
   "metadata": {},
   "outputs": [
    {
     "data": {
      "text/plain": [
       "[TaggedDocument(words=['awesome', 'code', 'streamer', 'list', 'code', 'streamer', 'multiple', 'plataforms', 'like', 'twitch', 'youtube'], tags=['github:lucasfloriani/awesome-code-streamers', 'awesome-code-streamers', '', 'awesome', 'awesome-list', 'lists', 'resources']),\n",
       " TaggedDocument(words=['smart', 'home', 'mqtt', 'experimental', 'wip', 'bridge', 'google', 'smart', 'home', 'mqtt'], tags=['github:alvarowolfx/smart-home-mqtt', 'smart-home-mqtt', 'JavaScript']),\n",
       " TaggedDocument(words=['typeorm', 'seeding', 'delightful', 'way', 'seed', 'test', 'data', 'database'], tags=['github:betiol/typeorm-seeding', 'typeorm-seeding', 'TypeScript']),\n",
       " TaggedDocument(words=['express', 'response', 'formatter', 'sparkle', 'better', 'way', 'format', 'express', 'response'], tags=['github:betiol/express-response-formatter', 'express-response-formatter', 'TypeScript']),\n",
       " TaggedDocument(words=['desafio', 'rn', 'desafio', 'react', 'native'], tags=['github:betiol/desafio-rn', 'desafio-rn', 'TypeScript']),\n",
       " TaggedDocument(words=['command', 'line', 'go', 'ip', 'server', 'return', 'server', 'name', 'ip', 'specific', 'server'], tags=['github:betiol/command-line-go-ip-servers', 'command-line-go-ip-servers', 'Go']),\n",
       " TaggedDocument(words=['smart', 'home', 'mqtt', 'experimental', 'wip', 'bridge', 'google', 'smart', 'home', 'mqtt'], tags=['github:betiol/smart-home-mqtt', 'smart-home-mqtt', 'JavaScript']),\n",
       " TaggedDocument(words=['rbi', 'safe', 'angular'], tags=['github:DestinyJun/rbi-safe', 'rbi-safe', 'TypeScript']),\n",
       " TaggedDocument(words=['rbi', 'safe'], tags=['github:moonshinean/rbi-safe', 'rbi-safe', 'TypeScript']),\n",
       " TaggedDocument(words=['gtcashapp', 'appandroidreact', 'native'], tags=['github:DestinyJun/gtcashapp', 'gtcashapp', 'JavaScript']),\n",
       " TaggedDocument(words=['ecmascript', 'study', 'j'], tags=['github:DestinyJun/ECMAScript6', 'ECMAScript6-study', 'JavaScript']),\n",
       " TaggedDocument(words=['rbi', 'safe', 'app', 'appandroidreact', 'react', 'native'], tags=['github:DestinyJun/rbi-safe-app', 'rbi-safe-app', 'JavaScript']),\n",
       " TaggedDocument(words=['react', 'rbi', 'website', 'admin', 'react', 'antd'], tags=['github:DestinyJun/react-rbi-website-admin', 'react-rbi-website-admin', 'JavaScript']),\n",
       " TaggedDocument(words=['react', 'native', 'app', 'react', 'native'], tags=['github:DestinyJun/my-react-native-app', 'my-react-native-app', 'Java']),\n",
       " TaggedDocument(words=['gt', 'cash', 'vueweb'], tags=['github:DestinyJun/gt-cash', 'gt-cash', 'Vue']),\n",
       " TaggedDocument(words=['wx', 'questionnaire', 'tp'], tags=['github:DestinyJun/wx_questionnaire', 'wx_questionnaire', 'PHP']),\n",
       " TaggedDocument(words=['react', 'native', 'study', 'react', 'native'], tags=['github:DestinyJun/react-native-study', 'react-native-study', 'JavaScript']),\n",
       " TaggedDocument(words=['typescript', 'study', 'typescript'], tags=['github:DestinyJun/typescript-study', 'typescript-study', 'JavaScript']),\n",
       " TaggedDocument(words=['smart', 'property', 'manager'], tags=['github:DestinyJun/smart-property-manager', 'smart-property-manager', 'TypeScript']),\n",
       " TaggedDocument(words=['gaotou', 'angular'], tags=['github:DestinyJun/gaotou2', 'gaotou2', 'TypeScript']),\n",
       " TaggedDocument(words=['webpack', 'study', 'webpack'], tags=['github:DestinyJun/webpack-study', 'webpack-study', 'JavaScript']),\n",
       " TaggedDocument(words=['gt', 'cash', 'view', 'webvue'], tags=['github:DestinyJun/gt-cash-view', 'gt-cash-view', 'JavaScript']),\n",
       " TaggedDocument(words=['php', 'study', 'php'], tags=['github:DestinyJun/php-study', 'php-study', 'PHP']),\n",
       " TaggedDocument(words=['rbi', 'quote', 'vue', 'j'], tags=['github:DestinyJun/rbi-quote', 'rbi-quote', 'Vue']),\n",
       " TaggedDocument(words=['cs', 'study', 'cs', 'demo'], tags=['github:DestinyJun/css3-study', 'css3-study', 'HTML'])]"
      ]
     },
     "execution_count": 11,
     "metadata": {},
     "output_type": "execute_result"
    }
   ],
   "source": [
    "documentsCorpus = []\n",
    "\n",
    "for project in manager.data:\n",
    "    documentsCorpus.append(TaggedDocument(words=project[\"tokens\"], tags=project[\"tags\"]))\n",
    "\n",
    "documentsCorpus"
   ]
  },
  {
   "cell_type": "code",
   "execution_count": 12,
   "id": "d90db812-d872-4d07-861f-9a813fb43379",
   "metadata": {},
   "outputs": [],
   "source": [
    "# creating model\n",
    "\n",
    "VECTOR_SIZE = 100\n",
    "EPOCH_NUMBER = 10\n",
    "WORD_MIN_AMOUNT = 3\n",
    "WINDOW_SIZE = 7\n",
    "\n",
    "model = gensim.models.doc2vec.Doc2Vec(vector_size = VECTOR_SIZE, window = WINDOW_SIZE, min_count = WORD_MIN_AMOUNT, epochs = EPOCH_NUMBER)\n",
    "model.build_vocab(documentsCorpus)\n",
    "model.train(documentsCorpus, total_examples = model.corpus_count, epochs = model.epochs)"
   ]
  },
  {
   "cell_type": "code",
   "execution_count": 13,
   "id": "9e5f2b62-a566-45c0-aa68-be10628fd225",
   "metadata": {},
   "outputs": [
    {
     "data": {
      "text/plain": [
       "array([ 0.00313717, -0.00293201,  0.0009998 ,  0.00167542,  0.00389882,\n",
       "       -0.00132042, -0.00303681,  0.0015664 ,  0.00481785,  0.00271726,\n",
       "        0.00135704,  0.00160926, -0.00209741,  0.00426282,  0.00355371,\n",
       "        0.00260308, -0.00165984,  0.00481925,  0.00342337, -0.0015115 ,\n",
       "        0.00202207, -0.00307562, -0.00406634, -0.00023533,  0.00318324,\n",
       "       -0.0011409 ,  0.0043712 , -0.00073656,  0.00431361, -0.00225338,\n",
       "       -0.00261571, -0.00113109,  0.00234244,  0.00061574,  0.00230329,\n",
       "       -0.00201598, -0.00204223,  0.00124622, -0.0003735 ,  0.00372844,\n",
       "        0.00493998, -0.00459943, -0.00336736,  0.00192828,  0.0025907 ,\n",
       "       -0.00189576, -0.00282402, -0.0032457 , -0.00096452,  0.00221979,\n",
       "        0.00365021, -0.0028365 , -0.00177467,  0.00439928, -0.00438924,\n",
       "        0.0033102 , -0.0048881 , -0.00448874,  0.00417335,  0.00184906,\n",
       "        0.00368874, -0.00208335, -0.00099384, -0.0003592 , -0.00178554,\n",
       "       -0.0002647 , -0.00108016, -0.00140156,  0.00393741, -0.00118824,\n",
       "       -0.00430472,  0.00379098, -0.00402194, -0.0011661 , -0.00049399,\n",
       "       -0.00080045, -0.00486308, -0.00057128,  0.00452715, -0.00129943,\n",
       "       -0.00087117,  0.00109708, -0.00476862,  0.00413678, -0.00341276,\n",
       "       -0.00473708, -0.00323434, -0.00482358,  0.00185785, -0.00220811,\n",
       "       -0.00030329, -0.00290335,  0.00085634, -0.00248193,  0.00065116,\n",
       "        0.00365226,  0.002228  , -0.00362679,  0.00170236,  0.00479573],\n",
       "      dtype=float32)"
      ]
     },
     "execution_count": 13,
     "metadata": {},
     "output_type": "execute_result"
    }
   ],
   "source": [
    "vector = model.infer_vector(['awesome', 'code', 'streamer', 'list', 'code', 'streamer', 'multiple', 'plataforms', 'like', 'twitch', 'youtube'])\n",
    "vector"
   ]
  },
  {
   "cell_type": "code",
   "execution_count": 14,
   "id": "799be099-49c7-4dca-a082-623cc4fe0e87",
   "metadata": {},
   "outputs": [
    {
     "data": {
      "text/plain": [
       "array([-5.2308156e-03, -5.9791268e-03, -9.8807542e-03,  8.5528456e-03,\n",
       "        3.5661161e-03,  2.6303172e-04, -9.8806275e-03, -5.1666484e-03,\n",
       "       -9.7179627e-03,  2.0107795e-03,  2.8303110e-03,  4.6435557e-03,\n",
       "       -4.2972756e-03, -3.1457066e-03, -3.0787874e-03, -8.7219151e-03,\n",
       "        2.1724831e-03,  9.2256228e-03, -9.5018670e-03, -3.4580862e-03,\n",
       "       -3.7699090e-03,  2.6073826e-03, -5.6915567e-03,  2.6206803e-03,\n",
       "        5.8025215e-03, -8.1068603e-03, -8.3297910e-03, -9.9546695e-03,\n",
       "        4.9330448e-03, -9.1223074e-03,  5.8419635e-03,  6.8002627e-03,\n",
       "       -6.5064002e-03, -4.5198812e-03, -1.2548614e-03,  1.6463208e-03,\n",
       "       -1.4813376e-03, -8.5425414e-03, -3.6026132e-03,  1.7316258e-03,\n",
       "       -2.0569193e-03, -7.2300420e-03,  4.1846000e-03, -8.5743405e-03,\n",
       "        2.7115368e-03, -4.6137203e-03,  6.4542773e-04, -2.0573472e-03,\n",
       "        5.4132282e-03, -8.0025708e-03, -2.1198511e-03, -9.5815660e-05,\n",
       "       -6.6387774e-03, -6.5261638e-03, -1.9329584e-03,  8.8034747e-03,\n",
       "       -1.2631691e-03,  3.5359799e-03, -5.7503129e-03,  8.8148145e-03,\n",
       "        2.9154683e-03,  9.2796851e-03,  4.3498552e-03, -4.1995691e-03,\n",
       "        2.2419060e-03, -4.4124555e-03,  5.7769404e-03,  1.8315231e-03,\n",
       "       -2.2787608e-03, -5.8811186e-03, -8.0270842e-03, -8.5307239e-04,\n",
       "       -8.9393631e-03, -9.2236344e-03, -7.9399096e-03,  2.1690738e-03,\n",
       "       -6.5009403e-03, -7.7883434e-03,  2.1311676e-03,  2.0526624e-03,\n",
       "        8.3483569e-03,  4.6679149e-03, -9.4101038e-03, -3.3878087e-04,\n",
       "        7.8540277e-03,  2.6714755e-03,  2.6803636e-03, -4.8837112e-03,\n",
       "        6.4671705e-03,  1.6488147e-03, -7.6021445e-03,  6.8639722e-03,\n",
       "       -9.7693978e-03, -8.1585944e-03, -4.8741638e-03,  9.9376775e-03,\n",
       "        3.1130922e-03, -2.0120370e-03,  8.8951699e-03,  2.3512566e-03],\n",
       "      dtype=float32)"
      ]
     },
     "execution_count": 14,
     "metadata": {},
     "output_type": "execute_result"
    }
   ],
   "source": [
    "model.dv[0]"
   ]
  },
  {
   "cell_type": "code",
   "execution_count": null,
   "id": "b2960155-39a0-4bfa-af2c-fe70234ba64b",
   "metadata": {},
   "outputs": [],
   "source": []
  }
 ],
 "metadata": {
  "kernelspec": {
   "display_name": "Python 3 (ipykernel)",
   "language": "python",
   "name": "python3"
  },
  "language_info": {
   "codemirror_mode": {
    "name": "ipython",
    "version": 3
   },
   "file_extension": ".py",
   "mimetype": "text/x-python",
   "name": "python",
   "nbconvert_exporter": "python",
   "pygments_lexer": "ipython3",
   "version": "3.11.11"
  }
 },
 "nbformat": 4,
 "nbformat_minor": 5
}
