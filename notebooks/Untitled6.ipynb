{
 "cells": [
  {
   "cell_type": "code",
   "execution_count": 1,
   "id": "8e87a5c6-13c1-49f1-b321-623579fdb0b9",
   "metadata": {},
   "outputs": [],
   "source": [
    "import sys\n",
    "sys.path.append('/home/trukhinmaksim/src')\n",
    "import json\n",
    "from time import time\n",
    "from collections import defaultdict\n",
    "from numpy import array"
   ]
  },
  {
   "cell_type": "code",
   "execution_count": 2,
   "id": "ff7914c1-bf99-4bea-9f70-93472861364a",
   "metadata": {},
   "outputs": [],
   "source": [
    "from src.utils.CacheAdapter import EXP_END_OF_DATA, FlatAdapter, DBFlatAdapter, Factory_21_04_25_HIGH as CacheFactory\n",
    "from src.utils.Corpus import FlatCorpus, Factory_21_04_25_HIGH\n",
    "from src.utils.DatabaseConnect import CacheConnector\n",
    "from src.utils.DatasetManager import DatasetManager, ReadmeDatasetManager"
   ]
  },
  {
   "cell_type": "code",
   "execution_count": 4,
   "id": "5efef6cb-9cf8-4fcc-ad01-eb84bc50a071",
   "metadata": {},
   "outputs": [
    {
     "data": {
      "text/plain": [
       "'\\nwhile True:\\n    try:\\n        manager()\\n    except EXP_END_OF_DATA:\\n        break\\n'"
      ]
     },
     "execution_count": 4,
     "metadata": {},
     "output_type": "execute_result"
    }
   ],
   "source": [
    "readmeAdapter = FlatAdapter(\"/home/trukhinmaksim/src/data/cache_30-04-25/raw_readme_30-04-25\")\n",
    "descriptionAdapter = CacheFactory.createFlatAdapter()\n",
    "\n",
    "#collection = CacheConnector(\"mongodb://10.22.48.31:27020/\").collection(\"raw_readme_30-04-25\")\n",
    "#dbAdapter = DBFlatAdapter(collection)\n",
    "\n",
    "class MyOut(DBFlatAdapter):\n",
    "    def save(self, items):\n",
    "        self.cacheCollection.insert_many(items)\n",
    "        return items\n",
    "\n",
    "manager = ReadmeDatasetManager(\n",
    "    1,\n",
    "    inputAdapter = descriptionAdapter\n",
    ")\n",
    "\n",
    "doc = {\"tokens\" : [\"One\" \"two\"], \"tags\" : [\"github:guanzhi/GmSSL\"]}\n",
    "\n",
    "newDoc = manager.merge(doc)\n",
    "\n",
    "\"\"\"\n",
    "while True:\n",
    "    try:\n",
    "        manager()\n",
    "    except EXP_END_OF_DATA:\n",
    "        break\n",
    "\"\"\"\n",
    "#for i in range(len(ids)):\n",
    "#    ids[i] = ids[i].replace(\"github:\", \"\")"
   ]
  },
  {
   "cell_type": "code",
   "execution_count": 8,
   "id": "9c75a891-c371-4e01-ab34-542924f7519a",
   "metadata": {},
   "outputs": [
    {
     "data": {
      "text/plain": [
       "['Onetwo',\n",
       " 'gmssl',\n",
       " 'cmake',\n",
       " 'ubuntu',\n",
       " 'macos',\n",
       " 'cmake',\n",
       " 'window',\n",
       " 'cmake',\n",
       " 'android',\n",
       " 'cmake',\n",
       " 'io',\n",
       " 'gmssl',\n",
       " 'domestic',\n",
       " 'commercial',\n",
       " 'cryptographic',\n",
       " 'open',\n",
       " 'source',\n",
       " 'library',\n",
       " 'independently',\n",
       " 'developed',\n",
       " 'peking',\n",
       " 'university',\n",
       " 'realizes',\n",
       " 'comprehensive',\n",
       " 'functional',\n",
       " 'coverage',\n",
       " 'national',\n",
       " 'cryptographic',\n",
       " 'algorithm',\n",
       " 'standard']"
      ]
     },
     "execution_count": 8,
     "metadata": {},
     "output_type": "execute_result"
    }
   ],
   "source": [
    "newDoc[\"tokens\"][:30]"
   ]
  },
  {
   "cell_type": "code",
   "execution_count": 7,
   "id": "fd77aea5-d5a4-4e07-bf28-ccfc2ee2c72d",
   "metadata": {},
   "outputs": [],
   "source": [
    "from src.utils.CacheAdapter import EXP_END_OF_DATA, FlatAdapter, DBFlatAdapter\n",
    "readmeAdapter = FlatAdapter(\"/home/trukhinmaksim/src/data/cache_30-04-25/raw_readme_30-04-25\")\n",
    "\n",
    "collection = CacheConnector(\"mongodb://10.22.48.31:27020/\").collection(\"raw_readme_30-04-25\")\n",
    "dbAdapter = DBFlatAdapter(collection)"
   ]
  },
  {
   "cell_type": "code",
   "execution_count": 8,
   "id": "8ff337da-7108-45be-bb91-b497c1664e07",
   "metadata": {},
   "outputs": [
    {
     "data": {
      "text/plain": [
       "21780"
      ]
     },
     "execution_count": 8,
     "metadata": {},
     "output_type": "execute_result"
    }
   ],
   "source": [
    "collection.count_documents({\"readme\" : \"\"})"
   ]
  },
  {
   "cell_type": "code",
   "execution_count": 10,
   "id": "527c7b55-f47a-459c-a2c7-ad2db236a5ed",
   "metadata": {},
   "outputs": [],
   "source": [
    "counter = 0\n",
    "def findSimmilar(item):\n",
    "    global counter\n",
    "\n",
    "    if counter % 100 == 0:\n",
    "        print(f\"Scanned {counter}, found sims: {len(simillar)}\")\n",
    "\n",
    "    proj_id = item[\"proj_id\"]\n",
    "    print(proj_id)\n",
    "    cursor = collection.find({\"proj_id\" : proj_id}) # , projection = {\"proj_id\" : True, \"readme\" : False}\n",
    "    i = 0\n",
    "    for doc in cursor: i += 1\n",
    "\n",
    "    if i > 1:\n",
    "        simillar.append(item[\"proj_id\"])\n",
    "\n",
    "    counter += 1"
   ]
  },
  {
   "cell_type": "code",
   "execution_count": 4,
   "id": "93946749-b143-4701-83f3-61fb734b3d01",
   "metadata": {},
   "outputs": [
    {
     "name": "stdout",
     "output_type": "stream",
     "text": [
      "{'proj_id': {'$in': ['github:0fbcb238c0/revanced_build', 'github:0hq/WebGPT', 'github:100herz/convention-app', 'github:21kyu/sinabro', 'github:4darsh-Dev/CogniGaurd', 'github:666DZY666/mininet', 'github:A3h1nt/Grawler', 'github:AAChartModel/AAChartKit', 'github:Acclorite/book-story', 'github:Adiaparmar/Food-Ordering-App', 'github:AirCodeLabs/documate', 'github:Alaveri/Veridian', 'github:AlexMayol/localit', 'github:Andy-Wu12/iExpire', 'github:Aneesh-Pothuru/Philter', 'github:Anu27n/603work', 'github:ArtemioUrbina/240pTestSuite', 'github:Azure-Samples/rag-postgres-openai-python', 'github:BUTR/Bannerlord.ReferenceAssemblies', 'github:BenRogersWPG/WebSearch', 'github:BirthdayResearch/sticky', 'github:Brant-lzh/opencv_demo', 'github:BrikerMan/BMPlayer', 'github:CC11001100/ast-explorer-helper', 'github:CMU-SAFARI/Victima', 'github:CS633SP23Team4/magic-kitchen', 'github:CharlyJazz/prettyrestdoc', 'github:ChestShop-authors/ChestShopNotifier', 'github:Code-Forge-Net/Remix-Dev-Tools', 'github:CompleteUnityDeveloper2/2_Terminal_Hacker', 'github:CristianDavideConte/universalSmoothScroll', 'github:CyberBoyAyush/Simple-Portfolio', 'github:DAN3002/FUNiX-Swap', 'github:DFE-Digital/teacher-training-api', 'github:DM1122/KSP-kRPC', 'github:Data-Camp/WeApp_Demos', 'github:DataLinkDC/dinky', 'github:DatanoiseTV/PicoADK-Firmware-Template', 'github:Dcros/NodeJs-AI-Live-Face-Recognition-Voice-Controlled', 'github:DeathGOD7/FIFA-3D-Importer-Exporter', 'github:DeppWang/youdaonote-pull', 'github:DiegoZoracKy/magicli', 'github:Dilshan97/Flutter-Provider-Shopping-Cart', 'github:Divkix/dotfiles', 'github:Dj-Viking/03-project', 'github:DroneBridge/DroneBridge', 'github:Dwarf1er/sqlanydb-tools', 'github:EirikWulff/php-timelapse-creator', 'github:Electroblob77/Wizardry', 'github:EmberExperts/ember-initials', 'github:FAUSWE-GROUP11/Rokku', 'github:FISC-Project/FISC-SystemVerilog', 'github:FMXExpress/AutoBlogAI', 'github:FQrabbit/SSTap-Rule', 'github:FantasticFiasco/axis-js', 'github:Faraaz2633/au-cruncher', 'github:Final-Capstone-Elite-Group/RentUrTechBackend', 'github:Finnhub-Stock-API/finnhub-go', 'github:Finnhub-Stock-API/finnhub-ruby', 'github:Floflis/firstlogon-tour', 'github:FrostKiwi/Mirrorball', 'github:G-Dharani-raj/brief-haircut-1894', 'github:GFlorio/pytimeset', 'github:GPUOpen-Tools/OCAT', 'github:GagsdName/XDMOD_client_dev', 'github:GenSpectrum/LAPIS', 'github:GewelsJI/DGNet', 'github:GoogleLLP/Archive-password-cracker', 'github:Gottox/nson', 'github:Gulciha-n/data-science-journey', 'github:HalilDeniz/TrafficWatch', 'github:HokageM/ByakuganVisualizer', 'github:Ibrahimghali/ELK_setup_auto', 'github:Inchill/FENotes', 'github:InfoSecWarrior/Offensive-Pentesting-Scripts', 'github:InquisitiveAboutReact/mytasktracker', 'github:International-Data-Spaces-Association/InformationModel', 'github:ItzLevvie/Office16', 'github:JCSUCoder/SystemicWorks', 'github:JYOTIPM1999/Chat_App', 'github:JacobGrisham/Spell-Checker-Data-Structures-using-C', 'github:James-Frowen/Mirage.Godot', 'github:JiaruiFeng/N2GNN', 'github:Jitera/jitera-rn-ui-library', 'github:JoStooop/website--indoor-plants', 'github:JonathanReeve/course-computational-liteary-analysis-readings', 'github:JoseDeFreitas/awesome-youtubers', 'github:Juniourrau/react-progressbar-fancy', 'github:KUN1007/kun-galgame-patch-next', 'github:KaliKaloo/AI-Tool-For-Comics', 'github:Kav-K/GPTDiscord', 'github:Kicksecure/tb-starter', 'github:KookaS/scrapper', 'github:LTD-cyber-security/DevSite', 'github:LambdaTest/php-laravel-dusk-todo', 'github:LoLab-VU/pydyno', 'github:LostArtefacts/Tomb1Main', 'github:Luffytaro22/Anime-Quotes', 'github:MaheswaranT/Task-Management-System', 'github:MambaCodes/BeAnonymous', 'github:Maple-mxf/rest-doc', 'github:Margaret-Petersen/talabat-food-delivery-app', 'github:Margaret-Petersen/zomato-clone-using-mern-stack', 'github:MarioRuiz/slack-smart-bot', 'github:MartinAskestad/sweden-national-id', 'github:MasabBinZia/NFT-MarketPlace', 'github:MateusCecchin/what-country-is-this', 'github:Mathesis-dev/mathesis-front-end', 'github:Mauro-Domingues/cross-api', 'github:MehdiSaffar/cmpe492-sonar-frontend', 'github:MelonRuntime/Melon', 'github:MichaelGrigoryan25/Project-Mars-Distance-From-Earth', 'github:Milkdromeda-333/meme-generator-react', 'github:MohammedAlaaMorsi/RangeSeekBar', 'github:Moving-AI/virtual-walk', 'github:N3RDCLASH/github-user-viewer', 'github:NJHu/iOSProject', 'github:NVIDIA-Omniverse-blueprints/3d-conditioning', 'github:Nezz7/Prime-as-a-Service', 'github:Nitesh2905/traveloggedSPW', 'github:Nitin1901/machine-learning-interface', 'github:Nur-Alam39/job-portal', 'github:Nurbk229/demo_chat_sockit', 'github:OWASP/BLT-Action', 'github:OctaneDev/Hotspot-Unlock', 'github:OhBonsai/ohbonsai.github.io', 'github:OliverEdholm/automatic-web-icon-dataset', 'github:PCRinus/educativ-io', 'github:PXAV/kelp', 'github:Pain77/Thomas-Shelby', 'github:PaulloClara/stuki', 'github:PrajjwalDatir/WebsiteTemplates', 'github:PrashanthPuneriya/Flick-Tracker', 'github:PyroBugs/PyKorone', 'github:QuaNode/backendjs', 'github:RLAlpha49/AnilistListManager', 'github:RahulVerma989/dlnstagram', 'github:RainBowLuoCS/DiffusionTrack', 'github:Refloow/Discord-Channel-Moderator', 'github:Rhosys/soc2.fyi', 'github:RivasCVA/ShapeFall', 'github:RockChinQ/OpenCamwall', 'github:Rstar284/rpaste', 'github:RuthGnz/SpyScrap', 'github:S-codes14/smaller-sites', 'github:SaqibSyed1014/serve-hub', 'github:Shridhar-dev/Promise-NFT-Marketplace', 'github:SiddheshKukade/google-clone', 'github:Simplexity-Development/Survive_And_Thrive', 'github:SlicerRt/GelDosimetryAnalysis', 'github:SmartToolFactory/Compose-RatingBar', 'github:Sollimann/Dstar-lite-pathplanner', 'github:SriMani-7/e-library', 'github:StorkST/RussianWordsClusters', 'github:Stream-AD/MIDAS', 'github:Syknapse/Pixel-art-maker', 'github:Tangpj/calces-gradle-plugin', 'github:TareqMonwer/30-Days-of-Web-Design', 'github:TenNga/impressipe-frontend', 'github:TheFenrisLycaon/Sentiment-Analysis', 'github:TheWebSolver/tws-license-manager-server', 'github:Thomas-Basham/trout-finder', 'github:Thoroldvix/youtube-transcript-api', 'github:Tianscar/javasound-mp3', 'github:TravisWheelerLab/polyA', 'github:UBC-MDS/dsci-532_group08', 'github:Uttam580/Twitter_sentimental_analysis', 'github:VITA-Group/GLNet', 'github:WarriorsSami/Alexis', 'github:WebDevEtc/BlogEtc', 'github:WildAid/o-fish-web', 'github:WiliamMelo01/EmpowerU-API', 'github:Windsander/project-onnx-sd', 'github:XenoAtom/XenoAtom.ShaderCompiler', 'github:YaoApp/yao', 'github:YitingLiu97/sun-pos-sounds', 'github:YukeWang96/MGG-OSDI23-AE', 'github:YuzheSHI/Awesome-AGI-CoCoSci', 'github:Zaid-maker/Official-Giveaway-Bot', 'github:achillesrasquinha/pipupgrade', 'github:aesthetic-suite/framework', 'github:ahmedrafat-SW/problem-solving', 'github:ainoya/chrome-extension-web-distiller-ai', 'github:airalab/robonomics-wiki', 'github:aksiome/mcwpack', 'github:alan-ai/alan-sdk-ionic', 'github:alash3al/exeq', 'github:alexruedadev/alexrueda.dev', 'github:alibaba/form-render', 'github:amboulouma/python-ultimate-tutorial', 'github:amzn/node-jose_aws-kms-extension', 'github:anburocky3/Kotlin-Calculator', 'github:andry-pebrianto/nibiru-digital-book-client', 'github:anewgithubname/Juzhen', 'github:anthonkendel/objekt-mapper', 'github:antonlukin/social-planner', 'github:aptos-labs/aptos-core', 'github:arkane-systems/mousejiggler', 'github:arnaudroger/SimpleFlatMapper', 'github:aseemsavio/catholicism-in-json', 'github:ashutoshkrris/Terminal-Wordle', 'github:asrul10/habit-tracker', 'github:aswinkarthik/ingress-consul-register', 'github:austins/austinsdev-web-client', 'github:aws-samples/amazon-ivs-dvr-web-demo', 'github:aws/cta', 'github:awslabs/discovering-hot-topics-using-machine-learning', 'github:aya-rs/book', 'github:aydonlol/capmonster-api-wrapper', 'github:bacontsu/HLSDKTools', 'github:barnardos/consent-form-builder', 'github:begolazoeg/FIFA-Women-s-World-Cup-ML', 'github:bimspot/xeokit-metadata', 'github:bit101/ProjectMaker', 'github:biter777/processex', 'github:bkfan1/pawn-shop-app', 'github:boringdesigners/boring-avatars', 'github:brainandbinary/brainandbinary.github.io', 'github:brenoh1ldebr4nd/auth-nodejs', 'github:burakkrt/react-redux-toolkit', 'github:bush1D3v/tsbank_api', 'github:bytinbit/nobubo', 'github:cea-sec/ivre', 'github:cetorres/multiselect_formfield', 'github:chaotic-aur/nyx', 'github:charleslxh/isuperagent', 'github:chatgptmm/alist.io', 'github:chesslablab/website', 'github:chronoxor/CSharpServer', 'github:cindykandie/elite-airlines', 'github:cns-iu/XDMoD-Client', 'github:cobbinma/r-cache', 'github:codERSunny812/DSA-java', 'github:code-lives/Pays', 'github:confluentinc/learn-kafka-courses', 'github:consiglionazionaledellericerche/cool-jconon', 'github:containers/ansible-podman-collections', 'github:converged-computing/rainbow', 'github:cookiecutter-flask/cookiecutter-flask', 'github:cparse/cparse', 'github:cpp-lln-lab/CPP_ROI', 'github:craumix/onionmsg', 'github:cypresssemiconductorco/F-RAM', 'github:cyrilwanner/cli-select', 'github:danielcrubens/gituser-api', 'github:daskomdev/daskomweb', 'github:dbrgn/svg2polylines', 'github:deepdrive/deepdrive', 'github:deepkolos/three-platformize', 'github:devmullets/wax-chromatic-react', 'github:dickreuter/Poker', 'github:dihsantanna/project-pixel-art', 'github:dolanmiu/docx', 'github:donno2048/YouSpeed', 'github:dr5hn/scratch-n-win', 'github:dr5hn/spin-a-wheel', 'github:drozhzhin-n-e/ng2-tooltip-directive', 'github:earthinversion/STADIUM-Py', 'github:ebourg/hessian', 'github:eduardocgarza/openpilot-live', 'github:eepson123tw/blog', 'github:eldimious/network-avatar-picker', 'github:elijah-team/elijah-lang-lgpl', 'github:email-reciever/website', 'github:emicheldev/emichelnew', 'github:enquirer/enquirer', 'github:entitydb-io/EntityDb', 'github:erdemkosk/quiz_it_frontend', 'github:evancp87/first-level', 'github:evergreenx/liveone', 'github:f5devcentral/vscode-f5', 'github:falahati/WindowsFirewallHelper', 'github:farhan-nahid/movies-theater', 'github:fatihilhan42/Data-Science-Projects', 'github:federicoazzu/ChatBot', 'github:feidfoe/learning-not-to-learn', 'github:filrak/astro-layers', 'github:fireblade-engine/uuid', 'github:flozzone/DDCA', 'github:friimaind/pi-hole-droid', 'github:fuxingloh/contented', 'github:gaurav-chaurasia/doc-ops', 'github:gavinlyonsrepo/SSD1306_OLED_RPI', 'github:gdquest-demos/godot-3-demos', 'github:giellalt/lang-ckt', 'github:gl-lei/algorithm', 'github:google/go-cloud', 'github:gorillalabs/neo4j-clj', 'github:graniet/Inspector', 'github:guibranco/gstraccini-bot-website', 'github:gusbueno/company-stock-price', 'github:gxanshu/codenanshu', 'github:hakanozbay/database-error-handling', 'github:hamidrm/FPGA-FM-Transmitter', 'github:handsontable/hyperformula', 'github:harytfw/GlitterDrag', 'github:hashmat-noorani/Nobita-Image-Generator-DALL.E', 'github:hinofafa/DeepPDELearner', 'github:huankemao/huankemao-php', 'github:icabetong/deshi', 'github:idsulik/go-collections', 'github:ihepda/java-tech-debt', 'github:imcf/imcf-fiji-scripts', 'github:iotexproject/w3bstream', 'github:itaypanda/SimpleToast', 'github:izure1/klaf', 'github:jacopotediosi/GoogleDialerMod-Magisk', 'github:jczic/ESP32-MPY-Jama', 'github:jdvlpr/Temperature-Blanket-Web-App', 'github:jellydn/learn-tdd-with-katas', 'github:jesperancinha/asnsei-the-right-waf', 'github:jfoclpf/in-my-district', 'github:jhuntdev/blest-react', 'github:jmromer/shop_listings', 'github:joielechong/CountryCodePicker', 'github:jonasjacek/colors', 'github:jot2re/rsa', 'github:joysarkar18/glossy', 'github:kaio-giovanni/webpage-cleaner', 'github:kaiosilveira/encapsulate-collection', 'github:kamilbakierzynski/flutter_zostawpoddrzwiami', 'github:kaptinlin/requests', 'github:karthickthankyou/voting-dapp-nextjs-nestjs', 'github:kaustubh-sadekar/FunMirrors', 'github:khanhicetea/Caffee', 'github:kholoshnia/properties-translator', 'github:killvung/microfrontend-basic-host-remotes', 'github:knl/niv-updater-action', 'github:kodjunkie/beetube-bot', 'github:kolosovpetro/ACRPractice.AZ204', 'github:kontent-ai/rich-text-resolver-js', 'github:ladyllma/github-finder', 'github:lambeboluwatife/lbdflix', 'github:layerssss/michaelhost', 'github:leecheuk/yup-numeric', 'github:leocastroz/rick-and-morty-vue3', 'github:lionsoul2014/friso', 'github:loopfz/gadgeto', 'github:lorenz-f/local-time-app', 'github:lorenzocaramaschi/Torneos-LBDL-Node-app', 'github:loyess/Shell', 'github:lunes-platform/lunesjs', 'github:m0zgen/bld-agregator', 'github:magnusbakken/espn-fantasy-autopick', 'github:mahmoudahmedd/roufuf', 'github:mahmoudahmedd/social-zombie-arena', 'github:manulangat1/Jaza-ndai', 'github:mapleweekend/Hway', 'github:marcellodesales/replicated-cog-server-docker', 'github:marius-sucan/ChurchBellsTower', 'github:markteekman/accessible-astro-starter', 'github:maryamalsadat-tabatabaei/Restaurant-Explorer', 'github:masterkram/minted-directory', 'github:maxiee/RayBook', 'github:mcarvin8/apex-code-coverage-transformer', 'github:mcyph/global_subnational_covid_data', 'github:mdbootstrap/Admin-Dashboard-Template-Bootstrap', 'github:mdbootstrap/Blog-Template-Bootstrap', 'github:mdbootstrap/Bootstrap-4-templates', 'github:mdbootstrap/Coming-Soon-Template-Bootstrap', 'github:mdbootstrap/Landing-Page-Template-Bootstrap', 'github:mdbootstrap/Magazine-Template-Bootstrap', 'github:mehatab/fettle', 'github:mfish-qf/mfish-nocode', 'github:mhmzdev/Flutter-Boilplate-2.5', 'github:michaelsoriano/sp-tabbed-containers', 'github:microsoft/CosmicClone', 'github:minitrill/TextAudit', 'github:mmtaee/ocserv-users-management', 'github:mnahkies/openapi-code-generator', 'github:moeinfatehi/lfi-to-rce-scenario', 'github:mozilla-mobile/ndhook', 'github:mozilla-mobile/prox', 'github:mozillazg/cloud-native-security-with-ebpf', 'github:mrsool/zatca', 'github:munsif12/ReactJS', 'github:nasa/concept-tagging-training', 'github:nathaneltitane/dextop', 'github:ngchc/deepBoosting', 'github:ngtrdai197/Scully', 'github:nisarhassan12/portfolio-template', 'github:nrabulinski/prosper', 'github:nstungcom/gulp-starter-kit', 'github:nthnn/Jessy-OS', 'github:numToStr/Comment.nvim', 'github:nunomaduro/laravel-desktop-notifier', 'github:nwfsc-math-bio/pycax', 'github:o-wth/politirate-app', 'github:obrhoff/MusaicFM', 'github:ory/cloud', 'github:owasp-dep-scan/dep-scan', 'github:oxisto/okr2go', 'github:p0lygun/portal_helper', 'github:paulgoetze/flask-gcs-upload-example-app', 'github:paulpascal/webhook_executor', 'github:payalpatra/Memory-Bank-App', 'github:pedropellizzaro/podcastr', 'github:peimelo/heroes-crud', 'github:perrysmotors/photo-grid', 'github:pingidentity/pingone-sample-js', 'github:pirafrank/zed_unofficial_win_builds', 'github:plentz/lol_dba', 'github:powerpcpt/vercel-maintenance-page', 'github:projecteru2/agent', 'github:pulketo/termux-cute-call', 'github:pyloid/pyloid', 'github:qingweihk/DESIGNING-AND-CREATING-A-DATABASE', 'github:quinn-p-mchugh/year-spread', 'github:r-richter/hyenae', 'github:rafalfalandys/portfolio', 'github:raphaelvserafim/api-sicredi-pix', 'github:raphaelvserafim/gerar-pix-sicredi', 'github:reelyactive/advlib', 'github:reelyactive/advlib-epc', 'github:renehorstmann/Pixelc', 'github:rfsbraz/deleterr', 'github:ricarthlima/rails-eu-quero', 'github:ricaun/ArduinoUniqueID', 'github:rmcreyes/keener-backend', 'github:rooben-me/mypricing-brochure', 'github:rounakbhowmick/Spacy-Ball-v2', 'github:ruoccofabrizio/azure-open-ai-embeddings-qna', 'github:rutgerblom/SDDC.Lab', 'github:ruzickap/test_usb_stick_for_tv', 'github:ryanschiang/claude-export', 'github:ryanshepps/NoData', 'github:ryxtor/math-magicians', 'github:sadok-f/s3-images-manager', 'github:saeedkohansal/JavaScript-Alarm-Web-Application', 'github:sahirmpatel/AdoptMe', 'github:salesforce/CodeRL', 'github:samcodex/ngarch', 'github:sarfraznawaz2005/actions', 'github:seanpm2001/Android-x64_Android15.0_Heavy_Edition', 'github:seanpm2001/Android-x64_Android15.0_Vanilla_Edition', 'github:seanpm2001/Android-x64_Android16.1_DeGoogled_Edition', 'github:seanpm2001/Learn-BlueSpec-BH', 'github:sebastienrousseau/skeletonic.io', 'github:seemoo-lab/VirtFuzz', 'github:senkevich-ser/mesto', 'github:shangeth/wavencoder', 'github:shayneobrien/coreference-resolution', 'github:shiponcs/tcp-server-client-cpp', 'github:siddhant-vij/FCC-Relational-Database-Cert', 'github:sillsdev/FieldWorks', 'github:simonneutert/ka-ching-demo', 'github:sisyphsu/dateparser', 'github:sjmiller8182/Warehousing-Stock-Tweet-Data', 'github:sksoumik/intelligent_apps', 'github:small-cactus/M.I.L.E.S', 'github:smastrom/vue-collapsed', 'github:smlu/OpenJones3D', 'github:snipem/gameprices', 'github:soulteary/docker-quick-docs', 'github:space-lang/space', 'github:sparkfish/shabby-pages', 'github:speauty/arrietti', 'github:square/ember-square-payment-form', 'github:srazi/Saaghar', 'github:statst/Group-Project-CRM-frontend', 'github:stdlib-js/math-iter-special-ceil10', 'github:stefangabos/Zebra_Pin', 'github:stingray-PORFESR2017/Provider_di_Servizi', 'github:streetyoga/atapi', 'github:sty945/jsonsearch', 'github:subhadipbhowmik/30-Days-Of-CPP', 'github:swoodford/aws', 'github:sws2apps/organized-app', 'github:tamalweb/periodic-table', 'github:tasmo/reveal-jekyll', 'github:tefra/xsdata-plantuml', 'github:thejarlid/VideoStabilizationPy', 'github:thekamalkashyap/blogging-website-template', 'github:themefisher/bigspring-light-nextjs', 'github:thenamevishnu/ToDo-List', 'github:thomas-rooty/trackwatch', 'github:tlgdgn/AI-Stock-Market-App-React-Native', 'github:tobimori/streamdeck-toggl', 'github:truexf/goutil', 'github:truptigaonkar/blog', 'github:ttytm/vibe', 'github:upgundecha/howtheyaws', 'github:upupming/esbuild-react-less', 'github:urbanadventurer/Android-PIN-Bruteforce', 'github:utsavoza/rope', 'github:vangao1989/cloudE', 'github:vdesabou/kafka-docker-playground', 'github:virtualvivek/windows-ui', 'github:wa1ead/UltimateReactCourse', 'github:wechaty/wechaty-plugin-freshdesk', 'github:weirenxue/react-based-electron', 'github:wesleybertipaglia/stylish-console', 'github:wpcodevo/nextauth-nextjs14-prisma', 'github:wx-chevalier/m-fe-boilerplates', 'github:xbmc/xbmc', 'github:xiancg/vfxnaming', 'github:xluohome/serial', 'github:xoofx/CppAst.NET', 'github:xxlllq/pdf2img', 'github:xxxxue/Autojs_Rhino_Dex', 'github:y-young/nazurin', 'github:yegor256/antlr2ebnf-maven-plugin', 'github:yersel500/portfolio', 'github:yogeshnile/spam-sms-detector', 'github:yoriiis/step-manager', 'github:yornaath/batshit', 'github:yunho0130/gTask_to_CSV', 'github:zaclark369/Pantry', 'github:zhudotexe/redel', 'github:zrooda/discord-bot-starter']}, '_id': {'$nin': [ObjectId('6814875abc0964650a886eb7'), ObjectId('6814875abc0964650a886df4'), ObjectId('6814875abc0964650a886d79'), ObjectId('6814875abc0964650a886df3'), ObjectId('6814875abc0964650a886e5c'), ObjectId('6814875abc0964650a886d98'), ObjectId('6814875abc0964650a886eb5'), ObjectId('6814875abc0964650a886d82'), ObjectId('6814875abc0964650a886d2f'), ObjectId('6814875abc0964650a886dd7'), ObjectId('6814875abc0964650a886e6e'), ObjectId('6814875abc0964650a886ede'), ObjectId('6814875abc0964650a886e44'), ObjectId('6814875abc0964650a886e90'), ObjectId('6814875abc0964650a886e5b'), ObjectId('6814875abc0964650a886d26'), ObjectId('6814875abc0964650a886ee2'), ObjectId('6814875abc0964650a886e76'), ObjectId('6814875abc0964650a886d68'), ObjectId('6814875abc0964650a886d37'), ObjectId('6814875abc0964650a886de1'), ObjectId('6814875abc0964650a886ea5'), ObjectId('6814875abc0964650a886daa'), ObjectId('6814875abc0964650a886dad'), ObjectId('6814875abc0964650a886e0f'), ObjectId('6814875abc0964650a886e4f'), ObjectId('6814875abc0964650a886d73'), ObjectId('6814875abc0964650a886db7'), ObjectId('6814875abc0964650a886e4e'), ObjectId('6814875abc0964650a886ec8'), ObjectId('6814875abc0964650a886e97'), ObjectId('6814875abc0964650a886dc3'), ObjectId('6814875abc0964650a886e78'), ObjectId('6814875abc0964650a886e15'), ObjectId('6814875abc0964650a886eaa'), ObjectId('6814875abc0964650a886e75'), ObjectId('6814875abc0964650a886e9f'), ObjectId('6814875abc0964650a886d01'), ObjectId('6814875abc0964650a886e53'), ObjectId('6814875abc0964650a886e32'), ObjectId('6814875abc0964650a886e8f'), ObjectId('6814875abc0964650a886dbc'), ObjectId('6814875abc0964650a886d2e'), ObjectId('6814875abc0964650a886d7e'), ObjectId('6814875abc0964650a886d14'), ObjectId('6814875abc0964650a886e19'), ObjectId('6814875abc0964650a886d0a'), ObjectId('6814875abc0964650a886e89'), ObjectId('6814875abc0964650a886e73'), ObjectId('6814875abc0964650a886e48'), ObjectId('6814875abc0964650a886d33'), ObjectId('6814875abc0964650a886d67'), ObjectId('6814875abc0964650a886d56'), ObjectId('6814875abc0964650a886e3f'), ObjectId('6814875abc0964650a886daf'), ObjectId('6814875abc0964650a886ecf'), ObjectId('6814875abc0964650a886e13'), ObjectId('6814875abc0964650a886d9e'), ObjectId('6814875abc0964650a886db1'), ObjectId('6814875abc0964650a886ddc'), ObjectId('6814875abc0964650a886e0c'), ObjectId('6814875abc0964650a886dca'), ObjectId('6814875abc0964650a886e1e'), ObjectId('6814875abc0964650a886e87'), ObjectId('6814875abc0964650a886eea'), ObjectId('6814875abc0964650a886ee8'), ObjectId('6814875abc0964650a886db4'), ObjectId('6814875abc0964650a886d7f'), ObjectId('6814875abc0964650a886cf6'), ObjectId('6814875abc0964650a886e24'), ObjectId('6814875abc0964650a886eb1'), ObjectId('6814875abc0964650a886e84'), ObjectId('6814875abc0964650a886db2'), ObjectId('6814875abc0964650a886ebb'), ObjectId('6814875abc0964650a886da7'), ObjectId('6814875abc0964650a886e61'), ObjectId('6814875abc0964650a886dd2'), ObjectId('6814875abc0964650a886ee4'), ObjectId('6814875abc0964650a886e4b'), ObjectId('6814875abc0964650a886cf1'), ObjectId('6814875abc0964650a886ea2'), ObjectId('6814875abc0964650a886e9c'), ObjectId('6814875abc0964650a886e50'), ObjectId('6814875abc0964650a886dde'), ObjectId('6814875abc0964650a886d53'), ObjectId('6814875abc0964650a886e91'), ObjectId('6814875abc0964650a886e4d'), ObjectId('6814875abc0964650a886e07'), ObjectId('6814875abc0964650a886dcd'), ObjectId('6814875abc0964650a886d3e'), ObjectId('6814875abc0964650a886e2b'), ObjectId('6814875abc0964650a886de8'), ObjectId('6814875abc0964650a886d8d'), ObjectId('6814875abc0964650a886d64'), ObjectId('6814875abc0964650a886d40'), ObjectId('6814875abc0964650a886e30'), ObjectId('6814875abc0964650a886d9c'), ObjectId('6814875abc0964650a886e45'), ObjectId('6814875abc0964650a886e52'), ObjectId('6814875abc0964650a886dc9'), ObjectId('6814875abc0964650a886e3c'), ObjectId('6814875abc0964650a886e93'), ObjectId('6814875abc0964650a886e42'), ObjectId('6814875abc0964650a886e7c'), ObjectId('6814875abc0964650a886eae'), ObjectId('6814875abc0964650a886e57'), ObjectId('6814875abc0964650a886de5'), ObjectId('6814875abc0964650a886dc1'), ObjectId('6814875abc0964650a886e86'), ObjectId('6814875abc0964650a886de2'), ObjectId('6814875abc0964650a886d7c'), ObjectId('6814875abc0964650a886d87'), ObjectId('6814875abc0964650a886e26'), ObjectId('6814875abc0964650a886dc5'), ObjectId('6814875abc0964650a886ec4'), ObjectId('6814875abc0964650a886dcb'), ObjectId('6814875abc0964650a886d4d'), ObjectId('6814875abc0964650a886dce'), ObjectId('6814875abc0964650a886e2d'), ObjectId('6814875abc0964650a886d3a'), ObjectId('6814875abc0964650a886d3f'), ObjectId('6814875abc0964650a886d21'), ObjectId('6814875abc0964650a886eb3'), ObjectId('6814875abc0964650a886e0a'), ObjectId('6814875abc0964650a886d1d'), ObjectId('6814875abc0964650a886d1a'), ObjectId('6814875abc0964650a886e79'), ObjectId('6814875abc0964650a886d18'), ObjectId('6814875abc0964650a886d55'), ObjectId('6814875abc0964650a886d69'), ObjectId('6814875abc0964650a886ec5'), ObjectId('6814875abc0964650a886e23'), ObjectId('6814875abc0964650a886cf8'), ObjectId('6814875abc0964650a886d6e'), ObjectId('6814875abc0964650a886e51'), ObjectId('6814875abc0964650a886d52'), ObjectId('6814875abc0964650a886d50'), ObjectId('6814875abc0964650a886e21'), ObjectId('6814875abc0964650a886ec0'), ObjectId('6814875abc0964650a886d44'), ObjectId('6814875abc0964650a886e9d'), ObjectId('6814875abc0964650a886d81'), ObjectId('6814875abc0964650a886d0f'), ObjectId('6814875abc0964650a886e6c'), ObjectId('6814875abc0964650a886cf4'), ObjectId('6814875abc0964650a886e09'), ObjectId('6814875abc0964650a886e47'), ObjectId('6814875abc0964650a886d7b'), ObjectId('6814875abc0964650a886da5'), ObjectId('6814875abc0964650a886db9'), ObjectId('6814875abc0964650a886e4c'), ObjectId('6814875abc0964650a886e81'), ObjectId('6814875abc0964650a886cf7'), ObjectId('6814875abc0964650a886e99'), ObjectId('6814875abc0964650a886e70'), ObjectId('6814875abc0964650a886e11'), ObjectId('6814875abc0964650a886d65'), ObjectId('6814875abc0964650a886e77'), ObjectId('6814875abc0964650a886e92'), ObjectId('6814875abc0964650a886df7'), ObjectId('6814875abc0964650a886ea7'), ObjectId('6814875abc0964650a886e0b'), ObjectId('6814875abc0964650a886e68'), ObjectId('6814875abc0964650a886eb4'), ObjectId('6814875abc0964650a886e31'), ObjectId('6814875abc0964650a886d9d'), ObjectId('6814875abc0964650a886db5'), ObjectId('6814875abc0964650a886d66'), ObjectId('6814875abc0964650a886e98'), ObjectId('6814875abc0964650a886d07'), ObjectId('6814875abc0964650a886ebc'), ObjectId('6814875abc0964650a886d05'), ObjectId('6814875abc0964650a886e5f'), ObjectId('6814875abc0964650a886e5d'), ObjectId('6814875abc0964650a886e14'), ObjectId('6814875abc0964650a886d5f'), ObjectId('6814875abc0964650a886e36'), ObjectId('6814875abc0964650a886e1f'), ObjectId('6814875abc0964650a886d59'), ObjectId('6814875abc0964650a886d63'), ObjectId('6814875abc0964650a886e62'), ObjectId('6814875abc0964650a886ea4'), ObjectId('6814875abc0964650a886ec1'), ObjectId('6814875abc0964650a886d8a'), ObjectId('6814875abc0964650a886dfe'), ObjectId('6814875abc0964650a886e34'), ObjectId('6814875abc0964650a886d3d'), ObjectId('6814875abc0964650a886d88'), ObjectId('6814875abc0964650a886e08'), ObjectId('6814875abc0964650a886e18'), ObjectId('6814875abc0964650a886df9'), ObjectId('6814875abc0964650a886e4a'), ObjectId('6814875abc0964650a886d8b'), ObjectId('6814875abc0964650a886d4b'), ObjectId('6814875abc0964650a886eb9'), ObjectId('6814875abc0964650a886ec3'), ObjectId('6814875abc0964650a886eb0'), ObjectId('6814875abc0964650a886e16'), ObjectId('6814875abc0964650a886d2a'), ObjectId('6814875abc0964650a886e64'), ObjectId('6814875abc0964650a886eaf'), ObjectId('6814875abc0964650a886d61'), ObjectId('6814875abc0964650a886d36'), ObjectId('6814875abc0964650a886d24'), ObjectId('6814875abc0964650a886ecc'), ObjectId('6814875abc0964650a886d92'), ObjectId('6814875abc0964650a886e5e'), ObjectId('6814875abc0964650a886dd8'), ObjectId('6814875abc0964650a886de7'), ObjectId('6814875abc0964650a886de9'), ObjectId('6814875abc0964650a886ee5'), ObjectId('6814875abc0964650a886edd'), ObjectId('6814875abc0964650a886d74'), ObjectId('6814875abc0964650a886d45'), ObjectId('6814875abc0964650a886e9e'), ObjectId('6814875abc0964650a886da8'), ObjectId('6814875abc0964650a886e38'), ObjectId('6814875abc0964650a886d34'), ObjectId('6814875abc0964650a886e41'), ObjectId('6814875abc0964650a886cfe'), ObjectId('6814875abc0964650a886ecb'), ObjectId('6814875abc0964650a886ecd'), ObjectId('6814875abc0964650a886d7a'), ObjectId('6814875abc0964650a886d5d'), ObjectId('6814875abc0964650a886d94'), ObjectId('6814875abc0964650a886cfc'), ObjectId('6814875abc0964650a886d00'), ObjectId('6814875abc0964650a886d8c'), ObjectId('6814875abc0964650a886da9'), ObjectId('6814875abc0964650a886df8'), ObjectId('6814875abc0964650a886ee1'), ObjectId('6814875abc0964650a886d60'), ObjectId('6814875abc0964650a886e27'), ObjectId('6814875abc0964650a886da2'), ObjectId('6814875abc0964650a886e7d'), ObjectId('6814875abc0964650a886d41'), ObjectId('6814875abc0964650a886d31'), ObjectId('6814875abc0964650a886e9a'), ObjectId('6814875abc0964650a886dcf'), ObjectId('6814875abc0964650a886e43'), ObjectId('6814875abc0964650a886d54'), ObjectId('6814875abc0964650a886d3b'), ObjectId('6814875abc0964650a886dfd'), ObjectId('6814875abc0964650a886edc'), ObjectId('6814875abc0964650a886d0c'), ObjectId('6814875abc0964650a886e3d'), ObjectId('6814875abc0964650a886d2d'), ObjectId('6814875abc0964650a886ed4'), ObjectId('6814875abc0964650a886d71'), ObjectId('6814875abc0964650a886d47'), ObjectId('6814875abc0964650a886cff'), ObjectId('6814875abc0964650a886e66'), ObjectId('6814875abc0964650a886d8e'), ObjectId('6814875abc0964650a886d85'), ObjectId('6814875abc0964650a886e82'), ObjectId('6814875abc0964650a886e7b'), ObjectId('6814875abc0964650a886e7e'), ObjectId('6814875abc0964650a886e33'), ObjectId('6814875abc0964650a886d77'), ObjectId('6814875abc0964650a886d1b'), ObjectId('6814875abc0964650a886d25'), ObjectId('6814875abc0964650a886d5e'), ObjectId('6814875abc0964650a886e71'), ObjectId('6814875abc0964650a886ea3'), ObjectId('6814875abc0964650a886e96'), ObjectId('6814875abc0964650a886eb2'), ObjectId('6814875abc0964650a886d20'), ObjectId('6814875abc0964650a886ec7'), ObjectId('6814875abc0964650a886e60'), ObjectId('6814875abc0964650a886dc4'), ObjectId('6814875abc0964650a886e29'), ObjectId('6814875abc0964650a886e05'), ObjectId('6814875abc0964650a886ed0'), ObjectId('6814875abc0964650a886ed8'), ObjectId('6814875abc0964650a886e5a'), ObjectId('6814875abc0964650a886e8c'), ObjectId('6814875abc0964650a886d1f'), ObjectId('6814875abc0964650a886e69'), ObjectId('6814875abc0964650a886dda'), ObjectId('6814875abc0964650a886e2a'), ObjectId('6814875abc0964650a886d03'), ObjectId('6814875abc0964650a886dd9'), ObjectId('6814875abc0964650a886dec'), ObjectId('6814875abc0964650a886ec6'), ObjectId('6814875abc0964650a886e83'), ObjectId('6814875abc0964650a886e10'), ObjectId('6814875abc0964650a886ea1'), ObjectId('6814875abc0964650a886e65'), ObjectId('6814875abc0964650a886e63'), ObjectId('6814875abc0964650a886e1c'), ObjectId('6814875abc0964650a886e40'), ObjectId('6814875abc0964650a886df0'), ObjectId('6814875abc0964650a886d2b'), ObjectId('6814875abc0964650a886e20'), ObjectId('6814875abc0964650a886ea6'), ObjectId('6814875abc0964650a886e3b'), ObjectId('6814875abc0964650a886deb'), ObjectId('6814875abc0964650a886e67'), ObjectId('6814875abc0964650a886d11'), ObjectId('6814875abc0964650a886ed5'), ObjectId('6814875abc0964650a886def'), ObjectId('6814875abc0964650a886d42'), ObjectId('6814875abc0964650a886e7a'), ObjectId('6814875abc0964650a886df6'), ObjectId('6814875abc0964650a886e54'), ObjectId('6814875abc0964650a886ee6'), ObjectId('6814875abc0964650a886dc6'), ObjectId('6814875abc0964650a886e1d'), ObjectId('6814875abc0964650a886e17'), ObjectId('6814875abc0964650a886dea'), ObjectId('6814875abc0964650a886dc7'), ObjectId('6814875abc0964650a886eab'), ObjectId('6814875abc0964650a886e55'), ObjectId('6814875abc0964650a886e04'), ObjectId('6814875abc0964650a886d58'), ObjectId('6814875abc0964650a886d4c'), ObjectId('6814875abc0964650a886df2'), ObjectId('6814875abc0964650a886ed7'), ObjectId('6814875abc0964650a886eba'), ObjectId('6814875abc0964650a886d70'), ObjectId('6814875abc0964650a886e03'), ObjectId('6814875abc0964650a886d93'), ObjectId('6814875abc0964650a886e8b'), ObjectId('6814875abc0964650a886d7d'), ObjectId('6814875abc0964650a886ee3'), ObjectId('6814875abc0964650a886db6'), ObjectId('6814875abc0964650a886ded'), ObjectId('6814875abc0964650a886dd5'), ObjectId('6814875abc0964650a886e9b'), ObjectId('6814875abc0964650a886d95'), ObjectId('6814875abc0964650a886cee'), ObjectId('6814875abc0964650a886e80'), ObjectId('6814875abc0964650a886d76'), ObjectId('6814875abc0964650a886cfa'), ObjectId('6814875abc0964650a886d9b'), ObjectId('6814875abc0964650a886d8f'), ObjectId('6814875abc0964650a886ece'), ObjectId('6814875abc0964650a886d90'), ObjectId('6814875abc0964650a886e39'), ObjectId('6814875abc0964650a886d5a'), ObjectId('6814875abc0964650a886eda'), ObjectId('6814875abc0964650a886df5'), ObjectId('6814875abc0964650a886d89'), ObjectId('6814875abc0964650a886d6f'), ObjectId('6814875abc0964650a886d1c'), ObjectId('6814875abc0964650a886d0b'), ObjectId('6814875abc0964650a886e35'), ObjectId('6814875abc0964650a886e72'), ObjectId('6814875abc0964650a886cfb'), ObjectId('6814875abc0964650a886e94'), ObjectId('6814875abc0964650a886e2e'), ObjectId('6814875abc0964650a886dc8'), ObjectId('6814875abc0964650a886da4'), ObjectId('6814875abc0964650a886e8a'), ObjectId('6814875abc0964650a886e2f'), ObjectId('6814875abc0964650a886ee7'), ObjectId('6814875abc0964650a886dfa'), ObjectId('6814875abc0964650a886dd1'), ObjectId('6814875abc0964650a886e3a'), ObjectId('6814875abc0964650a886dab'), ObjectId('6814875abc0964650a886d48'), ObjectId('6814875abc0964650a886d22'), ObjectId('6814875abc0964650a886d80'), ObjectId('6814875abc0964650a886d04'), ObjectId('6814875abc0964650a886d09'), ObjectId('6814875abc0964650a886db3'), ObjectId('6814875abc0964650a886d9a'), ObjectId('6814875abc0964650a886e25'), ObjectId('6814875abc0964650a886ddd'), ObjectId('6814875abc0964650a886d75'), ObjectId('6814875abc0964650a886e06'), ObjectId('6814875abc0964650a886dae'), ObjectId('6814875abc0964650a886ec2'), ObjectId('6814875abc0964650a886e49'), ObjectId('6814875abc0964650a886d5b'), ObjectId('6814875abc0964650a886d6b'), ObjectId('6814875abc0964650a886d62'), ObjectId('6814875abc0964650a886e01'), ObjectId('6814875abc0964650a886d6d'), ObjectId('6814875abc0964650a886e0d'), ObjectId('6814875abc0964650a886e58'), ObjectId('6814875abc0964650a886eb8'), ObjectId('6814875abc0964650a886e8e'), ObjectId('6814875abc0964650a886e22'), ObjectId('6814875abc0964650a886d6c'), ObjectId('6814875abc0964650a886de3'), ObjectId('6814875abc0964650a886d6a'), ObjectId('6814875abc0964650a886d5c'), ObjectId('6814875abc0964650a886dfb'), ObjectId('6814875abc0964650a886de0'), ObjectId('6814875abc0964650a886d17'), ObjectId('6814875abc0964650a886edb'), ObjectId('6814875abc0964650a886d51'), ObjectId('6814875abc0964650a886dd3'), ObjectId('6814875abc0964650a886eac'), ObjectId('6814875abc0964650a886d35'), ObjectId('6814875abc0964650a886d32'), ObjectId('6814875abc0964650a886ed3'), ObjectId('6814875abc0964650a886e56'), ObjectId('6814875abc0964650a886ea8'), ObjectId('6814875abc0964650a886cf9'), ObjectId('6814875abc0964650a886d08'), ObjectId('6814875abc0964650a886e28'), ObjectId('6814875abc0964650a886d10'), ObjectId('6814875abc0964650a886cf0'), ObjectId('6814875abc0964650a886d4a'), ObjectId('6814875abc0964650a886d28'), ObjectId('6814875abc0964650a886da1'), ObjectId('6814875abc0964650a886d99'), ObjectId('6814875abc0964650a886dbd'), ObjectId('6814875abc0964650a886cfd'), ObjectId('6814875abc0964650a886d4f'), ObjectId('6814875abc0964650a886d39'), ObjectId('6814875abc0964650a886dc2'), ObjectId('6814875abc0964650a886e6d'), ObjectId('6814875abc0964650a886dfc'), ObjectId('6814875abc0964650a886ea9'), ObjectId('6814875abc0964650a886dff'), ObjectId('6814875abc0964650a886ed1'), ObjectId('6814875abc0964650a886d12'), ObjectId('6814875abc0964650a886edf'), ObjectId('6814875abc0964650a886ed2'), ObjectId('6814875abc0964650a886e3e'), ObjectId('6814875abc0964650a886cf5'), ObjectId('6814875abc0964650a886ee0'), ObjectId('6814875abc0964650a886ed6'), ObjectId('6814875abc0964650a886e95'), ObjectId('6814875abc0964650a886dba'), ObjectId('6814875abc0964650a886de6'), ObjectId('6814875abc0964650a886d97'), ObjectId('6814875abc0964650a886da6'), ObjectId('6814875abc0964650a886d91'), ObjectId('6814875abc0964650a886e1a'), ObjectId('6814875abc0964650a886d27'), ObjectId('6814875abc0964650a886ebf'), ObjectId('6814875abc0964650a886ddb'), ObjectId('6814875abc0964650a886d1e'), ObjectId('6814875abc0964650a886ebd'), ObjectId('6814875abc0964650a886e0e'), ObjectId('6814875abc0964650a886dbf'), ObjectId('6814875abc0964650a886da0'), ObjectId('6814875abc0964650a886d43'), ObjectId('6814875abc0964650a886e2c'), ObjectId('6814875abc0964650a886eca'), ObjectId('6814875abc0964650a886ec9'), ObjectId('6814875abc0964650a886ced'), ObjectId('6814875abc0964650a886d84'), ObjectId('6814875abc0964650a886e59'), ObjectId('6814875abc0964650a886d15'), ObjectId('6814875abc0964650a886dee'), ObjectId('6814875abc0964650a886eb6'), ObjectId('6814875abc0964650a886ebe'), ObjectId('6814875abc0964650a886ead'), ObjectId('6814875abc0964650a886d0e'), ObjectId('6814875abc0964650a886dd6'), ObjectId('6814875abc0964650a886d83'), ObjectId('6814875abc0964650a886e37'), ObjectId('6814875abc0964650a886d06'), ObjectId('6814875abc0964650a886dcc'), ObjectId('6814875abc0964650a886d2c'), ObjectId('6814875abc0964650a886d30'), ObjectId('6814875abc0964650a886d16'), ObjectId('6814875abc0964650a886de4'), ObjectId('6814875abc0964650a886ed9'), ObjectId('6814875abc0964650a886df1'), ObjectId('6814875abc0964650a886db8'), ObjectId('6814875abc0964650a886dd4'), ObjectId('6814875abc0964650a886d86'), ObjectId('6814875abc0964650a886d19'), ObjectId('6814875abc0964650a886db0'), ObjectId('6814875abc0964650a886d38'), ObjectId('6814875abc0964650a886dbe'), ObjectId('6814875abc0964650a886ee9'), ObjectId('6814875abc0964650a886dbb'), ObjectId('6814875abc0964650a886e46'), ObjectId('6814875abc0964650a886e02'), ObjectId('6814875abc0964650a886cf2'), ObjectId('6814875abc0964650a886e1b'), ObjectId('6814875abc0964650a886da3'), ObjectId('6814875abc0964650a886d29'), ObjectId('6814875abc0964650a886d0d'), ObjectId('6814875abc0964650a886e8d'), ObjectId('6814875abc0964650a886d72'), ObjectId('6814875abc0964650a886cef'), ObjectId('6814875abc0964650a886d13'), ObjectId('6814875abc0964650a886e6a'), ObjectId('6814875abc0964650a886d57'), ObjectId('6814875abc0964650a886d02'), ObjectId('6814875abc0964650a886e12'), ObjectId('6814875abc0964650a886e7f'), ObjectId('6814875abc0964650a886d4e'), ObjectId('6814875abc0964650a886cf3'), ObjectId('6814875abc0964650a886d49'), ObjectId('6814875abc0964650a886d9f'), ObjectId('6814875abc0964650a886dd0'), ObjectId('6814875abc0964650a886dc0'), ObjectId('6814875abc0964650a886d46'), ObjectId('6814875abc0964650a886e6b'), ObjectId('6814875abc0964650a886dac'), ObjectId('6814875abc0964650a886e85'), ObjectId('6814875abc0964650a886e88'), ObjectId('6814875abc0964650a886d78'), ObjectId('6814875abc0964650a886d23'), ObjectId('6814875abc0964650a886ea0'), ObjectId('6814875abc0964650a886ddf'), ObjectId('6814875abc0964650a886e74'), ObjectId('6814875abc0964650a886e00'), ObjectId('6814875abc0964650a886d96'), ObjectId('6814875abc0964650a886e6f'), ObjectId('6814875abc0964650a886d3c')]}}\n"
     ]
    }
   ],
   "source": [
    "pipeline = [\n",
    "    {\n",
    "        \"$group\": {\n",
    "            \"_id\": \"$proj_id\",\n",
    "            \"first_occurrence\": {\"$first\": \"$_id\"},\n",
    "            \"count\": {\"$sum\": 1}\n",
    "        }\n",
    "    },\n",
    "    {\n",
    "        \"$match\": {\n",
    "            \"count\": {\"$gt\": 1}\n",
    "        }\n",
    "    }\n",
    "]\n",
    "\n",
    "# Get the list of duplicate pids and the _id of their first occurrence\n",
    "duplicates = list(collection.aggregate(pipeline))\n",
    "\n",
    "# Prepare a list of _ids to keep (the first occurrences)\n",
    "ids_to_keep = [item['first_occurrence'] for item in duplicates]\n",
    "\n",
    "# Prepare a query to identify documents to remove (those with duplicate pids\n",
    "# but not the first occurrence)\n",
    "query_to_remove = {\n",
    "    \"proj_id\": {\"$in\": [item['_id'] for item in duplicates]},\n",
    "    \"_id\": {\"$nin\": ids_to_keep}\n",
    "}\n",
    "\n",
    "print(query_to_remove)\n",
    "# Delete the duplicate documents\n",
    "#result = collection.delete_many(query_to_remove)\n",
    "\n",
    "#print(f\"Number of duplicate documents removed: {result.deleted_count}\")"
   ]
  },
  {
   "cell_type": "code",
   "execution_count": 7,
   "id": "943c2332-0d2b-49be-a8ac-5c1909b05cd1",
   "metadata": {},
   "outputs": [
    {
     "name": "stdout",
     "output_type": "stream",
     "text": [
      "Number of duplicate documents removed: 510\n"
     ]
    }
   ],
   "source": [
    "result = collection.delete_many(query_to_remove)\n",
    "\n",
    "print(f\"Number of duplicate documents removed: {result.deleted_count}\")"
   ]
  },
  {
   "cell_type": "code",
   "execution_count": 5,
   "id": "af571fb2-e71c-4acd-b3a2-85082e9fc055",
   "metadata": {},
   "outputs": [
    {
     "data": {
      "text/plain": [
       "510"
      ]
     },
     "execution_count": 5,
     "metadata": {},
     "output_type": "execute_result"
    }
   ],
   "source": [
    "cursor = collection.find()\n",
    "\n",
    "counter = 0\n",
    "for doc in cursor:\n",
    "    if counter % 10000 == 0:\n",
    "        print(f\"Processed {counter}\")\n",
    "\n",
    "    collection.update_many({\"proj_id\" : doc[\"proj_id\"]})"
   ]
  },
  {
   "cell_type": "code",
   "execution_count": 12,
   "id": "28f20246-40a4-47ed-9dac-1a70e4a7df9b",
   "metadata": {},
   "outputs": [
    {
     "name": "stdout",
     "output_type": "stream",
     "text": [
      "0.009541511535644531\n"
     ]
    }
   ],
   "source": [
    "start = time()\n",
    "collection.find_one({\"proj_id\" : \"github:bin123apple/AutoCoder\"})\n",
    "print(time() - start)"
   ]
  },
  {
   "cell_type": "code",
   "execution_count": 9,
   "id": "8e75e4e6-c72a-4f42-bd8e-8b27bf2418d0",
   "metadata": {},
   "outputs": [
    {
     "data": {
      "text/plain": [
       "0"
      ]
     },
     "execution_count": 9,
     "metadata": {},
     "output_type": "execute_result"
    }
   ],
   "source": [
    "len(simillar)"
   ]
  },
  {
   "cell_type": "code",
   "execution_count": 10,
   "id": "200bc43e-21b7-4c7d-a21a-1b3bab7f9b82",
   "metadata": {},
   "outputs": [
    {
     "data": {
      "text/plain": [
       "70339"
      ]
     },
     "execution_count": 10,
     "metadata": {},
     "output_type": "execute_result"
    }
   ],
   "source": [
    "ids.index(\"github:alaingalvan/CrossWindow-Graphics\")"
   ]
  },
  {
   "cell_type": "code",
   "execution_count": 5,
   "id": "abc3cbe9-38c0-4e28-814f-e30281ef93f5",
   "metadata": {},
   "outputs": [],
   "source": [
    "adapter = Factory_21_04_25_HIGH.createFlatCorpus()\n",
    "\n",
    "urls = []\n",
    "ids = []\n",
    "\n",
    "for doc in adapter:\n",
    "    ids.append(doc.tags[0])\n",
    "    urls.append(\"https://api.github.com/repos/\" + doc.tags[0])"
   ]
  },
  {
   "cell_type": "code",
   "execution_count": 4,
   "id": "8306b8ba-5c5e-43fe-be2b-5d61ee519779",
   "metadata": {},
   "outputs": [],
   "source": [
    "#/home/trukhinmaksim/src/data/cache_30-04-25/raw_readme_30-04-25"
   ]
  },
  {
   "cell_type": "code",
   "execution_count": 6,
   "id": "ce544f6d-69ec-491e-8df9-39bca88b176a",
   "metadata": {},
   "outputs": [
    {
     "data": {
      "text/plain": [
       "482555"
      ]
     },
     "execution_count": 6,
     "metadata": {},
     "output_type": "execute_result"
    }
   ],
   "source": [
    "len(ids)"
   ]
  },
  {
   "cell_type": "code",
   "execution_count": 7,
   "id": "ce60d89a-ef66-4fc6-9e23-cdd55c90bab8",
   "metadata": {},
   "outputs": [],
   "source": [
    "#with open(\"/home/trukhinmaksim/src/data/cache_30-04-25/urls.json\", \"w\", encoding = \"utf-8\") as file:\n",
    "#    json.dump(urls, fp = file, ensure_ascii = False, indent = 4)\n",
    "\n",
    "with open(\"/home/trukhinmaksim/src/data/cache_30-04-25/ids.json\", \"w\", encoding = \"utf-8\") as file:\n",
    "    json.dump(ids, fp = file, ensure_ascii = False, indent = 4)"
   ]
  },
  {
   "cell_type": "code",
   "execution_count": null,
   "id": "749b8d5c-72ad-43be-8aa2-b64f94631fac",
   "metadata": {},
   "outputs": [],
   "source": []
  }
 ],
 "metadata": {
  "kernelspec": {
   "display_name": "Python 3 (ipykernel)",
   "language": "python",
   "name": "python3"
  },
  "language_info": {
   "codemirror_mode": {
    "name": "ipython",
    "version": 3
   },
   "file_extension": ".py",
   "mimetype": "text/x-python",
   "name": "python",
   "nbconvert_exporter": "python",
   "pygments_lexer": "ipython3",
   "version": "3.11.11"
  }
 },
 "nbformat": 4,
 "nbformat_minor": 5
}
