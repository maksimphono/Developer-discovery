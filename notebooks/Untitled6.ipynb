{
 "cells": [
  {
   "cell_type": "code",
   "execution_count": 1,
   "id": "8e87a5c6-13c1-49f1-b321-623579fdb0b9",
   "metadata": {},
   "outputs": [],
   "source": [
    "import sys\n",
    "sys.path.append('/home/trukhinmaksim/src')\n",
    "import json\n",
    "from time import time\n",
    "from collections import defaultdict\n",
    "from numpy import array"
   ]
  },
  {
   "cell_type": "code",
   "execution_count": 2,
   "id": "ff7914c1-bf99-4bea-9f70-93472861364a",
   "metadata": {},
   "outputs": [],
   "source": [
    "from src.utils.CacheAdapter import EXP_END_OF_DATA, FlatAdapter, DBFlatAdapter\n",
    "from src.utils.Corpus import FlatCorpus, Factory_21_04_25_HIGH\n",
    "from src.utils.DatabaseConnect import CacheConnector\n",
    "from src.utils.DatasetManager import DatasetManager"
   ]
  },
  {
   "cell_type": "code",
   "execution_count": 6,
   "id": "5efef6cb-9cf8-4fcc-ad01-eb84bc50a071",
   "metadata": {},
   "outputs": [
    {
     "name": "stdout",
     "output_type": "stream",
     "text": [
      "330550\n"
     ]
    }
   ],
   "source": [
    "readmeAdapter = FlatAdapter(\"/home/trukhinmaksim/src/data/cache_30-04-25/raw_readme_30-04-25\")\n",
    "\n",
    "collection = CacheConnector(\"mongodb://10.22.48.31:27020/\").collection(\"raw_readme_30-04-25\")\n",
    "dbAdapter = DBFlatAdapter(collection)\n",
    "\n",
    "class MyOut(DBFlatAdapter):\n",
    "    def save(self, items):\n",
    "        self.cacheCollection.insert_many(items)\n",
    "        return items\n",
    "\n",
    "c = 0\n",
    "def inc(doc):\n",
    "    global c\n",
    "    c += 1\n",
    "\n",
    "manager = DatasetManager(\n",
    "    100,\n",
    "    readmeAdapter, \n",
    "    outputAdapters = [],\n",
    "    mapper = inc\n",
    ")\n",
    "#manager.mapper = mapper\n",
    "#manager.blackList = BlackList()\n",
    "while True:\n",
    "    try:\n",
    "        manager()\n",
    "    except EXP_END_OF_DATA:\n",
    "        break\n",
    "\n",
    "#for i in range(len(ids)):\n",
    "#    ids[i] = ids[i].replace(\"github:\", \"\")\n",
    "print(c)"
   ]
  },
  {
   "cell_type": "code",
   "execution_count": 10,
   "id": "200bc43e-21b7-4c7d-a21a-1b3bab7f9b82",
   "metadata": {},
   "outputs": [
    {
     "data": {
      "text/plain": [
       "70339"
      ]
     },
     "execution_count": 10,
     "metadata": {},
     "output_type": "execute_result"
    }
   ],
   "source": [
    "ids.index(\"github:alaingalvan/CrossWindow-Graphics\")"
   ]
  },
  {
   "cell_type": "code",
   "execution_count": 5,
   "id": "abc3cbe9-38c0-4e28-814f-e30281ef93f5",
   "metadata": {},
   "outputs": [],
   "source": [
    "adapter = Factory_21_04_25_HIGH.createFlatCorpus()\n",
    "\n",
    "urls = []\n",
    "ids = []\n",
    "\n",
    "for doc in adapter:\n",
    "    ids.append(doc.tags[0])\n",
    "    urls.append(\"https://api.github.com/repos/\" + doc.tags[0])"
   ]
  },
  {
   "cell_type": "code",
   "execution_count": 4,
   "id": "8306b8ba-5c5e-43fe-be2b-5d61ee519779",
   "metadata": {},
   "outputs": [],
   "source": [
    "#/home/trukhinmaksim/src/data/cache_30-04-25/raw_readme_30-04-25"
   ]
  },
  {
   "cell_type": "code",
   "execution_count": 6,
   "id": "ce544f6d-69ec-491e-8df9-39bca88b176a",
   "metadata": {},
   "outputs": [
    {
     "data": {
      "text/plain": [
       "482555"
      ]
     },
     "execution_count": 6,
     "metadata": {},
     "output_type": "execute_result"
    }
   ],
   "source": [
    "len(ids)"
   ]
  },
  {
   "cell_type": "code",
   "execution_count": 7,
   "id": "ce60d89a-ef66-4fc6-9e23-cdd55c90bab8",
   "metadata": {},
   "outputs": [],
   "source": [
    "#with open(\"/home/trukhinmaksim/src/data/cache_30-04-25/urls.json\", \"w\", encoding = \"utf-8\") as file:\n",
    "#    json.dump(urls, fp = file, ensure_ascii = False, indent = 4)\n",
    "\n",
    "with open(\"/home/trukhinmaksim/src/data/cache_30-04-25/ids.json\", \"w\", encoding = \"utf-8\") as file:\n",
    "    json.dump(ids, fp = file, ensure_ascii = False, indent = 4)"
   ]
  },
  {
   "cell_type": "code",
   "execution_count": null,
   "id": "749b8d5c-72ad-43be-8aa2-b64f94631fac",
   "metadata": {},
   "outputs": [],
   "source": []
  }
 ],
 "metadata": {
  "kernelspec": {
   "display_name": "Python 3 (ipykernel)",
   "language": "python",
   "name": "python3"
  },
  "language_info": {
   "codemirror_mode": {
    "name": "ipython",
    "version": 3
   },
   "file_extension": ".py",
   "mimetype": "text/x-python",
   "name": "python",
   "nbconvert_exporter": "python",
   "pygments_lexer": "ipython3",
   "version": "3.11.11"
  }
 },
 "nbformat": 4,
 "nbformat_minor": 5
}
