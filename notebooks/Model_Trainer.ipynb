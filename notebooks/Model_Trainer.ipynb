{
 "cells": [
  {
   "cell_type": "code",
   "execution_count": 1,
   "id": "455cc887-8373-451d-8c96-a66b7530486c",
   "metadata": {},
   "outputs": [],
   "source": [
    "import sys\n",
    "sys.path.append('/home/trukhinmaksim/src')"
   ]
  },
  {
   "cell_type": "code",
   "execution_count": 2,
   "id": "ac85e37c-719b-47b1-ad1d-d30439b5de37",
   "metadata": {},
   "outputs": [],
   "source": [
    "import numpy as np"
   ]
  },
  {
   "cell_type": "code",
   "execution_count": 3,
   "id": "bbb769a8-0ff3-4600-a09e-c7000d01df34",
   "metadata": {},
   "outputs": [
    {
     "name": "stdout",
     "output_type": "stream",
     "text": [
      "Collection(Database(MongoClient(host=['10.22.112.39:27020'], document_class=dict, tz_aware=False, connect=True), 'mini_database'), 'projects')\n"
     ]
    }
   ],
   "source": [
    "from src.utils.DatabaseConnect import DatabaseConnect\n",
    "\n",
    "# single machine setup (mongo is running here localy)\n",
    "# \"ip a\" for ip address\n",
    "MY_DATABASE_LINK = 'mongodb://10.22.112.39:27020/' #'mongodb://192.168.100.57:27020/'\n",
    "# multiple mechine setup (mongo is running on another machine)\n",
    "#MY_DATABASE_LINK = 'mongodb://192.168.43.78:27020/'\n",
    "\n",
    "DatabaseConnect.DB_LINK = MY_DATABASE_LINK\n",
    "\n",
    "projectsCollection = DatabaseConnect.mini_database.projects()\n",
    "usersCollection = DatabaseConnect.mini_database.users()\n",
    "print(projectsCollection)"
   ]
  },
  {
   "cell_type": "code",
   "execution_count": 4,
   "id": "6b374dd4-9b71-43d2-8770-d21b16bcc9d1",
   "metadata": {},
   "outputs": [],
   "source": [
    "from src.utils.CacheAdapter import JSONAdapter, EXP_END_OF_DATA\n",
    "from src.utils.DatasetManager import ProjectsDatasetManager"
   ]
  },
  {
   "cell_type": "code",
   "execution_count": 5,
   "id": "5efae60e-04ba-4278-816a-35a98e781082",
   "metadata": {},
   "outputs": [],
   "source": [
    "def flatternData(data : dict[str, list]) -> np.array(dict):\n",
    "    # takes in data in form of dict, where each key is a user id and each value is a list of that user's projects\n",
    "    # returns just flat list of these projects \n",
    "    result = []\n",
    "\n",
    "    for projectsArray in data.values():\n",
    "        for project in projectsArray:\n",
    "            result.append(project)\n",
    "\n",
    "    return result"
   ]
  },
  {
   "cell_type": "code",
   "execution_count": 6,
   "id": "5d772a3f-d6ad-4994-9f41-372b526e3f59",
   "metadata": {},
   "outputs": [],
   "source": [
    "adapter = JSONAdapter()\n",
    "manager = ProjectsDatasetManager(20, cacheAdapter = adapter)"
   ]
  },
  {
   "cell_type": "code",
   "execution_count": 19,
   "id": "39bb961c-3354-44d7-b365-b364502962bd",
   "metadata": {},
   "outputs": [],
   "source": [
    "# using adapter to load data from the cache files\n",
    "\n",
    "def getDataFromCache(batchSize = 32):\n",
    "    cacheFileName = \"cache__28-03-2025__(sufficient)_{0}.json\"\n",
    "    tempStorage = []    \n",
    "\n",
    "    i = 0\n",
    "    while True:\n",
    "        try:\n",
    "            while len(tempStorage) >= batchSize:\n",
    "                yield tempStorage[:batchSize]\n",
    "                tempStorage = tempStorage[batchSize:]\n",
    "\n",
    "            manager.cacheAdapter.collectionName = cacheFileName.format(i)\n",
    "            data = flatternData(manager.fromCache())\n",
    "            tempStorage.extend(data)\n",
    "\n",
    "            i += 1\n",
    "\n",
    "        except EXP_END_OF_DATA:\n",
    "            break\n",
    "\n",
    "    yield tempStorage"
   ]
  },
  {
   "cell_type": "code",
   "execution_count": 20,
   "id": "bb02703b-a50b-44f5-9845-a3e5a7b451fe",
   "metadata": {},
   "outputs": [
    {
     "name": "stdout",
     "output_type": "stream",
     "text": [
      "cache__28-03-2025__(sufficient)_0.json\n"
     ]
    }
   ],
   "source": [
    "g = getDataFromCache(batchSize = 2)\n",
    "lst = []\n",
    "for i in range(4):\n",
    "    a = next(g)\n",
    "    lst.append(a)"
   ]
  },
  {
   "cell_type": "code",
   "execution_count": 21,
   "id": "237ebd7a-4080-4fbf-b2b3-77a0aea71b59",
   "metadata": {},
   "outputs": [
    {
     "data": {
      "text/plain": [
       "[[{'tokens': ['awesome',\n",
       "    'code',\n",
       "    'streamer',\n",
       "    'list',\n",
       "    'code',\n",
       "    'streamer',\n",
       "    'multiple',\n",
       "    'plataforms',\n",
       "    'like',\n",
       "    'twitch',\n",
       "    'youtube'],\n",
       "   'tags': ['github:lucasfloriani/awesome-code-streamers',\n",
       "    'awesome-code-streamers',\n",
       "    '',\n",
       "    'awesome',\n",
       "    'awesome-list',\n",
       "    'lists',\n",
       "    'resources']},\n",
       "  {'tokens': ['smart',\n",
       "    'home',\n",
       "    'mqtt',\n",
       "    'experimental',\n",
       "    'wip',\n",
       "    'bridge',\n",
       "    'google',\n",
       "    'smart',\n",
       "    'home',\n",
       "    'mqtt'],\n",
       "   'tags': ['github:alvarowolfx/smart-home-mqtt',\n",
       "    'smart-home-mqtt',\n",
       "    'JavaScript']}],\n",
       " [{'tokens': ['typeorm',\n",
       "    'seeding',\n",
       "    'delightful',\n",
       "    'way',\n",
       "    'seed',\n",
       "    'test',\n",
       "    'data',\n",
       "    'database'],\n",
       "   'tags': ['github:betiol/typeorm-seeding', 'typeorm-seeding', 'TypeScript']},\n",
       "  {'tokens': ['express',\n",
       "    'response',\n",
       "    'formatter',\n",
       "    'sparkle',\n",
       "    'better',\n",
       "    'way',\n",
       "    'format',\n",
       "    'express',\n",
       "    'response'],\n",
       "   'tags': ['github:betiol/express-response-formatter',\n",
       "    'express-response-formatter',\n",
       "    'TypeScript']}],\n",
       " [{'tokens': ['desafio', 'rn', 'desafio', 'react', 'native'],\n",
       "   'tags': ['github:betiol/desafio-rn', 'desafio-rn', 'TypeScript']},\n",
       "  {'tokens': ['command',\n",
       "    'line',\n",
       "    'go',\n",
       "    'ip',\n",
       "    'server',\n",
       "    'return',\n",
       "    'server',\n",
       "    'name',\n",
       "    'ip',\n",
       "    'specific',\n",
       "    'server'],\n",
       "   'tags': ['github:betiol/command-line-go-ip-servers',\n",
       "    'command-line-go-ip-servers',\n",
       "    'Go']}],\n",
       " [{'tokens': ['smart',\n",
       "    'home',\n",
       "    'mqtt',\n",
       "    'experimental',\n",
       "    'wip',\n",
       "    'bridge',\n",
       "    'google',\n",
       "    'smart',\n",
       "    'home',\n",
       "    'mqtt'],\n",
       "   'tags': ['github:betiol/smart-home-mqtt', 'smart-home-mqtt', 'JavaScript']},\n",
       "  {'tokens': ['rbi',\n",
       "    'safe',\n",
       "    'guizhou',\n",
       "    'academy',\n",
       "    'labor',\n",
       "    'science',\n",
       "    'safety',\n",
       "    'standardization',\n",
       "    'supervision',\n",
       "    'system',\n",
       "    'based',\n",
       "    'angular'],\n",
       "   'tags': ['github:DestinyJun/rbi-safe', 'rbi-safe', 'TypeScript']}]]"
      ]
     },
     "execution_count": 21,
     "metadata": {},
     "output_type": "execute_result"
    }
   ],
   "source": [
    "lst\n",
    "#with open(\"/home/trukhinmaksim/src/data/cache/cache__28-03-2025__(sufficient)_20.json\", encoding = \"utf-8\") as file:\n",
    "#    print(file.readline()[:10])"
   ]
  },
  {
   "cell_type": "code",
   "execution_count": null,
   "id": "82a60326-ef2e-46e5-b3bc-15f192b58925",
   "metadata": {},
   "outputs": [],
   "source": []
  }
 ],
 "metadata": {
  "kernelspec": {
   "display_name": "Python 3 (ipykernel)",
   "language": "python",
   "name": "python3"
  },
  "language_info": {
   "codemirror_mode": {
    "name": "ipython",
    "version": 3
   },
   "file_extension": ".py",
   "mimetype": "text/x-python",
   "name": "python",
   "nbconvert_exporter": "python",
   "pygments_lexer": "ipython3",
   "version": "3.11.11"
  }
 },
 "nbformat": 4,
 "nbformat_minor": 5
}
