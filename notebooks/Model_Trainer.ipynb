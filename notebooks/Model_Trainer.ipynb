{
 "cells": [
  {
   "cell_type": "code",
   "execution_count": 1,
   "id": "455cc887-8373-451d-8c96-a66b7530486c",
   "metadata": {},
   "outputs": [],
   "source": [
    "import sys\n",
    "sys.path.append('/home/trukhinmaksim/src')"
   ]
  },
  {
   "cell_type": "code",
   "execution_count": 2,
   "id": "ac85e37c-719b-47b1-ad1d-d30439b5de37",
   "metadata": {},
   "outputs": [],
   "source": [
    "import numpy as np\n",
    "from time import time\n",
    "from random import sample, seed as randomSeed\n",
    "from collections import defaultdict\n",
    "from numpy import mean"
   ]
  },
  {
   "cell_type": "code",
   "execution_count": 3,
   "id": "bbb769a8-0ff3-4600-a09e-c7000d01df34",
   "metadata": {},
   "outputs": [
    {
     "name": "stdout",
     "output_type": "stream",
     "text": [
      "Collection(Database(MongoClient(host=['172.26.234.237:27020'], document_class=dict, tz_aware=False, connect=True), 'mini_database'), 'projects')\n"
     ]
    }
   ],
   "source": [
    "from src.utils.DatabaseConnect import DatabaseConnect\n",
    "\n",
    "# single machine setup (mongo is running here localy)\n",
    "# \"ip a\" for ip address\n",
    "MY_DATABASE_LINK = 'mongodb://172.26.234.237:27020/' #'mongodb://192.168.100.57:27020/'\n",
    "# multiple mechine setup (mongo is running on another machine)\n",
    "#MY_DATABASE_LINK = 'mongodb://192.168.43.78:27020/'\n",
    "\n",
    "DatabaseConnect.DB_LINK = MY_DATABASE_LINK\n",
    "\n",
    "projectsCollection = DatabaseConnect.mini_database.projects()\n",
    "usersCollection = DatabaseConnect.mini_database.users()\n",
    "print(projectsCollection)"
   ]
  },
  {
   "cell_type": "code",
   "execution_count": 4,
   "id": "6b374dd4-9b71-43d2-8770-d21b16bcc9d1",
   "metadata": {},
   "outputs": [],
   "source": [
    "from src.utils.CacheAdapter import JSONAdapter, JSONMultiFileAdapter, EXP_END_OF_DATA\n",
    "from src.utils.DatasetManager import ProjectsDatasetManager\n",
    "from src.utils.validators import projectDataIsSufficient"
   ]
  },
  {
   "cell_type": "code",
   "execution_count": 5,
   "id": "5d2375ea-9300-497e-882a-ce5ca7010e76",
   "metadata": {},
   "outputs": [],
   "source": [
    "def feedTextData(manager, batchSize = 1):\n",
    "    # feeds text data by batches\n",
    "    tempStorage = []\n",
    "\n",
    "    i = 0\n",
    "    while True:\n",
    "        try:\n",
    "            while len(tempStorage) >= batchSize:\n",
    "                if batchSize > 1:\n",
    "                    yield tempStorage[:batchSize]\n",
    "                else:\n",
    "                    yield tempStorage[:batchSize][0] # if I'm requesting only one item per time (training one by one) -> just yield it\n",
    "                tempStorage = tempStorage[batchSize:]\n",
    "\n",
    "            manager.fromDB()\n",
    "            data = flatternData(manager.getTextOnly())\n",
    "            tempStorage.extend(data)\n",
    "\n",
    "            i += 1\n",
    "\n",
    "        except EXP_END_OF_DATA:\n",
    "            break\n",
    "\n",
    "    yield tempStorage\n"
   ]
  },
  {
   "cell_type": "code",
   "execution_count": 6,
   "id": "5efae60e-04ba-4278-816a-35a98e781082",
   "metadata": {},
   "outputs": [],
   "source": [
    "def flatternData(data : dict[str, list]) -> np.array(dict):\n",
    "    # takes in data in form of dict, where each key is a user id and each value is a list of that user's projects\n",
    "    # returns just flat list of these projects \n",
    "    result = []\n",
    "\n",
    "    for projectsArray in data.values():\n",
    "        for project in projectsArray:\n",
    "            result.append(project)\n",
    "\n",
    "    return result"
   ]
  },
  {
   "cell_type": "code",
   "execution_count": 7,
   "id": "58adadd7-d7f4-427c-a97d-8720bbaf1bc9",
   "metadata": {},
   "outputs": [],
   "source": [
    "import gensim\n",
    "from gensim.models.doc2vec import TaggedDocument"
   ]
  },
  {
   "cell_type": "code",
   "execution_count": 8,
   "id": "3b772eb3-0407-4b1a-84ea-66c9710f9e27",
   "metadata": {},
   "outputs": [],
   "source": [
    "CACHE_FILE_NAME = \"cache__02-04-2025__(good)_{0}.json\""
   ]
  },
  {
   "cell_type": "code",
   "execution_count": 9,
   "id": "39bb961c-3354-44d7-b365-b364502962bd",
   "metadata": {},
   "outputs": [],
   "source": [
    "# using adapter to load data from the cache files\n",
    "\n",
    "# TODO: place implementation of the 'Corpus' class into a separate file\n",
    "class Corpus:\n",
    "    # base class for every data corpus, that will be used by model\n",
    "    def __init__(self):\n",
    "        pass\n",
    "    def __iter__(self):\n",
    "        pass\n",
    "    def __getitem__(self, index : int):\n",
    "        pass\n",
    "\n",
    "class CacheCorpus(Corpus):\n",
    "    def __init__(self, manager, cacheFileNameTemplate = CACHE_FILE_NAME, limit = float(\"inf\")):\n",
    "        self.cacheFileNameTemplate = cacheFileNameTemplate\n",
    "        self.manager = manager # manager is needed not only for interaction with adapter, but also if I want to use unpreprocessed dataset and preprocess it on the way\n",
    "        self.limit = limit\n",
    "\n",
    "    #def __iter__(self):\n",
    "    #    return self\n",
    "\n",
    "    def __iter__(self):\n",
    "        # will feed preprocessed projects data as TaggedDocument instances one by one\n",
    "        cacheFileName = self.cacheFileNameTemplate\n",
    "        tempStorage = [] # temporary storage for data, that was read from files\n",
    "\n",
    "        i = 0\n",
    "        while True:\n",
    "            try:\n",
    "                while len(tempStorage) >= 1:\n",
    "                    doc = tempStorage[0]\n",
    "                    yield TaggedDocument(words = doc[\"tokens\"], tags = doc[\"tags\"])\n",
    "                    i += 1\n",
    "                    if i >= self.limit:\n",
    "                        raise EXP_END_OF_DATA\n",
    "\n",
    "                    tempStorage = tempStorage[1:]\n",
    "\n",
    "                #self.manager.cacheAdapter.collectionName = cacheFileName.format(i)\n",
    "                data = flatternData(self.manager.fromCache())\n",
    "                tempStorage.extend(data)\n",
    "\n",
    "            except EXP_END_OF_DATA:\n",
    "            # no data left\n",
    "                break\n",
    "\n",
    "        print(\"EOI\")\n",
    "        i = 0\n",
    "        tempStorage.clear()\n",
    "        self.manager.cacheAdapter.reset()"
   ]
  },
  {
   "cell_type": "code",
   "execution_count": 10,
   "id": "4f5f4d69-6c5e-432d-91fc-d1573f105b38",
   "metadata": {},
   "outputs": [],
   "source": [
    "class EXP_FEEDER_IS_NONE(Exception):\n",
    "    def __init__(self):\n",
    "        super().__init__(\"'Model.corpus' object must be an iterable structure, inherited from 'Corpus' class!\")\n",
    "\n",
    "class EXP_MANAGER_IS_NONE(Exception):\n",
    "    def __init__(self):\n",
    "        super().__init__(\"'Model.manager' object must be a DatasetManager instance!\")\n",
    "\n",
    "\n",
    "class Model(gensim.models.doc2vec.Doc2Vec):\n",
    "    @staticmethod\n",
    "    def create(**kwargs):\n",
    "        model = Model(\n",
    "            dm_dbow_mode = \"DM\", \n",
    "            pretrain_w2v = False,\n",
    "            **kwargs\n",
    "        )\n",
    "        model.corpus = CacheCorpus(manager)\n",
    "\n",
    "        return model\n",
    "    \n",
    "    def __init__(self, dm_dbow_mode = \"DM\", pretrain_w2v = False, alpha_init = 0.05, alpha_final = 0.001, *args, **kwargs):\n",
    "        super().__init__(*args, **kwargs)\n",
    "        self.corpus = None # corpus is an iterator(iterable class object), that will be used in \"train\" method of Doc2Vec model for data extraction\n",
    "        self.alphaInit = alpha_init\n",
    "        self.alphaFinal = alpha_final\n",
    "        self.dmDbowMode = dm_dbow_mode\n",
    "        self.pretrainW2V = pretrain_w2v\n",
    "    \n",
    "    def train(self):\n",
    "        # will build vocabulary and train the model on corpus (corpus will be fed by corpus)\n",
    "        import logging\n",
    "        logging.basicConfig(format='%(asctime)s : %(levelname)s : %(message)s', level=logging.INFO)\n",
    "        \n",
    "        if not isinstance(self.corpus, Corpus): raise EXP_FEEDER_IS_NONE\n",
    "\n",
    "        start = time()\n",
    "        self.build_vocab(self.corpus)\n",
    "        print(f\"Vocabulary built in {time() - start} s\")\n",
    "\n",
    "        if self.dmDbowMode != \"DM+DBOW\":\n",
    "            start = time()\n",
    "            super().train(\n",
    "                self.corpus, \n",
    "                total_examples = self.corpus_count, \n",
    "                epochs = self.epochs,\n",
    "                start_alpha = self.alphaInit,\n",
    "                end_alpha = self.alphaFinal\n",
    "            )\n",
    "            print(f\"Training is completed in {time() - start} s\")\n",
    "        else:\n",
    "            # combine DM and DBOW\n",
    "            pass\n",
    "\n",
    "    def assess(self, sampleNum = 5, silent = False, resetSeed = False, format = \"full\"):\n",
    "        # simple test of model performance\n",
    "        # take multiple documents from the training corpus and tries to find simillar in the dataset\n",
    "        # format = \"full\" | \"means list\"\n",
    "\n",
    "        log = lambda s: print(s) if not silent else None\n",
    "        #performanceGrageScale = {50 : \"Random\", 60 : \"Poor\", 70 : \"Bad\", 80 : \"Medium\", 92 : \"Optimal\", 97 : \"Perfect\"}\n",
    "        totalDocuments = self.corpus_count\n",
    "        if resetSeed: randomSeed(42)\n",
    "        indexes = sample(range(totalDocuments), sampleNum)\n",
    "        print(indexes)\n",
    "        if format == \"full\":\n",
    "            stats = {}\n",
    "\n",
    "        i = 0\n",
    "        docs = []\n",
    "        avgPerformances = []\n",
    "\n",
    "        for doc in self.corpus:\n",
    "            if i >= totalDocuments: break\n",
    "            if i in indexes:\n",
    "                vector = self.infer_vector(doc.words)\n",
    "                sims = defaultdict(lambda: 0, self.dv.most_similar([vector], topn = totalDocuments))\n",
    "\n",
    "                log(f\"Assessing document {i} ({doc.tags}). Similarities by tags:\")\n",
    "                if format == \"full\":\n",
    "                    stats[i] = {\n",
    "                        \"similarities by tags\" : {},\n",
    "                        \"average\" : 0\n",
    "                    }\n",
    "\n",
    "                for tag in doc.tags:\n",
    "                    if format == \"full\":\n",
    "                        stats[i][\"similarities by tags\"][tag] = sims[tag]\n",
    "                    log(f\"  {tag} : {sims[tag]}\")\n",
    "\n",
    "                avgPerformances.append(mean([sims[tag] for tag in doc.tags]))\n",
    "                log(f\"\\n  Average similarity value: {avgPerformances[-1]}\\n\")\n",
    "                if format == \"full\":\n",
    "                    stats[i][\"average\"] = avgPerformances[-1]\n",
    "            i += 1\n",
    "\n",
    "        if format == \"full\":\n",
    "            stats[\"Average accuracy\"] = mean(avgPerformances)\n",
    "            log(f\"Average accuracy: {stats['Average accuracy']}\")\n",
    "\n",
    "            return stats\n",
    "        else:\n",
    "            return mean(avgPerformances)\n",
    "\n",
    "    def evaluate(self):\n",
    "        # will train the model on upon-selected set of parameters and test it's performance\n",
    "        # TODO: complete this method to evaluate the model\n",
    "        #self.corpus = CacheCorpus(manager, limit = 100)\n",
    "        result = self.assess(6, silent = True, resetSeed = True, format = \"mean\")\n",
    "\n",
    "        return result\n"
   ]
  },
  {
   "cell_type": "code",
   "execution_count": 11,
   "id": "584ed1f5-c3a9-4aa4-8368-22fec165fdec",
   "metadata": {},
   "outputs": [],
   "source": [
    "adapter = JSONMultiFileAdapter(CACHE_FILE_NAME)\n",
    "#ProjectsDatasetManager.usersCollection = usersCollection\n",
    "#ProjectsDatasetManager.projectsCollection = projectsCollection\n",
    "manager = ProjectsDatasetManager(50, cacheAdapter = adapter)"
   ]
  },
  {
   "cell_type": "code",
   "execution_count": 12,
   "id": "3283623f-88f9-4dde-b76a-4a5f3c2b8f98",
   "metadata": {},
   "outputs": [],
   "source": [
    "corpus = CacheCorpus(manager, limit = 5)"
   ]
  },
  {
   "cell_type": "code",
   "execution_count": 13,
   "id": "efb8eaf4-06cd-4ab1-a0c2-705cdb94d883",
   "metadata": {},
   "outputs": [
    {
     "name": "stdout",
     "output_type": "stream",
     "text": [
      "EOI\n",
      "5\n"
     ]
    }
   ],
   "source": [
    "i = 0\n",
    "for doc in corpus:\n",
    "    i += 1\n",
    "print(i)"
   ]
  },
  {
   "cell_type": "code",
   "execution_count": 14,
   "id": "c54ebeff-53b3-4437-92a9-78ede1a03b41",
   "metadata": {},
   "outputs": [],
   "source": [
    "from skopt.space import Real, Integer\n",
    "from src.utils.AutoTuner import AutoTuner, Param"
   ]
  },
  {
   "cell_type": "code",
   "execution_count": 15,
   "id": "e9150ae5-5a1a-4edb-be81-93c16fa102be",
   "metadata": {
    "scrolled": true
   },
   "outputs": [
    {
     "name": "stderr",
     "output_type": "stream",
     "text": [
      "2025-04-09 13:58:18,590 : INFO : collecting all words and their counts\n",
      "2025-04-09 13:58:18,598 : INFO : PROGRESS: at example #0, processed 0 words (0 words/s), 0 word types, 0 tags\n",
      "2025-04-09 13:58:18,599 : WARNING : More unique tags (360) than documents (50).\n",
      "2025-04-09 13:58:18,602 : INFO : collected 307 word types and 360 unique tags from a corpus of 50 examples and 448 words\n",
      "2025-04-09 13:58:18,604 : INFO : Creating a fresh vocabulary\n",
      "2025-04-09 13:58:18,605 : INFO : Model lifecycle event {'msg': 'effective_min_count=5 retains 6 unique words (1.95% of original 307, drops 301)', 'datetime': '2025-04-09T13:58:18.605242', 'gensim': '4.3.3', 'python': '3.11.11 (main, Jan 14 2025, 05:22:51) [GCC 12.2.0]', 'platform': 'Linux-6.13.8-200.fc41.x86_64-x86_64-with-glibc2.36', 'event': 'prepare_vocab'}\n",
      "2025-04-09 13:58:18,606 : INFO : Model lifecycle event {'msg': 'effective_min_count=5 leaves 45 word corpus (10.04% of original 448, drops 403)', 'datetime': '2025-04-09T13:58:18.606356', 'gensim': '4.3.3', 'python': '3.11.11 (main, Jan 14 2025, 05:22:51) [GCC 12.2.0]', 'platform': 'Linux-6.13.8-200.fc41.x86_64-x86_64-with-glibc2.36', 'event': 'prepare_vocab'}\n",
      "2025-04-09 13:58:18,608 : INFO : deleting the raw counts dictionary of 307 items\n",
      "2025-04-09 13:58:18,609 : INFO : sample=1e-05 downsamples 6 most-common words\n",
      "2025-04-09 13:58:18,610 : INFO : Model lifecycle event {'msg': 'downsampling leaves estimated 0.3469555642383112 word corpus (0.8%% of prior 45)', 'datetime': '2025-04-09T13:58:18.610564', 'gensim': '4.3.3', 'python': '3.11.11 (main, Jan 14 2025, 05:22:51) [GCC 12.2.0]', 'platform': 'Linux-6.13.8-200.fc41.x86_64-x86_64-with-glibc2.36', 'event': 'prepare_vocab'}\n",
      "2025-04-09 13:58:18,612 : INFO : estimated required memory for 6 words and 7 dimensions: 85416 bytes\n",
      "2025-04-09 13:58:18,613 : INFO : resetting layer weights\n",
      "2025-04-09 13:58:18,614 : WARNING : Effective 'alpha' higher than previous training cycles\n",
      "2025-04-09 13:58:18,615 : INFO : Model lifecycle event {'msg': 'training model with 3 workers on 6 vocabulary and 7 features, using sg=0 hs=0 sample=1e-05 negative=6 window=7 shrink_windows=True', 'datetime': '2025-04-09T13:58:18.615324', 'gensim': '4.3.3', 'python': '3.11.11 (main, Jan 14 2025, 05:22:51) [GCC 12.2.0]', 'platform': 'Linux-6.13.8-200.fc41.x86_64-x86_64-with-glibc2.36', 'event': 'train'}\n",
      "2025-04-09 13:58:18,624 : INFO : EPOCH 0: training on 448 raw words (470 effective words) took 0.0s, 93082 effective words/s\n",
      "2025-04-09 13:58:18,625 : INFO : Model lifecycle event {'msg': 'training on 448 raw words (470 effective words) took 0.0s, 49573 effective words/s', 'datetime': '2025-04-09T13:58:18.625580', 'gensim': '4.3.3', 'python': '3.11.11 (main, Jan 14 2025, 05:22:51) [GCC 12.2.0]', 'platform': 'Linux-6.13.8-200.fc41.x86_64-x86_64-with-glibc2.36', 'event': 'train'}\n"
     ]
    },
    {
     "name": "stdout",
     "output_type": "stream",
     "text": [
      "EOI\n",
      "Vocabulary built in 0.024121522903442383 s\n",
      "EOI\n",
      "Training is completed in 0.011691570281982422 s\n",
      "50\n"
     ]
    }
   ],
   "source": [
    "# creating model\n",
    "\n",
    "VECTOR_SIZE = 7\n",
    "EPOCHS_NUMBER = 1\n",
    "WORD_MIN_COUNT = 5\n",
    "WINDOW_SIZE = 7\n",
    "NEGATIVE_SAMPLES_AMOUNT = 6\n",
    "SUBSAMPLING_THRESHOLD = 1e-5\n",
    "ALPHA_INIT = 0.05\n",
    "ALPHA_FINAL = 0.00001\n",
    "DM_DBOW_MODE = \"DM\" # \"DBOW\" \"DM+DBOW\"\n",
    "\n",
    "# finetunning is done by twicking model parameters\n",
    "model = Model(\n",
    "    vector_size =  VECTOR_SIZE, \n",
    "    window =       WINDOW_SIZE, \n",
    "    min_count =    WORD_MIN_COUNT, \n",
    "    epochs =       EPOCHS_NUMBER, \n",
    "    dm_dbow_mode = DM_DBOW_MODE,\n",
    "    negative =     NEGATIVE_SAMPLES_AMOUNT,\n",
    "    sample =       SUBSAMPLING_THRESHOLD,\n",
    "    alpha_init =   ALPHA_INIT,\n",
    "    alpha_final =  ALPHA_FINAL\n",
    ")\n",
    "model.corpus = CacheCorpus(manager, limit = 50)\n",
    "#model.assess()\n",
    "model.train()\n",
    "print(model.corpus_count)\n",
    "#model.build_vocab(documentsCorpus)\n",
    "#model.train(documentsCorpus, total_examples = model.corpus_count, epochs = model.epochs)"
   ]
  },
  {
   "cell_type": "code",
   "execution_count": 16,
   "id": "402653a4-ee31-443e-ad6f-c7f2187edbf1",
   "metadata": {},
   "outputs": [
    {
     "name": "stderr",
     "output_type": "stream",
     "text": [
      "2025-04-09 13:58:18,636 : INFO : Model lifecycle event {'params': 'Model<dm/m,d7,n5,w7,mc7,s1e-05,t3>', 'datetime': '2025-04-09T13:58:18.636922', 'gensim': '4.3.3', 'python': '3.11.11 (main, Jan 14 2025, 05:22:51) [GCC 12.2.0]', 'platform': 'Linux-6.13.8-200.fc41.x86_64-x86_64-with-glibc2.36', 'event': 'created'}\n"
     ]
    }
   ],
   "source": [
    "# autotunning model parameters\n",
    "\n",
    "def createModel(**kwargs):\n",
    "    model = Model(\n",
    "                vector_size = VECTOR_SIZE,\n",
    "                dm_dbow_mode = \"DM\", \n",
    "                alpha_init = ALPHA_INIT,\n",
    "                alpha_final = ALPHA_FINAL,\n",
    "                **kwargs\n",
    "            )\n",
    "    manager.cacheAdapter.reset()\n",
    "    manager.clearData()\n",
    "    model.corpus = CacheCorpus(manager)\n",
    "\n",
    "    return model\n",
    "\n",
    "tuner = AutoTuner(createModel, [\n",
    "    Param(_name = \"window\",    _type = Integer,  _range = (5, 10),      _initial = 7),\n",
    "    Param(_name = \"min_count\", _type = Integer,  _range = (7, 12),      _initial = 7),\n",
    "    Param(_name = \"epochs\",    _type = Integer,  _range = (25, 45),     _initial = 25),\n",
    "    Param(_name = \"negative\",  _type = Integer,  _range = (5, 11),      _initial = 5),\n",
    "    Param(_name = \"sample\",    _type = Real,     _range = (1e-6, 1e-5), _initial = 1e-5),\n",
    "])"
   ]
  },
  {
   "cell_type": "code",
   "execution_count": 23,
   "id": "b90579f4-e5db-464a-a2a2-e4bcdc66f754",
   "metadata": {},
   "outputs": [
    {
     "name": "stdout",
     "output_type": "stream",
     "text": [
      "[40, 7, 1, 17, 15, 14]\n",
      "EOI\n"
     ]
    },
    {
     "data": {
      "text/plain": [
       "0.09417400638312605"
      ]
     },
     "execution_count": 23,
     "metadata": {},
     "output_type": "execute_result"
    }
   ],
   "source": [
    "#model.assess(3, True, True, format = \"mean\")\n",
    "model.evaluate()"
   ]
  },
  {
   "cell_type": "code",
   "execution_count": 20,
   "id": "01ab2f6a-599d-4f6d-9a52-ef8ff174f113",
   "metadata": {},
   "outputs": [
    {
     "ename": "ZeroDivisionError",
     "evalue": "division by zero",
     "output_type": "error",
     "traceback": [
      "\u001b[0;31m---------------------------------------------------------------------------\u001b[0m",
      "\u001b[0;31mZeroDivisionError\u001b[0m                         Traceback (most recent call last)",
      "Cell \u001b[0;32mIn[20], line 1\u001b[0m\n\u001b[0;32m----> 1\u001b[0m \u001b[38;5;241;43m2\u001b[39;49m\u001b[38;5;241;43m/\u001b[39;49m\u001b[38;5;241;43m0\u001b[39;49m\n\u001b[1;32m      2\u001b[0m i \u001b[38;5;241m=\u001b[39m \u001b[38;5;241m1\u001b[39m\n\u001b[1;32m      3\u001b[0m words \u001b[38;5;241m=\u001b[39m []\n",
      "\u001b[0;31mZeroDivisionError\u001b[0m: division by zero"
     ]
    }
   ],
   "source": [
    "2/0\n",
    "i = 1\n",
    "words = []\n",
    "tags = []\n",
    "for proj in model.corpus:\n",
    "    if i <= 0: break\n",
    "    words = proj.words\n",
    "    tags = proj.tags\n",
    "    i -= 1\n",
    "\n",
    "print(tags)\n",
    "vector = model.infer_vector(['awesome', 'code', 'streamer', 'list', 'code', 'streamer', 'multiple', 'plataforms', 'like', 'twitch', 'youtube'])\n",
    "vector"
   ]
  },
  {
   "cell_type": "code",
   "execution_count": null,
   "id": "f787cb49-29a6-4825-ab52-232c267ae33c",
   "metadata": {},
   "outputs": [],
   "source": [
    "model.dv.most_similar([vector], topn=len(model.dv))"
   ]
  },
  {
   "cell_type": "code",
   "execution_count": null,
   "id": "f8b47c0d-8840-4cf9-b18c-bd613f73a898",
   "metadata": {},
   "outputs": [],
   "source": []
  }
 ],
 "metadata": {
  "kernelspec": {
   "display_name": "Python 3 (ipykernel)",
   "language": "python",
   "name": "python3"
  },
  "language_info": {
   "codemirror_mode": {
    "name": "ipython",
    "version": 3
   },
   "file_extension": ".py",
   "mimetype": "text/x-python",
   "name": "python",
   "nbconvert_exporter": "python",
   "pygments_lexer": "ipython3",
   "version": "3.11.11"
  }
 },
 "nbformat": 4,
 "nbformat_minor": 5
}
