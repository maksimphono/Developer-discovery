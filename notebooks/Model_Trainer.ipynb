{
 "cells": [
  {
   "cell_type": "code",
   "execution_count": 1,
   "id": "455cc887-8373-451d-8c96-a66b7530486c",
   "metadata": {},
   "outputs": [],
   "source": [
    "import sys\n",
    "sys.path.append('/home/trukhinmaksim/src')"
   ]
  },
  {
   "cell_type": "code",
   "execution_count": 2,
   "id": "ac85e37c-719b-47b1-ad1d-d30439b5de37",
   "metadata": {},
   "outputs": [],
   "source": [
    "import numpy as np"
   ]
  },
  {
   "cell_type": "code",
   "execution_count": 3,
   "id": "bbb769a8-0ff3-4600-a09e-c7000d01df34",
   "metadata": {},
   "outputs": [
    {
     "name": "stdout",
     "output_type": "stream",
     "text": [
      "Collection(Database(MongoClient(host=['10.22.112.39:27020'], document_class=dict, tz_aware=False, connect=True), 'mini_database'), 'projects')\n"
     ]
    }
   ],
   "source": [
    "from src.utils.DatabaseConnect import DatabaseConnect\n",
    "\n",
    "# single machine setup (mongo is running here localy)\n",
    "# \"ip a\" for ip address\n",
    "MY_DATABASE_LINK = 'mongodb://10.22.112.39:27020/' #'mongodb://192.168.100.57:27020/'\n",
    "# multiple mechine setup (mongo is running on another machine)\n",
    "#MY_DATABASE_LINK = 'mongodb://192.168.43.78:27020/'\n",
    "\n",
    "DatabaseConnect.DB_LINK = MY_DATABASE_LINK\n",
    "\n",
    "projectsCollection = DatabaseConnect.mini_database.projects()\n",
    "usersCollection = DatabaseConnect.mini_database.users()\n",
    "print(projectsCollection)"
   ]
  },
  {
   "cell_type": "code",
   "execution_count": 4,
   "id": "6b374dd4-9b71-43d2-8770-d21b16bcc9d1",
   "metadata": {},
   "outputs": [],
   "source": [
    "from src.utils.CacheAdapter import JSONAdapter, EXP_END_OF_DATA\n",
    "from src.utils.DatasetManager import ProjectsDatasetManager"
   ]
  },
  {
   "cell_type": "code",
   "execution_count": 5,
   "id": "5efae60e-04ba-4278-816a-35a98e781082",
   "metadata": {},
   "outputs": [],
   "source": [
    "def flatternData(data : dict[str, list]) -> np.array(dict):\n",
    "    # takes in data in form of dict, where each key is a user id and each value is a list of that user's projects\n",
    "    # returns just flat list of these projects \n",
    "    result = []\n",
    "\n",
    "    for projectsArray in data.values():\n",
    "        for project in projectsArray:\n",
    "            result.append(project)\n",
    "\n",
    "    return result"
   ]
  },
  {
   "cell_type": "code",
   "execution_count": 6,
   "id": "5d772a3f-d6ad-4994-9f41-372b526e3f59",
   "metadata": {},
   "outputs": [],
   "source": [
    "adapter = JSONAdapter()\n",
    "manager = ProjectsDatasetManager(20, cacheAdapter = adapter)"
   ]
  },
  {
   "cell_type": "code",
   "execution_count": 7,
   "id": "39bb961c-3354-44d7-b365-b364502962bd",
   "metadata": {},
   "outputs": [],
   "source": [
    "# using adapter to load data from the cache files\n",
    "\n",
    "class DataFeeder(ProjectsDatasetManager):\n",
    "    def __init__(self):\n",
    "        pass\n",
    "\n",
    "\n",
    "def getDataFromCache(batchSize = 32):\n",
    "    cacheFileName = \"cache__28-03-2025__(sufficient)_{index}.json\"\n",
    "    tempStorage = []    \n",
    "\n",
    "    i = 0\n",
    "    while True:\n",
    "        try:\n",
    "            while len(tempStorage) >= batchSize:\n",
    "                yield tempStorage[:batchSize]\n",
    "                tempStorage = tempStorage[batchSize:]\n",
    "\n",
    "            manager.cacheAdapter.collectionName = cacheFileName.format(index = i)\n",
    "            data = flatternData(manager.fromCache())\n",
    "            tempStorage.extend(data)\n",
    "\n",
    "            i += 1\n",
    "\n",
    "        except EXP_END_OF_DATA:\n",
    "            break\n",
    "\n",
    "    yield tempStorage"
   ]
  },
  {
   "cell_type": "code",
   "execution_count": 8,
   "id": "4790cebb-77e9-4dc5-b3e7-eb116c5f3ec7",
   "metadata": {},
   "outputs": [],
   "source": [
    "def extractScannedUsers(data):\n",
    "    return list(data.keys())\n",
    "\n",
    "\n",
    "def getIgnored(batchSize = 32):\n",
    "    cacheFileName = \"cache__28-03-2025__(sufficient)_{index}.json\"\n",
    "    ignore = []\n",
    "\n",
    "    i = 0\n",
    "    while True:\n",
    "        try:\n",
    "            manager.cacheAdapter.collectionName = cacheFileName.format(index = i)\n",
    "            data = extractScannedUsers(manager.fromCache())\n",
    "            ignore.extend(data)\n",
    "\n",
    "            i += 1\n",
    "\n",
    "        except EXP_END_OF_DATA:\n",
    "            break\n",
    "\n",
    "    return ignore\n"
   ]
  },
  {
   "cell_type": "code",
   "execution_count": 12,
   "id": "0f4cbb32-4131-4938-829f-d80d8ab25836",
   "metadata": {},
   "outputs": [
    {
     "name": "stdout",
     "output_type": "stream",
     "text": [
      "cache__28-03-2025__(sufficient)_0.json\n",
      "cache__28-03-2025__(sufficient)_1.json\n",
      "cache__28-03-2025__(sufficient)_2.json\n",
      "cache__28-03-2025__(sufficient)_3.json\n",
      "cache__28-03-2025__(sufficient)_4.json\n",
      "cache__28-03-2025__(sufficient)_5.json\n",
      "cache__28-03-2025__(sufficient)_6.json\n",
      "cache__28-03-2025__(sufficient)_7.json\n",
      "cache__28-03-2025__(sufficient)_8.json\n",
      "cache__28-03-2025__(sufficient)_9.json\n",
      "cache__28-03-2025__(sufficient)_10.json\n",
      "cache__28-03-2025__(sufficient)_11.json\n",
      "cache__28-03-2025__(sufficient)_12.json\n",
      "cache__28-03-2025__(sufficient)_13.json\n",
      "cache__28-03-2025__(sufficient)_14.json\n",
      "cache__28-03-2025__(sufficient)_15.json\n",
      "cache__28-03-2025__(sufficient)_16.json\n",
      "cache__28-03-2025__(sufficient)_17.json\n",
      "cache__28-03-2025__(sufficient)_18.json\n",
      "cache__28-03-2025__(sufficient)_19.json\n",
      "cache__28-03-2025__(sufficient)_20.json\n",
      "cache__28-03-2025__(sufficient)_21.json\n",
      "cache__28-03-2025__(sufficient)_22.json\n",
      "cache__28-03-2025__(sufficient)_23.json\n",
      "cache__28-03-2025__(sufficient)_24.json\n",
      "cache__28-03-2025__(sufficient)_25.json\n",
      "cache__28-03-2025__(sufficient)_26.json\n",
      "cache__28-03-2025__(sufficient)_27.json\n",
      "cache__28-03-2025__(sufficient)_28.json\n",
      "cache__28-03-2025__(sufficient)_29.json\n",
      "cache__28-03-2025__(sufficient)_30.json\n",
      "cache__28-03-2025__(sufficient)_31.json\n",
      "cache__28-03-2025__(sufficient)_32.json\n",
      "cache__28-03-2025__(sufficient)_33.json\n",
      "cache__28-03-2025__(sufficient)_34.json\n",
      "cache__28-03-2025__(sufficient)_35.json\n",
      "cache__28-03-2025__(sufficient)_36.json\n",
      "cache__28-03-2025__(sufficient)_37.json\n",
      "cache__28-03-2025__(sufficient)_38.json\n",
      "cache__28-03-2025__(sufficient)_39.json\n",
      "cache__28-03-2025__(sufficient)_40.json\n",
      "cache__28-03-2025__(sufficient)_41.json\n",
      "cache__28-03-2025__(sufficient)_42.json\n",
      "cache__28-03-2025__(sufficient)_43.json\n",
      "cache__28-03-2025__(sufficient)_44.json\n",
      "cache__28-03-2025__(sufficient)_45.json\n",
      "cache__28-03-2025__(sufficient)_46.json\n",
      "cache__28-03-2025__(sufficient)_47.json\n",
      "cache__28-03-2025__(sufficient)_48.json\n",
      "cache__28-03-2025__(sufficient)_49.json\n",
      "cache__28-03-2025__(sufficient)_50.json\n",
      "cache__28-03-2025__(sufficient)_51.json\n",
      "cache__28-03-2025__(sufficient)_52.json\n",
      "cache__28-03-2025__(sufficient)_53.json\n",
      "cache__28-03-2025__(sufficient)_54.json\n",
      "cache__28-03-2025__(sufficient)_55.json\n",
      "cache__28-03-2025__(sufficient)_56.json\n",
      "cache__28-03-2025__(sufficient)_57.json\n",
      "cache__28-03-2025__(sufficient)_58.json\n",
      "cache__28-03-2025__(sufficient)_59.json\n",
      "cache__28-03-2025__(sufficient)_60.json\n",
      "cache__28-03-2025__(sufficient)_61.json\n",
      "cache__28-03-2025__(sufficient)_62.json\n",
      "cache__28-03-2025__(sufficient)_63.json\n",
      "cache__28-03-2025__(sufficient)_64.json\n",
      "cache__28-03-2025__(sufficient)_65.json\n",
      "cache__28-03-2025__(sufficient)_66.json\n",
      "cache__28-03-2025__(sufficient)_67.json\n",
      "cache__28-03-2025__(sufficient)_68.json\n",
      "cache__28-03-2025__(sufficient)_69.json\n",
      "cache__28-03-2025__(sufficient)_70.json\n"
     ]
    },
    {
     "data": {
      "text/plain": [
       "1192"
      ]
     },
     "execution_count": 12,
     "metadata": {},
     "output_type": "execute_result"
    }
   ],
   "source": [
    "ignore = getIgnored()\n",
    "len(set(ignore))"
   ]
  },
  {
   "cell_type": "code",
   "execution_count": 10,
   "id": "bb02703b-a50b-44f5-9845-a3e5a7b451fe",
   "metadata": {},
   "outputs": [
    {
     "ename": "ZeroDivisionError",
     "evalue": "division by zero",
     "output_type": "error",
     "traceback": [
      "\u001b[0;31m---------------------------------------------------------------------------\u001b[0m",
      "\u001b[0;31mZeroDivisionError\u001b[0m                         Traceback (most recent call last)",
      "Cell \u001b[0;32mIn[10], line 1\u001b[0m\n\u001b[0;32m----> 1\u001b[0m \u001b[38;5;241;43m2\u001b[39;49m\u001b[38;5;241;43m/\u001b[39;49m\u001b[38;5;241;43m0\u001b[39;49m\n\u001b[1;32m      2\u001b[0m g \u001b[38;5;241m=\u001b[39m getDataFromCache(batchSize \u001b[38;5;241m=\u001b[39m \u001b[38;5;241m2\u001b[39m)\n\u001b[1;32m      3\u001b[0m lst \u001b[38;5;241m=\u001b[39m []\n",
      "\u001b[0;31mZeroDivisionError\u001b[0m: division by zero"
     ]
    }
   ],
   "source": [
    "2/0\n",
    "g = getDataFromCache(batchSize = 2)\n",
    "lst = []\n",
    "for i in range(4):\n",
    "    a = next(g)\n",
    "    lst.append(a)"
   ]
  },
  {
   "cell_type": "code",
   "execution_count": null,
   "id": "237ebd7a-4080-4fbf-b2b3-77a0aea71b59",
   "metadata": {},
   "outputs": [],
   "source": [
    "lst\n",
    "#with open(\"/home/trukhinmaksim/src/data/cache/cache__28-03-2025__(sufficient)_20.json\", encoding = \"utf-8\") as file:\n",
    "#    print(file.readline()[:10])"
   ]
  },
  {
   "cell_type": "code",
   "execution_count": null,
   "id": "82a60326-ef2e-46e5-b3bc-15f192b58925",
   "metadata": {},
   "outputs": [],
   "source": []
  }
 ],
 "metadata": {
  "kernelspec": {
   "display_name": "Python 3 (ipykernel)",
   "language": "python",
   "name": "python3"
  },
  "language_info": {
   "codemirror_mode": {
    "name": "ipython",
    "version": 3
   },
   "file_extension": ".py",
   "mimetype": "text/x-python",
   "name": "python",
   "nbconvert_exporter": "python",
   "pygments_lexer": "ipython3",
   "version": "3.11.11"
  }
 },
 "nbformat": 4,
 "nbformat_minor": 5
}
