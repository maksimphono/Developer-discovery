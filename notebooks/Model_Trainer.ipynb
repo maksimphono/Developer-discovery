{
 "cells": [
  {
   "cell_type": "code",
   "execution_count": 1,
   "id": "455cc887-8373-451d-8c96-a66b7530486c",
   "metadata": {},
   "outputs": [],
   "source": [
    "import sys\n",
    "sys.path.append('/home/trukhinmaksim/src')"
   ]
  },
  {
   "cell_type": "code",
   "execution_count": 2,
   "id": "ac85e37c-719b-47b1-ad1d-d30439b5de37",
   "metadata": {},
   "outputs": [],
   "source": [
    "import numpy as np"
   ]
  },
  {
   "cell_type": "code",
   "execution_count": 3,
   "id": "bbb769a8-0ff3-4600-a09e-c7000d01df34",
   "metadata": {},
   "outputs": [
    {
     "name": "stdout",
     "output_type": "stream",
     "text": [
      "Collection(Database(MongoClient(host=['10.22.51.99:27020'], document_class=dict, tz_aware=False, connect=True), 'mini_database'), 'projects')\n"
     ]
    }
   ],
   "source": [
    "from src.utils.DatabaseConnect import DatabaseConnect\n",
    "\n",
    "# single machine setup (mongo is running here localy)\n",
    "# \"ip a\" for ip address\n",
    "MY_DATABASE_LINK = 'mongodb://10.22.51.99:27020/' #'mongodb://192.168.100.57:27020/'\n",
    "# multiple mechine setup (mongo is running on another machine)\n",
    "#MY_DATABASE_LINK = 'mongodb://192.168.43.78:27020/'\n",
    "\n",
    "DatabaseConnect.DB_LINK = MY_DATABASE_LINK\n",
    "\n",
    "projectsCollection = DatabaseConnect.mini_database.projects()\n",
    "usersCollection = DatabaseConnect.mini_database.users()\n",
    "print(projectsCollection)"
   ]
  },
  {
   "cell_type": "code",
   "execution_count": 4,
   "id": "6b374dd4-9b71-43d2-8770-d21b16bcc9d1",
   "metadata": {},
   "outputs": [],
   "source": [
    "from src.utils.CacheAdapter import JSONAdapter, JSONMultiFileAdapter, EXP_END_OF_DATA\n",
    "from src.utils.DatasetManager import ProjectsDatasetManager\n",
    "from src.utils.validators import projectDataIsSufficient"
   ]
  },
  {
   "cell_type": "code",
   "execution_count": 5,
   "id": "5efae60e-04ba-4278-816a-35a98e781082",
   "metadata": {},
   "outputs": [],
   "source": [
    "def flatternData(data : dict[str, list]) -> np.array(dict):\n",
    "    # takes in data in form of dict, where each key is a user id and each value is a list of that user's projects\n",
    "    # returns just flat list of these projects \n",
    "    result = []\n",
    "\n",
    "    for projectsArray in data.values():\n",
    "        for project in projectsArray:\n",
    "            result.append(project)\n",
    "\n",
    "    return result"
   ]
  },
  {
   "cell_type": "code",
   "execution_count": 6,
   "id": "39bb961c-3354-44d7-b365-b364502962bd",
   "metadata": {},
   "outputs": [],
   "source": [
    "# using adapter to load data from the cache files\n",
    "\n",
    "class DataFeeder(ProjectsDatasetManager):\n",
    "    def __init__(self, batchSize = 32):\n",
    "        #super().__init__(batchSize, validator, adapter)\n",
    "        self.batchSize = batchSize\n",
    "\n",
    "    def feedFromCache(self, cacheAdapter):\n",
    "        # generator function, that will use \"JSONMultifileAdapter\" to parse data from multiple cache file, collect projects into a list and feed to the model\n",
    "        tempStorage = []\n",
    "        #self.cacheAdapter = cacheAdapter\n",
    "\n",
    "        i = 0\n",
    "        while True:\n",
    "            try:\n",
    "                while len(tempStorage) >= self.batchSize:\n",
    "                    yield tempStorage[:self.batchSize]\n",
    "                    tempStorage = tempStorage[self.batchSize:]\n",
    "\n",
    "                data = cacheAdapter.load(1) # load users one by one\n",
    "                data = flatternData(data)\n",
    "                tempStorage.extend(data)\n",
    "\n",
    "                i += 1\n",
    "\n",
    "            except EXP_END_OF_DATA:\n",
    "                break\n",
    "\n",
    "        yield tempStorage\n",
    "\n",
    "def feedProjectsFromCache(manager, batchSize = 32):\n",
    "    cacheFileName = \"cache__31-03-2025__(sufficient)_{index}.json\"\n",
    "    tempStorage = []\n",
    "\n",
    "    i = 0\n",
    "    while True:\n",
    "        try:\n",
    "            while len(tempStorage) >= batchSize:\n",
    "                yield tempStorage[:batchSize]\n",
    "                tempStorage = tempStorage[batchSize:]\n",
    "\n",
    "            manager.cacheAdapter.collectionName = cacheFileName.format(index = i)\n",
    "            data = flatternData(manager.fromCache())\n",
    "            tempStorage.extend(data)\n",
    "\n",
    "            i += 1\n",
    "\n",
    "        except EXP_END_OF_DATA:\n",
    "            break\n",
    "\n",
    "    yield tempStorage"
   ]
  },
  {
   "cell_type": "code",
   "execution_count": 24,
   "id": "584ed1f5-c3a9-4aa4-8368-22fec165fdec",
   "metadata": {},
   "outputs": [],
   "source": [
    "adapter = JSONAdapter()\n",
    "ProjectsDatasetManager.usersCollection = usersCollection\n",
    "ProjectsDatasetManager.projectsCollection = projectsCollection\n",
    "manager = ProjectsDatasetManager(25, validate = projectDataIsSufficient, cacheAdapter = adapter)"
   ]
  },
  {
   "cell_type": "code",
   "execution_count": 25,
   "id": "5d2375ea-9300-497e-882a-ce5ca7010e76",
   "metadata": {},
   "outputs": [
    {
     "name": "stdout",
     "output_type": "stream",
     "text": [
      "Scanning user: github:betiol\n",
      "Scanning user: github:DestinyJun\n",
      "Scanning user: github:madf12\n",
      "Scanning user: github:hectorqin\n",
      "Scanning user: github:yaojunguang\n",
      "Scanning user: github:romanofficial\n",
      "Scanning user: github:mikedemarais\n",
      "Scanning user: github:Redseb\n",
      "Scanning user: github:anhquan291\n",
      "Scanning user: github:arfanliaqat\n",
      "Scanning user: github:zhazihong\n",
      "Scanning user: github:xiaomao996688\n",
      "Scanning user: github:FelipeMolinari\n",
      "Scanning user: github:MohamadKh75\n",
      "Scanning user: github:pilotocheg\n",
      "Scanning user: github:TPXP\n",
      "Scanning user: github:gattleung\n",
      "Scanning user: github:872409\n",
      "Scanning user: github:yusufbadurohman\n",
      "Scanning user: github:EQuimper\n",
      "Scanning user: github:neo355\n",
      "Scanning user: github:13627491210\n",
      "Scanning user: github:MikeChugunov\n",
      "Scanning user: github:452MJ\n",
      "Scanning user: github:mohamed-sultan\n",
      "32\n",
      "32\n"
     ]
    }
   ],
   "source": [
    "\"\"\"\n",
    "manager.fromDB()\n",
    "textData = manager.getTextOnly()\n",
    "for text in flatternData(textData):\n",
    "    print(text)\n",
    "    #print(flatternData(data))\n",
    "    #print(text)\n",
    "\"\"\"\n",
    "def feedTextData(manager, batchSize = 32):\n",
    "    tempStorage = []\n",
    "\n",
    "    i = 0\n",
    "    while True:\n",
    "        try:\n",
    "            while len(tempStorage) >= batchSize:\n",
    "                yield tempStorage[:batchSize]\n",
    "                tempStorage = tempStorage[batchSize:]\n",
    "\n",
    "            manager.fromDB()\n",
    "            data = flatternData(manager.getTextOnly())\n",
    "            tempStorage.extend(data)\n",
    "\n",
    "            i += 1\n",
    "\n",
    "        except EXP_END_OF_DATA:\n",
    "            break\n",
    "\n",
    "    yield tempStorage\n",
    "\n",
    "i = 2\n",
    "for textBatch in feedTextData(manager, 32):\n",
    "    if i <= 0: break\n",
    "    print(len(textBatch))\n",
    "    for text in textBatch:\n",
    "        print(text)\n",
    "    i -= 1\n"
   ]
  },
  {
   "cell_type": "code",
   "execution_count": 17,
   "id": "bb02703b-a50b-44f5-9845-a3e5a7b451fe",
   "metadata": {},
   "outputs": [
    {
     "name": "stdout",
     "output_type": "stream",
     "text": [
      "cache__31-03-2025__(sufficient)_0.json\n",
      "32\n",
      "{'tokens': ['awesome', 'code', 'streamer', 'list', 'code', 'streamer', 'multiple', 'plataforms', 'like', 'twitch', 'youtube'], 'tags': ['github:lucasfloriani/awesome-code-streamers', 'awesome-code-streamers', '', 'awesome', 'awesome-list', 'lists', 'resources']}\n",
      "{'tokens': ['smart', 'home', 'mqtt', 'experimental', 'wip', 'bridge', 'google', 'smart', 'home', 'mqtt'], 'tags': ['github:alvarowolfx/smart-home-mqtt', 'smart-home-mqtt', 'JavaScript']}\n",
      "{'tokens': ['typeorm', 'seeding', 'delightful', 'way', 'seed', 'test', 'data', 'database'], 'tags': ['github:betiol/typeorm-seeding', 'typeorm-seeding', 'TypeScript']}\n",
      "{'tokens': ['express', 'response', 'formatter', 'sparkle', 'better', 'way', 'format', 'express', 'response'], 'tags': ['github:betiol/express-response-formatter', 'express-response-formatter', 'TypeScript']}\n",
      "{'tokens': ['desafio', 'rn', 'desafio', 'react', 'native'], 'tags': ['github:betiol/desafio-rn', 'desafio-rn', 'TypeScript']}\n",
      "{'tokens': ['command', 'line', 'go', 'ip', 'server', 'return', 'server', 'name', 'ip', 'specific', 'server'], 'tags': ['github:betiol/command-line-go-ip-servers', 'command-line-go-ip-servers', 'Go']}\n",
      "{'tokens': ['smart', 'home', 'mqtt', 'experimental', 'wip', 'bridge', 'google', 'smart', 'home', 'mqtt'], 'tags': ['github:betiol/smart-home-mqtt', 'smart-home-mqtt', 'JavaScript']}\n",
      "{'tokens': ['rbi', 'safe', 'guizhou', 'academy', 'labor', 'science', 'safety', 'standardization', 'supervision', 'system', 'based', 'angular'], 'tags': ['github:DestinyJun/rbi-safe', 'rbi-safe', 'TypeScript']}\n",
      "{'tokens': ['rbi', 'safe', 'security', 'management', 'platform'], 'tags': ['github:moonshinean/rbi-safe', 'rbi-safe', 'TypeScript']}\n",
      "{'tokens': ['gtcashapp', 'appandroidreact', 'native'], 'tags': ['github:DestinyJun/gtcashapp', 'gtcashapp', 'JavaScript']}\n",
      "{'tokens': ['ecmascript', 'study', 'j', 'depth', 'learning'], 'tags': ['github:DestinyJun/ECMAScript6', 'ECMAScript6-study', 'JavaScript']}\n",
      "{'tokens': ['rbi', 'safe', 'app', 'guizhou', 'academy', 'labor', 'science', 'safety', 'standardization', 'supervision', 'system', 'app', 'android', 'side', 'based', 'react', 'react', 'native'], 'tags': ['github:DestinyJun/rbi-safe-app', 'rbi-safe-app', 'JavaScript']}\n",
      "{'tokens': ['react', 'rbi', 'website', 'admin', 'official', 'website', 'front', 'end', 'management', 'side', 'based', 'react', 'antd'], 'tags': ['github:DestinyJun/react-rbi-website-admin', 'react-rbi-website-admin', 'JavaScript']}\n",
      "{'tokens': ['react', 'native', 'app', 'react', 'native'], 'tags': ['github:DestinyJun/my-react-native-app', 'my-react-native-app', 'Java']}\n",
      "{'tokens': ['gt', 'cash', 'high', 'investment', 'service', 'area', 'merchant', 'web', 'cash', 'register', 'system', 'based', 'vue'], 'tags': ['github:DestinyJun/gt-cash', 'gt-cash', 'Vue']}\n",
      "{'tokens': ['wx', 'questionnaire', 'wechat', 'questionnaire', 'background', 'system', 'based', 'tp'], 'tags': ['github:DestinyJun/wx_questionnaire', 'wx_questionnaire', 'PHP']}\n",
      "{'tokens': ['react', 'native', 'study', 'react', 'native'], 'tags': ['github:DestinyJun/react-native-study', 'react-native-study', 'JavaScript']}\n",
      "{'tokens': ['typescript', 'study', 'typescript'], 'tags': ['github:DestinyJun/typescript-study', 'typescript-study', 'JavaScript']}\n",
      "{'tokens': ['smart', 'property', 'manager', 'yunshan', 'intelligent', 'house', 'management', 'terminal'], 'tags': ['github:DestinyJun/smart-property-manager', 'smart-property-manager', 'TypeScript']}\n",
      "{'tokens': ['gaotou', 'guizhou', 'gaotou', 'service', 'area', 'data', 'monitoring', 'system', 'based', 'angular'], 'tags': ['github:DestinyJun/gaotou2', 'gaotou2', 'TypeScript']}\n",
      "{'tokens': ['webpack', 'study', 'manually', 'configure', 'webpack'], 'tags': ['github:DestinyJun/webpack-study', 'webpack-study', 'JavaScript']}\n",
      "{'tokens': ['gt', 'cash', 'view', 'guizhou', 'gaotou', 'group', 'service', 'area', 'cashier', 'merchant', 'web', 'client', 'developed', 'based', 'vue'], 'tags': ['github:DestinyJun/gt-cash-view', 'gt-cash-view', 'JavaScript']}\n",
      "{'tokens': ['php', 'study', 'php', 'learning'], 'tags': ['github:DestinyJun/php-study', 'php-study', 'PHP']}\n",
      "{'tokens': ['rbi', 'quote', 'housing', 'traceability', 'tracking', 'system', 'based', 'vue', 'j'], 'tags': ['github:DestinyJun/rbi-quote', 'rbi-quote', 'Vue']}\n",
      "{'tokens': ['cs', 'study', 'cs', 'demo'], 'tags': ['github:DestinyJun/css3-study', 'css3-study', 'HTML']}\n",
      "{'tokens': ['react', 'native', 'file', 'logger', 'simple', 'file', 'logger', 'react', 'native', 'configurable', 'rolling', 'policy', 'based', 'cocoalumberjack', 'io', 'logback', 'android'], 'tags': ['github:BeTomorrow/react-native-file-logger', 'react-native-file-logger', 'Java', 'cocoalumberjack', 'file-logger', 'logback', 'logging', 'react-native']}\n",
      "{'tokens': ['react', 'simple', 'timefield', 'simple', 'react', 'time', 'input', 'field'], 'tags': ['github:antonfisher/react-simple-timefield', 'react-simple-timefield', 'TypeScript', 'react', 'timefield', 'timeinput']}\n",
      "{'tokens': ['asf', 'ui', 'official', 'web', 'interface', 'asf'], 'tags': ['github:JustArchiNET/ASF-ui', 'ASF-ui', 'Vue', 'archisteamfarm', 'hacktoberfest', 'html', 'javascript', 'nodejs', 'scss', 'user-interface', 'vue', 'vuejs', 'webpack']}\n",
      "{'tokens': ['class', 'transformer', 'decorator', 'based', 'transformation', 'serialization', 'deserialization', 'object', 'class'], 'tags': ['github:typestack/class-transformer', 'class-transformer', 'TypeScript', 'exposing-getters', 'exposing-properties', 'transformation', 'typescript']}\n",
      "{'tokens': ['react', 'native', 'file', 'logger', 'simple', 'file', 'logger', 'react', 'native', 'configurable', 'rolling', 'policy', 'based', 'cocoalumberjack', 'io', 'logback', 'android'], 'tags': ['github:madf12/react-native-file-logger', 'react-native-file-logger', 'Java']}\n",
      "{'tokens': ['jitsi', 'meet', 'jitsi', 'meet', 'secure', 'simple', 'scalable', 'video', 'conference', 'use', 'standalone', 'app', 'embed', 'web', 'application'], 'tags': ['github:madf12/jitsi-meet', 'jitsi-meet', 'JavaScript']}\n",
      "{'tokens': ['react', 'simple', 'timefield', 'simple', 'react', 'time', 'input', 'field'], 'tags': ['github:madf12/react-simple-timefield', 'react-simple-timefield', 'TypeScript']}\n",
      "32\n",
      "{'tokens': ['vscode', 'php', 'helper', 'php', 'helper', 'plugin', 'vscode'], 'tags': ['github:hectorqin/vscode-php-helper', 'vscode-php-helper', 'JavaScript']}\n",
      "{'tokens': ['reader', 'io', 'kotlin', 'spring', 'boot', 'vert', 'coroutine', 'vue', 'j', 'elementstar'], 'tags': ['github:hectorqin/reader', 'reader', 'Kotlin']}\n",
      "{'tokens': ['hyperf', 'coroutine', 'framework', 'focus', 'hyperspeed', 'flexibility', 'building', 'microservice', 'middleware', 'ease'], 'tags': ['github:hyperf/hyperf', 'hyperf', 'PHP', 'amqp', 'annotation', 'aop', 'attributes', 'coroutine', 'dependency-injection', 'framework', 'grpc', 'hyperf', 'json-rpc', 'microservice', 'microservices', 'opentracing', 'php', 'psr-14', 'psr-15', 'psr-7', 'swoole', 'swow', 'websocket']}\n",
      "{'tokens': ['reader', 'vscode', 'plugin', 'novel', 'reader', 'support', 'online', 'search', 'local', 'reading', 'support', 'txt', 'epub', 'format'], 'tags': ['github:aooiuu/z-reader', 'z-reader', '', 'epub', 'fiction', 'reader', 'txt', 'txt-epub', 'vscode', 'vscode-extension', 'vscode-plugin']}\n",
      "{'tokens': ['amis', 'front', 'end', 'low', 'code', 'framework', 'various', 'page', 'generated', 'json', 'configuration'], 'tags': ['github:baidu/amis', 'amis', 'TypeScript', 'admin', 'frontend', 'frontend-framework', 'json', 'low-code', 'low-code-development-platform', 'lowcode', 'no-code']}\n",
      "{'tokens': ['zy', 'player', 'cross', 'platform', 'desktop', 'video', 'resource', 'player', 'simple', 'ad', 'free', 'free', 'high', 'value'], 'tags': ['github:Hunlongyu/ZY-Player', 'ZY-Player', 'Vue', 'electron', 'electron-app', 'electron-application', 'player', 'video', 'vue', 'zy-player', 'zyplayer']}\n",
      "{'tokens': ['hyperf', 'coroutine', 'framework', 'focus', 'hyperspeed', 'flexibility', 'building', 'microservice', 'middleware', 'ease'], 'tags': ['github:hectorqin/hyperf', 'hyperf', 'PHP']}\n",
      "{'tokens': ['nextra', 'simple', 'powerful', 'flexible', 'site', 'generation', 'framework', 'everything', 'love', 'next', 'j'], 'tags': ['github:shuding/nextra', 'nextra', 'TypeScript', 'markdown', 'mdx', 'nextjs', 'nextra', 'react', 'static-site-generator']}\n",
      "{'tokens': ['hyper', 'reorderable', 'tab', 'draggable', 'tab', 'suport', 'hyper', 'terminal'], 'tags': ['github:hectorqin/hyper-reorderable-tabs', 'hyper-reorderable-tabs', 'JavaScript']}\n",
      "{'tokens': ['vscode', 'quick', 'open', 'visual', 'studio', 'code', 'plugin', 'provide', 'quick', 'open', 'file', 'command'], 'tags': ['github:leizongmin/vscode-quick-open', 'vscode-quick-open', 'TypeScript']}\n",
      "{'tokens': ['hectorqin', 'github', 'io', 'blog'], 'tags': ['github:hectorqin/hectorqin.github.io', 'hectorqin.github.io', 'HTML']}\n",
      "{'tokens': ['react', 'native', 'rn', 'videoplayer', 'react', 'native', 'videoios', 'android'], 'tags': ['github:hectorqin/react-native-rn-videoplayer', 'react-native-rn-videoplayer', 'JavaScript']}\n",
      "{'tokens': ['antcloud', 'php', 'sdk', 'antcloud'], 'tags': ['github:hectorqin/antcloud-php-sdk', 'antcloud-php-sdk', 'PHP']}\n",
      "{'tokens': ['jsfun', 'anyproxy', 'anyproxy', 'android', 'jsfun', 'platform'], 'tags': ['github:hectorqin/jsfun-anyproxy', 'jsfun-anyproxy', 'JavaScript']}\n",
      "{'tokens': ['nodejs', 'mobile', 'react', 'native', 'node', 'j', 'mobile', 'apps', 'react', 'native', 'plugin'], 'tags': ['github:hectorqin/nodejs-mobile-react-native', 'nodejs-mobile-react-native', 'C']}\n",
      "{'tokens': ['zy', 'player', 'cross', 'platform', 'desktop', 'video', 'resource', 'player', 'simple', 'ad', 'free', 'free', 'high', 'value'], 'tags': ['github:hectorqin/ZY-Player', 'ZY-Player', 'Vue']}\n",
      "{'tokens': ['ovine', 'build', 'entirety', 'admin', 'system', 'ui', 'blazing', 'fast', 'json'], 'tags': ['github:hectorqin/ovine', 'ovine', 'JavaScript']}\n",
      "{'tokens': ['php', 'resque', 'php', 'resque', 'thinkphp', 'thinkphp'], 'tags': ['github:hectorqin/php-resque', 'php-resque', 'PHP', 'php-resque', 'thinkphp5', 'thinkphp6', 'tp3', 'worker']}\n",
      "{'tokens': ['mproxy', 'simple', 'http', 'proxy', 'basic', 'authentication', 'support', 'simple', 'reverse', 'proxy'], 'tags': ['github:hectorqin/mproxy', 'mproxy', 'C', 'http-proxy', 'proxy-auth', 'proxy-server']}\n",
      "{'tokens': ['phpmon', 'hyperf', 'watch', 'hot', 'reload', 'script', 'like', 'nodemon', 'hyperf'], 'tags': ['github:hectorqin/phpmon', 'phpmon', 'PHP']}\n",
      "{'tokens': ['reader', 'vscode', 'plugin', 'novel', 'reader', 'support', 'online', 'search', 'local', 'reading', 'support', 'txt', 'epub', 'format'], 'tags': ['github:hectorqin/z-reader', 'z-reader', 'TypeScript']}\n",
      "{'tokens': ['hyperf', 'thinkphp', 'hyperf'], 'tags': ['github:hectorqin/hyperf-thinkphp', 'hyperf-thinkphp', 'PHP']}\n",
      "{'tokens': ['hyperf', 'generator', 'hyperf', 'generator'], 'tags': ['github:hectorqin/hyperf-generator', 'hyperf-generator', 'PHP']}\n",
      "{'tokens': ['hyperterm', 'overlay', 'complete', 'customizable', 'solution', 'overlay', 'window', 'hyper', 'app'], 'tags': ['github:hectorqin/hyperterm-overlay', 'hyperterm-overlay', 'JavaScript']}\n",
      "{'tokens': ['local', 'echo', 'local', 'echo', 'controller', 'xterm', 'j'], 'tags': ['github:hectorqin/local-echo', 'local-echo', 'JavaScript']}\n",
      "{'tokens': ['amis', 'front', 'end', 'low', 'code', 'framework', 'various', 'background', 'page', 'generated', 'json', 'configuration'], 'tags': ['github:hectorqin/amis', 'amis', 'TypeScript']}\n",
      "{'tokens': ['hyper', 'terminal', 'built', 'web', 'technology'], 'tags': ['github:hectorqin/hyper', 'hyper', 'TypeScript']}\n",
      "{'tokens': ['react', 'native', 'alarm', 'notification', 'schedule', 'alarm', 'local', 'notification', 'react', 'native'], 'tags': ['github:hectorqin/react-native-alarm-notification', 'react-native-alarm-notification', 'Java']}\n",
      "{'tokens': ['react', 'native', 'vpn', 'sock', 'vpn', 'sock', 'package', 'react', 'native', 'support', 'io', 'currently'], 'tags': ['github:hectorqin/react-native-vpn2sock', 'react-native-vpn2sock', 'C']}\n",
      "{'tokens': ['iterm', 'scp', 'iterm', 'scp', 'helper', 'script', 'use', 'scp', 'command', 'conveniently', 'upload', 'file', 'server', 'download', 'file', 'server'], 'tags': ['github:hectorqin/iterm2-scp', 'iterm2-scp', 'Shell']}\n",
      "{'tokens': ['nextra', 'next', 'j', 'static', 'site', 'generator'], 'tags': ['github:hectorqin/nextra', 'nextra', 'JavaScript']}\n",
      "{'tokens': ['vscode', 'quick', 'open', 'visual', 'studio', 'code', 'plugin', 'provide', 'quick', 'open', 'file', 'command'], 'tags': ['github:hectorqin/vscode-quick-open', 'vscode-quick-open', 'TypeScript']}\n"
     ]
    }
   ],
   "source": [
    "\n",
    "i = 2\n",
    "for batch in feedProjectsFromCache(manager):\n",
    "    if i == 0: break\n",
    "    print(len(batch))\n",
    "    for item in batch:\n",
    "        print(item)\n",
    "    i -= 1"
   ]
  },
  {
   "cell_type": "code",
   "execution_count": null,
   "id": "e0ac84af-4050-4141-a0c1-7d3fc65ff4c4",
   "metadata": {},
   "outputs": [],
   "source": [
    "a = JSONAdapter(\"cache__31-03-2025__(sufficient)_0.json\")\n",
    "print(a.load())"
   ]
  },
  {
   "cell_type": "code",
   "execution_count": null,
   "id": "82a60326-ef2e-46e5-b3bc-15f192b58925",
   "metadata": {},
   "outputs": [],
   "source": []
  }
 ],
 "metadata": {
  "kernelspec": {
   "display_name": "Python 3 (ipykernel)",
   "language": "python",
   "name": "python3"
  },
  "language_info": {
   "codemirror_mode": {
    "name": "ipython",
    "version": 3
   },
   "file_extension": ".py",
   "mimetype": "text/x-python",
   "name": "python",
   "nbconvert_exporter": "python",
   "pygments_lexer": "ipython3",
   "version": "3.11.11"
  }
 },
 "nbformat": 4,
 "nbformat_minor": 5
}
