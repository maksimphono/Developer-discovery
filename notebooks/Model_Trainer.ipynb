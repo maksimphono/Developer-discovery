{
 "cells": [
  {
   "cell_type": "code",
   "execution_count": 1,
   "id": "455cc887-8373-451d-8c96-a66b7530486c",
   "metadata": {},
   "outputs": [],
   "source": [
    "import sys\n",
    "sys.path.append('/home/trukhinmaksim/src')"
   ]
  },
  {
   "cell_type": "code",
   "execution_count": 2,
   "id": "ac85e37c-719b-47b1-ad1d-d30439b5de37",
   "metadata": {},
   "outputs": [],
   "source": [
    "import numpy as np"
   ]
  },
  {
   "cell_type": "code",
   "execution_count": 3,
   "id": "bbb769a8-0ff3-4600-a09e-c7000d01df34",
   "metadata": {},
   "outputs": [
    {
     "name": "stdout",
     "output_type": "stream",
     "text": [
      "Collection(Database(MongoClient(host=['172.26.234.237:27020'], document_class=dict, tz_aware=False, connect=True), 'mini_database'), 'projects')\n"
     ]
    }
   ],
   "source": [
    "from src.utils.DatabaseConnect import DatabaseConnect\n",
    "\n",
    "# single machine setup (mongo is running here localy)\n",
    "# \"ip a\" for ip address\n",
    "MY_DATABASE_LINK = 'mongodb://172.26.234.237:27020/' #'mongodb://192.168.100.57:27020/'\n",
    "# multiple mechine setup (mongo is running on another machine)\n",
    "#MY_DATABASE_LINK = 'mongodb://192.168.43.78:27020/'\n",
    "\n",
    "DatabaseConnect.DB_LINK = MY_DATABASE_LINK\n",
    "\n",
    "projectsCollection = DatabaseConnect.mini_database.projects()\n",
    "usersCollection = DatabaseConnect.mini_database.users()\n",
    "print(projectsCollection)"
   ]
  },
  {
   "cell_type": "code",
   "execution_count": 4,
   "id": "6b374dd4-9b71-43d2-8770-d21b16bcc9d1",
   "metadata": {},
   "outputs": [],
   "source": [
    "from src.utils.CacheAdapter import JSONAdapter, JSONMultiFileAdapter, EXP_END_OF_DATA\n",
    "from src.utils.DatasetManager import ProjectsDatasetManager\n",
    "from src.utils.validators import projectDataIsSufficient"
   ]
  },
  {
   "cell_type": "code",
   "execution_count": 10,
   "id": "5d2375ea-9300-497e-882a-ce5ca7010e76",
   "metadata": {},
   "outputs": [],
   "source": [
    "def feedTextData(manager, batchSize = 1):\n",
    "    # feeds text data by batches\n",
    "    tempStorage = []\n",
    "\n",
    "    i = 0\n",
    "    while True:\n",
    "        try:\n",
    "            while len(tempStorage) >= batchSize:\n",
    "                if batchSize > 1:\n",
    "                    yield tempStorage[:batchSize]\n",
    "                else:\n",
    "                    yield tempStorage[:batchSize][0] # if I'm requesting only one item per time (training one by one) -> just yield it\n",
    "                tempStorage = tempStorage[batchSize:]\n",
    "\n",
    "            manager.fromDB()\n",
    "            data = flatternData(manager.getTextOnly())\n",
    "            tempStorage.extend(data)\n",
    "\n",
    "            i += 1\n",
    "\n",
    "        except EXP_END_OF_DATA:\n",
    "            break\n",
    "\n",
    "    yield tempStorage\n"
   ]
  },
  {
   "cell_type": "code",
   "execution_count": 5,
   "id": "5efae60e-04ba-4278-816a-35a98e781082",
   "metadata": {},
   "outputs": [],
   "source": [
    "def flatternData(data : dict[str, list]) -> np.array(dict):\n",
    "    # takes in data in form of dict, where each key is a user id and each value is a list of that user's projects\n",
    "    # returns just flat list of these projects \n",
    "    result = []\n",
    "\n",
    "    for projectsArray in data.values():\n",
    "        for project in projectsArray:\n",
    "            result.append(project)\n",
    "\n",
    "    return result"
   ]
  },
  {
   "cell_type": "code",
   "execution_count": 6,
   "id": "58adadd7-d7f4-427c-a97d-8720bbaf1bc9",
   "metadata": {},
   "outputs": [],
   "source": [
    "import gensim\n",
    "from gensim.models.doc2vec import TaggedDocument"
   ]
  },
  {
   "cell_type": "code",
   "execution_count": 7,
   "id": "3b772eb3-0407-4b1a-84ea-66c9710f9e27",
   "metadata": {},
   "outputs": [],
   "source": [
    "CACHE_FILE_NAME = \"cache__31-03-2025__(sufficient)_{index}.json\""
   ]
  },
  {
   "cell_type": "code",
   "execution_count": 8,
   "id": "39bb961c-3354-44d7-b365-b364502962bd",
   "metadata": {},
   "outputs": [],
   "source": [
    "# using adapter to load data from the cache files\n",
    "\n",
    "# TODO: place implementation of the 'Corpus' class into a separate file\n",
    "class Corpus:\n",
    "    # base class for every data corpus, that will be used by model\n",
    "    def __init__(self):\n",
    "        pass\n",
    "    def __iter__(self):\n",
    "        pass\n",
    "    def __getitem__(self, index : int):\n",
    "        pass\n",
    "\n",
    "# TODO: change to use adapter, that reads data from cache continously without need for changing collection name maually\n",
    "class CacheCorpus(Corpus):\n",
    "    def __init__(self, manager, cacheFileNameTemplate = CACHE_FILE_NAME):\n",
    "        self.cacheFileNameTemplate = cacheFileNameTemplate\n",
    "        self.manager = manager # manager is needed not only for interaction with adapter, but also if I want to use unpreprocessed dataset and preprocess it on the way\n",
    "        \n",
    "    def __iter__(self):\n",
    "        # will feed preprocessed projects data as TaggedDocument instances one by one\n",
    "        cacheFileName = self.cacheFileNameTemplate\n",
    "        tempStorage = [] # temporary storage for data, that was read from files\n",
    "\n",
    "        i = 0\n",
    "        while True:\n",
    "            try:\n",
    "                while len(tempStorage) >= 1:\n",
    "                    doc = tempStorage[0]\n",
    "                    yield TaggedDocument(words = doc[\"tokens\"], tags = doc[\"tags\"])\n",
    "                    tempStorage = tempStorage[1:]\n",
    "\n",
    "                self.manager.cacheAdapter.collectionName = cacheFileName.format(index = i)\n",
    "                data = flatternData(self.manager.fromCache())\n",
    "                tempStorage.extend(data)\n",
    "\n",
    "                i += 1\n",
    "\n",
    "            except EXP_END_OF_DATA:\n",
    "            # no data left\n",
    "                break\n"
   ]
  },
  {
   "cell_type": "code",
   "execution_count": 65,
   "id": "4f5f4d69-6c5e-432d-91fc-d1573f105b38",
   "metadata": {},
   "outputs": [],
   "source": [
    "class EXP_FEEDER_IS_NONE(Exception):\n",
    "    def __init__(self):\n",
    "        super().__init__(\"'Model.corpus' object must be an iterable structure, inherited from 'Corpus' class!\")\n",
    "\n",
    "class EXP_MANAGER_IS_NONE(Exception):\n",
    "    def __init__(self):\n",
    "        super().__init__(\"'Model.manager' object must be a DatasetManager instance!\")\n",
    "\n",
    "\n",
    "class Model(gensim.models.doc2vec.Doc2Vec):\n",
    "    def __init__(self, *args, **kwargs):\n",
    "        super().__init__(*args, **kwargs)\n",
    "        self.corpus = None # corpus is an iterator(iterable class object), that will be used in \"train\" method of Doc2Vec model for data extraction\n",
    "\n",
    "    def train(self):\n",
    "        # will build vocabulary and train the model on corpus (corpus will be fed by corpus)\n",
    "        import logging\n",
    "        logging.basicConfig(format='%(asctime)s : %(levelname)s : %(message)s', level=logging.INFO)\n",
    "        \n",
    "        if not isinstance(self.corpus, Corpus): raise EXP_FEEDER_IS_NONE\n",
    "\n",
    "        self.build_vocab(self.corpus)\n",
    "\n",
    "        super().train(\n",
    "            self.corpus, \n",
    "            total_examples = self.corpus_count, \n",
    "            epochs = self.epochs\n",
    "        )\n",
    "\n",
    "    def assess(self, sampleNum = 5):\n",
    "        # simple test of model performance\n",
    "        # take multiple documents from the training corpus and tries to find simillar in the dataset\n",
    "\n",
    "        from random import sample\n",
    "        from collections import defaultdict\n",
    "        from numpy import mean\n",
    "\n",
    "        totalDocuments = self.corpus_count\n",
    "        indexes = sample(range(totalDocuments), sampleNum)\n",
    "\n",
    "        i = 0\n",
    "        docs = []\n",
    "\n",
    "        for doc in self.corpus:\n",
    "            if i >= totalDocuments: break\n",
    "            if i in indexes:\n",
    "                vector = self.infer_vector(doc.words)\n",
    "                sims = defaultdict(lambda: 0, self.dv.most_similar([vector], topn = totalDocuments))\n",
    "\n",
    "                print(f\"Assessing document {i} ({doc.tags}). Similarities by tags:\")\n",
    "\n",
    "                for tag in doc.tags:\n",
    "                    print(f\"  {tag} : {sims[tag]}\")\n",
    "\n",
    "                print(f\"\\n  Average similarity value: {mean([sims[tag] for tag in doc.tags])}\\n\")\n",
    "            i += 1\n"
   ]
  },
  {
   "cell_type": "code",
   "execution_count": 9,
   "id": "584ed1f5-c3a9-4aa4-8368-22fec165fdec",
   "metadata": {},
   "outputs": [],
   "source": [
    "adapter = JSONAdapter()\n",
    "ProjectsDatasetManager.usersCollection = usersCollection\n",
    "ProjectsDatasetManager.projectsCollection = projectsCollection\n",
    "manager = ProjectsDatasetManager(25, validate = projectDataIsSufficient, cacheAdapter = adapter)"
   ]
  },
  {
   "cell_type": "code",
   "execution_count": 66,
   "id": "e9150ae5-5a1a-4edb-be81-93c16fa102be",
   "metadata": {},
   "outputs": [
    {
     "name": "stderr",
     "output_type": "stream",
     "text": [
      "2025-04-02 13:23:23,186 : INFO : Model lifecycle event {'params': 'Model<dm/m,d5,n5,w3,mc3,s0.001,t3>', 'datetime': '2025-04-02T13:23:23.186760', 'gensim': '4.3.3', 'python': '3.11.11 (main, Feb  4 2025, 07:29:35) [GCC 12.2.0]', 'platform': 'Linux-6.13.8-200.fc41.x86_64-x86_64-with-glibc2.36', 'event': 'created'}\n",
      "2025-04-02 13:23:23,197 : INFO : collecting all words and their counts\n",
      "2025-04-02 13:23:23,201 : INFO : PROGRESS: at example #0, processed 0 words (0 words/s), 0 word types, 0 tags\n",
      "2025-04-02 13:23:23,472 : INFO : PROGRESS: at example #10000, processed 90782 words (336934 words/s), 12220 word types, 24596 tags\n",
      "2025-04-02 13:23:23,575 : WARNING : More unique tags (46575) than documents (19852).\n",
      "2025-04-02 13:23:23,764 : INFO : collected 20813 word types and 46575 unique tags from a corpus of 19852 examples and 178966 words\n",
      "2025-04-02 13:23:23,765 : INFO : Creating a fresh vocabulary\n",
      "2025-04-02 13:23:23,786 : INFO : Model lifecycle event {'msg': 'effective_min_count=3 retains 6256 unique words (30.06% of original 20813, drops 14557)', 'datetime': '2025-04-02T13:23:23.786562', 'gensim': '4.3.3', 'python': '3.11.11 (main, Feb  4 2025, 07:29:35) [GCC 12.2.0]', 'platform': 'Linux-6.13.8-200.fc41.x86_64-x86_64-with-glibc2.36', 'event': 'prepare_vocab'}\n",
      "2025-04-02 13:23:23,787 : INFO : Model lifecycle event {'msg': 'effective_min_count=3 leaves 160718 word corpus (89.80% of original 178966, drops 18248)', 'datetime': '2025-04-02T13:23:23.787824', 'gensim': '4.3.3', 'python': '3.11.11 (main, Feb  4 2025, 07:29:35) [GCC 12.2.0]', 'platform': 'Linux-6.13.8-200.fc41.x86_64-x86_64-with-glibc2.36', 'event': 'prepare_vocab'}\n",
      "2025-04-02 13:23:23,824 : INFO : deleting the raw counts dictionary of 20813 items\n",
      "2025-04-02 13:23:23,826 : INFO : sample=0.001 downsamples 39 most-common words\n",
      "2025-04-02 13:23:23,827 : INFO : Model lifecycle event {'msg': 'downsampling leaves estimated 143677.63628101844 word corpus (89.4%% of prior 160718)', 'datetime': '2025-04-02T13:23:23.827685', 'gensim': '4.3.3', 'python': '3.11.11 (main, Feb  4 2025, 07:29:35) [GCC 12.2.0]', 'platform': 'Linux-6.13.8-200.fc41.x86_64-x86_64-with-glibc2.36', 'event': 'prepare_vocab'}\n",
      "2025-04-02 13:23:23,882 : INFO : estimated required memory for 6256 words and 5 dimensions: 13624740 bytes\n",
      "2025-04-02 13:23:23,883 : INFO : resetting layer weights\n",
      "2025-04-02 13:23:23,886 : INFO : Model lifecycle event {'msg': 'training model with 3 workers on 6256 vocabulary and 5 features, using sg=0 hs=0 sample=0.001 negative=5 window=3 shrink_windows=True', 'datetime': '2025-04-02T13:23:23.886450', 'gensim': '4.3.3', 'python': '3.11.11 (main, Feb  4 2025, 07:29:35) [GCC 12.2.0]', 'platform': 'Linux-6.13.8-200.fc41.x86_64-x86_64-with-glibc2.36', 'event': 'train'}\n",
      "2025-04-02 13:23:25,247 : INFO : EPOCH 0 - PROGRESS: at 38.55% examples, 70247 words/s, in_qsize 5, out_qsize 0\n",
      "2025-04-02 13:23:26,249 : INFO : EPOCH 0 - PROGRESS: at 83.52% examples, 87185 words/s, in_qsize 3, out_qsize 0\n",
      "2025-04-02 13:23:26,448 : INFO : EPOCH 0: training on 178966 raw words (246591 effective words) took 2.6s, 96324 effective words/s\n",
      "2025-04-02 13:23:26,449 : INFO : Model lifecycle event {'msg': 'training on 178966 raw words (246591 effective words) took 2.6s, 96233 effective words/s', 'datetime': '2025-04-02T13:23:26.449700', 'gensim': '4.3.3', 'python': '3.11.11 (main, Feb  4 2025, 07:29:35) [GCC 12.2.0]', 'platform': 'Linux-6.13.8-200.fc41.x86_64-x86_64-with-glibc2.36', 'event': 'train'}\n"
     ]
    },
    {
     "name": "stdout",
     "output_type": "stream",
     "text": [
      "1\n"
     ]
    }
   ],
   "source": [
    "# creating model\n",
    "\n",
    "VECTOR_SIZE = 5\n",
    "EPOCH_NUMBER = 1\n",
    "WORD_MIN_AMOUNT = 3\n",
    "WINDOW_SIZE = 3 # 7\n",
    "\n",
    "model = Model(vector_size = VECTOR_SIZE, window = WINDOW_SIZE, min_count = WORD_MIN_AMOUNT, epochs = EPOCH_NUMBER)\n",
    "model.corpus = CacheCorpus(manager)\n",
    "#model.assess()\n",
    "model.train()\n",
    "print(model.epochs)\n",
    "#model.build_vocab(documentsCorpus)\n",
    "#model.train(documentsCorpus, total_examples = model.corpus_count, epochs = model.epochs)"
   ]
  },
  {
   "cell_type": "code",
   "execution_count": 67,
   "id": "b90579f4-e5db-464a-a2a2-e4bcdc66f754",
   "metadata": {},
   "outputs": [
    {
     "name": "stdout",
     "output_type": "stream",
     "text": [
      "Assessing document 6711 (['github:swanson/swanson.github.com', 'swanson.github.com', 'JavaScript', 'blog', 'jekyll']). Similarities by tags:\n",
      "  github:swanson/swanson.github.com : 0.32625705003738403\n",
      "  swanson.github.com : 0\n",
      "  JavaScript : 0.8020398020744324\n",
      "  blog : 0.8252984285354614\n",
      "  jekyll : 0.7698740363121033\n",
      "\n",
      "  Average similarity value: 0.5446938633918762\n",
      "\n",
      "Assessing document 12031 (['github:MohFahmi27/pariwisata_tourism_balikpapan', 'pariwisata_tourism_balikpapan', 'JavaScript']). Similarities by tags:\n",
      "  github:MohFahmi27/pariwisata_tourism_balikpapan : 0.14818449318408966\n",
      "  pariwisata_tourism_balikpapan : 0.4639551639556885\n",
      "  JavaScript : 0\n",
      "\n",
      "  Average similarity value: 0.20404655237992605\n",
      "\n",
      "Assessing document 15304 (['github:Hell13Cat/Minecraft-Behavior-MW', 'IMoO', 'Python']). Similarities by tags:\n",
      "  github:Hell13Cat/Minecraft-Behavior-MW : 0\n",
      "  IMoO : 0\n",
      "  Python : 0.683768093585968\n",
      "\n",
      "  Average similarity value: 0.22792269786198935\n",
      "\n"
     ]
    }
   ],
   "source": [
    "model.assess(3)"
   ]
  },
  {
   "cell_type": "code",
   "execution_count": 40,
   "id": "01ab2f6a-599d-4f6d-9a52-ef8ff174f113",
   "metadata": {},
   "outputs": [
    {
     "name": "stdout",
     "output_type": "stream",
     "text": [
      "['github:lucasfloriani/awesome-code-streamers', 'awesome-code-streamers', '', 'awesome', 'awesome-list', 'lists', 'resources']\n"
     ]
    },
    {
     "data": {
      "text/plain": [
       "array([ 0.00190285,  0.1701992 , -0.00449251,  0.0121613 , -0.11262569],\n",
       "      dtype=float32)"
      ]
     },
     "execution_count": 40,
     "metadata": {},
     "output_type": "execute_result"
    }
   ],
   "source": [
    "i = 1\n",
    "words = []\n",
    "tags = []\n",
    "for proj in model.corpus:\n",
    "    if i <= 0: break\n",
    "    words = proj.words\n",
    "    tags = proj.tags\n",
    "    i -= 1\n",
    "\n",
    "print(tags)\n",
    "vector = model.infer_vector(['awesome', 'code', 'streamer', 'list', 'code', 'streamer', 'multiple', 'plataforms', 'like', 'twitch', 'youtube'])\n",
    "vector"
   ]
  },
  {
   "cell_type": "code",
   "execution_count": null,
   "id": "f787cb49-29a6-4825-ab52-232c267ae33c",
   "metadata": {},
   "outputs": [],
   "source": [
    "model.dv.most_similar([vector], topn=len(model.dv))"
   ]
  },
  {
   "cell_type": "code",
   "execution_count": null,
   "id": "f8b47c0d-8840-4cf9-b18c-bd613f73a898",
   "metadata": {},
   "outputs": [],
   "source": []
  }
 ],
 "metadata": {
  "kernelspec": {
   "display_name": "Python 3 (ipykernel)",
   "language": "python",
   "name": "python3"
  },
  "language_info": {
   "codemirror_mode": {
    "name": "ipython",
    "version": 3
   },
   "file_extension": ".py",
   "mimetype": "text/x-python",
   "name": "python",
   "nbconvert_exporter": "python",
   "pygments_lexer": "ipython3",
   "version": "3.11.11"
  }
 },
 "nbformat": 4,
 "nbformat_minor": 5
}
