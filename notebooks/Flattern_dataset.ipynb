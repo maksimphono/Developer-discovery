{
 "cells": [
  {
   "cell_type": "code",
   "execution_count": 1,
   "id": "7298e5ca-75d4-4ae9-a8a3-0362c1d37a01",
   "metadata": {},
   "outputs": [],
   "source": [
    "import sys\n",
    "sys.path.append('/home/trukhinmaksim/src')\n",
    "import json"
   ]
  },
  {
   "cell_type": "code",
   "execution_count": 2,
   "id": "88536d9e-e165-4aae-bf2a-4c2d1fd9fe58",
   "metadata": {},
   "outputs": [],
   "source": [
    "from time import time\n",
    "from src.utils.CacheAdapter import FlatAdapter, EXP_END_OF_DATA, createAdapter_02_04_25_GOOD, createTrainSetAdapter_02_04_25_GOOD, createTestSetAdapter_02_04_25_GOOD, createNormAdapter_02_04_25_GOOD\n",
    "from src.utils.Corpus import CacheCorpus, FlatCorpus\n",
    "from src.utils.DatasetManager import ProjectsDatasetManager"
   ]
  },
  {
   "cell_type": "code",
   "execution_count": 3,
   "id": "4bfb2caa-ba2f-4df0-825e-86914273b39d",
   "metadata": {},
   "outputs": [],
   "source": [
    "def createMainCorpus():\n",
    "    adapter = createAdapter_02_04_25_GOOD()#JSONMultiFileAdapter(CACHE_FILE_NAME)\n",
    "    manager = ProjectsDatasetManager(50, cacheAdapter = adapter)\n",
    "    return CacheCorpus(manager)\n",
    "\n",
    "corpus = createMainCorpus()"
   ]
  },
  {
   "cell_type": "code",
   "execution_count": 4,
   "id": "9436e5cf-0dc8-497c-a939-59d2a455a9e5",
   "metadata": {},
   "outputs": [],
   "source": [
    "normalizedAdapter = createNormAdapter_02_04_25_GOOD()\n"
   ]
  },
  {
   "cell_type": "code",
   "execution_count": 5,
   "id": "4ff76153-713a-431b-93e3-dc1661300920",
   "metadata": {},
   "outputs": [
    {
     "data": {
      "text/plain": [
       "'\\nfor doc in corpus:\\n    if doc.tags[0] in ids:\\n        normalizedAdapter.save([{\"tokens\" : doc.words, \"tags\" : doc.tags}])\\n        ids.remove(doc.tags[0])\\n'"
      ]
     },
     "execution_count": 5,
     "metadata": {},
     "output_type": "execute_result"
    }
   ],
   "source": [
    "\"\"\"\n",
    "for doc in corpus:\n",
    "    if doc.tags[0] in ids:\n",
    "        normalizedAdapter.save([{\"tokens\" : doc.words, \"tags\" : doc.tags}])\n",
    "        ids.remove(doc.tags[0])\n",
    "\"\"\""
   ]
  },
  {
   "cell_type": "code",
   "execution_count": 6,
   "id": "f67d0ba0-e4cf-4151-ab3c-9b786bfc1d0c",
   "metadata": {},
   "outputs": [
    {
     "data": {
      "text/plain": [
       "499868"
      ]
     },
     "execution_count": 6,
     "metadata": {},
     "output_type": "execute_result"
    }
   ],
   "source": [
    "nCorpus = FlatCorpus(normalizedAdapter)\n",
    "\n",
    "c = 0\n",
    "for i in nCorpus:\n",
    "    c += 1\n",
    "c"
   ]
  },
  {
   "cell_type": "code",
   "execution_count": null,
   "id": "fc9d4725-d790-4c5e-a32f-a5c9dbd61f80",
   "metadata": {},
   "outputs": [],
   "source": []
  }
 ],
 "metadata": {
  "kernelspec": {
   "display_name": "Python 3 (ipykernel)",
   "language": "python",
   "name": "python3"
  },
  "language_info": {
   "codemirror_mode": {
    "name": "ipython",
    "version": 3
   },
   "file_extension": ".py",
   "mimetype": "text/x-python",
   "name": "python",
   "nbconvert_exporter": "python",
   "pygments_lexer": "ipython3",
   "version": "3.11.11"
  }
 },
 "nbformat": 4,
 "nbformat_minor": 5
}
