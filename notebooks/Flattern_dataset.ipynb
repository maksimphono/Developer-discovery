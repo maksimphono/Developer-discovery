{
 "cells": [
  {
   "cell_type": "code",
   "execution_count": 1,
   "id": "7298e5ca-75d4-4ae9-a8a3-0362c1d37a01",
   "metadata": {},
   "outputs": [],
   "source": [
    "import sys\n",
    "sys.path.append('/home/trukhinmaksim/src')\n",
    "import json"
   ]
  },
  {
   "cell_type": "code",
   "execution_count": 2,
   "id": "88536d9e-e165-4aae-bf2a-4c2d1fd9fe58",
   "metadata": {},
   "outputs": [],
   "source": [
    "from time import time\n",
    "from src.utils.CacheAdapter import FlatAdapter, EXP_END_OF_DATA, createAdapter_02_04_25_GOOD, createTrainSetAdapter_02_04_25_GOOD, createTestSetAdapter_02_04_25_GOOD, createNormAdapter_02_04_25_GOOD, createTrainSetDBadepter_02_04_25_GOOD, createTestSetDBadepter_02_04_25_GOOD, Factory_21_04_25_HIGH\n",
    "from src.utils.Corpus import CacheCorpus, FlatCorpus\n",
    "from src.utils.DatasetManager import ProjectsDatasetManager, NormalizerRemover\n"
   ]
  },
  {
   "cell_type": "code",
   "execution_count": 3,
   "id": "4bfb2caa-ba2f-4df0-825e-86914273b39d",
   "metadata": {},
   "outputs": [],
   "source": [
    "def createMainCorpus():\n",
    "    adapter = createAdapter_02_04_25_GOOD()#JSONMultiFileAdapter(CACHE_FILE_NAME)\n",
    "    manager = ProjectsDatasetManager(50, cacheAdapter = adapter)\n",
    "    return CacheCorpus(manager)\n"
   ]
  },
  {
   "cell_type": "code",
   "execution_count": 4,
   "id": "9436e5cf-0dc8-497c-a939-59d2a455a9e5",
   "metadata": {},
   "outputs": [
    {
     "ename": "UnboundLocalError",
     "evalue": "cannot access local variable 'data' where it is not associated with a value",
     "output_type": "error",
     "traceback": [
      "\u001b[0;31m---------------------------------------------------------------------------\u001b[0m",
      "\u001b[0;31mUnboundLocalError\u001b[0m                         Traceback (most recent call last)",
      "Cell \u001b[0;32mIn[4], line 7\u001b[0m\n\u001b[1;32m      4\u001b[0m normalizer \u001b[38;5;241m=\u001b[39m NormalizerRemover([\u001b[38;5;124m\"\u001b[39m\u001b[38;5;124mCython\u001b[39m\u001b[38;5;124m\"\u001b[39m], \u001b[38;5;241m10\u001b[39m, inputAdapter \u001b[38;5;241m=\u001b[39m cacheAdapter, outputAdapters \u001b[38;5;241m=\u001b[39m [normalizedAdapter])\n\u001b[1;32m      6\u001b[0m \u001b[38;5;28;01mfor\u001b[39;00m i \u001b[38;5;129;01min\u001b[39;00m \u001b[38;5;28mrange\u001b[39m(\u001b[38;5;241m2\u001b[39m):\n\u001b[0;32m----> 7\u001b[0m     \u001b[43mnormalizer\u001b[49m\u001b[43m(\u001b[49m\u001b[43m)\u001b[49m\n",
      "File \u001b[0;32m~/src/src/utils/DatasetManager.py:367\u001b[0m, in \u001b[0;36mDatasetManager.__call__\u001b[0;34m(self)\u001b[0m\n\u001b[1;32m    366\u001b[0m \u001b[38;5;28;01mdef\u001b[39;00m\u001b[38;5;250m \u001b[39m\u001b[38;5;21m__call__\u001b[39m(\u001b[38;5;28mself\u001b[39m):\n\u001b[0;32m--> 367\u001b[0m     \u001b[38;5;28;43mself\u001b[39;49m\u001b[38;5;241;43m.\u001b[39;49m\u001b[43mreadInput\u001b[49m\u001b[43m(\u001b[49m\u001b[43m)\u001b[49m\n\u001b[1;32m    369\u001b[0m     \u001b[38;5;28;01mfor\u001b[39;00m doc \u001b[38;5;129;01min\u001b[39;00m \u001b[38;5;28mself\u001b[39m\u001b[38;5;241m.\u001b[39mdata:\n\u001b[1;32m    370\u001b[0m         \u001b[38;5;28;01mif\u001b[39;00m \u001b[38;5;28mself\u001b[39m\u001b[38;5;241m.\u001b[39mvalidator(doc):\n",
      "File \u001b[0;32m~/src/src/utils/DatasetManager.py:359\u001b[0m, in \u001b[0;36mDatasetManager.readInput\u001b[0;34m(self)\u001b[0m\n\u001b[1;32m    356\u001b[0m     \u001b[38;5;28;01melse\u001b[39;00m:\n\u001b[1;32m    357\u001b[0m         \u001b[38;5;28mself\u001b[39m\u001b[38;5;241m.\u001b[39mdata \u001b[38;5;241m+\u001b[39m\u001b[38;5;241m=\u001b[39m data\n\u001b[0;32m--> 359\u001b[0m \u001b[38;5;28mself\u001b[39m\u001b[38;5;241m.\u001b[39mreadCounter \u001b[38;5;241m+\u001b[39m\u001b[38;5;241m=\u001b[39m \u001b[38;5;28mlen\u001b[39m(\u001b[43mdata\u001b[49m)\n\u001b[1;32m    360\u001b[0m \u001b[38;5;28;01mreturn\u001b[39;00m \u001b[38;5;28mself\u001b[39m\u001b[38;5;241m.\u001b[39mdata\n",
      "\u001b[0;31mUnboundLocalError\u001b[0m: cannot access local variable 'data' where it is not associated with a value"
     ]
    }
   ],
   "source": [
    "cacheAdapter = createTrainSetAdapter_02_04_25_GOOD()#Factory_21_04_25_HIGH.craeteCacheAdapter()\n",
    "normalizedAdapter = Factory_21_04_25_HIGH.createNormAdapter()\n",
    "\n",
    "normalizer = NormalizerRemover([\"Cython\"], 10, inputAdapter = cacheAdapter, outputAdapters = [normalizedAdapter])\n",
    "\n",
    "for i in range(2):\n",
    "    normalizer()"
   ]
  },
  {
   "cell_type": "code",
   "execution_count": 5,
   "id": "4ff76153-713a-431b-93e3-dc1661300920",
   "metadata": {},
   "outputs": [
    {
     "data": {
      "text/plain": [
       "'\\nfor doc in corpus:\\n    if doc.tags[0] in ids:\\n        normalizedAdapter.save([{\"tokens\" : doc.words, \"tags\" : doc.tags}])\\n        ids.remove(doc.tags[0])\\n'"
      ]
     },
     "execution_count": 5,
     "metadata": {},
     "output_type": "execute_result"
    }
   ],
   "source": [
    "\"\"\"\n",
    "for doc in corpus:\n",
    "    if doc.tags[0] in ids:\n",
    "        normalizedAdapter.save([{\"tokens\" : doc.words, \"tags\" : doc.tags}])\n",
    "        ids.remove(doc.tags[0])\n",
    "\"\"\""
   ]
  },
  {
   "cell_type": "code",
   "execution_count": 6,
   "id": "f67d0ba0-e4cf-4151-ab3c-9b786bfc1d0c",
   "metadata": {},
   "outputs": [
    {
     "ename": "ZeroDivisionError",
     "evalue": "division by zero",
     "output_type": "error",
     "traceback": [
      "\u001b[0;31m---------------------------------------------------------------------------\u001b[0m",
      "\u001b[0;31mZeroDivisionError\u001b[0m                         Traceback (most recent call last)",
      "Cell \u001b[0;32mIn[6], line 1\u001b[0m\n\u001b[0;32m----> 1\u001b[0m \u001b[38;5;241;43m2\u001b[39;49m\u001b[38;5;241;43m/\u001b[39;49m\u001b[38;5;241;43m0\u001b[39;49m\n\u001b[1;32m      2\u001b[0m fileAdaTr \u001b[38;5;241m=\u001b[39m createTrainSetAdapter_02_04_25_GOOD()\n\u001b[1;32m      3\u001b[0m fileAdaTs \u001b[38;5;241m=\u001b[39m createTestSetAdapter_02_04_25_GOOD()\n",
      "\u001b[0;31mZeroDivisionError\u001b[0m: division by zero"
     ]
    }
   ],
   "source": [
    "fileAdaTr = createTrainSetAdapter_02_04_25_GOOD()\n",
    "fileAdaTs = createTestSetAdapter_02_04_25_GOOD()\n",
    "\n",
    "dbAdaTr = createTrainSetDBadepter_02_04_25_GOOD()\n",
    "dbAdaTs = createTestSetDBadepter_02_04_25_GOOD()"
   ]
  },
  {
   "cell_type": "code",
   "execution_count": null,
   "id": "fc9d4725-d790-4c5e-a32f-a5c9dbd61f80",
   "metadata": {},
   "outputs": [],
   "source": [
    "def copyData(srcAdapter, dstAdapter):\n",
    "    while True:\n",
    "        try:\n",
    "            docs = srcAdapter.load(10)\n",
    "            dstAdapter.save(docs)\n",
    "        except EXP_END_OF_DATA:\n",
    "            return"
   ]
  },
  {
   "cell_type": "code",
   "execution_count": null,
   "id": "8077ab9f-ac16-45f6-82e5-31a21bfce672",
   "metadata": {},
   "outputs": [],
   "source": []
  }
 ],
 "metadata": {
  "kernelspec": {
   "display_name": "Python 3 (ipykernel)",
   "language": "python",
   "name": "python3"
  },
  "language_info": {
   "codemirror_mode": {
    "name": "ipython",
    "version": 3
   },
   "file_extension": ".py",
   "mimetype": "text/x-python",
   "name": "python",
   "nbconvert_exporter": "python",
   "pygments_lexer": "ipython3",
   "version": "3.11.11"
  }
 },
 "nbformat": 4,
 "nbformat_minor": 5
}
