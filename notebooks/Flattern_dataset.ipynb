{
 "cells": [
  {
   "cell_type": "code",
   "execution_count": 1,
   "id": "7298e5ca-75d4-4ae9-a8a3-0362c1d37a01",
   "metadata": {},
   "outputs": [],
   "source": [
    "import sys\n",
    "sys.path.append('/home/trukhinmaksim/src')\n",
    "import json"
   ]
  },
  {
   "cell_type": "code",
   "execution_count": 2,
   "id": "88536d9e-e165-4aae-bf2a-4c2d1fd9fe58",
   "metadata": {},
   "outputs": [],
   "source": [
    "from time import time\n",
    "from src.utils.CacheAdapter import FlatAdapter, EXP_END_OF_DATA, createAdapter_02_04_25_GOOD, createTrainSetAdapter_02_04_25_GOOD, createTestSetAdapter_02_04_25_GOOD, createNormAdapter_02_04_25_GOOD, createTrainSetDBadepter_02_04_25_GOOD, createTestSetDBadepter_02_04_25_GOOD\n",
    "from src.utils.Corpus import CacheCorpus, FlatCorpus\n",
    "from src.utils.DatasetManager import ProjectsDatasetManager"
   ]
  },
  {
   "cell_type": "code",
   "execution_count": 3,
   "id": "4bfb2caa-ba2f-4df0-825e-86914273b39d",
   "metadata": {},
   "outputs": [],
   "source": [
    "def createMainCorpus():\n",
    "    adapter = createAdapter_02_04_25_GOOD()#JSONMultiFileAdapter(CACHE_FILE_NAME)\n",
    "    manager = ProjectsDatasetManager(50, cacheAdapter = adapter)\n",
    "    return CacheCorpus(manager)\n",
    "\n",
    "corpus = createMainCorpus()"
   ]
  },
  {
   "cell_type": "code",
   "execution_count": 4,
   "id": "9436e5cf-0dc8-497c-a939-59d2a455a9e5",
   "metadata": {},
   "outputs": [],
   "source": [
    "normalizedAdapter = createNormAdapter_02_04_25_GOOD()\n"
   ]
  },
  {
   "cell_type": "code",
   "execution_count": 5,
   "id": "4ff76153-713a-431b-93e3-dc1661300920",
   "metadata": {},
   "outputs": [
    {
     "data": {
      "text/plain": [
       "'\\nfor doc in corpus:\\n    if doc.tags[0] in ids:\\n        normalizedAdapter.save([{\"tokens\" : doc.words, \"tags\" : doc.tags}])\\n        ids.remove(doc.tags[0])\\n'"
      ]
     },
     "execution_count": 5,
     "metadata": {},
     "output_type": "execute_result"
    }
   ],
   "source": [
    "\"\"\"\n",
    "for doc in corpus:\n",
    "    if doc.tags[0] in ids:\n",
    "        normalizedAdapter.save([{\"tokens\" : doc.words, \"tags\" : doc.tags}])\n",
    "        ids.remove(doc.tags[0])\n",
    "\"\"\""
   ]
  },
  {
   "cell_type": "code",
   "execution_count": 11,
   "id": "f67d0ba0-e4cf-4151-ab3c-9b786bfc1d0c",
   "metadata": {},
   "outputs": [],
   "source": [
    "fileAdaTr = createTrainSetAdapter_02_04_25_GOOD()\n",
    "fileAdaTs = createTestSetAdapter_02_04_25_GOOD()\n",
    "\n",
    "dbAdaTr = createTrainSetDBadepter_02_04_25_GOOD()\n",
    "dbAdaTs = createTestSetDBadepter_02_04_25_GOOD()"
   ]
  },
  {
   "cell_type": "code",
   "execution_count": 7,
   "id": "fc9d4725-d790-4c5e-a32f-a5c9dbd61f80",
   "metadata": {},
   "outputs": [],
   "source": [
    "def copyData(srcAdapter, dstAdapter):\n",
    "    while True:\n",
    "        try:\n",
    "            docs = srcAdapter.load(10)\n",
    "            dstAdapter.save(docs)\n",
    "        except EXP_END_OF_DATA:\n",
    "            return"
   ]
  },
  {
   "cell_type": "code",
   "execution_count": 12,
   "id": "71c7693c-da4b-4cd6-883f-d1773ce32432",
   "metadata": {},
   "outputs": [],
   "source": [
    "copyData(fileAdaTs, dbAdaTs)"
   ]
  },
  {
   "cell_type": "code",
   "execution_count": 13,
   "id": "7c352291-3095-4d83-886a-1923d89a1aee",
   "metadata": {},
   "outputs": [
    {
     "data": {
      "text/plain": [
       "[{'tokens': ['nagios',\n",
       "   'plugin',\n",
       "   'check',\n",
       "   'raid',\n",
       "   'nagios',\n",
       "   'icinga',\n",
       "   'sensu',\n",
       "   'plugin',\n",
       "   'check',\n",
       "   'current',\n",
       "   'server',\n",
       "   'raid',\n",
       "   'status'],\n",
       "  'tags': ['github:glensc/nagios-plugin-check_raid',\n",
       "   'nagios-plugin-check_raid',\n",
       "   'Perl',\n",
       "   'icinga',\n",
       "   'icinga-plugin',\n",
       "   'monitoring',\n",
       "   'nagios',\n",
       "   'nagios-plugin',\n",
       "   'raid',\n",
       "   'sensu',\n",
       "   'sensu-plugin']},\n",
       " {'tokens': ['imdb',\n",
       "   'link',\n",
       "   'em',\n",
       "   'imdb',\n",
       "   'link',\n",
       "   'em',\n",
       "   'add',\n",
       "   'kind',\n",
       "   'link',\n",
       "   'imdb',\n",
       "   'customizable'],\n",
       "  'tags': ['github:buzz/imdb-link-em-all',\n",
       "   'imdb-link-em-all',\n",
       "   'JavaScript',\n",
       "   'browser',\n",
       "   'chrome',\n",
       "   'firefox',\n",
       "   'greasemonkey',\n",
       "   'greasyfork',\n",
       "   'imdb',\n",
       "   'tampermonkey',\n",
       "   'userscript']},\n",
       " {'tokens': ['rhash', 'great', 'utility', 'computing', 'hash', 'sum'],\n",
       "  'tags': ['github:rhash/RHash',\n",
       "   'RHash',\n",
       "   'C',\n",
       "   'checksum',\n",
       "   'digest',\n",
       "   'edon-r',\n",
       "   'gost3411-2012',\n",
       "   'hash-functions',\n",
       "   'librhash',\n",
       "   'linux',\n",
       "   'macos',\n",
       "   'magnet-link',\n",
       "   'message-digests',\n",
       "   'rhash',\n",
       "   'sha3',\n",
       "   'unix',\n",
       "   'windows']},\n",
       " {'tokens': ['achievement',\n",
       "   'watcher',\n",
       "   'sexy',\n",
       "   'achievement',\n",
       "   'file',\n",
       "   'parser',\n",
       "   'real',\n",
       "   'time',\n",
       "   'notification',\n",
       "   'automatic',\n",
       "   'screenshot',\n",
       "   'playtime',\n",
       "   'tracking',\n",
       "   'view',\n",
       "   'every',\n",
       "   'achievement',\n",
       "   'earned',\n",
       "   'pc',\n",
       "   'whether',\n",
       "   'coming',\n",
       "   'steam',\n",
       "   'steam',\n",
       "   'emulator'],\n",
       "  'tags': ['github:xan105/Achievement-Watcher',\n",
       "   'Achievement-Watcher',\n",
       "   'JavaScript',\n",
       "   'achievement',\n",
       "   'notification',\n",
       "   'playtime-tracking',\n",
       "   'rpcs3',\n",
       "   'steam',\n",
       "   'trophy',\n",
       "   'uplay']},\n",
       " {'tokens': ['xdelta',\n",
       "   'cross',\n",
       "   'gui',\n",
       "   'cross',\n",
       "   'platform',\n",
       "   'gui',\n",
       "   'creating',\n",
       "   'xdelta',\n",
       "   'patch',\n",
       "   'available',\n",
       "   'window',\n",
       "   'linux',\n",
       "   'mac'],\n",
       "  'tags': ['github:dan0v/xdelta3-cross-gui',\n",
       "   'xdelta3-cross-gui',\n",
       "   'C#',\n",
       "   'avalonia',\n",
       "   'avaloniaui',\n",
       "   'cross-platform',\n",
       "   'csharp',\n",
       "   'dotnet-core',\n",
       "   'dotnet7',\n",
       "   'gui',\n",
       "   'hacktoberfest',\n",
       "   'linux',\n",
       "   'macos',\n",
       "   'patcher',\n",
       "   'windows',\n",
       "   'xdelta3']},\n",
       " {'tokens': ['projectcpg',\n",
       "   'code',\n",
       "   'property',\n",
       "   'graph',\n",
       "   'cpg',\n",
       "   'frontend',\n",
       "   'binary',\n",
       "   'application',\n",
       "   'library',\n",
       "   'base',\n",
       "   'ghidra',\n",
       "   'project'],\n",
       "  'tags': ['github:wlingze/project2cpg',\n",
       "   'project2cpg',\n",
       "   'Scala',\n",
       "   'cpg',\n",
       "   'ghidra']},\n",
       " {'tokens': ['pycaching',\n",
       "   'python',\n",
       "   'interface',\n",
       "   'working',\n",
       "   'geocaching',\n",
       "   'com',\n",
       "   'website'],\n",
       "  'tags': ['github:tomasbedrich/pycaching',\n",
       "   'pycaching',\n",
       "   'Python',\n",
       "   'geocaching',\n",
       "   'python',\n",
       "   'scraping']},\n",
       " {'tokens': ['didjvu',\n",
       "   'djvu',\n",
       "   'encoder',\n",
       "   'foreground',\n",
       "   'background',\n",
       "   'separation',\n",
       "   'python',\n",
       "   'fork'],\n",
       "  'tags': ['github:FriedrichFroebel/didjvu',\n",
       "   'didjvu',\n",
       "   'Python',\n",
       "   'djvu',\n",
       "   'djvulibre']},\n",
       " {'tokens': ['pdfdjvu', 'pdf', 'djvu', 'converter'],\n",
       "  'tags': ['github:FriedrichFroebel/pdf2djvu',\n",
       "   'pdf2djvu',\n",
       "   'C++',\n",
       "   'djvu',\n",
       "   'djvulibre',\n",
       "   'pdf']},\n",
       " {'tokens': ['ocrodjvu', 'ocr', 'djvu', 'python', 'port'],\n",
       "  'tags': ['github:FriedrichFroebel/ocrodjvu',\n",
       "   'ocrodjvu',\n",
       "   'Python',\n",
       "   'cuneiform',\n",
       "   'djvu',\n",
       "   'gocr',\n",
       "   'ocr',\n",
       "   'ocrad',\n",
       "   'tesseract-ocr']}]"
      ]
     },
     "execution_count": 13,
     "metadata": {},
     "output_type": "execute_result"
    }
   ],
   "source": [
    "dbAdaTs.load(10)"
   ]
  },
  {
   "cell_type": "code",
   "execution_count": 15,
   "id": "4edbe34c-45ae-4199-8e6f-c0911bc90274",
   "metadata": {},
   "outputs": [
    {
     "data": {
      "text/plain": [
       "[{'tokens': ['iavl', 'merkleized', 'iavl', 'tree', 'implementation', 'go'],\n",
       "  'tags': ['github:cosmos/iavl',\n",
       "   'iavl',\n",
       "   'Go',\n",
       "   'blockchain',\n",
       "   'cryptography',\n",
       "   'merkle-tree']},\n",
       " {'tokens': ['astrolog', 'astrology', 'software', 'astrolog', 'version'],\n",
       "  'tags': ['github:CruiserOne/Astrolog',\n",
       "   'Astrolog',\n",
       "   'C++',\n",
       "   'astrolog',\n",
       "   'astrology',\n",
       "   'astrology-animation',\n",
       "   'astrology-calculator',\n",
       "   'astrology-symbols',\n",
       "   'ephemeris',\n",
       "   'planetarium']}]"
      ]
     },
     "execution_count": 15,
     "metadata": {},
     "output_type": "execute_result"
    }
   ],
   "source": [
    "dbAdaTs[[39, 399, 688967]]"
   ]
  },
  {
   "cell_type": "code",
   "execution_count": null,
   "id": "8077ab9f-ac16-45f6-82e5-31a21bfce672",
   "metadata": {},
   "outputs": [],
   "source": []
  }
 ],
 "metadata": {
  "kernelspec": {
   "display_name": "Python 3 (ipykernel)",
   "language": "python",
   "name": "python3"
  },
  "language_info": {
   "codemirror_mode": {
    "name": "ipython",
    "version": 3
   },
   "file_extension": ".py",
   "mimetype": "text/x-python",
   "name": "python",
   "nbconvert_exporter": "python",
   "pygments_lexer": "ipython3",
   "version": "3.11.11"
  }
 },
 "nbformat": 4,
 "nbformat_minor": 5
}
