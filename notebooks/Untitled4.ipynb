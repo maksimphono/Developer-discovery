{
 "cells": [
  {
   "cell_type": "code",
   "execution_count": 1,
   "id": "7298e5ca-75d4-4ae9-a8a3-0362c1d37a01",
   "metadata": {},
   "outputs": [],
   "source": [
    "import sys\n",
    "sys.path.append('/home/trukhinmaksim/src')\n",
    "import json\n",
    "import numpy as np"
   ]
  },
  {
   "cell_type": "code",
   "execution_count": 2,
   "id": "51b66d86-02c4-47b9-83e4-fefdb329e297",
   "metadata": {},
   "outputs": [
    {
     "data": {
      "text/plain": [
       "{'_id': ObjectId('67ffe4fcc341bf3203b3ced4'), 'order': 1, 'stuff': 870987}"
      ]
     },
     "execution_count": 2,
     "metadata": {},
     "output_type": "execute_result"
    }
   ],
   "source": [
    "\n",
    "from src.utils.DatabaseConnect import CacheConnector_02_04_25\n",
    "\n",
    "DB_LINK = \"mongodb://192.168.43.146:27020/\"\n",
    "\n",
    "connector = CacheConnector_02_04_25(DB_LINK)\n",
    "connector.train_02_04_25.insert_one({\"order\" : 0, \"stuff\" : 987})\n",
    "connector.train_02_04_25.insert_one({\"order\" : 1, \"stuff\" : 870987})\n",
    "connector.train_02_04_25.find_one({\"order\" : 1})"
   ]
  }
 ],
 "metadata": {
  "kernelspec": {
   "display_name": "Python 3 (ipykernel)",
   "language": "python",
   "name": "python3"
  },
  "language_info": {
   "codemirror_mode": {
    "name": "ipython",
    "version": 3
   },
   "file_extension": ".py",
   "mimetype": "text/x-python",
   "name": "python",
   "nbconvert_exporter": "python",
   "pygments_lexer": "ipython3",
   "version": "3.11.11"
  }
 },
 "nbformat": 4,
 "nbformat_minor": 5
}
