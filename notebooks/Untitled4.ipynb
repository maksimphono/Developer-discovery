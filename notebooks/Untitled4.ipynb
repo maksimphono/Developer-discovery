{
 "cells": [
  {
   "cell_type": "code",
   "execution_count": 1,
   "id": "7298e5ca-75d4-4ae9-a8a3-0362c1d37a01",
   "metadata": {},
   "outputs": [],
   "source": [
    "import sys\n",
    "sys.path.append('/home/trukhinmaksim/src')\n",
    "import json\n",
    "import numpy as np"
   ]
  },
  {
   "cell_type": "code",
   "execution_count": 2,
   "id": "51b66d86-02c4-47b9-83e4-fefdb329e297",
   "metadata": {},
   "outputs": [
    {
     "data": {
      "text/plain": [
       "{'order': 5,\n",
       " 'tokens': ['qwerty', 'asdfg', 'zxcvb'],\n",
       " 'tags': ['t3'],\n",
       " '_id': ObjectId('6800054ab6d942c88786313e')}"
      ]
     },
     "execution_count": 2,
     "metadata": {},
     "output_type": "execute_result"
    }
   ],
   "source": [
    "\n",
    "from src.utils.DatabaseConnect import CacheConnector_02_04_25\n",
    "from src.utils.CacheAdapter import createTrainSetDBadepter_02_04_25_GOOD\n",
    "\n",
    "adapter = createTrainSetDBadepter_02_04_25_GOOD()\n",
    "adapter.save({\"tokens\" : [\"a\", \"b\"], \"tags\" : [\"t1\", \"t2\", \"t3\"]})\n",
    "adapter.save({\"tokens\" : [\"qwerty\", \"asdfg\", \"zxcvb\"], \"tags\" : [\"t3\"]})"
   ]
  },
  {
   "cell_type": "code",
   "execution_count": 3,
   "id": "633dd7b6-1d37-487a-83ed-b8e2f828eb0c",
   "metadata": {},
   "outputs": [
    {
     "data": {
      "text/plain": [
       "{'_id': ObjectId('67ffe4fcc341bf3203b3ced3'), 'order': 0, 'stuff': 987}"
      ]
     },
     "execution_count": 3,
     "metadata": {},
     "output_type": "execute_result"
    }
   ],
   "source": [
    "adapter.load(1)[0]"
   ]
  },
  {
   "cell_type": "code",
   "execution_count": 8,
   "id": "e80c3b3d-eedb-44b1-aed3-37c583843840",
   "metadata": {},
   "outputs": [
    {
     "data": {
      "text/plain": [
       "[{'stuff': 870987}, {'tokens': ['qwerty', 'asdfg', 'zxcvb'], 'tags': ['t3']}]"
      ]
     },
     "execution_count": 8,
     "metadata": {},
     "output_type": "execute_result"
    }
   ],
   "source": [
    "adapter[[1, 5]]"
   ]
  },
  {
   "cell_type": "code",
   "execution_count": null,
   "id": "c678666c-6edc-482b-aa9d-8602bbd5121d",
   "metadata": {},
   "outputs": [],
   "source": []
  }
 ],
 "metadata": {
  "kernelspec": {
   "display_name": "Python 3 (ipykernel)",
   "language": "python",
   "name": "python3"
  },
  "language_info": {
   "codemirror_mode": {
    "name": "ipython",
    "version": 3
   },
   "file_extension": ".py",
   "mimetype": "text/x-python",
   "name": "python",
   "nbconvert_exporter": "python",
   "pygments_lexer": "ipython3",
   "version": "3.11.11"
  }
 },
 "nbformat": 4,
 "nbformat_minor": 5
}
