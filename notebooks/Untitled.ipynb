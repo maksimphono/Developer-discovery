{
 "cells": [
  {
   "cell_type": "code",
   "execution_count": 1,
   "id": "086a7a60-bb41-4ab3-bcc9-c8c3e5bf8ccf",
   "metadata": {},
   "outputs": [],
   "source": [
    "import sys\n",
    "sys.path.append('/home/trukhinmaksim/src')"
   ]
  },
  {
   "cell_type": "code",
   "execution_count": 2,
   "id": "a56d3e24-22f5-4fd7-a3bc-360b6290b232",
   "metadata": {},
   "outputs": [
    {
     "name": "stdout",
     "output_type": "stream",
     "text": [
      "Collection(Database(MongoClient(host=['10.22.112.39:27020'], document_class=dict, tz_aware=False, connect=True), 'mini_database'), 'projects')\n"
     ]
    }
   ],
   "source": [
    "from src.utils.DatabaseConnect import DatabaseConnect\n",
    "\n",
    "# single machine setup (mongo is running here localy)\n",
    "# \"ip a\" for ip address\n",
    "MY_DATABASE_LINK = 'mongodb://10.22.112.39:27020/' #'mongodb://192.168.100.57:27020/'\n",
    "# multiple mechine setup (mongo is running on another machine)\n",
    "#MY_DATABASE_LINK = 'mongodb://192.168.43.78:27020/'\n",
    "\n",
    "DatabaseConnect.DB_LINK = MY_DATABASE_LINK\n",
    "\n",
    "projectsCollection = DatabaseConnect.mini_database.projects()\n",
    "usersCollection = DatabaseConnect.mini_database.users()\n",
    "print(projectsCollection)"
   ]
  },
  {
   "cell_type": "code",
   "execution_count": 3,
   "id": "4f2c73ac-26e8-45d9-bfb5-97db5161e9a9",
   "metadata": {},
   "outputs": [],
   "source": [
    "from src.utils.CacheAdapter import JSONAdapter\n",
    "from src.utils.DatasetManager import ProjectsDatasetManager"
   ]
  },
  {
   "cell_type": "code",
   "execution_count": 4,
   "id": "4a7f34ec-ccb8-4910-b768-c29a753c493c",
   "metadata": {},
   "outputs": [
    {
     "name": "stdout",
     "output_type": "stream",
     "text": [
      "经典\n",
      "classic\n",
      "react-native 水平/竖直滚动跑马灯。支持多个text数据，支持点击事件回调，自定义宽度、样式。\n",
      "react-native horizontal/vertical rolling marquee. Supports multiple text data, supports click event callbacks, and customizes width and style.\n",
      "React-Native 多图片选择 支持裁剪 压缩\n",
      "React-Native 多图片选择 支持裁剪 压缩\n",
      "🚩 FastImage, performant React Native image component.\n",
      "🚩 FastImage, performant React Native image component.\n",
      "🚩 FastImage, performant React Native image component.\n",
      "🚩 FastImage, performant React Native image component.\n",
      "React-Native 多图片选择 支持裁剪 压缩\n",
      "React-Native 多图片选择 支持裁剪 压缩\n",
      "JPush's officially supported React Native plugin (Android & iOS). 极光推送官方支持的 React Native 插件（Android & iOS）。\n",
      "JPush's officially supported React Native plugin (Android & iOS). 极光推送官方支持的 React Native 插件（Android & iOS）。\n",
      "react-native 水平/竖直滚动跑马灯。支持多个text数据，支持点击事件回调，自定义宽度、样式。\n",
      "react-native horizontal/vertical rolling marquee. Supports multiple text data, supports click event callbacks, and customizes width and style.\n",
      "基于 React Native 的宝支付包，已更新到最新的支付宝 SDK 版本，支持Android/iOS。\n",
      "基于 React Native 的宝支付包，已更新到最新的支付宝 SDK 版本，支持Android/iOS。\n",
      "网易云信React Native组件\n",
      "网易云信React Native组件\n",
      "本项目是用GO语言实现的网易云信的服务端API封装\n",
      "This project is a server-side API encapsulation of NetEase Cloud News implemented in GO language\n",
      "阿里云【本机号码一键登录/本机号码认证】功能react-native库\n",
      "阿里云【本机号码一键登录/本机号码认证】功能react-native库\n",
      "贵州省劳动科学院安全标准化监管系统，基于angular 8.2.9\n",
      "Guizhou Academy of Labor Science Safety Standardization Supervision System, based on angular 8.2.9\n",
      "安全管理平台\n",
      "Security management platform\n",
      "贵州高投集团服务区商家收银APP（Android端）基于react-native0.61.2\n",
      "Guizhou Gaotou Group Service Area Merchant Checkout APP (Android side) is based on react-native0.61.2\n",
      "js深入学习\n",
      "js in-depth learning\n",
      "贵州省劳动科学院安全标准化监管系统APP（Android端），基于react 16.9.0，react-native 0.61.5\n",
      "Guizhou Academy of Labor Science Safety Standardization Supervision System APP (Android side), based on react 16.9.0, react-native 0.61.5\n",
      "官网前台管理端，基于react v17.0.1，antd v4.10.3\n",
      "The front-end management side of the official website, based on react v17.0.1, antd v4.10.3\n",
      "react-native工程目录包\n",
      "react-native工程目录包\n",
      "基于VUE的高投服务区商家web端收银系统\n",
      "VUE-based high-investment service area merchant web cash register system\n",
      "微信问卷调查后台系统，基于TP3.2.3\n",
      "WeChat questionnaire survey backend system, based on TP3.2.3\n",
      "react-native学习\n",
      "react-native学习\n",
      "云山智舍管理端\n",
      "Yunshan Intelligent House Management End\n",
      "贵州高投服务区数据监控系统，基于angular5.2.0\n"
     ]
    },
    {
     "ename": "KeyboardInterrupt",
     "evalue": "",
     "output_type": "error",
     "traceback": [
      "\u001b[0;31m---------------------------------------------------------------------------\u001b[0m",
      "\u001b[0;31mKeyboardInterrupt\u001b[0m                         Traceback (most recent call last)",
      "Cell \u001b[0;32mIn[4], line 9\u001b[0m\n\u001b[1;32m      7\u001b[0m \u001b[38;5;28;01mif\u001b[39;00m \u001b[38;5;28mlen\u001b[39m(project[\u001b[38;5;124m\"\u001b[39m\u001b[38;5;124mdescription\u001b[39m\u001b[38;5;124m\"\u001b[39m]) \u001b[38;5;129;01mand\u001b[39;00m \u001b[38;5;129;01mnot\u001b[39;00m project[\u001b[38;5;124m\"\u001b[39m\u001b[38;5;124mdescription\u001b[39m\u001b[38;5;124m\"\u001b[39m]\u001b[38;5;241m.\u001b[39misascii():\n\u001b[1;32m      8\u001b[0m     \u001b[38;5;28mprint\u001b[39m(project[\u001b[38;5;124m\"\u001b[39m\u001b[38;5;124mdescription\u001b[39m\u001b[38;5;124m\"\u001b[39m])\n\u001b[0;32m----> 9\u001b[0m     \u001b[38;5;28mprint\u001b[39m(\u001b[43mmanager\u001b[49m\u001b[38;5;241;43m.\u001b[39;49m\u001b[43mtranslateText\u001b[49m\u001b[43m(\u001b[49m\u001b[43mproject\u001b[49m\u001b[43m[\u001b[49m\u001b[38;5;124;43m\"\u001b[39;49m\u001b[38;5;124;43mdescription\u001b[39;49m\u001b[38;5;124;43m\"\u001b[39;49m\u001b[43m]\u001b[49m\u001b[43m)\u001b[49m)\n\u001b[1;32m     11\u001b[0m count \u001b[38;5;241m-\u001b[39m\u001b[38;5;241m=\u001b[39m \u001b[38;5;241m1\u001b[39m\n",
      "File \u001b[0;32m~/src/src/utils/DatasetManager.py:152\u001b[0m, in \u001b[0;36mProjectsDatasetManager.translateText\u001b[0;34m(self, text, retry)\u001b[0m\n\u001b[1;32m    149\u001b[0m         \u001b[38;5;28;01mreturn\u001b[39;00m result\n\u001b[1;32m    151\u001b[0m     nest_asyncio\u001b[38;5;241m.\u001b[39mapply()  \u001b[38;5;66;03m# Patch the event loop    \u001b[39;00m\n\u001b[0;32m--> 152\u001b[0m     \u001b[38;5;28;01mreturn\u001b[39;00m \u001b[43masyncio\u001b[49m\u001b[38;5;241;43m.\u001b[39;49m\u001b[43mrun\u001b[49m\u001b[43m(\u001b[49m\u001b[43minner\u001b[49m\u001b[43m(\u001b[49m\u001b[43m)\u001b[49m\u001b[43m)\u001b[49m\u001b[38;5;241m.\u001b[39mtext\n\u001b[1;32m    154\u001b[0m \u001b[38;5;28;01mexcept\u001b[39;00m \u001b[38;5;167;01mException\u001b[39;00m \u001b[38;5;28;01mas\u001b[39;00m exp:\n\u001b[1;32m    155\u001b[0m     \u001b[38;5;66;03m# assume, that the text is in Chinese and translate it using argos translator\u001b[39;00m\n\u001b[1;32m    156\u001b[0m     sleep(random() \u001b[38;5;241m*\u001b[39m \u001b[38;5;241m6\u001b[39m)\n",
      "File \u001b[0;32m/usr/local/lib/python3.11/site-packages/nest_asyncio.py:30\u001b[0m, in \u001b[0;36m_patch_asyncio.<locals>.run\u001b[0;34m(main, debug)\u001b[0m\n\u001b[1;32m     28\u001b[0m task \u001b[38;5;241m=\u001b[39m asyncio\u001b[38;5;241m.\u001b[39mensure_future(main)\n\u001b[1;32m     29\u001b[0m \u001b[38;5;28;01mtry\u001b[39;00m:\n\u001b[0;32m---> 30\u001b[0m     \u001b[38;5;28;01mreturn\u001b[39;00m \u001b[43mloop\u001b[49m\u001b[38;5;241;43m.\u001b[39;49m\u001b[43mrun_until_complete\u001b[49m\u001b[43m(\u001b[49m\u001b[43mtask\u001b[49m\u001b[43m)\u001b[49m\n\u001b[1;32m     31\u001b[0m \u001b[38;5;28;01mfinally\u001b[39;00m:\n\u001b[1;32m     32\u001b[0m     \u001b[38;5;28;01mif\u001b[39;00m \u001b[38;5;129;01mnot\u001b[39;00m task\u001b[38;5;241m.\u001b[39mdone():\n",
      "File \u001b[0;32m/usr/local/lib/python3.11/site-packages/nest_asyncio.py:92\u001b[0m, in \u001b[0;36m_patch_loop.<locals>.run_until_complete\u001b[0;34m(self, future)\u001b[0m\n\u001b[1;32m     90\u001b[0m     f\u001b[38;5;241m.\u001b[39m_log_destroy_pending \u001b[38;5;241m=\u001b[39m \u001b[38;5;28;01mFalse\u001b[39;00m\n\u001b[1;32m     91\u001b[0m \u001b[38;5;28;01mwhile\u001b[39;00m \u001b[38;5;129;01mnot\u001b[39;00m f\u001b[38;5;241m.\u001b[39mdone():\n\u001b[0;32m---> 92\u001b[0m     \u001b[38;5;28;43mself\u001b[39;49m\u001b[38;5;241;43m.\u001b[39;49m\u001b[43m_run_once\u001b[49m\u001b[43m(\u001b[49m\u001b[43m)\u001b[49m\n\u001b[1;32m     93\u001b[0m     \u001b[38;5;28;01mif\u001b[39;00m \u001b[38;5;28mself\u001b[39m\u001b[38;5;241m.\u001b[39m_stopping:\n\u001b[1;32m     94\u001b[0m         \u001b[38;5;28;01mbreak\u001b[39;00m\n",
      "File \u001b[0;32m/usr/local/lib/python3.11/site-packages/nest_asyncio.py:115\u001b[0m, in \u001b[0;36m_patch_loop.<locals>._run_once\u001b[0;34m(self)\u001b[0m\n\u001b[1;32m    108\u001b[0m     heappop(scheduled)\n\u001b[1;32m    110\u001b[0m timeout \u001b[38;5;241m=\u001b[39m (\n\u001b[1;32m    111\u001b[0m     \u001b[38;5;241m0\u001b[39m \u001b[38;5;28;01mif\u001b[39;00m ready \u001b[38;5;129;01mor\u001b[39;00m \u001b[38;5;28mself\u001b[39m\u001b[38;5;241m.\u001b[39m_stopping\n\u001b[1;32m    112\u001b[0m     \u001b[38;5;28;01melse\u001b[39;00m \u001b[38;5;28mmin\u001b[39m(\u001b[38;5;28mmax\u001b[39m(\n\u001b[1;32m    113\u001b[0m         scheduled[\u001b[38;5;241m0\u001b[39m]\u001b[38;5;241m.\u001b[39m_when \u001b[38;5;241m-\u001b[39m \u001b[38;5;28mself\u001b[39m\u001b[38;5;241m.\u001b[39mtime(), \u001b[38;5;241m0\u001b[39m), \u001b[38;5;241m86400\u001b[39m) \u001b[38;5;28;01mif\u001b[39;00m scheduled\n\u001b[1;32m    114\u001b[0m     \u001b[38;5;28;01melse\u001b[39;00m \u001b[38;5;28;01mNone\u001b[39;00m)\n\u001b[0;32m--> 115\u001b[0m event_list \u001b[38;5;241m=\u001b[39m \u001b[38;5;28;43mself\u001b[39;49m\u001b[38;5;241;43m.\u001b[39;49m\u001b[43m_selector\u001b[49m\u001b[38;5;241;43m.\u001b[39;49m\u001b[43mselect\u001b[49m\u001b[43m(\u001b[49m\u001b[43mtimeout\u001b[49m\u001b[43m)\u001b[49m\n\u001b[1;32m    116\u001b[0m \u001b[38;5;28mself\u001b[39m\u001b[38;5;241m.\u001b[39m_process_events(event_list)\n\u001b[1;32m    118\u001b[0m end_time \u001b[38;5;241m=\u001b[39m \u001b[38;5;28mself\u001b[39m\u001b[38;5;241m.\u001b[39mtime() \u001b[38;5;241m+\u001b[39m \u001b[38;5;28mself\u001b[39m\u001b[38;5;241m.\u001b[39m_clock_resolution\n",
      "File \u001b[0;32m/usr/local/lib/python3.11/selectors.py:468\u001b[0m, in \u001b[0;36mEpollSelector.select\u001b[0;34m(self, timeout)\u001b[0m\n\u001b[1;32m    466\u001b[0m ready \u001b[38;5;241m=\u001b[39m []\n\u001b[1;32m    467\u001b[0m \u001b[38;5;28;01mtry\u001b[39;00m:\n\u001b[0;32m--> 468\u001b[0m     fd_event_list \u001b[38;5;241m=\u001b[39m \u001b[38;5;28mself\u001b[39m\u001b[38;5;241m.\u001b[39m_selector\u001b[38;5;241m.\u001b[39mpoll(timeout, max_ev)\n\u001b[1;32m    469\u001b[0m \u001b[38;5;28;01mexcept\u001b[39;00m \u001b[38;5;167;01mInterruptedError\u001b[39;00m:\n\u001b[1;32m    470\u001b[0m     \u001b[38;5;28;01mreturn\u001b[39;00m ready\n",
      "\u001b[0;31mKeyboardInterrupt\u001b[0m: "
     ]
    }
   ],
   "source": [
    "manager = ProjectsDatasetManager(1, validate = lambda x: True)\n",
    "\n",
    "count = 15000\n",
    "\n",
    "for project in projectsCollection.find():\n",
    "    if count <= 0: break\n",
    "    if len(project[\"description\"]) and not project[\"description\"].isascii():\n",
    "        print(project[\"description\"])\n",
    "        print(manager.translateText(project[\"description\"]))\n",
    "\n",
    "    count -= 1\n"
   ]
  },
  {
   "cell_type": "code",
   "execution_count": null,
   "id": "7e40551f-5f24-41a3-975f-9d0760e87a1c",
   "metadata": {},
   "outputs": [],
   "source": [
    "from langdetect import detect\n",
    "detect(\"基于的高投服务区商家\")"
   ]
  },
  {
   "cell_type": "code",
   "execution_count": null,
   "id": "bf392fd4-3bff-4db2-9d31-00df98aa45e0",
   "metadata": {},
   "outputs": [],
   "source": [
    "2/0\n",
    "import argostranslate.package\n",
    "import argostranslate.translate\n",
    "\n",
    "def downloadArgosLangPackages(langList = [\"es\", \"pt\", \"zh\", \"zt\", \"ru\", \"de\", \"ja\", \"ko\"]):\n",
    "    argostranslate.package.update_package_index()\n",
    "    available_packages = argostranslate.package.get_available_packages()\n",
    "    packages = list(filter(lambda pkg: pkg.from_code in langList and pkg.to_code == \"en\", available_packages))\n",
    "    print(packages)\n",
    "    for pkg in packages:\n",
    "        argostranslate.package.install_from_path(pkg.download())\n",
    "\n",
    "downloadArgosLangPackages([\"ko\"])"
   ]
  },
  {
   "cell_type": "code",
   "execution_count": null,
   "id": "633328a8-65ff-4e3f-8518-106e28d4ceb8",
   "metadata": {},
   "outputs": [],
   "source": []
  }
 ],
 "metadata": {
  "kernelspec": {
   "display_name": "Python 3 (ipykernel)",
   "language": "python",
   "name": "python3"
  },
  "language_info": {
   "codemirror_mode": {
    "name": "ipython",
    "version": 3
   },
   "file_extension": ".py",
   "mimetype": "text/x-python",
   "name": "python",
   "nbconvert_exporter": "python",
   "pygments_lexer": "ipython3",
   "version": "3.11.11"
  }
 },
 "nbformat": 4,
 "nbformat_minor": 5
}
