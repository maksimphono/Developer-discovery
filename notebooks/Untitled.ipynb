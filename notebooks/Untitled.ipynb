{
 "cells": [
  {
   "cell_type": "code",
   "execution_count": 1,
   "id": "086a7a60-bb41-4ab3-bcc9-c8c3e5bf8ccf",
   "metadata": {},
   "outputs": [],
   "source": [
    "import sys\n",
    "sys.path.append('/home/trukhinmaksim/src')"
   ]
  },
  {
   "cell_type": "code",
   "execution_count": 2,
   "id": "a56d3e24-22f5-4fd7-a3bc-360b6290b232",
   "metadata": {},
   "outputs": [
    {
     "name": "stdout",
     "output_type": "stream",
     "text": [
      "Collection(Database(MongoClient(host=['10.22.112.39:27020'], document_class=dict, tz_aware=False, connect=True), 'mini_database'), 'projects')\n"
     ]
    }
   ],
   "source": [
    "from src.utils.DatabaseConnect import DatabaseConnect\n",
    "\n",
    "# single machine setup (mongo is running here localy)\n",
    "# \"ip a\" for ip address\n",
    "MY_DATABASE_LINK = 'mongodb://10.22.112.39:27020/' #'mongodb://192.168.100.57:27020/'\n",
    "# multiple mechine setup (mongo is running on another machine)\n",
    "#MY_DATABASE_LINK = 'mongodb://192.168.43.78:27020/'\n",
    "\n",
    "DatabaseConnect.DB_LINK = MY_DATABASE_LINK\n",
    "\n",
    "projectsCollection = DatabaseConnect.mini_database.projects()\n",
    "usersCollection = DatabaseConnect.mini_database.users()\n",
    "print(projectsCollection)"
   ]
  },
  {
   "cell_type": "code",
   "execution_count": 3,
   "id": "4f2c73ac-26e8-45d9-bfb5-97db5161e9a9",
   "metadata": {},
   "outputs": [],
   "source": [
    "from src.utils.CacheAdapter import JSONAdapter\n",
    "from src.utils.DatasetManager import ProjectsDatasetManager"
   ]
  },
  {
   "cell_type": "code",
   "execution_count": 4,
   "id": "4a7f34ec-ccb8-4910-b768-c29a753c493c",
   "metadata": {},
   "outputs": [
    {
     "name": "stdout",
     "output_type": "stream",
     "text": [
      "经典\n",
      "classic\n",
      "react-native 水平/竖直滚动跑马灯。支持多个text数据，支持点击事件回调，自定义宽度、样式。\n",
      "react-native horizontal/vertical rolling marquee. Supports multiple text data, supports click event callbacks, and customizes width and style.\n",
      "React-Native 多图片选择 支持裁剪 压缩\n",
      "React-Native Multi-image selection Support cropping and compression\n",
      "🚩 FastImage, performant React Native image component.\n",
      "🚩 FastImage, performant React Native image component.\n",
      "🚩 FastImage, performant React Native image component.\n",
      "🚩 FastImage, performant React Native image component.\n",
      "React-Native 多图片选择 支持裁剪 压缩\n",
      "React-Native Multi-image selection Support cropping and compression\n",
      "JPush's officially supported React Native plugin (Android & iOS). 极光推送官方支持的 React Native 插件（Android & iOS）。\n",
      "JPush's officially supported React Native plugin (Android & iOS). React Native plugin (Android & iOS) officially supported by Aurora Push.\n",
      "react-native 水平/竖直滚动跑马灯。支持多个text数据，支持点击事件回调，自定义宽度、样式。\n",
      "Conection error, retrying\n",
      "react-native horizontal/vertical rolling marquee. Supports multiple text data, supports click event callbacks, and customizes width and style.\n",
      "基于 React Native 的宝支付包，已更新到最新的支付宝 SDK 版本，支持Android/iOS。\n",
      "The Bao payment package based on React Native has been updated to the latest Alipay SDK version and supports Android/iOS.\n",
      "网易云信React Native组件\n",
      "NetEase Cloud React Native Components\n",
      "本项目是用GO语言实现的网易云信的服务端API封装\n",
      "This project is a server-side API encapsulation of NetEase Cloud News implemented in GO language\n",
      "阿里云【本机号码一键登录/本机号码认证】功能react-native库\n",
      "Alibaba Cloud [One-click login for native number/Native number authentication] function react-native library\n",
      "贵州省劳动科学院安全标准化监管系统，基于angular 8.2.9\n",
      "Guizhou Academy of Labor Science Safety Standardization Supervision System, based on angular 8.2.9\n",
      "安全管理平台\n",
      "Security management platform\n",
      "贵州高投集团服务区商家收银APP（Android端）基于react-native0.61.2\n",
      "Guizhou Gaotou Group Service Area Merchant Checkout APP (Android side) is based on react-native0.61.2\n",
      "js深入学习\n",
      "js in-depth learning\n",
      "贵州省劳动科学院安全标准化监管系统APP（Android端），基于react 16.9.0，react-native 0.61.5\n",
      "Guizhou Academy of Labor Science Safety Standardization Supervision System APP (Android side), based on react 16.9.0, react-native 0.61.5\n",
      "官网前台管理端，基于react v17.0.1，antd v4.10.3\n",
      "The front-end management side of the official website, based on react v17.0.1, antd v4.10.3\n",
      "react-native工程目录包\n",
      "react-native project directory package\n",
      "基于VUE的高投服务区商家web端收银系统\n",
      "VUE-based high-investment service area merchant web cash register system\n",
      "微信问卷调查后台系统，基于TP3.2.3\n",
      "WeChat questionnaire survey backend system, based on TP3.2.3\n",
      "react-native学习\n",
      "Conection error, retrying\n",
      "react-native learning\n",
      "云山智舍管理端\n",
      "Yunshan Intelligent House Management End\n",
      "贵州高投服务区数据监控系统，基于angular5.2.0\n",
      "Guizhou Gaotou Service Area Data Monitoring System, based on angular5.2.0\n",
      "手动配置webpack\n",
      "Conection error, retrying\n",
      "Manually configure webpack\n",
      "贵州高投集团服务区收银商家web客户端，基于vue开发\n",
      "Guizhou Gaotou Group Service Area Cash Merchant Web Client, developed based on vue\n",
      "php学习\n",
      "Conection error, retrying\n",
      "Conection error, retrying\n",
      "PHP Learning\n",
      "住房溯源追踪系统，基于Vue.js v2.6.11\n",
      "Conection error, retrying\n",
      "Housing traceability tracking system, based on Vue.js v2.6.11\n",
      "css3属性运用demo\n",
      "Use demo for css3 attribute\n",
      "#AceleraDev: React Native promovido pela plataforma de educação SAS  :building_construction:\n",
      "#Aceleradev: React Native promoted by the SAS Education Platform: Building_Construction:\n",
      " :iphone: Projeto desenvolvido durante a aceleração de React Native da Codenation em parceria com a empresa SAS\n",
      "Conection error, retrying\n",
      "Conection error, retrying\n",
      ": iPhone: project developed during Codenation's react native acceleration in partnership with the company SAS\n",
      "Boilerplate criado no cruso de react avançado\n",
      "Boilerplate created in the advanced react course\n",
      "repositório para salvar meus códigos mais 'simples' de forma automática pelo repl.it\n",
      "Conection error, retrying\n",
      "repository to save my codes more 'simple' automatically by repl.it\n",
      "📚 Source code and documentation for the official docs website. \n",
      "📚 Source code and documentation for the official docs website.\n",
      "⚡️ Express inspired web framework written in Go\n",
      "⚡️ Express inspired web framework written in Go\n",
      "⚡️ Fiber is an Express inspired web framework written in Go with ☕️\n",
      "⚡️ Fiber is an Express inspired web framework written in Go with ☕️\n",
      "基于Vue的宿舍管理系统\n",
      "Conection error, retrying\n",
      "Vue-based dormitory management system\n",
      "一个通用的个人网站的引导页、导航页模板\n",
      "A common guide page and navigation page template for personal websites\n",
      "个人博客\n",
      "Personal Blog\n",
      "基于Vue、Koa的开源wiki系统  == 弃坑 ==\n",
      "Open source wiki system based on Vue and Koa == Abandoned pit ==\n",
      "第三方七牛云图床管理服务(Dev)\n",
      "Third-party Qiniu Cloud Map Bed Management Service (Dev)\n",
      "基于Typescript的koa\n",
      "Typescript-based koa\n",
      "第三方百度统计无埋点版本 RN 端 sdk\n",
      "Conection error, retrying\n",
      "Third-party Baidu statistics without buried point version RN terminal sdk\n",
      "一枚前端开发者的小本本 :new_moon_with_face: \n",
      "A small notebook for a front-end developer: new_moon_with_face:\n",
      "Vue3 项目基于 Webpack5 的服务端渲染（SSR）实践\n",
      "Vue3 project's Webpack5-based server-side rendering (SSR) practice\n",
      "论文引用格式生成器\n",
      "Conection error, retrying\n",
      "Paper Citation Format Generator\n",
      "由 HTML DOM 自动生成 TOC 目录\n",
      "Automatically generate TOC directories by HTML DOM\n",
      "vue 项目模板\n",
      "vue project template\n",
      "webpack 项目模板\n",
      "webpack project template\n",
      "一个简易的报名系统\n",
      "A simple registration system\n",
      "Slidev 的 monorepo 管理模式最佳实践\n",
      "Slidev's monorepo management model best practices\n",
      "小游戏合集\n",
      "Small game collection\n",
      "ThreeJS 以及 WebGL 的简单 demo\n",
      "Simple demo of ThreeJS and WebGL\n",
      "webpack5项目模板\n",
      "webpack5 project template\n",
      "一个简易的文件上传服务\n",
      "A simple file upload service\n",
      "Sua plataforma de ensino à distância.Conecte-se com os melhores professores! :rocket:\n",
      "Your distance learning platform. Settle with the best teachers! : Rocket:\n",
      "Seu hortifrutti nunca esteve tão perto de você.\n",
      "Your Hortifrutti has never been so close to you.\n",
      "Programa que aceite como entrada um arquivo de texto e responda se o arquivo está no formato de um programa. \n"
     ]
    },
    {
     "ename": "KeyboardInterrupt",
     "evalue": "",
     "output_type": "error",
     "traceback": [
      "\u001b[0;31m---------------------------------------------------------------------------\u001b[0m",
      "\u001b[0;31mKeyboardInterrupt\u001b[0m                         Traceback (most recent call last)",
      "Cell \u001b[0;32mIn[4], line 9\u001b[0m\n\u001b[1;32m      7\u001b[0m \u001b[38;5;28;01mif\u001b[39;00m \u001b[38;5;28mlen\u001b[39m(project[\u001b[38;5;124m\"\u001b[39m\u001b[38;5;124mdescription\u001b[39m\u001b[38;5;124m\"\u001b[39m]) \u001b[38;5;129;01mand\u001b[39;00m \u001b[38;5;129;01mnot\u001b[39;00m project[\u001b[38;5;124m\"\u001b[39m\u001b[38;5;124mdescription\u001b[39m\u001b[38;5;124m\"\u001b[39m]\u001b[38;5;241m.\u001b[39misascii():\n\u001b[1;32m      8\u001b[0m     \u001b[38;5;28mprint\u001b[39m(project[\u001b[38;5;124m\"\u001b[39m\u001b[38;5;124mdescription\u001b[39m\u001b[38;5;124m\"\u001b[39m])\n\u001b[0;32m----> 9\u001b[0m     \u001b[38;5;28mprint\u001b[39m(\u001b[43mmanager\u001b[49m\u001b[38;5;241;43m.\u001b[39;49m\u001b[43mtranslateText\u001b[49m\u001b[43m(\u001b[49m\u001b[43mproject\u001b[49m\u001b[43m[\u001b[49m\u001b[38;5;124;43m\"\u001b[39;49m\u001b[38;5;124;43mdescription\u001b[39;49m\u001b[38;5;124;43m\"\u001b[39;49m\u001b[43m]\u001b[49m\u001b[43m)\u001b[49m)\n\u001b[1;32m     11\u001b[0m count \u001b[38;5;241m-\u001b[39m\u001b[38;5;241m=\u001b[39m \u001b[38;5;241m1\u001b[39m\n",
      "File \u001b[0;32m~/src/src/utils/DatasetManager.py:150\u001b[0m, in \u001b[0;36mProjectsDatasetManager.translateText\u001b[0;34m(self, text, retry)\u001b[0m\n\u001b[1;32m    147\u001b[0m         \u001b[38;5;28;01mreturn\u001b[39;00m result\n\u001b[1;32m    149\u001b[0m     nest_asyncio\u001b[38;5;241m.\u001b[39mapply()  \u001b[38;5;66;03m# Patch the event loop    \u001b[39;00m\n\u001b[0;32m--> 150\u001b[0m     \u001b[38;5;28;01mreturn\u001b[39;00m \u001b[43masyncio\u001b[49m\u001b[38;5;241;43m.\u001b[39;49m\u001b[43mrun\u001b[49m\u001b[43m(\u001b[49m\u001b[43minner\u001b[49m\u001b[43m(\u001b[49m\u001b[43m)\u001b[49m\u001b[43m)\u001b[49m\u001b[38;5;241m.\u001b[39mtext\n\u001b[1;32m    152\u001b[0m \u001b[38;5;28;01mexcept\u001b[39;00m \u001b[38;5;167;01mException\u001b[39;00m \u001b[38;5;28;01mas\u001b[39;00m exp:\n\u001b[1;32m    153\u001b[0m     \u001b[38;5;66;03m# assume, that the text is in Chinese and translate it using argos translator\u001b[39;00m\n\u001b[1;32m    154\u001b[0m     sleep(random() \u001b[38;5;241m*\u001b[39m \u001b[38;5;241m8\u001b[39m)\n",
      "File \u001b[0;32m/usr/local/lib/python3.11/site-packages/nest_asyncio.py:30\u001b[0m, in \u001b[0;36m_patch_asyncio.<locals>.run\u001b[0;34m(main, debug)\u001b[0m\n\u001b[1;32m     28\u001b[0m task \u001b[38;5;241m=\u001b[39m asyncio\u001b[38;5;241m.\u001b[39mensure_future(main)\n\u001b[1;32m     29\u001b[0m \u001b[38;5;28;01mtry\u001b[39;00m:\n\u001b[0;32m---> 30\u001b[0m     \u001b[38;5;28;01mreturn\u001b[39;00m \u001b[43mloop\u001b[49m\u001b[38;5;241;43m.\u001b[39;49m\u001b[43mrun_until_complete\u001b[49m\u001b[43m(\u001b[49m\u001b[43mtask\u001b[49m\u001b[43m)\u001b[49m\n\u001b[1;32m     31\u001b[0m \u001b[38;5;28;01mfinally\u001b[39;00m:\n\u001b[1;32m     32\u001b[0m     \u001b[38;5;28;01mif\u001b[39;00m \u001b[38;5;129;01mnot\u001b[39;00m task\u001b[38;5;241m.\u001b[39mdone():\n",
      "File \u001b[0;32m/usr/local/lib/python3.11/site-packages/nest_asyncio.py:92\u001b[0m, in \u001b[0;36m_patch_loop.<locals>.run_until_complete\u001b[0;34m(self, future)\u001b[0m\n\u001b[1;32m     90\u001b[0m     f\u001b[38;5;241m.\u001b[39m_log_destroy_pending \u001b[38;5;241m=\u001b[39m \u001b[38;5;28;01mFalse\u001b[39;00m\n\u001b[1;32m     91\u001b[0m \u001b[38;5;28;01mwhile\u001b[39;00m \u001b[38;5;129;01mnot\u001b[39;00m f\u001b[38;5;241m.\u001b[39mdone():\n\u001b[0;32m---> 92\u001b[0m     \u001b[38;5;28;43mself\u001b[39;49m\u001b[38;5;241;43m.\u001b[39;49m\u001b[43m_run_once\u001b[49m\u001b[43m(\u001b[49m\u001b[43m)\u001b[49m\n\u001b[1;32m     93\u001b[0m     \u001b[38;5;28;01mif\u001b[39;00m \u001b[38;5;28mself\u001b[39m\u001b[38;5;241m.\u001b[39m_stopping:\n\u001b[1;32m     94\u001b[0m         \u001b[38;5;28;01mbreak\u001b[39;00m\n",
      "File \u001b[0;32m/usr/local/lib/python3.11/site-packages/nest_asyncio.py:133\u001b[0m, in \u001b[0;36m_patch_loop.<locals>._run_once\u001b[0;34m(self)\u001b[0m\n\u001b[1;32m    130\u001b[0m curr_task \u001b[38;5;241m=\u001b[39m curr_tasks\u001b[38;5;241m.\u001b[39mpop(\u001b[38;5;28mself\u001b[39m, \u001b[38;5;28;01mNone\u001b[39;00m)\n\u001b[1;32m    132\u001b[0m \u001b[38;5;28;01mtry\u001b[39;00m:\n\u001b[0;32m--> 133\u001b[0m     \u001b[43mhandle\u001b[49m\u001b[38;5;241;43m.\u001b[39;49m\u001b[43m_run\u001b[49m\u001b[43m(\u001b[49m\u001b[43m)\u001b[49m\n\u001b[1;32m    134\u001b[0m \u001b[38;5;28;01mfinally\u001b[39;00m:\n\u001b[1;32m    135\u001b[0m     \u001b[38;5;66;03m# restore the current task\u001b[39;00m\n\u001b[1;32m    136\u001b[0m     \u001b[38;5;28;01mif\u001b[39;00m curr_task \u001b[38;5;129;01mis\u001b[39;00m \u001b[38;5;129;01mnot\u001b[39;00m \u001b[38;5;28;01mNone\u001b[39;00m:\n",
      "File \u001b[0;32m/usr/local/lib/python3.11/asyncio/events.py:84\u001b[0m, in \u001b[0;36mHandle._run\u001b[0;34m(self)\u001b[0m\n\u001b[1;32m     82\u001b[0m \u001b[38;5;28;01mdef\u001b[39;00m\u001b[38;5;250m \u001b[39m\u001b[38;5;21m_run\u001b[39m(\u001b[38;5;28mself\u001b[39m):\n\u001b[1;32m     83\u001b[0m     \u001b[38;5;28;01mtry\u001b[39;00m:\n\u001b[0;32m---> 84\u001b[0m         \u001b[38;5;28;43mself\u001b[39;49m\u001b[38;5;241;43m.\u001b[39;49m\u001b[43m_context\u001b[49m\u001b[38;5;241;43m.\u001b[39;49m\u001b[43mrun\u001b[49m\u001b[43m(\u001b[49m\u001b[38;5;28;43mself\u001b[39;49m\u001b[38;5;241;43m.\u001b[39;49m\u001b[43m_callback\u001b[49m\u001b[43m,\u001b[49m\u001b[43m \u001b[49m\u001b[38;5;241;43m*\u001b[39;49m\u001b[38;5;28;43mself\u001b[39;49m\u001b[38;5;241;43m.\u001b[39;49m\u001b[43m_args\u001b[49m\u001b[43m)\u001b[49m\n\u001b[1;32m     85\u001b[0m     \u001b[38;5;28;01mexcept\u001b[39;00m (\u001b[38;5;167;01mSystemExit\u001b[39;00m, \u001b[38;5;167;01mKeyboardInterrupt\u001b[39;00m):\n\u001b[1;32m     86\u001b[0m         \u001b[38;5;28;01mraise\u001b[39;00m\n",
      "File \u001b[0;32m/usr/local/lib/python3.11/asyncio/tasks.py:277\u001b[0m, in \u001b[0;36mTask.__step\u001b[0;34m(***failed resolving arguments***)\u001b[0m\n\u001b[1;32m    273\u001b[0m \u001b[38;5;28;01mtry\u001b[39;00m:\n\u001b[1;32m    274\u001b[0m     \u001b[38;5;28;01mif\u001b[39;00m exc \u001b[38;5;129;01mis\u001b[39;00m \u001b[38;5;28;01mNone\u001b[39;00m:\n\u001b[1;32m    275\u001b[0m         \u001b[38;5;66;03m# We use the `send` method directly, because coroutines\u001b[39;00m\n\u001b[1;32m    276\u001b[0m         \u001b[38;5;66;03m# don't have `__iter__` and `__next__` methods.\u001b[39;00m\n\u001b[0;32m--> 277\u001b[0m         result \u001b[38;5;241m=\u001b[39m coro\u001b[38;5;241m.\u001b[39msend(\u001b[38;5;28;01mNone\u001b[39;00m)\n\u001b[1;32m    278\u001b[0m     \u001b[38;5;28;01melse\u001b[39;00m:\n\u001b[1;32m    279\u001b[0m         result \u001b[38;5;241m=\u001b[39m coro\u001b[38;5;241m.\u001b[39mthrow(exc)\n",
      "File \u001b[0;32m~/src/src/utils/DatasetManager.py:144\u001b[0m, in \u001b[0;36mProjectsDatasetManager.translateText.<locals>.inner\u001b[0;34m()\u001b[0m\n\u001b[1;32m    141\u001b[0m \u001b[38;5;28;01mnonlocal\u001b[39;00m text\n\u001b[1;32m    142\u001b[0m \u001b[38;5;28;01mfrom\u001b[39;00m\u001b[38;5;250m \u001b[39m\u001b[38;5;21;01mgoogletrans\u001b[39;00m\u001b[38;5;250m \u001b[39m\u001b[38;5;28;01mimport\u001b[39;00m Translator\n\u001b[0;32m--> 144\u001b[0m \u001b[38;5;28;01masync\u001b[39;00m \u001b[38;5;28;01mwith\u001b[39;00m \u001b[43mTranslator\u001b[49m\u001b[43m(\u001b[49m\u001b[43m)\u001b[49m \u001b[38;5;28;01mas\u001b[39;00m translator:\n\u001b[1;32m    145\u001b[0m     result \u001b[38;5;241m=\u001b[39m \u001b[38;5;28;01mawait\u001b[39;00m translator\u001b[38;5;241m.\u001b[39mtranslate(text, dest \u001b[38;5;241m=\u001b[39m \u001b[38;5;124m\"\u001b[39m\u001b[38;5;124men\u001b[39m\u001b[38;5;124m\"\u001b[39m)\n\u001b[1;32m    147\u001b[0m \u001b[38;5;28;01mreturn\u001b[39;00m result\n",
      "File \u001b[0;32m/usr/local/lib/python3.11/site-packages/googletrans/client.py:64\u001b[0m, in \u001b[0;36mTranslator.__init__\u001b[0;34m(self, service_urls, user_agent, raise_exception, proxy, timeout, http2, list_operation_max_concurrency)\u001b[0m\n\u001b[1;32m     54\u001b[0m \u001b[38;5;28;01mdef\u001b[39;00m\u001b[38;5;250m \u001b[39m\u001b[38;5;21m__init__\u001b[39m(\n\u001b[1;32m     55\u001b[0m     \u001b[38;5;28mself\u001b[39m,\n\u001b[1;32m     56\u001b[0m     service_urls: typing\u001b[38;5;241m.\u001b[39mSequence[\u001b[38;5;28mstr\u001b[39m] \u001b[38;5;241m=\u001b[39m DEFAULT_CLIENT_SERVICE_URLS,\n\u001b[0;32m   (...)\u001b[0m\n\u001b[1;32m     62\u001b[0m     list_operation_max_concurrency: \u001b[38;5;28mint\u001b[39m \u001b[38;5;241m=\u001b[39m \u001b[38;5;241m2\u001b[39m,\n\u001b[1;32m     63\u001b[0m ):\n\u001b[0;32m---> 64\u001b[0m     \u001b[38;5;28mself\u001b[39m\u001b[38;5;241m.\u001b[39mclient \u001b[38;5;241m=\u001b[39m \u001b[43mhttpx\u001b[49m\u001b[38;5;241;43m.\u001b[39;49m\u001b[43mAsyncClient\u001b[49m\u001b[43m(\u001b[49m\n\u001b[1;32m     65\u001b[0m \u001b[43m        \u001b[49m\u001b[43mhttp2\u001b[49m\u001b[38;5;241;43m=\u001b[39;49m\u001b[43mhttp2\u001b[49m\u001b[43m,\u001b[49m\n\u001b[1;32m     66\u001b[0m \u001b[43m        \u001b[49m\u001b[43mproxy\u001b[49m\u001b[38;5;241;43m=\u001b[39;49m\u001b[43mproxy\u001b[49m\u001b[43m,\u001b[49m\n\u001b[1;32m     67\u001b[0m \u001b[43m        \u001b[49m\u001b[43mheaders\u001b[49m\u001b[38;5;241;43m=\u001b[39;49m\u001b[43m{\u001b[49m\n\u001b[1;32m     68\u001b[0m \u001b[43m            \u001b[49m\u001b[38;5;124;43m\"\u001b[39;49m\u001b[38;5;124;43mUser-Agent\u001b[39;49m\u001b[38;5;124;43m\"\u001b[39;49m\u001b[43m:\u001b[49m\u001b[43m \u001b[49m\u001b[43muser_agent\u001b[49m\u001b[43m,\u001b[49m\n\u001b[1;32m     69\u001b[0m \u001b[43m        \u001b[49m\u001b[43m}\u001b[49m\u001b[43m,\u001b[49m\n\u001b[1;32m     70\u001b[0m \u001b[43m    \u001b[49m\u001b[43m)\u001b[49m\n\u001b[1;32m     72\u001b[0m     \u001b[38;5;28mself\u001b[39m\u001b[38;5;241m.\u001b[39mservice_urls \u001b[38;5;241m=\u001b[39m [\u001b[38;5;124m\"\u001b[39m\u001b[38;5;124mtranslate.google.com\u001b[39m\u001b[38;5;124m\"\u001b[39m]\n\u001b[1;32m     73\u001b[0m     \u001b[38;5;28mself\u001b[39m\u001b[38;5;241m.\u001b[39mclient_type \u001b[38;5;241m=\u001b[39m \u001b[38;5;124m\"\u001b[39m\u001b[38;5;124mwebapp\u001b[39m\u001b[38;5;124m\"\u001b[39m\n",
      "File \u001b[0;32m/usr/local/lib/python3.11/site-packages/httpx/_client.py:1412\u001b[0m, in \u001b[0;36mAsyncClient.__init__\u001b[0;34m(self, auth, params, headers, cookies, verify, cert, http1, http2, proxy, mounts, timeout, follow_redirects, limits, max_redirects, event_hooks, base_url, transport, trust_env, default_encoding)\u001b[0m\n\u001b[1;32m   1400\u001b[0m proxy_map \u001b[38;5;241m=\u001b[39m \u001b[38;5;28mself\u001b[39m\u001b[38;5;241m.\u001b[39m_get_proxy_map(proxy, allow_env_proxies)\n\u001b[1;32m   1402\u001b[0m \u001b[38;5;28mself\u001b[39m\u001b[38;5;241m.\u001b[39m_transport \u001b[38;5;241m=\u001b[39m \u001b[38;5;28mself\u001b[39m\u001b[38;5;241m.\u001b[39m_init_transport(\n\u001b[1;32m   1403\u001b[0m     verify\u001b[38;5;241m=\u001b[39mverify,\n\u001b[1;32m   1404\u001b[0m     cert\u001b[38;5;241m=\u001b[39mcert,\n\u001b[0;32m   (...)\u001b[0m\n\u001b[1;32m   1409\u001b[0m     transport\u001b[38;5;241m=\u001b[39mtransport,\n\u001b[1;32m   1410\u001b[0m )\n\u001b[0;32m-> 1412\u001b[0m \u001b[38;5;28mself\u001b[39m\u001b[38;5;241m.\u001b[39m_mounts: \u001b[38;5;28mdict\u001b[39m[URLPattern, AsyncBaseTransport \u001b[38;5;241m|\u001b[39m \u001b[38;5;28;01mNone\u001b[39;00m] \u001b[38;5;241m=\u001b[39m \u001b[43m{\u001b[49m\n\u001b[1;32m   1413\u001b[0m \u001b[43m    \u001b[49m\u001b[43mURLPattern\u001b[49m\u001b[43m(\u001b[49m\u001b[43mkey\u001b[49m\u001b[43m)\u001b[49m\u001b[43m:\u001b[49m\u001b[43m \u001b[49m\u001b[38;5;28;43;01mNone\u001b[39;49;00m\n\u001b[1;32m   1414\u001b[0m \u001b[43m    \u001b[49m\u001b[38;5;28;43;01mif\u001b[39;49;00m\u001b[43m \u001b[49m\u001b[43mproxy\u001b[49m\u001b[43m \u001b[49m\u001b[38;5;129;43;01mis\u001b[39;49;00m\u001b[43m \u001b[49m\u001b[38;5;28;43;01mNone\u001b[39;49;00m\n\u001b[1;32m   1415\u001b[0m \u001b[43m    \u001b[49m\u001b[38;5;28;43;01melse\u001b[39;49;00m\u001b[43m \u001b[49m\u001b[38;5;28;43mself\u001b[39;49m\u001b[38;5;241;43m.\u001b[39;49m\u001b[43m_init_proxy_transport\u001b[49m\u001b[43m(\u001b[49m\n\u001b[1;32m   1416\u001b[0m \u001b[43m        \u001b[49m\u001b[43mproxy\u001b[49m\u001b[43m,\u001b[49m\n\u001b[1;32m   1417\u001b[0m \u001b[43m        \u001b[49m\u001b[43mverify\u001b[49m\u001b[38;5;241;43m=\u001b[39;49m\u001b[43mverify\u001b[49m\u001b[43m,\u001b[49m\n\u001b[1;32m   1418\u001b[0m \u001b[43m        \u001b[49m\u001b[43mcert\u001b[49m\u001b[38;5;241;43m=\u001b[39;49m\u001b[43mcert\u001b[49m\u001b[43m,\u001b[49m\n\u001b[1;32m   1419\u001b[0m \u001b[43m        \u001b[49m\u001b[43mtrust_env\u001b[49m\u001b[38;5;241;43m=\u001b[39;49m\u001b[43mtrust_env\u001b[49m\u001b[43m,\u001b[49m\n\u001b[1;32m   1420\u001b[0m \u001b[43m        \u001b[49m\u001b[43mhttp1\u001b[49m\u001b[38;5;241;43m=\u001b[39;49m\u001b[43mhttp1\u001b[49m\u001b[43m,\u001b[49m\n\u001b[1;32m   1421\u001b[0m \u001b[43m        \u001b[49m\u001b[43mhttp2\u001b[49m\u001b[38;5;241;43m=\u001b[39;49m\u001b[43mhttp2\u001b[49m\u001b[43m,\u001b[49m\n\u001b[1;32m   1422\u001b[0m \u001b[43m        \u001b[49m\u001b[43mlimits\u001b[49m\u001b[38;5;241;43m=\u001b[39;49m\u001b[43mlimits\u001b[49m\u001b[43m,\u001b[49m\n\u001b[1;32m   1423\u001b[0m \u001b[43m    \u001b[49m\u001b[43m)\u001b[49m\n\u001b[1;32m   1424\u001b[0m \u001b[43m    \u001b[49m\u001b[38;5;28;43;01mfor\u001b[39;49;00m\u001b[43m \u001b[49m\u001b[43mkey\u001b[49m\u001b[43m,\u001b[49m\u001b[43m \u001b[49m\u001b[43mproxy\u001b[49m\u001b[43m \u001b[49m\u001b[38;5;129;43;01min\u001b[39;49;00m\u001b[43m \u001b[49m\u001b[43mproxy_map\u001b[49m\u001b[38;5;241;43m.\u001b[39;49m\u001b[43mitems\u001b[49m\u001b[43m(\u001b[49m\u001b[43m)\u001b[49m\n\u001b[1;32m   1425\u001b[0m \u001b[43m\u001b[49m\u001b[43m}\u001b[49m\n\u001b[1;32m   1426\u001b[0m \u001b[38;5;28;01mif\u001b[39;00m mounts \u001b[38;5;129;01mis\u001b[39;00m \u001b[38;5;129;01mnot\u001b[39;00m \u001b[38;5;28;01mNone\u001b[39;00m:\n\u001b[1;32m   1427\u001b[0m     \u001b[38;5;28mself\u001b[39m\u001b[38;5;241m.\u001b[39m_mounts\u001b[38;5;241m.\u001b[39mupdate(\n\u001b[1;32m   1428\u001b[0m         {URLPattern(key): transport \u001b[38;5;28;01mfor\u001b[39;00m key, transport \u001b[38;5;129;01min\u001b[39;00m mounts\u001b[38;5;241m.\u001b[39mitems()}\n\u001b[1;32m   1429\u001b[0m     )\n",
      "File \u001b[0;32m/usr/local/lib/python3.11/site-packages/httpx/_client.py:1415\u001b[0m, in \u001b[0;36m<dictcomp>\u001b[0;34m(.0)\u001b[0m\n\u001b[1;32m   1400\u001b[0m proxy_map \u001b[38;5;241m=\u001b[39m \u001b[38;5;28mself\u001b[39m\u001b[38;5;241m.\u001b[39m_get_proxy_map(proxy, allow_env_proxies)\n\u001b[1;32m   1402\u001b[0m \u001b[38;5;28mself\u001b[39m\u001b[38;5;241m.\u001b[39m_transport \u001b[38;5;241m=\u001b[39m \u001b[38;5;28mself\u001b[39m\u001b[38;5;241m.\u001b[39m_init_transport(\n\u001b[1;32m   1403\u001b[0m     verify\u001b[38;5;241m=\u001b[39mverify,\n\u001b[1;32m   1404\u001b[0m     cert\u001b[38;5;241m=\u001b[39mcert,\n\u001b[0;32m   (...)\u001b[0m\n\u001b[1;32m   1409\u001b[0m     transport\u001b[38;5;241m=\u001b[39mtransport,\n\u001b[1;32m   1410\u001b[0m )\n\u001b[1;32m   1412\u001b[0m \u001b[38;5;28mself\u001b[39m\u001b[38;5;241m.\u001b[39m_mounts: \u001b[38;5;28mdict\u001b[39m[URLPattern, AsyncBaseTransport \u001b[38;5;241m|\u001b[39m \u001b[38;5;28;01mNone\u001b[39;00m] \u001b[38;5;241m=\u001b[39m {\n\u001b[1;32m   1413\u001b[0m     URLPattern(key): \u001b[38;5;28;01mNone\u001b[39;00m\n\u001b[1;32m   1414\u001b[0m     \u001b[38;5;28;01mif\u001b[39;00m proxy \u001b[38;5;129;01mis\u001b[39;00m \u001b[38;5;28;01mNone\u001b[39;00m\n\u001b[0;32m-> 1415\u001b[0m     \u001b[38;5;28;01melse\u001b[39;00m \u001b[38;5;28;43mself\u001b[39;49m\u001b[38;5;241;43m.\u001b[39;49m\u001b[43m_init_proxy_transport\u001b[49m\u001b[43m(\u001b[49m\n\u001b[1;32m   1416\u001b[0m \u001b[43m        \u001b[49m\u001b[43mproxy\u001b[49m\u001b[43m,\u001b[49m\n\u001b[1;32m   1417\u001b[0m \u001b[43m        \u001b[49m\u001b[43mverify\u001b[49m\u001b[38;5;241;43m=\u001b[39;49m\u001b[43mverify\u001b[49m\u001b[43m,\u001b[49m\n\u001b[1;32m   1418\u001b[0m \u001b[43m        \u001b[49m\u001b[43mcert\u001b[49m\u001b[38;5;241;43m=\u001b[39;49m\u001b[43mcert\u001b[49m\u001b[43m,\u001b[49m\n\u001b[1;32m   1419\u001b[0m \u001b[43m        \u001b[49m\u001b[43mtrust_env\u001b[49m\u001b[38;5;241;43m=\u001b[39;49m\u001b[43mtrust_env\u001b[49m\u001b[43m,\u001b[49m\n\u001b[1;32m   1420\u001b[0m \u001b[43m        \u001b[49m\u001b[43mhttp1\u001b[49m\u001b[38;5;241;43m=\u001b[39;49m\u001b[43mhttp1\u001b[49m\u001b[43m,\u001b[49m\n\u001b[1;32m   1421\u001b[0m \u001b[43m        \u001b[49m\u001b[43mhttp2\u001b[49m\u001b[38;5;241;43m=\u001b[39;49m\u001b[43mhttp2\u001b[49m\u001b[43m,\u001b[49m\n\u001b[1;32m   1422\u001b[0m \u001b[43m        \u001b[49m\u001b[43mlimits\u001b[49m\u001b[38;5;241;43m=\u001b[39;49m\u001b[43mlimits\u001b[49m\u001b[43m,\u001b[49m\n\u001b[1;32m   1423\u001b[0m \u001b[43m    \u001b[49m\u001b[43m)\u001b[49m\n\u001b[1;32m   1424\u001b[0m     \u001b[38;5;28;01mfor\u001b[39;00m key, proxy \u001b[38;5;129;01min\u001b[39;00m proxy_map\u001b[38;5;241m.\u001b[39mitems()\n\u001b[1;32m   1425\u001b[0m }\n\u001b[1;32m   1426\u001b[0m \u001b[38;5;28;01mif\u001b[39;00m mounts \u001b[38;5;129;01mis\u001b[39;00m \u001b[38;5;129;01mnot\u001b[39;00m \u001b[38;5;28;01mNone\u001b[39;00m:\n\u001b[1;32m   1427\u001b[0m     \u001b[38;5;28mself\u001b[39m\u001b[38;5;241m.\u001b[39m_mounts\u001b[38;5;241m.\u001b[39mupdate(\n\u001b[1;32m   1428\u001b[0m         {URLPattern(key): transport \u001b[38;5;28;01mfor\u001b[39;00m key, transport \u001b[38;5;129;01min\u001b[39;00m mounts\u001b[38;5;241m.\u001b[39mitems()}\n\u001b[1;32m   1429\u001b[0m     )\n",
      "File \u001b[0;32m/usr/local/lib/python3.11/site-packages/httpx/_client.py:1464\u001b[0m, in \u001b[0;36mAsyncClient._init_proxy_transport\u001b[0;34m(self, proxy, verify, cert, trust_env, http1, http2, limits)\u001b[0m\n\u001b[1;32m   1454\u001b[0m \u001b[38;5;28;01mdef\u001b[39;00m\u001b[38;5;250m \u001b[39m\u001b[38;5;21m_init_proxy_transport\u001b[39m(\n\u001b[1;32m   1455\u001b[0m     \u001b[38;5;28mself\u001b[39m,\n\u001b[1;32m   1456\u001b[0m     proxy: Proxy,\n\u001b[0;32m   (...)\u001b[0m\n\u001b[1;32m   1462\u001b[0m     limits: Limits \u001b[38;5;241m=\u001b[39m DEFAULT_LIMITS,\n\u001b[1;32m   1463\u001b[0m ) \u001b[38;5;241m-\u001b[39m\u001b[38;5;241m>\u001b[39m AsyncBaseTransport:\n\u001b[0;32m-> 1464\u001b[0m     \u001b[38;5;28;01mreturn\u001b[39;00m \u001b[43mAsyncHTTPTransport\u001b[49m\u001b[43m(\u001b[49m\n\u001b[1;32m   1465\u001b[0m \u001b[43m        \u001b[49m\u001b[43mverify\u001b[49m\u001b[38;5;241;43m=\u001b[39;49m\u001b[43mverify\u001b[49m\u001b[43m,\u001b[49m\n\u001b[1;32m   1466\u001b[0m \u001b[43m        \u001b[49m\u001b[43mcert\u001b[49m\u001b[38;5;241;43m=\u001b[39;49m\u001b[43mcert\u001b[49m\u001b[43m,\u001b[49m\n\u001b[1;32m   1467\u001b[0m \u001b[43m        \u001b[49m\u001b[43mtrust_env\u001b[49m\u001b[38;5;241;43m=\u001b[39;49m\u001b[43mtrust_env\u001b[49m\u001b[43m,\u001b[49m\n\u001b[1;32m   1468\u001b[0m \u001b[43m        \u001b[49m\u001b[43mhttp1\u001b[49m\u001b[38;5;241;43m=\u001b[39;49m\u001b[43mhttp1\u001b[49m\u001b[43m,\u001b[49m\n\u001b[1;32m   1469\u001b[0m \u001b[43m        \u001b[49m\u001b[43mhttp2\u001b[49m\u001b[38;5;241;43m=\u001b[39;49m\u001b[43mhttp2\u001b[49m\u001b[43m,\u001b[49m\n\u001b[1;32m   1470\u001b[0m \u001b[43m        \u001b[49m\u001b[43mlimits\u001b[49m\u001b[38;5;241;43m=\u001b[39;49m\u001b[43mlimits\u001b[49m\u001b[43m,\u001b[49m\n\u001b[1;32m   1471\u001b[0m \u001b[43m        \u001b[49m\u001b[43mproxy\u001b[49m\u001b[38;5;241;43m=\u001b[39;49m\u001b[43mproxy\u001b[49m\u001b[43m,\u001b[49m\n\u001b[1;32m   1472\u001b[0m \u001b[43m    \u001b[49m\u001b[43m)\u001b[49m\n",
      "File \u001b[0;32m/usr/local/lib/python3.11/site-packages/httpx/_transports/default.py:297\u001b[0m, in \u001b[0;36mAsyncHTTPTransport.__init__\u001b[0;34m(self, verify, cert, trust_env, http1, http2, limits, proxy, uds, local_address, retries, socket_options)\u001b[0m\n\u001b[1;32m    294\u001b[0m \u001b[38;5;28;01mimport\u001b[39;00m\u001b[38;5;250m \u001b[39m\u001b[38;5;21;01mhttpcore\u001b[39;00m\n\u001b[1;32m    296\u001b[0m proxy \u001b[38;5;241m=\u001b[39m Proxy(url\u001b[38;5;241m=\u001b[39mproxy) \u001b[38;5;28;01mif\u001b[39;00m \u001b[38;5;28misinstance\u001b[39m(proxy, (\u001b[38;5;28mstr\u001b[39m, URL)) \u001b[38;5;28;01melse\u001b[39;00m proxy\n\u001b[0;32m--> 297\u001b[0m ssl_context \u001b[38;5;241m=\u001b[39m \u001b[43mcreate_ssl_context\u001b[49m\u001b[43m(\u001b[49m\u001b[43mverify\u001b[49m\u001b[38;5;241;43m=\u001b[39;49m\u001b[43mverify\u001b[49m\u001b[43m,\u001b[49m\u001b[43m \u001b[49m\u001b[43mcert\u001b[49m\u001b[38;5;241;43m=\u001b[39;49m\u001b[43mcert\u001b[49m\u001b[43m,\u001b[49m\u001b[43m \u001b[49m\u001b[43mtrust_env\u001b[49m\u001b[38;5;241;43m=\u001b[39;49m\u001b[43mtrust_env\u001b[49m\u001b[43m)\u001b[49m\n\u001b[1;32m    299\u001b[0m \u001b[38;5;28;01mif\u001b[39;00m proxy \u001b[38;5;129;01mis\u001b[39;00m \u001b[38;5;28;01mNone\u001b[39;00m:\n\u001b[1;32m    300\u001b[0m     \u001b[38;5;28mself\u001b[39m\u001b[38;5;241m.\u001b[39m_pool \u001b[38;5;241m=\u001b[39m httpcore\u001b[38;5;241m.\u001b[39mAsyncConnectionPool(\n\u001b[1;32m    301\u001b[0m         ssl_context\u001b[38;5;241m=\u001b[39mssl_context,\n\u001b[1;32m    302\u001b[0m         max_connections\u001b[38;5;241m=\u001b[39mlimits\u001b[38;5;241m.\u001b[39mmax_connections,\n\u001b[0;32m   (...)\u001b[0m\n\u001b[1;32m    310\u001b[0m         socket_options\u001b[38;5;241m=\u001b[39msocket_options,\n\u001b[1;32m    311\u001b[0m     )\n",
      "File \u001b[0;32m/usr/local/lib/python3.11/site-packages/httpx/_config.py:40\u001b[0m, in \u001b[0;36mcreate_ssl_context\u001b[0;34m(verify, cert, trust_env)\u001b[0m\n\u001b[1;32m     37\u001b[0m         ctx \u001b[38;5;241m=\u001b[39m ssl\u001b[38;5;241m.\u001b[39mcreate_default_context(capath\u001b[38;5;241m=\u001b[39mos\u001b[38;5;241m.\u001b[39menviron[\u001b[38;5;124m\"\u001b[39m\u001b[38;5;124mSSL_CERT_DIR\u001b[39m\u001b[38;5;124m\"\u001b[39m])\n\u001b[1;32m     38\u001b[0m     \u001b[38;5;28;01melse\u001b[39;00m:\n\u001b[1;32m     39\u001b[0m         \u001b[38;5;66;03m# Default case...\u001b[39;00m\n\u001b[0;32m---> 40\u001b[0m         ctx \u001b[38;5;241m=\u001b[39m \u001b[43mssl\u001b[49m\u001b[38;5;241;43m.\u001b[39;49m\u001b[43mcreate_default_context\u001b[49m\u001b[43m(\u001b[49m\u001b[43mcafile\u001b[49m\u001b[38;5;241;43m=\u001b[39;49m\u001b[43mcertifi\u001b[49m\u001b[38;5;241;43m.\u001b[39;49m\u001b[43mwhere\u001b[49m\u001b[43m(\u001b[49m\u001b[43m)\u001b[49m\u001b[43m)\u001b[49m\n\u001b[1;32m     41\u001b[0m \u001b[38;5;28;01melif\u001b[39;00m verify \u001b[38;5;129;01mis\u001b[39;00m \u001b[38;5;28;01mFalse\u001b[39;00m:\n\u001b[1;32m     42\u001b[0m     ctx \u001b[38;5;241m=\u001b[39m ssl\u001b[38;5;241m.\u001b[39mSSLContext(ssl\u001b[38;5;241m.\u001b[39mPROTOCOL_TLS_CLIENT)\n",
      "File \u001b[0;32m/usr/local/lib/python3.11/ssl.py:770\u001b[0m, in \u001b[0;36mcreate_default_context\u001b[0;34m(purpose, cafile, capath, cadata)\u001b[0m\n\u001b[1;32m    767\u001b[0m     \u001b[38;5;28;01mraise\u001b[39;00m \u001b[38;5;167;01mValueError\u001b[39;00m(purpose)\n\u001b[1;32m    769\u001b[0m \u001b[38;5;28;01mif\u001b[39;00m cafile \u001b[38;5;129;01mor\u001b[39;00m capath \u001b[38;5;129;01mor\u001b[39;00m cadata:\n\u001b[0;32m--> 770\u001b[0m     \u001b[43mcontext\u001b[49m\u001b[38;5;241;43m.\u001b[39;49m\u001b[43mload_verify_locations\u001b[49m\u001b[43m(\u001b[49m\u001b[43mcafile\u001b[49m\u001b[43m,\u001b[49m\u001b[43m \u001b[49m\u001b[43mcapath\u001b[49m\u001b[43m,\u001b[49m\u001b[43m \u001b[49m\u001b[43mcadata\u001b[49m\u001b[43m)\u001b[49m\n\u001b[1;32m    771\u001b[0m \u001b[38;5;28;01melif\u001b[39;00m context\u001b[38;5;241m.\u001b[39mverify_mode \u001b[38;5;241m!=\u001b[39m CERT_NONE:\n\u001b[1;32m    772\u001b[0m     \u001b[38;5;66;03m# no explicit cafile, capath or cadata but the verify mode is\u001b[39;00m\n\u001b[1;32m    773\u001b[0m     \u001b[38;5;66;03m# CERT_OPTIONAL or CERT_REQUIRED. Let's try to load default system\u001b[39;00m\n\u001b[1;32m    774\u001b[0m     \u001b[38;5;66;03m# root CA certificates for the given purpose. This may fail silently.\u001b[39;00m\n\u001b[1;32m    775\u001b[0m     context\u001b[38;5;241m.\u001b[39mload_default_certs(purpose)\n",
      "\u001b[0;31mKeyboardInterrupt\u001b[0m: "
     ]
    }
   ],
   "source": [
    "manager = ProjectsDatasetManager(1, validate = lambda x: True)\n",
    "\n",
    "count = 15000\n",
    "\n",
    "for project in projectsCollection.find():\n",
    "    if count <= 0: break\n",
    "    if len(project[\"description\"]) and not project[\"description\"].isascii():\n",
    "        print(project[\"description\"])\n",
    "        print(manager.translateText(project[\"description\"]))\n",
    "\n",
    "    count -= 1\n"
   ]
  },
  {
   "cell_type": "code",
   "execution_count": 15,
   "id": "7e40551f-5f24-41a3-975f-9d0760e87a1c",
   "metadata": {},
   "outputs": [
    {
     "data": {
      "text/plain": [
       "'pl'"
      ]
     },
     "execution_count": 15,
     "metadata": {},
     "output_type": "execute_result"
    }
   ],
   "source": [
    "from langdetect import detect\n",
    "detect(\"System kasowy oparty na sieci Web dla sprzedawców\")"
   ]
  },
  {
   "cell_type": "code",
   "execution_count": 1,
   "id": "bf392fd4-3bff-4db2-9d31-00df98aa45e0",
   "metadata": {},
   "outputs": [
    {
     "name": "stderr",
     "output_type": "stream",
     "text": [
      "(URLError(SSLEOFError(8, '[SSL: UNEXPECTED_EOF_WHILE_READING] EOF occurred in violation of protocol (_ssl.c:1006)')),)\n"
     ]
    },
    {
     "name": "stdout",
     "output_type": "stream",
     "text": [
      "[Korean -> English]\n"
     ]
    },
    {
     "name": "stderr",
     "output_type": "stream",
     "text": [
      "(URLError(SSLEOFError(8, '[SSL: UNEXPECTED_EOF_WHILE_READING] EOF occurred in violation of protocol (_ssl.c:1006)')),)\n",
      "(URLError(SSLEOFError(8, '[SSL: UNEXPECTED_EOF_WHILE_READING] EOF occurred in violation of protocol (_ssl.c:1006)')),)\n"
     ]
    }
   ],
   "source": [
    "import argostranslate.package\n",
    "import argostranslate.translate\n",
    "\n",
    "def downloadArgosLangPackages(langList = [\"es\", \"pt\", \"zh\", \"zt\", \"ru\", \"de\", \"ja\", \"ko\"]):\n",
    "    argostranslate.package.update_package_index()\n",
    "    available_packages = argostranslate.package.get_available_packages()\n",
    "    packages = list(filter(lambda pkg: pkg.from_code in langList and pkg.to_code == \"en\", available_packages))\n",
    "    print(packages)\n",
    "    for pkg in packages:\n",
    "        argostranslate.package.install_from_path(pkg.download())\n",
    "\n",
    "downloadArgosLangPackages([\"ko\"])"
   ]
  },
  {
   "cell_type": "code",
   "execution_count": null,
   "id": "633328a8-65ff-4e3f-8518-106e28d4ceb8",
   "metadata": {},
   "outputs": [],
   "source": []
  }
 ],
 "metadata": {
  "kernelspec": {
   "display_name": "Python 3 (ipykernel)",
   "language": "python",
   "name": "python3"
  },
  "language_info": {
   "codemirror_mode": {
    "name": "ipython",
    "version": 3
   },
   "file_extension": ".py",
   "mimetype": "text/x-python",
   "name": "python",
   "nbconvert_exporter": "python",
   "pygments_lexer": "ipython3",
   "version": "3.11.11"
  }
 },
 "nbformat": 4,
 "nbformat_minor": 5
}
