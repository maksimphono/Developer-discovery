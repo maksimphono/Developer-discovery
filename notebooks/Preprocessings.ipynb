{
 "cells": [
  {
   "cell_type": "code",
   "execution_count": 1,
   "id": "15ea03ed-76f2-4dbf-9a95-589b2c2faeef",
   "metadata": {},
   "outputs": [],
   "source": [
    "import sys\n",
    "sys.path.append('/home/trukhinmaksim/src')"
   ]
  },
  {
   "cell_type": "code",
   "execution_count": 2,
   "id": "40417fb4-00e4-4016-aad9-44420ddaec60",
   "metadata": {},
   "outputs": [],
   "source": [
    "import numpy as np\n",
    "import requests"
   ]
  },
  {
   "cell_type": "code",
   "execution_count": 3,
   "id": "9f5593dd-1a1a-483a-9310-f70573f30f47",
   "metadata": {},
   "outputs": [
    {
     "data": {
      "text/plain": [
       "<Response [502]>"
      ]
     },
     "execution_count": 3,
     "metadata": {},
     "output_type": "execute_result"
    }
   ],
   "source": [
    "requests.get(\"http://google.com\")"
   ]
  },
  {
   "cell_type": "code",
   "execution_count": 4,
   "id": "0af630fe-0085-41f6-b6b5-b651685dc8e1",
   "metadata": {},
   "outputs": [
    {
     "name": "stdout",
     "output_type": "stream",
     "text": [
      "Collection(Database(MongoClient(host=['10.22.50.212:27020'], document_class=dict, tz_aware=False, connect=True), 'mini_database'), 'projects')\n"
     ]
    }
   ],
   "source": [
    "from src.utils.DatabaseConnect import DatabaseConnect\n",
    "\n",
    "# single machine setup (mongo is running here localy)\n",
    "# \"ip a\" for ip address\n",
    "MY_DATABASE_LINK = 'mongodb://10.22.50.212:27020/' #'mongodb://192.168.100.57:27020/'\n",
    "# multiple mechine setup (mongo is running on another machine)\n",
    "#MY_DATABASE_LINK = 'mongodb://192.168.43.78:27020/'\n",
    "\n",
    "DatabaseConnect.DB_LINK = MY_DATABASE_LINK\n",
    "\n",
    "projectsCollection = DatabaseConnect.mini_database.projects()\n",
    "usersCollection = DatabaseConnect.mini_database.users()\n",
    "print(projectsCollection)"
   ]
  },
  {
   "cell_type": "code",
   "execution_count": 5,
   "id": "eaf5410d-cecc-442d-b32c-6110f7cb0223",
   "metadata": {},
   "outputs": [],
   "source": [
    "from src.utils.CacheAdapter import JSONAdapter\n",
    "from src.utils.DatasetManager import ProjectsDatasetManager"
   ]
  },
  {
   "cell_type": "code",
   "execution_count": 6,
   "id": "1c9f855d-8585-409b-a3c2-769abc343a1f",
   "metadata": {},
   "outputs": [],
   "source": [
    "def flatternData(data : dict[str, list]) -> np.array(dict):\n",
    "    # takes in data in form of dict, where each key is a user id and each value is a list of that user's projects\n",
    "    # returns just flat list of these projects \n",
    "    result = []\n",
    "\n",
    "    for projectsArray in data.values():\n",
    "        for project in projectsArray:\n",
    "            result.append(project)\n",
    "\n",
    "    return result"
   ]
  },
  {
   "cell_type": "code",
   "execution_count": 7,
   "id": "090f9488-349b-4f27-aa22-d56912b5a978",
   "metadata": {},
   "outputs": [],
   "source": [
    "from random import random\n",
    "from time import sleep, time\n",
    "import json"
   ]
  },
  {
   "cell_type": "code",
   "execution_count": 8,
   "id": "d41d2b08-4d96-4737-b8f0-2e2ee36431e9",
   "metadata": {},
   "outputs": [
    {
     "name": "stdout",
     "output_type": "stream",
     "text": [
      "{}\n"
     ]
    },
    {
     "data": {
      "text/plain": [
       "'\\nstartPoint = time()\\n\\nfor i in range(20):\\n    manager.fromDB()\\n    manager.preprocess()\\n\\n    #print(len(manager.data))\\n    scanned = extractScannedUsers(manager.data)\\n    manager.ignoreUsers(scanned)\\n\\n    adapter.collectionName = cacheFileName.format(i)\\n    #print(adapter.collectionName)\\n    adapter.save(manager.data)\\n\\n    counter += len(flatternData(manager.data))\\n\\n    manager.clearData()\\n\\n    sleepTime = random() * 15\\n    print(f\"Scanned {USERS_NUMBER_TO_SCAN} users. Sleeping {sleepTime}\")\\n    sleep(sleepTime)\\n\\nendPoint = time()\\nprint(f\"Total scanned: {counter} projects\")\\nprint(f\"Time spent: {endPoint - startPoint} s\")\\n'"
      ]
     },
     "execution_count": 8,
     "metadata": {},
     "output_type": "execute_result"
    }
   ],
   "source": [
    "# Validators are used to filter data by quality, \n",
    "# for example, I can take only those project, that has long description, readme file and many stars\n",
    "\n",
    "def projectDataIsSufficient(projectData):\n",
    "    # filters sufficient data (has description and one(or both) of topics or language)\n",
    "    return (projectData and projectData[\"description\"] and (len(projectData[\"topics\"]) or projectData[\"language\"]))\n",
    "\n",
    "\n",
    "USERS_NUMBER_TO_SCAN = 10\n",
    "\n",
    "def extractScannedUsers(data):\n",
    "    return list(data.keys())\n",
    "\n",
    "counter = 0\n",
    "\n",
    "cacheFileName = \"cache__28-03-2025__(sufficient)_{0}.json\"\n",
    "\n",
    "adapter = JSONAdapter(cacheFileName)\n",
    "\n",
    "ProjectsDatasetManager.usersCollection = usersCollection\n",
    "ProjectsDatasetManager.projectsCollection = projectsCollection\n",
    "ProjectsDatasetManager.translatorServers = [\"http://3.95.55.206:8000/\"]\n",
    "manager = ProjectsDatasetManager(USERS_NUMBER_TO_SCAN, validate = projectDataIsSufficient, cacheAdapter = adapter)\n",
    "\n",
    "#with open(\"/home/trukhinmaksim/src/logs/ignoreUsers.json\", encoding = \"utf-8\") as file:\n",
    "#    manager.ignoreUsers(json.load(file))\n",
    "\n",
    "print(manager.ignoredUsers)\n",
    "\"\"\"\n",
    "startPoint = time()\n",
    "\n",
    "for i in range(20):\n",
    "    manager.fromDB()\n",
    "    manager.preprocess()\n",
    "\n",
    "    #print(len(manager.data))\n",
    "    scanned = extractScannedUsers(manager.data)\n",
    "    manager.ignoreUsers(scanned)\n",
    "\n",
    "    adapter.collectionName = cacheFileName.format(i)\n",
    "    #print(adapter.collectionName)\n",
    "    adapter.save(manager.data)\n",
    "\n",
    "    counter += len(flatternData(manager.data))\n",
    "\n",
    "    manager.clearData()\n",
    "\n",
    "    sleepTime = random() * 15\n",
    "    print(f\"Scanned {USERS_NUMBER_TO_SCAN} users. Sleeping {sleepTime}\")\n",
    "    sleep(sleepTime)\n",
    "\n",
    "endPoint = time()\n",
    "print(f\"Total scanned: {counter} projects\")\n",
    "print(f\"Time spent: {endPoint - startPoint} s\")\n",
    "\"\"\""
   ]
  },
  {
   "cell_type": "code",
   "execution_count": 9,
   "id": "58ecb3f6-f745-46c3-83b7-61b4eaad8945",
   "metadata": {},
   "outputs": [
    {
     "name": "stdout",
     "output_type": "stream",
     "text": [
      "Translation Faled after 3 attempts, Using Argos for 你好...\n",
      "Language detected as: zh\n",
      "Hello.\n"
     ]
    }
   ],
   "source": [
    "print(manager.translateText(\"你好\", 3, True))"
   ]
  },
  {
   "cell_type": "code",
   "execution_count": 10,
   "id": "d84013ed-2f3a-48ab-99d0-3a9826bbd792",
   "metadata": {},
   "outputs": [
    {
     "data": {
      "text/plain": [
       "'\\nimport json\\n\\nwith open(\"/home/trukhinmaksim/src/logs/ognoreUsers.json\", \"w\", encoding = \"utf-8\") as file:\\n    json.dump([*manager.ignoredUsers], fp = file)\\n'"
      ]
     },
     "execution_count": 10,
     "metadata": {},
     "output_type": "execute_result"
    }
   ],
   "source": [
    "\"\"\"\n",
    "import json\n",
    "\n",
    "with open(\"/home/trukhinmaksim/src/logs/ognoreUsers.json\", \"w\", encoding = \"utf-8\") as file:\n",
    "    json.dump([*manager.ignoredUsers], fp = file)\n",
    "\"\"\"\n",
    "#print()"
   ]
  },
  {
   "cell_type": "code",
   "execution_count": null,
   "id": "cfcf5e01-066a-427a-9057-4da96836937d",
   "metadata": {},
   "outputs": [],
   "source": []
  }
 ],
 "metadata": {
  "kernelspec": {
   "display_name": "Python 3 (ipykernel)",
   "language": "python",
   "name": "python3"
  },
  "language_info": {
   "codemirror_mode": {
    "name": "ipython",
    "version": 3
   },
   "file_extension": ".py",
   "mimetype": "text/x-python",
   "name": "python",
   "nbconvert_exporter": "python",
   "pygments_lexer": "ipython3",
   "version": "3.11.11"
  }
 },
 "nbformat": 4,
 "nbformat_minor": 5
}
