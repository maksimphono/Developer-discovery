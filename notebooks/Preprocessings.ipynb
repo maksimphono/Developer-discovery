{
 "cells": [
  {
   "cell_type": "code",
   "execution_count": 1,
   "id": "15ea03ed-76f2-4dbf-9a95-589b2c2faeef",
   "metadata": {},
   "outputs": [],
   "source": [
    "import sys\n",
    "sys.path.append('/home/trukhinmaksim/src')"
   ]
  },
  {
   "cell_type": "code",
   "execution_count": 2,
   "id": "40417fb4-00e4-4016-aad9-44420ddaec60",
   "metadata": {},
   "outputs": [],
   "source": [
    "import numpy as np\n",
    "import requests"
   ]
  },
  {
   "cell_type": "code",
   "execution_count": 3,
   "id": "9f5593dd-1a1a-483a-9310-f70573f30f47",
   "metadata": {},
   "outputs": [
    {
     "data": {
      "text/plain": [
       "<Response [200]>"
      ]
     },
     "execution_count": 3,
     "metadata": {},
     "output_type": "execute_result"
    }
   ],
   "source": [
    "requests.get(\"http://google.com\")"
   ]
  },
  {
   "cell_type": "code",
   "execution_count": 4,
   "id": "0af630fe-0085-41f6-b6b5-b651685dc8e1",
   "metadata": {},
   "outputs": [
    {
     "name": "stdout",
     "output_type": "stream",
     "text": [
      "Collection(Database(MongoClient(host=['10.22.50.212:27020'], document_class=dict, tz_aware=False, connect=True), 'mini_database'), 'projects')\n"
     ]
    }
   ],
   "source": [
    "from src.utils.DatabaseConnect import DatabaseConnect\n",
    "\n",
    "# single machine setup (mongo is running here localy)\n",
    "# \"ip a\" for ip address\n",
    "MY_DATABASE_LINK = 'mongodb://10.22.50.212:27020/' #'mongodb://192.168.100.57:27020/'\n",
    "# multiple mechine setup (mongo is running on another machine)\n",
    "#MY_DATABASE_LINK = 'mongodb://192.168.43.78:27020/'\n",
    "\n",
    "DatabaseConnect.DB_LINK = MY_DATABASE_LINK\n",
    "\n",
    "projectsCollection = DatabaseConnect.mini_database.projects()\n",
    "usersCollection = DatabaseConnect.mini_database.users()\n",
    "print(projectsCollection)"
   ]
  },
  {
   "cell_type": "code",
   "execution_count": 5,
   "id": "eaf5410d-cecc-442d-b32c-6110f7cb0223",
   "metadata": {},
   "outputs": [],
   "source": [
    "from src.utils.CacheAdapter import JSONAdapter\n",
    "from src.utils.DatasetManager import ProjectsDatasetManager"
   ]
  },
  {
   "cell_type": "code",
   "execution_count": 6,
   "id": "1c9f855d-8585-409b-a3c2-769abc343a1f",
   "metadata": {},
   "outputs": [],
   "source": [
    "def flatternData(data : dict[str, list]) -> np.array(dict):\n",
    "    # takes in data in form of dict, where each key is a user id and each value is a list of that user's projects\n",
    "    # returns just flat list of these projects \n",
    "    result = []\n",
    "\n",
    "    for projectsArray in data.values():\n",
    "        for project in projectsArray:\n",
    "            result.append(project)\n",
    "\n",
    "    return result"
   ]
  },
  {
   "cell_type": "code",
   "execution_count": 7,
   "id": "090f9488-349b-4f27-aa22-d56912b5a978",
   "metadata": {},
   "outputs": [],
   "source": [
    "from random import random\n",
    "from time import sleep, time\n",
    "import json"
   ]
  },
  {
   "cell_type": "code",
   "execution_count": 8,
   "id": "d41d2b08-4d96-4737-b8f0-2e2ee36431e9",
   "metadata": {},
   "outputs": [],
   "source": [
    "# Validators are used to filter data by quality, \n",
    "# for example, I can take only those project, that has long description, readme file and many stars\n",
    "\n",
    "def projectDataIsSufficient(projectData):\n",
    "    # filters sufficient data (has description and one(or both) of topics or language)\n",
    "    return (projectData and projectData[\"description\"] and (len(projectData[\"topics\"]) or projectData[\"language\"]))\n",
    "\n",
    "\n",
    "USERS_NUMBER_TO_SCAN = 25\n",
    "\n",
    "def extractScannedUsers(data):\n",
    "    return list(data.keys())\n",
    "\n",
    "counter = 0\n",
    "\n",
    "cacheFileName = \"cache__31-03-2025__(sufficient)_{0}.json\"\n",
    "\n",
    "adapter = JSONAdapter(cacheFileName)\n",
    "\n",
    "ProjectsDatasetManager.usersCollection = usersCollection\n",
    "ProjectsDatasetManager.projectsCollection = projectsCollection\n",
    "ProjectsDatasetManager.translatorServers = [\"http://54.90.185.243:8000/\", \"http://52.91.234.245:8000/\"]\n",
    "manager = ProjectsDatasetManager(USERS_NUMBER_TO_SCAN, validate = projectDataIsSufficient, cacheAdapter = adapter)"
   ]
  },
  {
   "cell_type": "code",
   "execution_count": 9,
   "id": "a5f7b66d-e40d-4edf-a65d-1bf2c5529d44",
   "metadata": {},
   "outputs": [
    {
     "data": {
      "text/plain": [
       "'Hello'"
      ]
     },
     "execution_count": 9,
     "metadata": {},
     "output_type": "execute_result"
    }
   ],
   "source": [
    "manager.translateText(\"你好\", 3)"
   ]
  },
  {
   "cell_type": "code",
   "execution_count": 10,
   "id": "b3a69ee6-4fc2-40e4-947d-c4fcaea2386d",
   "metadata": {},
   "outputs": [],
   "source": [
    "with open(\"/home/trukhinmaksim/src/logs/ignoreUsers.json\", encoding = \"utf-8\") as file:\n",
    "    manager.ignoreUsers(json.load(file))\n",
    "\n",
    "#print(manager.ignoredUsers)"
   ]
  },
  {
   "cell_type": "code",
   "execution_count": null,
   "id": "56516c29-4a6c-495f-a653-09db26128b3b",
   "metadata": {},
   "outputs": [
    {
     "name": "stdout",
     "output_type": "stream",
     "text": [
      "Scanning user: github:ColeTownsend\n",
      "Scanning user: github:molotovbliss\n",
      "Scanning user: github:Splicer97\n",
      "Scanning user: github:hieuxlu\n",
      "Scanning user: github:firmnardians\n",
      "Scanning user: github:FinnGu\n",
      "Scanning user: github:blade254353074\n",
      "Scanning user: github:dons20\n",
      "Scanning user: github:muhsinaldemir\n",
      "Scanning user: github:cmdparkour\n",
      "Scanning user: github:loatheb\n",
      "Scanning user: github:mishasyrbu\n",
      "Scanning user: github:xddq\n",
      "Scanning user: github:horsefefe\n",
      "Scanning user: github:Aliveing\n",
      "Scanning user: github:GreyGao\n",
      "Scanning user: github:jawil003\n",
      "Scanning user: github:vladislav-puzyrev\n",
      "Scanning user: github:luogao\n",
      "Scanning user: github:ybwdaisy\n",
      "Scanning user: github:VANITAX\n",
      "Scanning user: github:diegonava6\n",
      "Scanning user: github:Quadrified\n",
      "Scanning user: github:bogdanpk\n",
      "Scanning user: github:AmirDoreh\n",
      "Scanned 25 users. Sleeping 11.97877923934053\n",
      "Scanning user: github:wayne-tt\n",
      "Scanning user: github:KuroGuo\n",
      "Scanning user: github:louyongjiu\n",
      "Scanning user: github:w8ze-devel\n",
      "Scanning user: github:samuel3105\n",
      "Scanning user: github:yaser2us\n",
      "Scanning user: github:IgorAtilar\n",
      "Scanning user: github:koladev32\n",
      "Scanning user: github:deepraining\n",
      "Scanning user: github:trinhminhtriet\n",
      "Scanning user: github:npretto\n",
      "Scanning user: github:FQIP\n",
      "Scanning user: github:hyun940630\n",
      "Scanning user: github:panZongLin\n",
      "Scanning user: github:weishengkui\n",
      "Scanning user: github:muhammetdemirci\n",
      "Scanning user: github:tokkozhin\n",
      "Scanning user: github:ansarikhurshid786\n",
      "Scanning user: github:mrzslr\n",
      "Scanning user: github:OskarJuszczyk\n",
      "Scanning user: github:xbaker\n",
      "Scanning user: github:kirill3333\n",
      "Scanning user: github:huguangchen\n",
      "Scanning user: github:Drzaln\n",
      "Scanning user: github:ianbayne\n"
     ]
    }
   ],
   "source": [
    "startPoint = time()\n",
    "\n",
    "for i in range(20, 40): #60, 70\n",
    "    manager.fromDB()\n",
    "    manager.preprocess()\n",
    "\n",
    "    #print(len(manager.data))\n",
    "    scanned = extractScannedUsers(manager.data)\n",
    "    manager.ignoreUsers(scanned)\n",
    "\n",
    "    adapter.collectionName = cacheFileName.format(i)\n",
    "    #print(adapter.collectionName)\n",
    "    adapter.save(manager.data)\n",
    "\n",
    "    counter += len(flatternData(manager.data))\n",
    "\n",
    "    manager.clearData()\n",
    "\n",
    "    sleepTime = random() * 15\n",
    "    print(f\"Scanned {USERS_NUMBER_TO_SCAN} users. Sleeping {sleepTime}\")\n",
    "    sleep(sleepTime)\n",
    "\n",
    "endPoint = time()\n",
    "print(f\"Total scanned: {counter} projects\")\n",
    "print(f\"Time spent: {endPoint - startPoint} s\")"
   ]
  },
  {
   "cell_type": "code",
   "execution_count": null,
   "id": "d84013ed-2f3a-48ab-99d0-3a9826bbd792",
   "metadata": {},
   "outputs": [],
   "source": [
    "#print([*manager.ignoredUsers][220:230])\n",
    "\n",
    "print(len([*manager.ignoredUsers]))\n",
    "\n",
    "import json\n",
    "\n",
    "with open(\"/home/trukhinmaksim/src/logs/ignoreUsers.json\", \"w\", encoding = \"utf-8\") as file:\n",
    "    json.dump([*manager.ignoredUsers], fp = file)\n"
   ]
  },
  {
   "cell_type": "code",
   "execution_count": null,
   "id": "ffc2faf6-14a3-47a9-bbf9-8270efb938e3",
   "metadata": {},
   "outputs": [],
   "source": [
    "\n",
    "import json\n",
    "with open(\"/home/trukhinmaksim/src/logs/ignoreUsers.json\", encoding = \"utf-8\") as file:\n",
    "    data = json.load(fp = file)\n",
    "\n",
    "print(len(set(data)))\n",
    "\n",
    "\"\"\"\n",
    "data += ignore\n",
    "\n",
    "print(len(set(data)))\n",
    "with open(\"/home/trukhinmaksim/src/logs/ignoreUsers.json\", \"w\", encoding = \"utf-8\") as file:\n",
    "    json.dump(data, fp = file)\n",
    "\"\"\""
   ]
  },
  {
   "cell_type": "code",
   "execution_count": null,
   "id": "ee36a5ec-c14d-4352-aef0-f5bd02076bb5",
   "metadata": {},
   "outputs": [],
   "source": []
  }
 ],
 "metadata": {
  "kernelspec": {
   "display_name": "Python 3 (ipykernel)",
   "language": "python",
   "name": "python3"
  },
  "language_info": {
   "codemirror_mode": {
    "name": "ipython",
    "version": 3
   },
   "file_extension": ".py",
   "mimetype": "text/x-python",
   "name": "python",
   "nbconvert_exporter": "python",
   "pygments_lexer": "ipython3",
   "version": "3.11.11"
  }
 },
 "nbformat": 4,
 "nbformat_minor": 5
}
