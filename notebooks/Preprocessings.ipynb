{
 "cells": [
  {
   "cell_type": "code",
   "execution_count": 1,
   "id": "15ea03ed-76f2-4dbf-9a95-589b2c2faeef",
   "metadata": {},
   "outputs": [],
   "source": [
    "import sys\n",
    "sys.path.append('/home/trukhinmaksim/src')"
   ]
  },
  {
   "cell_type": "code",
   "execution_count": 2,
   "id": "40417fb4-00e4-4016-aad9-44420ddaec60",
   "metadata": {},
   "outputs": [],
   "source": [
    "import numpy as np\n",
    "import requests"
   ]
  },
  {
   "cell_type": "code",
   "execution_count": 3,
   "id": "9f5593dd-1a1a-483a-9310-f70573f30f47",
   "metadata": {},
   "outputs": [
    {
     "data": {
      "text/plain": [
       "<Response [200]>"
      ]
     },
     "execution_count": 3,
     "metadata": {},
     "output_type": "execute_result"
    }
   ],
   "source": [
    "requests.get(\"http://google.com\")"
   ]
  },
  {
   "cell_type": "code",
   "execution_count": 4,
   "id": "0af630fe-0085-41f6-b6b5-b651685dc8e1",
   "metadata": {},
   "outputs": [
    {
     "name": "stdout",
     "output_type": "stream",
     "text": [
      "Collection(Database(MongoClient(host=['10.22.50.212:27020'], document_class=dict, tz_aware=False, connect=True), 'mini_database'), 'projects')\n"
     ]
    }
   ],
   "source": [
    "from src.utils.DatabaseConnect import DatabaseConnect\n",
    "\n",
    "# single machine setup (mongo is running here localy)\n",
    "# \"ip a\" for ip address\n",
    "MY_DATABASE_LINK = 'mongodb://10.22.50.212:27020/' #'mongodb://192.168.100.57:27020/'\n",
    "# multiple mechine setup (mongo is running on another machine)\n",
    "#MY_DATABASE_LINK = 'mongodb://192.168.43.78:27020/'\n",
    "\n",
    "DatabaseConnect.DB_LINK = MY_DATABASE_LINK\n",
    "\n",
    "projectsCollection = DatabaseConnect.mini_database.projects()\n",
    "usersCollection = DatabaseConnect.mini_database.users()\n",
    "print(projectsCollection)"
   ]
  },
  {
   "cell_type": "code",
   "execution_count": 5,
   "id": "eaf5410d-cecc-442d-b32c-6110f7cb0223",
   "metadata": {},
   "outputs": [],
   "source": [
    "from src.utils.CacheAdapter import JSONAdapter\n",
    "from src.utils.DatasetManager import ProjectsDatasetManager"
   ]
  },
  {
   "cell_type": "code",
   "execution_count": 6,
   "id": "1c9f855d-8585-409b-a3c2-769abc343a1f",
   "metadata": {},
   "outputs": [],
   "source": [
    "def flatternData(data : dict[str, list]) -> np.array(dict):\n",
    "    # takes in data in form of dict, where each key is a user id and each value is a list of that user's projects\n",
    "    # returns just flat list of these projects \n",
    "    result = []\n",
    "\n",
    "    for projectsArray in data.values():\n",
    "        for project in projectsArray:\n",
    "            result.append(project)\n",
    "\n",
    "    return result"
   ]
  },
  {
   "cell_type": "code",
   "execution_count": 7,
   "id": "090f9488-349b-4f27-aa22-d56912b5a978",
   "metadata": {},
   "outputs": [],
   "source": [
    "from random import random\n",
    "from time import sleep, time\n",
    "import json"
   ]
  },
  {
   "cell_type": "code",
   "execution_count": 8,
   "id": "d41d2b08-4d96-4737-b8f0-2e2ee36431e9",
   "metadata": {},
   "outputs": [
    {
     "name": "stdout",
     "output_type": "stream",
     "text": [
      "{'github:betiol': True, 'github:DestinyJun': True, 'github:madf12': True, 'github:hectorqin': True, 'github:yaojunguang': True, 'github:romanofficial': True, 'github:mikedemarais': True, 'github:Redseb': True, 'github:anhquan291': True, 'github:arfanliaqat': True, 'github:zhazihong': True, 'github:xiaomao996688': True, 'github:FelipeMolinari': True, 'github:MohamadKh75': True, 'github:pilotocheg': True, 'github:TPXP': True, 'github:gattleung': True, 'github:872409': True, 'github:yusufbadurohman': True, 'github:EQuimper': True, 'github:neo355': True, 'github:13627491210': True, 'github:MikeChugunov': True, 'github:452MJ': True, 'github:mohamed-sultan': True, 'github:cpojer': True, 'github:Dev4ster': True, 'github:EsunR': True, 'github:guopeng1994': True, 'github:inspiredole': True, 'github:batuhansahan': True, 'github:kolyneh': True, 'github:2017398956': True, 'github:StupidManYI': True, 'github:ddx-510': True, 'github:muhamedzeema': True, 'github:patrickbattisti': True, 'github:BrunoVillanova': True, 'github:lkoehl': True, 'github:coldSeattle': True, 'github:princefishthrower': True, 'github:somay': True, 'github:gabrielmoncea': True, 'github:wds1204': True, 'github:mthuong': True, 'github:soywod': True, 'github:copiri-six': True, 'github:m-camacho': True, 'github:abishekaditya': True, 'github:hasanfd': True, 'github:jimbrig': True, 'github:int-her': True, 'github:maxkrasnov': True, 'github:nprbst': True, 'github:Jackmekiss': True, 'github:r0xsh': True, 'github:AlirezaHadjar': True, 'github:JeffPatricio': True, 'github:kotano': True, 'github:mattbis': True, 'github:maphongba008': True, 'github:mohcinenazrhan': True, 'github:TajSinghESGI': True, 'github:rajeshias': True, 'github:plahteenlahti': True, 'github:WallysonGalvao': True, 'github:orcuntuna': True, 'github:nazmeln': True, 'github:tminhtri92': True, 'github:soroushchehresa': True, 'github:dougg0k': True, 'github:TiagoDanin': True, 'github:PiotrNap': True, 'github:JonatanSalas': True, 'github:skantus': True, 'github:hanzhangyu': True, 'github:canyuegongzi': True, 'github:GustavoBonfimS': True, 'github:pm5': True, 'github:kangear': True, 'github:chrisdrackett': True, 'github:Leneli': True, 'github:PeteOyable': True, 'github:JeanMonteiro': True, 'github:jian-cui': True, 'github:reactnativeguru': True, 'github:ChengGPBU': True, 'github:zarir': True, 'github:worstpractice': True, 'github:jaehafe': True, 'github:WrathChaos': True, 'github:sheirla': True, 'github:iamrohitagg': True, 'github:CryceTruly': True, 'github:RicardoGuiliani': True, 'github:zmjios': True, 'github:activebiz': True, 'github:bombillazo': True, 'github:fuinha': True, 'github:Jarzka': True, 'github:lolevsky': True, 'github:pecpwee': True, 'github:bsonntag': True, 'github:tavvfiq': True, 'github:Cattari': True, 'github:jakubboguski': True, 'github:florinrelea': True, 'github:amandeepmittal': True, 'github:stas-kravchuk': True, 'github:donmezemre': True, 'github:DogukanTansuk': True, 'github:sho-t': True, 'github:AlissonEnz': True, 'github:nahuelb': True, 'github:goxr3plus': True, 'github:liulunsheng': True, 'github:esthor': True, 'github:simawn': True, 'github:ca057': True, 'github:Dauno': True, 'github:Jalson1982': True, 'github:GrinZero': True, 'github:MakChan': True, 'github:muhammad-syaifudin': True, 'github:in-a-paddy': True, 'github:w00ing': True, 'github:djlxiaoshi': True, 'github:bglgwyng': True, 'github:eduduardo': True, 'github:ajunlonglive': True, 'github:GuoPing-WU': True, 'github:bduyng': True, 'github:AlexeyVlasenko': True, 'github:ss18': True, 'github:CarlosZiegler': True, 'github:nbadiganti': True, 'github:cchamikara': True, 'github:extrabacon': True, 'github:ArmaizAdenwala': True, 'github:tharyckgusmao': True, 'github:adamsoutar': True, 'github:kbenavente': True, 'github:NE-SmallTown': True, 'github:Gerst20051': True, 'github:sayyidisal': True, 'github:wobsoriano': True, 'github:bubobubobo': True, 'github:ahmedbidani': True, 'github:Josema': True, 'github:berat': True, 'github:y-maslouskaya': True, 'github:natuanorg': True, 'github:EddyDunda': True, 'github:markymc': True, 'github:ricardo-fadini-inventsys': True, 'github:bsonmez': True, 'github:robertohein': True, 'github:aapwoka': True, 'github:RodrigoAWeber': True, 'github:gilwong00': True, 'github:defrindr': True, 'github:BAI-Bonjwa': True, 'github:Ginfone': True, 'github:ibra4': True, 'github:saxenanickk': True, 'github:RichardRNStudio': True, 'github:trentmercer': True, 'github:Shair17': True, 'github:gersonmontenegro': True, 'github:goodjun': True, 'github:HeadSoBig': True, 'github:gmaclennan': True, 'github:barbatron': True, 'github:thegreatzeus': True, 'github:giorgiolucca': True, 'github:femicodes': True, 'github:chsdwn': True, 'github:duanguang': True, 'github:Limoer96': True, 'github:timotismjntk': True, 'github:chuyvad': True, 'github:GregoryNative': True, 'github:OfficialDarkComet': True, 'github:triracle97': True, 'github:hongkheng': True, 'github:sysatom': True, 'github:JslinSir': True, 'github:2-one-week': True, 'github:juansimon28': True, 'github:joel-bitar': True, 'github:shift-developer': True, 'github:lutfuahmet': True, 'github:fatihmehmett': True, 'github:ssmoon': True, 'github:jorgegvallejo': True, 'github:gaodeng': True, 'github:erdalstk': True, 'github:mxsgx': True, 'github:liuminghui2017': True, 'github:luoxuhai': True}\n"
     ]
    },
    {
     "data": {
      "text/plain": [
       "'\\nstartPoint = time()\\n\\nfor i in range(20):\\n    manager.fromDB()\\n    manager.preprocess()\\n\\n    #print(len(manager.data))\\n    scanned = extractScannedUsers(manager.data)\\n    manager.ignoreUsers(scanned)\\n\\n    adapter.collectionName = cacheFileName.format(i)\\n    #print(adapter.collectionName)\\n    adapter.save(manager.data)\\n\\n    counter += len(flatternData(manager.data))\\n\\n    manager.clearData()\\n\\n    sleepTime = random() * 15\\n    print(f\"Scanned {USERS_NUMBER_TO_SCAN} users. Sleeping {sleepTime}\")\\n    sleep(sleepTime)\\n\\nendPoint = time()\\nprint(f\"Total scanned: {counter} projects\")\\nprint(f\"Time spent: {endPoint - startPoint} s\")\\n'"
      ]
     },
     "execution_count": 8,
     "metadata": {},
     "output_type": "execute_result"
    }
   ],
   "source": [
    "# Validators are used to filter data by quality, \n",
    "# for example, I can take only those project, that has long description, readme file and many stars\n",
    "\n",
    "def projectDataIsSufficient(projectData):\n",
    "    # filters sufficient data (has description and one(or both) of topics or language)\n",
    "    return (projectData and projectData[\"description\"] and (len(projectData[\"topics\"]) or projectData[\"language\"]))\n",
    "\n",
    "\n",
    "USERS_NUMBER_TO_SCAN = 10\n",
    "\n",
    "def extractScannedUsers(data):\n",
    "    return list(data.keys())\n",
    "\n",
    "counter = 0\n",
    "\n",
    "cacheFileName = \"cache__28-03-2025__(sufficient)_{0}.json\"\n",
    "\n",
    "adapter = JSONAdapter(cacheFileName)\n",
    "\n",
    "ProjectsDatasetManager.usersCollection = usersCollection\n",
    "ProjectsDatasetManager.projectsCollection = projectsCollection\n",
    "ProjectsDatasetManager.translatorServers = [\"http://34.205.144.69:8000/\"]\n",
    "manager = ProjectsDatasetManager(USERS_NUMBER_TO_SCAN, validate = projectDataIsSufficient, cacheAdapter = adapter)\n",
    "\n",
    "with open(\"/home/trukhinmaksim/src/logs/ignoreUsers.json\", encoding = \"utf-8\") as file:\n",
    "    manager.ignoreUsers(json.load(file))\n",
    "\n",
    "print(manager.ignoredUsers)\n",
    "\"\"\"\n",
    "startPoint = time()\n",
    "\n",
    "for i in range(20):\n",
    "    manager.fromDB()\n",
    "    manager.preprocess()\n",
    "\n",
    "    #print(len(manager.data))\n",
    "    scanned = extractScannedUsers(manager.data)\n",
    "    manager.ignoreUsers(scanned)\n",
    "\n",
    "    adapter.collectionName = cacheFileName.format(i)\n",
    "    #print(adapter.collectionName)\n",
    "    adapter.save(manager.data)\n",
    "\n",
    "    counter += len(flatternData(manager.data))\n",
    "\n",
    "    manager.clearData()\n",
    "\n",
    "    sleepTime = random() * 15\n",
    "    print(f\"Scanned {USERS_NUMBER_TO_SCAN} users. Sleeping {sleepTime}\")\n",
    "    sleep(sleepTime)\n",
    "\n",
    "endPoint = time()\n",
    "print(f\"Total scanned: {counter} projects\")\n",
    "print(f\"Time spent: {endPoint - startPoint} s\")\n",
    "\"\"\""
   ]
  },
  {
   "cell_type": "code",
   "execution_count": 9,
   "id": "58ecb3f6-f745-46c3-83b7-61b4eaad8945",
   "metadata": {},
   "outputs": [
    {
     "name": "stdout",
     "output_type": "stream",
     "text": [
      "http://34.205.144.69:8000/\n",
      "<Response [200]>\n",
      "Hello\n"
     ]
    }
   ],
   "source": [
    "print(manager.translateText(\"你好\", 3, True))"
   ]
  },
  {
   "cell_type": "code",
   "execution_count": 10,
   "id": "d84013ed-2f3a-48ab-99d0-3a9826bbd792",
   "metadata": {},
   "outputs": [
    {
     "data": {
      "text/plain": [
       "'\\nimport json\\n\\nwith open(\"/home/trukhinmaksim/src/logs/ognoreUsers.json\", \"w\", encoding = \"utf-8\") as file:\\n    json.dump([*manager.ignoredUsers], fp = file)\\n'"
      ]
     },
     "execution_count": 10,
     "metadata": {},
     "output_type": "execute_result"
    }
   ],
   "source": [
    "\"\"\"\n",
    "import json\n",
    "\n",
    "with open(\"/home/trukhinmaksim/src/logs/ognoreUsers.json\", \"w\", encoding = \"utf-8\") as file:\n",
    "    json.dump([*manager.ignoredUsers], fp = file)\n",
    "\"\"\"\n",
    "#print()"
   ]
  },
  {
   "cell_type": "code",
   "execution_count": null,
   "id": "cfcf5e01-066a-427a-9057-4da96836937d",
   "metadata": {},
   "outputs": [],
   "source": []
  }
 ],
 "metadata": {
  "kernelspec": {
   "display_name": "Python 3 (ipykernel)",
   "language": "python",
   "name": "python3"
  },
  "language_info": {
   "codemirror_mode": {
    "name": "ipython",
    "version": 3
   },
   "file_extension": ".py",
   "mimetype": "text/x-python",
   "name": "python",
   "nbconvert_exporter": "python",
   "pygments_lexer": "ipython3",
   "version": "3.11.11"
  }
 },
 "nbformat": 4,
 "nbformat_minor": 5
}
