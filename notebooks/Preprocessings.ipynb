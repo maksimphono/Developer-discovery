{
 "cells": [
  {
   "cell_type": "code",
   "execution_count": 1,
   "id": "15ea03ed-76f2-4dbf-9a95-589b2c2faeef",
   "metadata": {},
   "outputs": [],
   "source": [
    "import sys\n",
    "sys.path.append('/home/trukhinmaksim/src')"
   ]
  },
  {
   "cell_type": "code",
   "execution_count": 2,
   "id": "40417fb4-00e4-4016-aad9-44420ddaec60",
   "metadata": {},
   "outputs": [],
   "source": [
    "import numpy as np\n",
    "import requests"
   ]
  },
  {
   "cell_type": "code",
   "execution_count": 3,
   "id": "9f5593dd-1a1a-483a-9310-f70573f30f47",
   "metadata": {},
   "outputs": [
    {
     "data": {
      "text/plain": [
       "<Response [200]>"
      ]
     },
     "execution_count": 3,
     "metadata": {},
     "output_type": "execute_result"
    }
   ],
   "source": [
    "requests.get(\"http://google.com\")"
   ]
  },
  {
   "cell_type": "code",
   "execution_count": 4,
   "id": "0af630fe-0085-41f6-b6b5-b651685dc8e1",
   "metadata": {},
   "outputs": [
    {
     "name": "stdout",
     "output_type": "stream",
     "text": [
      "Collection(Database(MongoClient(host=['10.22.50.212:27020'], document_class=dict, tz_aware=False, connect=True), 'mini_database'), 'projects')\n"
     ]
    }
   ],
   "source": [
    "from src.utils.DatabaseConnect import DatabaseConnect\n",
    "\n",
    "# single machine setup (mongo is running here localy)\n",
    "# \"ip a\" for ip address\n",
    "MY_DATABASE_LINK = 'mongodb://10.22.50.212:27020/' #'mongodb://192.168.100.57:27020/'\n",
    "# multiple mechine setup (mongo is running on another machine)\n",
    "#MY_DATABASE_LINK = 'mongodb://192.168.43.78:27020/'\n",
    "\n",
    "DatabaseConnect.DB_LINK = MY_DATABASE_LINK\n",
    "\n",
    "projectsCollection = DatabaseConnect.mini_database.projects()\n",
    "usersCollection = DatabaseConnect.mini_database.users()\n",
    "print(projectsCollection)"
   ]
  },
  {
   "cell_type": "code",
   "execution_count": 5,
   "id": "eaf5410d-cecc-442d-b32c-6110f7cb0223",
   "metadata": {},
   "outputs": [],
   "source": [
    "from src.utils.CacheAdapter import JSONAdapter\n",
    "from src.utils.DatasetManager import ProjectsDatasetManager"
   ]
  },
  {
   "cell_type": "code",
   "execution_count": 6,
   "id": "1c9f855d-8585-409b-a3c2-769abc343a1f",
   "metadata": {},
   "outputs": [],
   "source": [
    "def flatternData(data : dict[str, list]) -> np.array(dict):\n",
    "    # takes in data in form of dict, where each key is a user id and each value is a list of that user's projects\n",
    "    # returns just flat list of these projects \n",
    "    result = []\n",
    "\n",
    "    for projectsArray in data.values():\n",
    "        for project in projectsArray:\n",
    "            result.append(project)\n",
    "\n",
    "    return result"
   ]
  },
  {
   "cell_type": "code",
   "execution_count": 7,
   "id": "090f9488-349b-4f27-aa22-d56912b5a978",
   "metadata": {},
   "outputs": [],
   "source": [
    "from random import random\n",
    "from time import sleep, time\n",
    "import json"
   ]
  },
  {
   "cell_type": "code",
   "execution_count": 8,
   "id": "d41d2b08-4d96-4737-b8f0-2e2ee36431e9",
   "metadata": {},
   "outputs": [],
   "source": [
    "# Validators are used to filter data by quality, \n",
    "# for example, I can take only those project, that has long description, readme file and many stars\n",
    "\n",
    "def projectDataIsSufficient(projectData):\n",
    "    # filters sufficient data (has description and one(or both) of topics or language)\n",
    "    try:\n",
    "        return (projectData and projectData[\"description\"] and (len(projectData[\"topics\"]) or projectData[\"language\"]))\n",
    "    except KeyError:\n",
    "        return False\n",
    "\n",
    "\n",
    "USERS_NUMBER_TO_SCAN = 25\n",
    "\n",
    "def extractScannedUsers(data):\n",
    "    return list(data.keys())\n",
    "\n",
    "counter = 0\n",
    "\n",
    "cacheFileName = \"cache__31-03-2025__(sufficient)_{0}.json\"\n",
    "\n",
    "adapter = JSONAdapter(cacheFileName)\n",
    "\n",
    "ProjectsDatasetManager.usersCollection = usersCollection\n",
    "ProjectsDatasetManager.projectsCollection = projectsCollection\n",
    "ProjectsDatasetManager.translatorServers = [\"http://54.90.185.243:8000/\", \"http://52.91.234.245:8000/\"]\n",
    "manager = ProjectsDatasetManager(USERS_NUMBER_TO_SCAN, validate = projectDataIsSufficient, cacheAdapter = adapter)"
   ]
  },
  {
   "cell_type": "code",
   "execution_count": 9,
   "id": "a5f7b66d-e40d-4edf-a65d-1bf2c5529d44",
   "metadata": {},
   "outputs": [
    {
     "data": {
      "text/plain": [
       "'Hello'"
      ]
     },
     "execution_count": 9,
     "metadata": {},
     "output_type": "execute_result"
    }
   ],
   "source": [
    "manager.translateText(\"你好\", 3)"
   ]
  },
  {
   "cell_type": "code",
   "execution_count": 10,
   "id": "b3a69ee6-4fc2-40e4-947d-c4fcaea2386d",
   "metadata": {},
   "outputs": [],
   "source": [
    "with open(\"/home/trukhinmaksim/src/logs/ignoreUsers.json\", encoding = \"utf-8\") as file:\n",
    "    manager.ignoreUsers(json.load(file))\n",
    "\n",
    "#print(manager.ignoredUsers)"
   ]
  },
  {
   "cell_type": "code",
   "execution_count": 11,
   "id": "56516c29-4a6c-495f-a653-09db26128b3b",
   "metadata": {},
   "outputs": [
    {
     "name": "stdout",
     "output_type": "stream",
     "text": [
      "Scanning user: github:JonathanNet\n",
      "Scanning user: github:CarolinaGiustiTisott\n",
      "Scanning user: github:AmrIsmaiel\n",
      "Scanning user: github:josechocobar\n",
      "Scanning user: github:androidforme\n",
      "Scanning user: github:emretekin\n",
      "Scanning user: github:Pillarzx\n",
      "Scanning user: github:chiel99\n",
      "Scanning user: github:fishballzzz\n",
      "Scanning user: github:devashish-deepsource\n",
      "Scanning user: github:AndGirl\n",
      "Scanning user: github:SpiderGod607\n",
      "Scanning user: github:elong4321\n",
      "Scanning user: github:1325679717\n",
      "Scanning user: github:behroozAlborzi\n",
      "Scanning user: github:969rishi\n",
      "Scanning user: github:Bassel-Summak\n",
      "Scanning user: github:VinceMikhailKearney\n",
      "Scanning user: github:gdafzalkhan99\n",
      "Scanning user: github:Rishabh-More\n",
      "Scanning user: github:ElianFabian\n",
      "Scanning user: github:Hafeezllah-Khan\n",
      "Scanning user: github:EvenDai\n",
      "Scanning user: github:AbhijithMogaveera\n",
      "Scanning user: github:SimonRHW\n",
      "Scanned 25 users. Sleeping 1.5146331170222331\n",
      "Scanning user: github:ahmetufan\n",
      "Scanning user: github:15860yang\n",
      "Scanning user: github:kalyanianalytics\n",
      "Scanning user: github:SeijinD\n",
      "Scanning user: github:jatsqi\n",
      "Scanning user: github:GanzDEF\n",
      "Scanning user: github:Pulini\n",
      "Scanning user: github:av1934413\n",
      "Scanning user: github:Awilg\n",
      "Scanning user: github:2tu\n",
      "Scanning user: github:Mostafa24sd\n",
      "Scanning user: github:anshulkhattar\n",
      "Scanning user: github:jeancsanchez\n",
      "Scanning user: github:TOSTRING-Z\n",
      "Scanning user: github:ding-mail\n",
      "Scanning user: github:shiena\n",
      "Scanning user: github:jeremaihloo\n",
      "Scanning user: github:feritakcan\n",
      "Scanning user: github:abehbatre\n",
      "Scanning user: github:ahvroyal\n",
      "Scanning user: github:fernandopretell\n",
      "Scanning user: github:Merack\n",
      "Scanning user: github:JDevZone\n",
      "Scanning user: github:Elegary\n",
      "Scanning user: github:garimasingh128\n",
      "Scanned 25 users. Sleeping 12.549219474067382\n",
      "Scanning user: github:Mo-Mo30\n",
      "Scanning user: github:TimScriptov\n",
      "Scanning user: github:cl136787252\n",
      "Scanning user: github:chengwf\n",
      "Scanning user: github:dskyuno\n",
      "Scanning user: github:kamolsrisan\n",
      "Scanning user: github:sminrana\n",
      "Scanning user: github:JacksonSan009\n",
      "Scanning user: github:csababiro\n",
      "Scanning user: github:jeddchoi\n",
      "Scanning user: github:cugljd\n",
      "Scanning user: github:behzod1996\n",
      "Scanning user: github:Kavya-24\n",
      "Scanning user: github:SamiuZhong\n",
      "Scanning user: github:BanDroid\n",
      "Scanning user: github:Index197511\n",
      "Scanning user: github:aheven\n",
      "Scanning user: github:farhadhp\n",
      "Scanning user: github:RoseauHan\n",
      "Scanning user: github:ZhySir\n",
      "Scanning user: github:1962247851\n",
      "Scanning user: github:adam-fullstack\n",
      "Scanning user: github:gaoze001\n",
      "Scanning user: github:CodeZERONine\n",
      "Scanning user: github:bevcastillo\n",
      "Scanned 25 users. Sleeping 7.719776671470758\n",
      "Scanning user: github:HuixingWong\n",
      "Scanning user: github:jsoberg\n",
      "Scanning user: github:Vikash-Singh-Bhadoriya\n",
      "Scanning user: github:hamzacanbaz\n",
      "Scanning user: github:DavidVallecios\n",
      "Scanning user: github:CompileConnected\n",
      "Scanning user: github:Yusufsefa\n",
      "Scanning user: github:Bigoy\n",
      "Scanning user: github:PrynsTag\n",
      "Scanning user: github:boxengasse\n",
      "Scanning user: github:furqanyasin\n",
      "Scanning user: github:ganeshkavhar\n",
      "Scanning user: github:LyalinAnton\n",
      "Scanning user: github:jonataspcaraujo\n",
      "Scanning user: github:SontagBae\n",
      "Scanning user: github:Natgho\n",
      "Scanning user: github:HitComBoy\n",
      "Scanning user: github:Rosdel00\n",
      "Scanning user: github:ericnpc\n",
      "Scanning user: github:nobiit\n",
      "Scanning user: github:IllusionMan1212\n",
      "Scanning user: github:Ashwagandha-coder\n",
      "Scanning user: github:HarshalShende\n",
      "Scanning user: github:anirudh797\n",
      "Scanning user: github:jedp\n",
      "Scanned 25 users. Sleeping 9.061212413878078\n",
      "Scanning user: github:apple2062\n",
      "Scanning user: github:anushkarthik05\n",
      "Scanning user: github:floppy14\n",
      "Scanning user: github:andrea07021981\n",
      "Scanning user: github:vibhusharma101\n",
      "Scanning user: github:dev-mgkaung\n",
      "Scanning user: github:ZhangLeiBoy\n",
      "Scanning user: github:Monochrom009\n",
      "Scanning user: github:dinhthaidaica\n",
      "Scanning user: github:jkaninda\n",
      "Scanning user: github:BoxuanJia\n",
      "Scanning user: github:ThuanPx\n",
      "Scanning user: github:ccwq\n",
      "Scanning user: github:enel1jk\n",
      "Scanning user: github:pstens\n",
      "Scanning user: github:dhoang-creator\n",
      "Scanning user: github:LiZachary\n",
      "Scanning user: github:joyceHong0524\n",
      "Scanning user: github:cemilakan\n",
      "Scanning user: github:jin0yoon\n",
      "Scanning user: github:Merpyzf\n",
      "Scanning user: github:kojofosu\n",
      "Scanning user: github:ketal178\n",
      "Scanning user: github:Bngel\n",
      "Scanning user: github:Insider-MY\n",
      "Scanned 25 users. Sleeping 13.518596804524694\n",
      "Scanning user: github:wangbo4020\n",
      "Scanning user: github:SMAXLYB\n",
      "Scanning user: github:Metior00\n",
      "Scanning user: github:Prajnadeep\n",
      "Scanning user: github:aiavci\n",
      "Scanning user: github:Sharkaboi\n",
      "Scanning user: github:Shaheer37\n",
      "Scanning user: github:iamcodder\n",
      "Scanned 25 users. Sleeping 7.44933603958235\n",
      "cache__31-03-2025__(sufficient)_85.json\n",
      "Scanned 25 users. Sleeping 5.161422503662637\n",
      "cache__31-03-2025__(sufficient)_86.json\n",
      "Scanned 25 users. Sleeping 4.412885663190385\n",
      "cache__31-03-2025__(sufficient)_87.json\n",
      "Scanned 25 users. Sleeping 13.019301311179953\n",
      "cache__31-03-2025__(sufficient)_88.json\n",
      "Scanned 25 users. Sleeping 12.743426942051169\n",
      "cache__31-03-2025__(sufficient)_89.json\n",
      "Scanned 25 users. Sleeping 2.222485358953307\n",
      "cache__31-03-2025__(sufficient)_90.json\n",
      "Scanned 25 users. Sleeping 0.4763147955953184\n",
      "cache__31-03-2025__(sufficient)_91.json\n",
      "Scanned 25 users. Sleeping 0.8767610558029165\n",
      "cache__31-03-2025__(sufficient)_92.json\n",
      "Scanned 25 users. Sleeping 12.38175702298429\n",
      "cache__31-03-2025__(sufficient)_93.json\n",
      "Scanned 25 users. Sleeping 9.800756410081714\n",
      "cache__31-03-2025__(sufficient)_94.json\n",
      "Scanned 25 users. Sleeping 8.76231193872647\n",
      "cache__31-03-2025__(sufficient)_95.json\n",
      "Scanned 25 users. Sleeping 1.8506398582849592\n",
      "cache__31-03-2025__(sufficient)_96.json\n",
      "Scanned 25 users. Sleeping 2.194180750159433\n",
      "cache__31-03-2025__(sufficient)_97.json\n",
      "Scanned 25 users. Sleeping 7.622742999686816\n",
      "cache__31-03-2025__(sufficient)_98.json\n",
      "Scanned 25 users. Sleeping 11.389063387273872\n",
      "Total scanned: 1876 projects\n",
      "Time spent: 582.1359875202179 s\n"
     ]
    }
   ],
   "source": [
    "startPoint = time()\n",
    "\n",
    "for i in range(80, 100): #60, 70\n",
    "    manager.fromDB()\n",
    "    manager.preprocess()\n",
    "\n",
    "    #print(len(manager.data))\n",
    "    scanned = extractScannedUsers(manager.data)\n",
    "    manager.ignoreUsers(scanned)\n",
    "\n",
    "    adapter.collectionName = cacheFileName.format(i)\n",
    "    #print(adapter.collectionName)\n",
    "    adapter.save(manager.data)\n",
    "\n",
    "    counter += len(flatternData(manager.data))\n",
    "\n",
    "    manager.clearData()\n",
    "\n",
    "    sleepTime = random() * 15\n",
    "    print(f\"Scanned {USERS_NUMBER_TO_SCAN} users. Sleeping {sleepTime}\")\n",
    "    sleep(sleepTime)\n",
    "\n",
    "endPoint = time()\n",
    "print(f\"Total scanned: {counter} projects\")\n",
    "print(f\"Time spent: {endPoint - startPoint} s\")"
   ]
  },
  {
   "cell_type": "code",
   "execution_count": 12,
   "id": "d84013ed-2f3a-48ab-99d0-3a9826bbd792",
   "metadata": {},
   "outputs": [
    {
     "name": "stdout",
     "output_type": "stream",
     "text": [
      "2133\n"
     ]
    }
   ],
   "source": [
    "#print([*manager.ignoredUsers][220:230])\n",
    "\n",
    "print(len([*manager.ignoredUsers]))\n",
    "\n",
    "import json\n",
    "\n",
    "with open(\"/home/trukhinmaksim/src/logs/ignoreUsers.json\", \"w\", encoding = \"utf-8\") as file:\n",
    "    json.dump([*manager.ignoredUsers], fp = file)\n"
   ]
  },
  {
   "cell_type": "code",
   "execution_count": 13,
   "id": "ffc2faf6-14a3-47a9-bbf9-8270efb938e3",
   "metadata": {},
   "outputs": [
    {
     "name": "stdout",
     "output_type": "stream",
     "text": [
      "2133\n"
     ]
    },
    {
     "data": {
      "text/plain": [
       "'\\ndata += ignore\\n\\nprint(len(set(data)))\\nwith open(\"/home/trukhinmaksim/src/logs/ignoreUsers.json\", \"w\", encoding = \"utf-8\") as file:\\n    json.dump(data, fp = file)\\n'"
      ]
     },
     "execution_count": 13,
     "metadata": {},
     "output_type": "execute_result"
    }
   ],
   "source": [
    "\n",
    "import json\n",
    "with open(\"/home/trukhinmaksim/src/logs/ignoreUsers.json\", encoding = \"utf-8\") as file:\n",
    "    data = json.load(fp = file)\n",
    "\n",
    "print(len(set(data)))\n",
    "\n",
    "\"\"\"\n",
    "data += ignore\n",
    "\n",
    "print(len(set(data)))\n",
    "with open(\"/home/trukhinmaksim/src/logs/ignoreUsers.json\", \"w\", encoding = \"utf-8\") as file:\n",
    "    json.dump(data, fp = file)\n",
    "\"\"\""
   ]
  },
  {
   "cell_type": "code",
   "execution_count": null,
   "id": "ee36a5ec-c14d-4352-aef0-f5bd02076bb5",
   "metadata": {},
   "outputs": [],
   "source": []
  }
 ],
 "metadata": {
  "kernelspec": {
   "display_name": "Python 3 (ipykernel)",
   "language": "python",
   "name": "python3"
  },
  "language_info": {
   "codemirror_mode": {
    "name": "ipython",
    "version": 3
   },
   "file_extension": ".py",
   "mimetype": "text/x-python",
   "name": "python",
   "nbconvert_exporter": "python",
   "pygments_lexer": "ipython3",
   "version": "3.11.11"
  }
 },
 "nbformat": 4,
 "nbformat_minor": 5
}
