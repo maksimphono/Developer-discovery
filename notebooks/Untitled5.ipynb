{
 "cells": [
  {
   "cell_type": "code",
   "execution_count": 1,
   "id": "b098f4d1-aee2-4e2d-b331-a765c988bbfc",
   "metadata": {},
   "outputs": [],
   "source": [
    "import sys\n",
    "sys.path.append('/home/trukhinmaksim/src')\n",
    "import json\n",
    "from time import time\n",
    "from collections import defaultdict"
   ]
  },
  {
   "cell_type": "code",
   "execution_count": 2,
   "id": "739b211f-368a-49f7-99f4-6a6a0a34de59",
   "metadata": {},
   "outputs": [],
   "source": [
    "from src.utils.CacheAdapter import Factory_21_04_25_HIGH, EXP_END_OF_DATA\n",
    "from src.utils.DatabaseConnect import CacheConnector\n",
    "from src.utils.DatasetManager import DatasetManager\n",
    "from src.utils.helpers import getTagsQuantitiesForCorpus\n",
    "from src.utils.Corpus import FlatCorpus\n",
    "from src.utils.DataNormalizer import NormalizerRemover"
   ]
  },
  {
   "cell_type": "code",
   "execution_count": 3,
   "id": "ad3df994-fd30-45f5-a581-6387f70e09a9",
   "metadata": {},
   "outputs": [],
   "source": [
    "def documentsCounter(adapter):\n",
    "    counter = 0\n",
    "\n",
    "    while True:\n",
    "        try:\n",
    "            if counter % 50000 == 0: print(f\"Scanned {counter} documents\")\n",
    "            obj = adapter.load(1)[0]\n",
    "            counter += 1\n",
    "        except EXP_END_OF_DATA:\n",
    "            break\n",
    "\n",
    "    return counter\n"
   ]
  },
  {
   "cell_type": "code",
   "execution_count": 3,
   "id": "0c9ef188-c3e7-4784-8b37-4e4c586a6c77",
   "metadata": {},
   "outputs": [],
   "source": [
    "dbAdapter = Factory_21_04_25_HIGH.createDBadapter()"
   ]
  },
  {
   "cell_type": "code",
   "execution_count": 6,
   "id": "f20df968-6a52-480b-aa48-047159e3146a",
   "metadata": {},
   "outputs": [],
   "source": [
    "fileAdapter = Factory_21_04_25_HIGH.createFlatAdapter()"
   ]
  },
  {
   "cell_type": "code",
   "execution_count": 5,
   "id": "a00186c8-5384-45fa-a25b-b6bd5314bf46",
   "metadata": {},
   "outputs": [],
   "source": [
    "manager = DatasetManager(1000, inputAdapter = dbAdapter, outputAdapters = [])"
   ]
  },
  {
   "cell_type": "code",
   "execution_count": 7,
   "id": "4899ec79-59d8-4394-9d24-dc278feba76b",
   "metadata": {},
   "outputs": [
    {
     "name": "stdout",
     "output_type": "stream",
     "text": [
      "Scanned 0 projects in 0.001971006393432617 s\n",
      "Scanned 100000 projects in 1.2429823875427246 s\n",
      "Scanned 200000 projects in 2.445145606994629 s\n",
      "Scanned 300000 projects in 3.656205654144287 s\n",
      "Scanned 400000 projects in 4.816526412963867 s\n",
      "Sorting tags\n"
     ]
    }
   ],
   "source": [
    "corp = FlatCorpus(fileAdapter)\n",
    "dist = getTagsQuantitiesForCorpus(corp)"
   ]
  },
  {
   "cell_type": "code",
   "execution_count": 14,
   "id": "38038870-981c-43f6-9072-3df92ffddd36",
   "metadata": {},
   "outputs": [
    {
     "data": {
      "text/plain": [
       "[('hacktoberfest2022', 862),\n",
       " ('ajax', 862),\n",
       " ('markdown-language', 861),\n",
       " ('mathematics', 858),\n",
       " ('github-pages', 858),\n",
       " ('webrtc', 857),\n",
       " ('coroutines', 855),\n",
       " ('theme', 848),\n",
       " ('rabbitmq', 846),\n",
       " ('crawler', 846),\n",
       " ('privacy', 845),\n",
       " ('html-css', 844),\n",
       " ('android-library', 840),\n",
       " ('ros', 830),\n",
       " ('dotfiles', 830),\n",
       " ('oop', 826),\n",
       " ('unit-testing', 825),\n",
       " ('web-scraping', 823),\n",
       " ('gradle', 820),\n",
       " ('docker-image', 816),\n",
       " ('demo', 814),\n",
       " ('babel', 814),\n",
       " ('social-media', 812),\n",
       " ('weather', 810),\n",
       " ('command-line-tool', 807),\n",
       " ('esp8266', 806),\n",
       " ('spring-security', 805),\n",
       " ('calculator', 800),\n",
       " ('developer-tools', 800),\n",
       " ('application', 796),\n",
       " ('lambda', 794),\n",
       " ('rag', 789),\n",
       " ('seanpm2001', 786),\n",
       " ('Makefile', 786),\n",
       " ('generative-ai', 783),\n",
       " ('hacktoberfest2021', 781),\n",
       " ('performance', 780),\n",
       " ('async', 777),\n",
       " ('assembly', 775),\n",
       " ('responsive-web-design', 775),\n",
       " ('nft', 772),\n",
       " ('ocr', 771),\n",
       " ('scraping', 770),\n",
       " ('programming-language', 770),\n",
       " ('jsx', 770),\n",
       " ('speech-recognition', 769),\n",
       " ('flask-application', 769),\n",
       " ('nuxt', 764),\n",
       " ('vuex', 763),\n",
       " ('Pascal', 760),\n",
       " ('godot', 760),\n",
       " ('aws-s3', 760),\n",
       " ('face-recognition', 760),\n",
       " ('real-time', 760),\n",
       " ('dependency-injection', 759),\n",
       " ('github-api', 758),\n",
       " ('grpc', 758),\n",
       " ('java-8', 755),\n",
       " ('streaming', 754),\n",
       " ('cplusplus', 753),\n",
       " ('latex', 752),\n",
       " ('zod', 750),\n",
       " ('cicd', 750),\n",
       " ('storybook', 747),\n",
       " ('google-maps-api', 747),\n",
       " ('GDScript', 746),\n",
       " ('EJS', 745),\n",
       " ('large-language-models', 744),\n",
       " ('wpf', 743),\n",
       " ('svg', 742),\n",
       " ('s3', 740),\n",
       " ('design-patterns', 739),\n",
       " ('flutter-app', 739),\n",
       " ('qt', 738),\n",
       " ('tkinter', 738),\n",
       " ('analysis', 734),\n",
       " ('figma', 733),\n",
       " ('dockerfile', 731),\n",
       " ('sequelize', 730),\n",
       " ('desktop', 730),\n",
       " ('landing-page', 729),\n",
       " ('next', 728),\n",
       " ('bash-script', 728),\n",
       " ('gcp', 728),\n",
       " ('chat-application', 727),\n",
       " ('instagram', 726),\n",
       " ('Scala', 726),\n",
       " ('mongodb-atlas', 726),\n",
       " ('python-3', 724),\n",
       " ('flutter-examples', 722),\n",
       " ('cmake', 720),\n",
       " ('lstm', 718),\n",
       " ('excel', 717),\n",
       " ('bioinformatics', 710),\n",
       " ('personal-website', 703),\n",
       " ('camera', 703),\n",
       " ('knowledge', 700),\n",
       " ('trading', 699),\n",
       " ('fullstack', 699),\n",
       " ('gpt-4', 699),\n",
       " ('language', 698),\n",
       " ('leetcode', 698),\n",
       " ('workflow', 697),\n",
       " ('reverse-engineering', 695),\n",
       " ('nextjs13', 694),\n",
       " ('transformers', 694),\n",
       " ('javafx', 694),\n",
       " ('dapp', 693),\n",
       " ('hackathon', 693),\n",
       " ('code', 691),\n",
       " ('editor', 691),\n",
       " ('pentesting', 690),\n",
       " ('self-hosted', 690),\n",
       " ('heroku-deployment', 689),\n",
       " ('tdd', 687),\n",
       " ('game-engine', 687),\n",
       " ('navigation', 687),\n",
       " ('prometheus', 687),\n",
       " ('Assembly', 685),\n",
       " ('visual-studio', 684),\n",
       " ('backup', 684),\n",
       " ('state-management', 683),\n",
       " ('spark', 681),\n",
       " ('opencv-python', 678),\n",
       " ('wasm', 678),\n",
       " ('ios-app', 678),\n",
       " ('flexbox', 677),\n",
       " ('accessibility', 670),\n",
       " ('transformer', 666),\n",
       " ('rust-lang', 666),\n",
       " ('socket', 666),\n",
       " ('cache', 666),\n",
       " ('face-detection', 665),\n",
       " ('python-script', 663),\n",
       " ('next-auth', 663),\n",
       " ('Batchfile', 662),\n",
       " ('php7', 661),\n",
       " ('front-end-development', 660),\n",
       " ('docs', 660),\n",
       " ('development', 659),\n",
       " ('chartjs', 659),\n",
       " ('time-series', 658),\n",
       " ('grafana', 658),\n",
       " ('microsoft', 658),\n",
       " ('client', 656),\n",
       " ('gpt-3', 655),\n",
       " ('calendar', 654),\n",
       " ('orm', 653),\n",
       " ('nlp-machine-learning', 653),\n",
       " ('social-network', 651),\n",
       " ('translation', 651),\n",
       " ('free', 651),\n",
       " ('authorization', 647),\n",
       " ('converter', 646),\n",
       " ('weather-app', 646),\n",
       " ('array', 641),\n",
       " ('graphics', 640),\n",
       " ('websockets', 640),\n",
       " ('webgl', 638),\n",
       " ('tcp', 638),\n",
       " ('room', 635),\n",
       " ('dns', 634),\n",
       " ('validation', 634),\n",
       " ('shell-script', 634),\n",
       " ('zustand', 632),\n",
       " ('architecture', 631),\n",
       " ('sqlalchemy', 631),\n",
       " ('deployment', 630),\n",
       " ('scala', 626),\n",
       " ('anime', 626),\n",
       " ('javascript-library', 625),\n",
       " ('home-assistant', 623),\n",
       " ('ci-cd', 621),\n",
       " ('crud-application', 621),\n",
       " ('music-player', 620),\n",
       " ('test', 619),\n",
       " ('clustering', 618),\n",
       " ('component', 617),\n",
       " ('puppeteer', 616),\n",
       " ('ssr', 615),\n",
       " ('ssh', 612),\n",
       " ('k8s', 612),\n",
       " ('ci', 610),\n",
       " ('gatsby', 609),\n",
       " ('deeplearning', 605),\n",
       " ('notifications', 605),\n",
       " ('spa', 605),\n",
       " ('seanpm2001-education', 603),\n",
       " ('text-to-speech', 603),\n",
       " ('realtime', 602),\n",
       " ('ui-components', 602),\n",
       " ('notes', 602),\n",
       " ('example', 601),\n",
       " ('e-commerce', 600),\n",
       " ('components', 599),\n",
       " ('cloudinary', 599),\n",
       " ('middleware', 599),\n",
       " ('react-hook-form', 598),\n",
       " ('slack', 598),\n",
       " ('i18n', 598)]"
      ]
     },
     "execution_count": 14,
     "metadata": {},
     "output_type": "execute_result"
    }
   ],
   "source": [
    "dist[400:600]"
   ]
  },
  {
   "cell_type": "code",
   "execution_count": 15,
   "id": "42f319b3-df4e-4738-ad40-6d2199bf63d8",
   "metadata": {},
   "outputs": [],
   "source": [
    "tagsDistribution = defaultdict(lambda: -float(\"inf\"), [('javascript', 45278), ('python', 39661), ('react', 37967), ('typescript', 26678), ('nodejs', 26092), ('HTML', 25168), ('reactjs', 24556), ('Jupyter Notebook', 20938), ('C++', 19168), ('html', 18513), ('java', 16784), ('PHP', 14513), ('Go', 14093), ('nextjs', 13648), ('android', 13498), ('machine-learning', 13394), ('tailwindcss', 12077), ('mongodb', 11773), ('hacktoberfest', 11243), ('C', 11210), ('api', 11090), ('CSS', 10736), ('Shell', 9487), ('Dart', 9399), ('flutter', 9240), ('Kotlin', 8972), ('deep-learning', 8934), ('php', 8397), ('golang', 7978), ('express', 7894), ('redux', 7495), ('firebase', 7006), ('ai', 6646), ('expressjs', 6441), ('postgresql', 6120), ('mysql', 6083), ('Vue', 6005), ('Rust', 5942), ('react-native', 5644), ('django', 5632), ('linux', 5601), ('game', 5572), ('ios', 5555), ('bootstrap', 5499), ('flask', 5157), ('Swift', 5142), ('cli', 5014), ('Ruby', 4953), ('aws', 4912), ('rest-api', 4832), ('angular', 4810), ('rust', 4722), ('pytorch', 4468), ('windows', 4048), ('laravel', 3985), ('computer-vision', 3953), ('data-science', 3898), ('bot', 3896), ('automation', 3841), ('tensorflow', 3808), ('mongoose', 3712), ('gplv3', 3691), ('database', 3618), ('nlp', 3616), ('gpl3', 3613), ('website', 3603), ('vite', 3522), ('sql', 3468), ('html-css-javascript', 3451), ('dotnet', 3446), ('axios', 3443), ('kubernetes', 3400), ('openai', 3362), ('github', 3357), ('blockchain', 3354), ('security', 3313), ('graphql', 3279), ('frontend', 3276), ('artificial-intelligence', 3211), ('styled-components', 3185), ('material-ui', 3104), ('docker-compose', 3070), ('unity', 3033), ('llm', 2915), ('react-router', 2887), ('opencv', 2882), ('webpack', 2874), ('scss', 2858), ('redis', 2844), ('arduino', 2786), ('discord-bot', 2724), ('template', 2692), ('macos', 2646), ('ethereum', 2600), ('github-actions', 2594), ('chatgpt', 2584), ('jquery', 2530), ('chrome-extension', 2480), ('jest', 2421), ('backend', 2387), ('R', 2361), ('blog', 2356), ('vercel', 2332), ('jwt', 2317), ('wordpress', 2310), ('algorithms', 2288), ('plugin', 2287), ('git', 2279), ('game-development', 2275), ('image-processing', 2247), ('npm', 2228), ('pandas', 2207), ('chatbot', 2182), ('authentication', 2172), ('webapp', 2148), ('azure', 2142), ('markdown', 2142), ('terraform', 2135), ('firebase-auth', 2132), ('raspberry-pi', 2124), ('ui', 2117), ('prisma', 2062), ('data-visualization', 2022), ('react-hooks', 2011), ('jupyter-notebook', 2010), ('redux-toolkit', 1985), ('iot', 1984), ('Lua', 1970), ('tailwind', 1957), ('eslint', 1937), ('natural-language-processing', 1936), ('solidity', 1929), ('bash', 1919), ('android-application', 1917), ('SCSS', 1912), ('neural-network', 1899), ('cryptocurrency', 1890), ('testing', 1886), ('video', 1870), ('socket-io', 1868), ('MATLAB', 1854), ('heroku', 1827), ('data-structures', 1823), ('serverless', 1778), ('gui', 1765), ('telegram-bot', 1746), ('data-analysis', 1745), ('spring', 1740), ('HCL', 1730), ('fastapi', 1716), ('hacktoberfest-accepted', 1715), ('data', 1704), ('jwt-authentication', 1690), ('sqlite', 1678), ('shell', 1667), ('keras', 1665), ('chakra-ui', 1653), ('youtube', 1652), ('r', 1645), ('numpy', 1635), ('app', 1632), ('server', 1617), ('covid-19', 1611), ('devops', 1606), ('PowerShell', 1595), ('unity3d', 1588), ('shadcn-ui', 1582), ('swiftui', 1560), ('vue3', 1558), ('mern-stack', 1557), ('ecommerce', 1557), ('web3', 1557), ('mvvm', 1542), ('portfolio-website', 1539), ('web-development', 1538), ('restful-api', 1528), ('bootstrap5', 1516), ('nestjs', 1500), ('visualization', 1499), ('object-detection', 1494), ('http', 1488), ('ruby-on-rails', 1486), ('django-rest-framework', 1473), ('selenium', 1457), ('bootstrap4', 1449), ('mobile', 1444), ('maven', 1441), ('vscode', 1439), ('Markdown', 1438), ('reinforcement-learning', 1430), ('Dockerfile', 1428), ('websocket', 1424), ('pwa', 1421), ('audio', 1397), ('electron', 1391), ('streamlit', 1383), ('android-app', 1383), ('kotlin-android', 1382), ('react-router-dom', 1372), ('microservices', 1358), ('chat', 1357), ('esp32', 1348), ('wordpress-plugin', 1347), ('dashboard', 1327), ('cross-platform', 1326), ('robotics', 1325), ('flutter-apps', 1318), ('education', 1316), ('tool', 1314), ('cnn', 1308), ('nginx', 1306), ('dotnet-core', 1299), ('kafka', 1290), ('documentation', 1290), ('bitcoin', 1289), ('animation', 1278), ('google', 1276), ('classification', 1263), ('rails', 1262), ('TeX', 1260), ('twitter', 1259), ('cybersecurity', 1251), ('svelte', 1244), ('redux-thunk', 1215), ('express-js', 1209), ('framer-motion', 1207), ('image', 1202), ('aws-lambda', 1199), ('cryptography', 1194), ('swagger', 1194), ('statistics', 1192), ('postgres', 1184), ('scraper', 1181), ('react-redux', 1174), ('convolutional-neural-networks', 1174), ('csv', 1170), ('browser', 1166), ('netlify', 1159), ('compiler', 1157), ('cloud', 1149), ('mobile-app', 1148), ('Objective-C', 1141), ('proxy', 1140), ('langchain', 1136), ('asp-net-core', 1135), ('parser', 1133), ('matplotlib', 1130), ('crypto', 1129), ('ext-ph3', 1129), ('hacking', 1120), ('algorithm', 1120), ('matlab', 1119), ('terminal', 1111), ('springboot', 1104), ('smart-contracts', 1104), ('powershell', 1100), ('learn', 1100), ('extension', 1100), ('mysql-database', 1100), ('neural-networks', 1099), ('stripe', 1098), ('hooks', 1087), ('network', 1086), ('context-api', 1083), ('sdk', 1081), ('monitoring', 1072), ('responsive', 1070), ('material-design', 1067), ('microservice', 1066), ('ml', 1064), ('gpt', 1063), ('xml', 1061), ('programming', 1058), ('openai-api', 1056), ('dataset', 1055), ('package', 1053), ('generator', 1049), ('npm-package', 1047), ('discord-js', 1042), ('sentiment-analysis', 1037), ('mvvm-architecture', 1036), ('mqtt', 1033), ('chrome', 1031), ('sqlite3', 1027), ('prettier', 1022), ('deep-neural-networks', 1018), ('Svelte', 1018), ('encryption', 1006), ('c-plus-plus', 1004), ('ffmpeg', 999), ('operating-system', 993), ('responsive-design', 991), ('rocketseat', 989), ('spotify', 989), ('android-studio', 988), ('utility', 986), ('machine-learning-algorithms', 983), ('command-line', 979), ('opengl', 978), ('oauth2', 978), ('webdevelopment', 972), ('finance', 971), ('mvc', 967), ('search', 965), ('3d', 963), ('front-end', 962), ('math', 958), ('graph', 953), ('mod', 949), ('nextjs14', 943), ('design', 942), ('optimization', 942), ('vitejs', 936), ('threejs', 931), ('localstorage', 930), ('image-classification', 927), ('firebase-database', 923), ('full-stack', 922), ('vscode-extension', 920), ('gamedev', 913), ('firestore', 912), ('analytics', 910), ('scikit-learn', 909), ('retrofit2', 907), ('cms', 903), ('web-application', 900), ('logging', 898), ('security-tools', 898), ('canvas', 890), ('elasticsearch', 888), ('webscraping', 887), ('productivity', 887), ('games', 887), ('supabase', 886), ('ejs', 881), ('vanilla-javascript', 881), ('markdown-lang', 881), ('networking', 877), ('Solidity', 872), ('ubuntu', 872), ('ansible', 869), ('map', 864), ('email', 864),  ('ajax', 862), ('markdown-language', 861), ('mathematics', 858), ('github-pages', 858), ('coroutines', 855), ('theme', 848), ('rabbitmq', 846), ('crawler', 846), ('privacy', 845), ('html-css', 844), ('android-library', 840), ('ros', 830), ('dotfiles', 830), ('oop', 826), ('unit-testing', 825), ('web-scraping', 823), ('gradle', 820), ('docker-image', 816), ('demo', 814), ('babel', 814), ('social-media', 812), ('weather', 810), ('command-line-tool', 807), ('esp8266', 806), ('spring-security', 805), ('calculator', 800), ('developer-tools', 800), ('application', 796), ('lambda', 794), ('rag', 789), ('seanpm2001', 786), ('Makefile', 786), ('generative-ai', 783), ('performance', 780), ('async', 777), ('assembly', 775), ('responsive-web-design', 775), ('nft', 772), ('ocr', 771), ('scraping', 770), ('programming-language', 770), ('jsx', 770), ('speech-recognition', 769), ('flask-application', 769), ('nuxt', 764), ('vuex', 763), ('Pascal', 760), ('godot', 760), ('aws-s3', 760), ('face-recognition', 760), ('dependency-injection', 759), ('github-api', 758), ('grpc', 758), ('java-8', 755), ('streaming', 754), ('cplusplus', 753), ('latex', 752), ('zod', 750), ('cicd', 750), ('storybook', 747), ('google-maps-api', 747), ('GDScript', 746), ('EJS', 745), ('large-language-models', 744), ('wpf', 743), ('svg', 742), ('s3', 740), ('design-patterns', 739), ('flutter-app', 739), ('qt', 738), ('tkinter', 738), ('analysis', 734), ('figma', 733), ('dockerfile', 731), ('sequelize', 730), ('desktop', 730), ('landing-page', 729), ('next', 728), ('bash-script', 728), ('gcp', 728), ('chat-application', 727), ('instagram', 726), ('Scala', 726), ('mongodb-atlas', 726), ('python-3', 724), ('flutter-examples', 722), ('cmake', 720), ('lstm', 718), ('excel', 717), ('bioinformatics', 710), ('personal-website', 703), ('camera', 703), ('knowledge', 700), ('trading', 699), ('fullstack', 699), ('gpt-4', 699), ('language', 698), ('leetcode', 698), ('workflow', 697), ('nextjs13', 694), ('transformers', 694), ('javafx', 694), ('editor', 691), ('pentesting', 690), ('self-hosted', 690), ('heroku-deployment', 689), ('game-engine', 687), ('navigation', 687), ('prometheus', 687), ('Assembly', 685), ('visual-studio', 684), ('backup', 684), ('state-management', 683), ('spark', 681), ('opencv-python', 678), ('wasm', 678), ('ios-app', 678), ('flexbox', 677), ('accessibility', 670), ('transformer', 666), ('rust-lang', 666), ('socket', 666), ('cache', 666), ('face-detection', 665), ('python-script', 663), ('next-auth', 663), ('Batchfile', 662), ('front-end-development', 660), ('docs', 660), ('development', 659), ('chartjs', 659), ('time-series', 658), ('grafana', 658), ('microsoft', 658), ('client', 656), ('gpt-3', 655), ('calendar', 654), ('orm', 653), ('nlp-machine-learning', 653), ('social-network', 651), ('translation', 651), ('authorization', 647), ('converter', 646), ('weather-app', 646), ('array', 641), ('graphics', 640), ('websockets', 640), ('webgl', 638), ('tcp', 638), ('room', 635), ('dns', 634), ('validation', 634), ('shell-script', 634), ('zustand', 632), ('architecture', 631), ('sqlalchemy', 631), ('deployment', 630), ('scala', 626), ('anime', 626), ('javascript-library', 625), ('home-assistant', 623), ('ci-cd', 621), ('crud-application', 621), ('music-player', 620), ('clustering', 618), ('puppeteer', 616), ('ssr', 615), ('ssh', 612), ('k8s', 612), ('ci', 610), ('gatsby', 609), ('deeplearning', 605), ('notifications', 605), ('spa', 605), ('text-to-speech', 603), ('ui-components', 602), ('e-commerce', 600), ('cloudinary', 599), ('middleware', 599), ('react-hook-form', 598), ('i18n', 598)])"
   ]
  },
  {
   "cell_type": "code",
   "execution_count": 16,
   "id": "fde8eec0-1389-432b-a15e-47a0ddf55108",
   "metadata": {},
   "outputs": [],
   "source": [
    "tagsToKeep = set(tagsDistribution.keys())"
   ]
  },
  {
   "cell_type": "code",
   "execution_count": 18,
   "id": "a173a4a7-2d6d-4ae3-98de-e6aa2ef21579",
   "metadata": {},
   "outputs": [
    {
     "data": {
      "text/plain": [
       "524"
      ]
     },
     "execution_count": 18,
     "metadata": {},
     "output_type": "execute_result"
    }
   ],
   "source": [
    "len(tagsDistribution)"
   ]
  },
  {
   "cell_type": "code",
   "execution_count": 3,
   "id": "651ee31f-3dc2-40b7-ae12-8fac99225452",
   "metadata": {},
   "outputs": [],
   "source": [
    "tagsToKeep = ['JavaScript',\n",
    "'Python',\n",
    "'TypeScript',\n",
    "'javascript',\n",
    "'python',\n",
    "'react',\n",
    "'Java']\n",
    "tagsDistribution = defaultdict(lambda: -float(\"inf\"), [\n",
    "('JavaScript', 98050),\n",
    "('Python', 77518),\n",
    "('TypeScript', 52441),\n",
    "('javascript', 45278),\n",
    "('python', 39661),\n",
    "('react', 37967),\n",
    "('Java', 29253)])"
   ]
  },
  {
   "cell_type": "code",
   "execution_count": 4,
   "id": "fd554e2b-c343-489e-9354-2f92425aa716",
   "metadata": {},
   "outputs": [
    {
     "name": "stdout",
     "output_type": "stream",
     "text": [
      "[{'tokens': ['q', 'w', 'e', 'r', 't', 'y'], 'tags': ['id', 'name', 'JavaScript', 'python', 'react']}]\n"
     ]
    }
   ],
   "source": [
    "c = False\n",
    "class Inp:\n",
    "    def load(self, a = 1):\n",
    "        global c\n",
    "        if c: raise EXP_END_OF_DATA\n",
    "        c = True\n",
    "        return [{\"tokens\" : list(\"qwerty\"), \"tags\" : [\"id\", \"name\", \"JavaScript\", \"REMOVE\", \"python\", 'react', 'Java', \"DELETE\"]}]\n",
    "\n",
    "    def save(self, docs):\n",
    "        print(docs)\n",
    "\n",
    "normalizer = NormalizerRemover(tagsToKeep, tagsDistribution, inputAdapter = Inp(), outputAdapters = [Inp()])\n",
    "\n",
    "#normalizer.selectKmostPopular([\"JavaScript\", \"REMOVE\", \"python\", 'react', 'Java', \"DELETE\"], 4)\n",
    "normalizer()"
   ]
  },
  {
   "cell_type": "code",
   "execution_count": 5,
   "id": "de9d6271-b1b2-4273-a248-5019d0aceed5",
   "metadata": {},
   "outputs": [
    {
     "data": {
      "text/plain": [
       "{'DELETE', 'Java', 'JavaScript', 'REMOVE', 'python', 'react'}"
      ]
     },
     "execution_count": 5,
     "metadata": {},
     "output_type": "execute_result"
    }
   ],
   "source": [
    "set([\"JavaScript\", \"REMOVE\", \"python\", 'react', 'Java', \"DELETE\"]) - set(tagsToKeep)"
   ]
  },
  {
   "cell_type": "code",
   "execution_count": null,
   "id": "4127075f-773a-4406-8724-f2c5df877542",
   "metadata": {},
   "outputs": [],
   "source": []
  }
 ],
 "metadata": {
  "kernelspec": {
   "display_name": "Python 3 (ipykernel)",
   "language": "python",
   "name": "python3"
  },
  "language_info": {
   "codemirror_mode": {
    "name": "ipython",
    "version": 3
   },
   "file_extension": ".py",
   "mimetype": "text/x-python",
   "name": "python",
   "nbconvert_exporter": "python",
   "pygments_lexer": "ipython3",
   "version": "3.11.11"
  }
 },
 "nbformat": 4,
 "nbformat_minor": 5
}
