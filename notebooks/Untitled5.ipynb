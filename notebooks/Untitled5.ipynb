{
 "cells": [
  {
   "cell_type": "code",
   "execution_count": 1,
   "id": "b098f4d1-aee2-4e2d-b331-a765c988bbfc",
   "metadata": {},
   "outputs": [],
   "source": [
    "import sys\n",
    "sys.path.append('/home/trukhinmaksim/src')\n",
    "import json\n",
    "from time import time\n",
    "from collections import defaultdict\n",
    "from numpy import array"
   ]
  },
  {
   "cell_type": "code",
   "execution_count": null,
   "id": "543765cb-b119-424a-91f6-dfc6fae17f68",
   "metadata": {},
   "outputs": [],
   "source": []
  },
  {
   "cell_type": "code",
   "execution_count": 2,
   "id": "739b211f-368a-49f7-99f4-6a6a0a34de59",
   "metadata": {},
   "outputs": [],
   "source": [
    "from src.utils.CacheAdapter import Factory_21_04_25_HIGH, EXP_END_OF_DATA\n",
    "from src.utils.DatabaseConnect import CacheConnector\n",
    "from src.utils.DatasetManager import DatasetManager\n",
    "from src.utils.helpers import getTagsQuantitiesForCorpus\n",
    "from src.utils.Corpus import FlatCorpus\n",
    "from src.utils.DataNormalizer import NormalizerRemover"
   ]
  },
  {
   "cell_type": "code",
   "execution_count": 3,
   "id": "ad3df994-fd30-45f5-a581-6387f70e09a9",
   "metadata": {},
   "outputs": [],
   "source": [
    "def documentsCounter(adapter):\n",
    "    counter = 0\n",
    "\n",
    "    while True:\n",
    "        try:\n",
    "            if counter % 50000 == 0: print(f\"Scanned {counter} documents\")\n",
    "            obj = adapter.load(1)[0]\n",
    "            counter += 1\n",
    "        except EXP_END_OF_DATA:\n",
    "            break\n",
    "\n",
    "    return counter\n"
   ]
  },
  {
   "cell_type": "code",
   "execution_count": 3,
   "id": "0c9ef188-c3e7-4784-8b37-4e4c586a6c77",
   "metadata": {},
   "outputs": [],
   "source": [
    "dbAdapter = Factory_21_04_25_HIGH.createDBadapter()"
   ]
  },
  {
   "cell_type": "code",
   "execution_count": 4,
   "id": "f20df968-6a52-480b-aa48-047159e3146a",
   "metadata": {},
   "outputs": [],
   "source": [
    "fileAdapter = Factory_21_04_25_HIGH.createFlatAdapter()"
   ]
  },
  {
   "cell_type": "code",
   "execution_count": 5,
   "id": "a00186c8-5384-45fa-a25b-b6bd5314bf46",
   "metadata": {},
   "outputs": [],
   "source": [
    "manager = DatasetManager(1000, inputAdapter = dbAdapter, outputAdapters = [])"
   ]
  },
  {
   "cell_type": "code",
   "execution_count": 5,
   "id": "4899ec79-59d8-4394-9d24-dc278feba76b",
   "metadata": {},
   "outputs": [
    {
     "name": "stdout",
     "output_type": "stream",
     "text": [
      "Scanned 0 projects in 0.00119781494140625 s\n",
      "Scanned 100000 projects in 1.1669375896453857 s\n",
      "Scanned 200000 projects in 2.3968284130096436 s\n",
      "Scanned 300000 projects in 3.6612184047698975 s\n",
      "Scanned 400000 projects in 4.833507299423218 s\n",
      "Sorting tags\n"
     ]
    }
   ],
   "source": [
    "corp = FlatCorpus(fileAdapter)\n",
    "dist = getTagsQuantitiesForCorpus(corp)"
   ]
  },
  {
   "cell_type": "code",
   "execution_count": null,
   "id": "38038870-981c-43f6-9072-3df92ffddd36",
   "metadata": {},
   "outputs": [],
   "source": [
    "dist[400:600]"
   ]
  },
  {
   "cell_type": "code",
   "execution_count": 6,
   "id": "42f319b3-df4e-4738-ad40-6d2199bf63d8",
   "metadata": {},
   "outputs": [],
   "source": [
    "tagsDistribution = defaultdict(lambda: -float(\"inf\"), dist)#defaultdict(lambda: -float(\"inf\"), [('javascript', 45278), ('python', 39661), ('react', 37967), ('typescript', 26678), ('nodejs', 26092), ('HTML', 25168), ('reactjs', 24556), ('Jupyter Notebook', 20938), ('C++', 19168), ('html', 18513), ('java', 16784), ('PHP', 14513), ('Go', 14093), ('nextjs', 13648), ('android', 13498), ('machine-learning', 13394), ('tailwindcss', 12077), ('mongodb', 11773), ('hacktoberfest', 11243), ('C', 11210), ('api', 11090), ('CSS', 10736), ('Shell', 9487), ('Dart', 9399), ('flutter', 9240), ('Kotlin', 8972), ('deep-learning', 8934), ('php', 8397), ('golang', 7978), ('express', 7894), ('redux', 7495), ('firebase', 7006), ('ai', 6646), ('expressjs', 6441), ('postgresql', 6120), ('mysql', 6083), ('Vue', 6005), ('Rust', 5942), ('react-native', 5644), ('django', 5632), ('linux', 5601), ('game', 5572), ('ios', 5555), ('bootstrap', 5499), ('flask', 5157), ('Swift', 5142), ('cli', 5014), ('Ruby', 4953), ('aws', 4912), ('rest-api', 4832), ('angular', 4810), ('rust', 4722), ('pytorch', 4468), ('windows', 4048), ('laravel', 3985), ('computer-vision', 3953), ('data-science', 3898), ('bot', 3896), ('automation', 3841), ('tensorflow', 3808), ('mongoose', 3712), ('gplv3', 3691), ('database', 3618), ('nlp', 3616), ('gpl3', 3613), ('website', 3603), ('vite', 3522), ('sql', 3468), ('html-css-javascript', 3451), ('dotnet', 3446), ('axios', 3443), ('kubernetes', 3400), ('openai', 3362), ('github', 3357), ('blockchain', 3354), ('security', 3313), ('graphql', 3279), ('frontend', 3276), ('artificial-intelligence', 3211), ('styled-components', 3185), ('material-ui', 3104), ('docker-compose', 3070), ('unity', 3033), ('llm', 2915), ('react-router', 2887), ('opencv', 2882), ('webpack', 2874), ('scss', 2858), ('redis', 2844), ('arduino', 2786), ('discord-bot', 2724), ('template', 2692), ('macos', 2646), ('ethereum', 2600), ('github-actions', 2594), ('chatgpt', 2584), ('jquery', 2530), ('chrome-extension', 2480), ('jest', 2421), ('backend', 2387), ('R', 2361), ('blog', 2356), ('vercel', 2332), ('jwt', 2317), ('wordpress', 2310), ('algorithms', 2288), ('plugin', 2287), ('git', 2279), ('game-development', 2275), ('image-processing', 2247), ('npm', 2228), ('pandas', 2207), ('chatbot', 2182), ('authentication', 2172), ('webapp', 2148), ('azure', 2142), ('markdown', 2142), ('terraform', 2135), ('firebase-auth', 2132), ('raspberry-pi', 2124), ('ui', 2117), ('prisma', 2062), ('data-visualization', 2022), ('react-hooks', 2011), ('jupyter-notebook', 2010), ('redux-toolkit', 1985), ('iot', 1984), ('Lua', 1970), ('tailwind', 1957), ('eslint', 1937), ('natural-language-processing', 1936), ('solidity', 1929), ('bash', 1919), ('android-application', 1917), ('SCSS', 1912), ('neural-network', 1899), ('cryptocurrency', 1890), ('testing', 1886), ('video', 1870), ('socket-io', 1868), ('MATLAB', 1854), ('heroku', 1827), ('data-structures', 1823), ('serverless', 1778), ('gui', 1765), ('telegram-bot', 1746), ('data-analysis', 1745), ('spring', 1740), ('HCL', 1730), ('fastapi', 1716), ('hacktoberfest-accepted', 1715), ('data', 1704), ('jwt-authentication', 1690), ('sqlite', 1678), ('shell', 1667), ('keras', 1665), ('chakra-ui', 1653), ('youtube', 1652), ('r', 1645), ('numpy', 1635), ('app', 1632), ('server', 1617), ('covid-19', 1611), ('devops', 1606), ('PowerShell', 1595), ('unity3d', 1588), ('shadcn-ui', 1582), ('swiftui', 1560), ('vue3', 1558), ('mern-stack', 1557), ('ecommerce', 1557), ('web3', 1557), ('mvvm', 1542), ('portfolio-website', 1539), ('web-development', 1538), ('restful-api', 1528), ('bootstrap5', 1516), ('nestjs', 1500), ('visualization', 1499), ('object-detection', 1494), ('http', 1488), ('ruby-on-rails', 1486), ('django-rest-framework', 1473), ('selenium', 1457), ('bootstrap4', 1449), ('mobile', 1444), ('maven', 1441), ('vscode', 1439), ('Markdown', 1438), ('reinforcement-learning', 1430), ('Dockerfile', 1428), ('websocket', 1424), ('pwa', 1421), ('audio', 1397), ('electron', 1391), ('streamlit', 1383), ('android-app', 1383), ('kotlin-android', 1382), ('react-router-dom', 1372), ('microservices', 1358), ('chat', 1357), ('esp32', 1348), ('wordpress-plugin', 1347), ('dashboard', 1327), ('cross-platform', 1326), ('robotics', 1325), ('flutter-apps', 1318), ('education', 1316), ('tool', 1314), ('cnn', 1308), ('nginx', 1306), ('dotnet-core', 1299), ('kafka', 1290), ('documentation', 1290), ('bitcoin', 1289), ('animation', 1278), ('google', 1276), ('classification', 1263), ('rails', 1262), ('TeX', 1260), ('twitter', 1259), ('cybersecurity', 1251), ('svelte', 1244), ('redux-thunk', 1215), ('express-js', 1209), ('framer-motion', 1207), ('image', 1202), ('aws-lambda', 1199), ('cryptography', 1194), ('swagger', 1194), ('statistics', 1192), ('postgres', 1184), ('scraper', 1181), ('react-redux', 1174), ('convolutional-neural-networks', 1174), ('csv', 1170), ('browser', 1166), ('netlify', 1159), ('compiler', 1157), ('cloud', 1149), ('mobile-app', 1148), ('Objective-C', 1141), ('proxy', 1140), ('langchain', 1136), ('asp-net-core', 1135), ('parser', 1133), ('matplotlib', 1130), ('crypto', 1129), ('ext-ph3', 1129), ('hacking', 1120), ('algorithm', 1120), ('matlab', 1119), ('terminal', 1111), ('springboot', 1104), ('smart-contracts', 1104), ('powershell', 1100), ('learn', 1100), ('extension', 1100), ('mysql-database', 1100), ('neural-networks', 1099), ('stripe', 1098), ('hooks', 1087), ('network', 1086), ('context-api', 1083), ('sdk', 1081), ('monitoring', 1072), ('responsive', 1070), ('material-design', 1067), ('microservice', 1066), ('ml', 1064), ('gpt', 1063), ('xml', 1061), ('programming', 1058), ('openai-api', 1056), ('dataset', 1055), ('package', 1053), ('generator', 1049), ('npm-package', 1047), ('discord-js', 1042), ('sentiment-analysis', 1037), ('mvvm-architecture', 1036), ('mqtt', 1033), ('chrome', 1031), ('sqlite3', 1027), ('prettier', 1022), ('deep-neural-networks', 1018), ('Svelte', 1018), ('encryption', 1006), ('c-plus-plus', 1004), ('ffmpeg', 999), ('operating-system', 993), ('responsive-design', 991), ('rocketseat', 989), ('spotify', 989), ('android-studio', 988), ('utility', 986), ('machine-learning-algorithms', 983), ('command-line', 979), ('opengl', 978), ('oauth2', 978), ('webdevelopment', 972), ('finance', 971), ('mvc', 967), ('search', 965), ('3d', 963), ('front-end', 962), ('math', 958), ('graph', 953), ('mod', 949), ('nextjs14', 943), ('design', 942), ('optimization', 942), ('vitejs', 936), ('threejs', 931), ('localstorage', 930), ('image-classification', 927), ('firebase-database', 923), ('full-stack', 922), ('vscode-extension', 920), ('gamedev', 913), ('firestore', 912), ('analytics', 910), ('scikit-learn', 909), ('retrofit2', 907), ('cms', 903), ('web-application', 900), ('logging', 898), ('security-tools', 898), ('canvas', 890), ('elasticsearch', 888), ('webscraping', 887), ('productivity', 887), ('games', 887), ('supabase', 886), ('ejs', 881), ('vanilla-javascript', 881), ('markdown-lang', 881), ('networking', 877), ('Solidity', 872), ('ubuntu', 872), ('ansible', 869), ('map', 864), ('email', 864),  ('ajax', 862), ('markdown-language', 861), ('mathematics', 858), ('github-pages', 858), ('coroutines', 855), ('theme', 848), ('rabbitmq', 846), ('crawler', 846), ('privacy', 845), ('html-css', 844), ('android-library', 840), ('ros', 830), ('dotfiles', 830), ('oop', 826), ('unit-testing', 825), ('web-scraping', 823), ('gradle', 820), ('docker-image', 816), ('demo', 814), ('babel', 814), ('social-media', 812), ('weather', 810), ('command-line-tool', 807), ('esp8266', 806), ('spring-security', 805), ('calculator', 800), ('developer-tools', 800), ('application', 796), ('lambda', 794), ('rag', 789), ('seanpm2001', 786), ('Makefile', 786), ('generative-ai', 783), ('performance', 780), ('async', 777), ('assembly', 775), ('responsive-web-design', 775), ('nft', 772), ('ocr', 771), ('scraping', 770), ('programming-language', 770), ('jsx', 770), ('speech-recognition', 769), ('flask-application', 769), ('nuxt', 764), ('vuex', 763), ('Pascal', 760), ('godot', 760), ('aws-s3', 760), ('face-recognition', 760), ('dependency-injection', 759), ('github-api', 758), ('grpc', 758), ('java-8', 755), ('streaming', 754), ('cplusplus', 753), ('latex', 752), ('zod', 750), ('cicd', 750), ('storybook', 747), ('google-maps-api', 747), ('GDScript', 746), ('EJS', 745), ('large-language-models', 744), ('wpf', 743), ('svg', 742), ('s3', 740), ('design-patterns', 739), ('flutter-app', 739), ('qt', 738), ('tkinter', 738), ('analysis', 734), ('figma', 733), ('dockerfile', 731), ('sequelize', 730), ('desktop', 730), ('landing-page', 729), ('next', 728), ('bash-script', 728), ('gcp', 728), ('chat-application', 727), ('instagram', 726), ('Scala', 726), ('mongodb-atlas', 726), ('python-3', 724), ('flutter-examples', 722), ('cmake', 720), ('lstm', 718), ('excel', 717), ('bioinformatics', 710), ('personal-website', 703), ('camera', 703), ('knowledge', 700), ('trading', 699), ('fullstack', 699), ('gpt-4', 699), ('language', 698), ('leetcode', 698), ('workflow', 697), ('nextjs13', 694), ('transformers', 694), ('javafx', 694), ('editor', 691), ('pentesting', 690), ('self-hosted', 690), ('heroku-deployment', 689), ('game-engine', 687), ('navigation', 687), ('prometheus', 687), ('Assembly', 685), ('visual-studio', 684), ('backup', 684), ('state-management', 683), ('spark', 681), ('opencv-python', 678), ('wasm', 678), ('ios-app', 678), ('flexbox', 677), ('accessibility', 670), ('transformer', 666), ('rust-lang', 666), ('socket', 666), ('cache', 666), ('face-detection', 665), ('python-script', 663), ('next-auth', 663), ('Batchfile', 662), ('front-end-development', 660), ('docs', 660), ('development', 659), ('chartjs', 659), ('time-series', 658), ('grafana', 658), ('microsoft', 658), ('client', 656), ('gpt-3', 655), ('calendar', 654), ('orm', 653), ('nlp-machine-learning', 653), ('social-network', 651), ('translation', 651), ('authorization', 647), ('converter', 646), ('weather-app', 646), ('array', 641), ('graphics', 640), ('websockets', 640), ('webgl', 638), ('tcp', 638), ('room', 635), ('dns', 634), ('validation', 634), ('shell-script', 634), ('zustand', 632), ('architecture', 631), ('sqlalchemy', 631), ('deployment', 630), ('scala', 626), ('anime', 626), ('javascript-library', 625), ('home-assistant', 623), ('ci-cd', 621), ('crud-application', 621), ('music-player', 620), ('clustering', 618), ('puppeteer', 616), ('ssr', 615), ('ssh', 612), ('k8s', 612), ('ci', 610), ('gatsby', 609), ('deeplearning', 605), ('notifications', 605), ('spa', 605), ('text-to-speech', 603), ('ui-components', 602), ('e-commerce', 600), ('cloudinary', 599), ('middleware', 599), ('react-hook-form', 598), ('i18n', 598)])"
   ]
  },
  {
   "cell_type": "code",
   "execution_count": 7,
   "id": "fde8eec0-1389-432b-a15e-47a0ddf55108",
   "metadata": {},
   "outputs": [],
   "source": [
    "tagsToKeep = set(('javascript', 'python', 'react', 'typescript', 'nodejs', 'HTML', 'reactjs', 'Jupyter Notebook', 'C++', 'html', 'java', 'PHP', 'Go', 'nextjs', 'android', 'machine-learning', 'tailwindcss', 'mongodb', 'hacktoberfest', 'C', 'api', 'CSS', 'Shell', 'Dart', 'flutter', 'Kotlin', 'deep-learning', 'php', 'golang', 'express', 'redux', 'firebase', 'ai', 'expressjs', 'postgresql', 'mysql', 'Vue', 'Rust', 'react-native', 'django', 'linux', 'game', 'ios', 'bootstrap', 'flask', 'Swift', 'cli', 'Ruby', 'aws', 'rest-api', 'angular', 'rust', 'pytorch', 'windows', 'laravel', 'computer-vision', 'data-science', 'bot', 'automation', 'tensorflow', 'mongoose', 'gplv3', 'database', 'nlp', 'gpl3', 'website', 'vite', 'sql', 'html-css-javascript', 'dotnet', 'axios', 'kubernetes', 'openai', 'github', 'blockchain', 'security', 'graphql', 'frontend', 'artificial-intelligence', 'styled-components', 'material-ui', 'docker-compose', 'unity', 'llm', 'react-router', 'opencv', 'webpack', 'scss', 'redis', 'arduino', 'discord-bot', 'template', 'macos', 'ethereum', 'github-actions', 'chatgpt', 'jquery', 'chrome-extension', 'jest', 'backend', 'R', 'blog', 'vercel', 'jwt', 'wordpress', 'algorithms', 'plugin', 'git', 'game-development', 'image-processing', 'npm', 'pandas', 'chatbot', 'authentication', 'webapp', 'azure', 'markdown', 'terraform', 'firebase-auth', 'raspberry-pi', 'ui', 'prisma', 'data-visualization', 'react-hooks', 'jupyter-notebook', 'redux-toolkit', 'iot', 'Lua', 'tailwind', 'eslint', 'natural-language-processing', 'solidity', 'bash', 'android-application', 'SCSS', 'neural-network', 'cryptocurrency', 'testing', 'video', 'socket-io', 'MATLAB', 'heroku', 'data-structures', 'serverless', 'gui', 'telegram-bot', 'data-analysis', 'spring', 'HCL', 'fastapi', 'hacktoberfest-accepted', 'data', 'jwt-authentication', 'sqlite', 'shell', 'keras', 'chakra-ui', 'youtube', 'r', 'numpy', 'app', 'server', 'covid-19', 'devops', 'PowerShell', 'unity3d', 'shadcn-ui', 'swiftui', 'vue3', 'mern-stack', 'ecommerce', 'web3', 'mvvm', 'portfolio-website', 'web-development', 'restful-api', 'bootstrap5', 'nestjs', 'visualization', 'object-detection', 'http', 'ruby-on-rails', 'django-rest-framework', 'selenium', 'bootstrap4', 'mobile', 'maven', 'vscode', 'Markdown', 'reinforcement-learning', 'Dockerfile', 'websocket', 'pwa', 'audio', 'electron', 'streamlit', 'android-app', 'kotlin-android', 'react-router-dom', 'microservices', 'chat', 'esp32', 'wordpress-plugin', 'dashboard', 'cross-platform', 'robotics', 'flutter-apps', 'education', 'tool', 'cnn', 'nginx', 'dotnet-core', 'kafka', 'documentation', 'bitcoin', 'animation', 'google', 'classification', 'rails', 'TeX', 'twitter', 'cybersecurity', 'svelte', 'redux-thunk', 'express-js', 'framer-motion', 'image', 'aws-lambda', 'cryptography', 'swagger', 'statistics', 'postgres', 'scraper', 'react-redux', 'convolutional-neural-networks', 'csv', 'browser', 'netlify', 'compiler', 'cloud', 'mobile-app', 'Objective-C', 'proxy', 'langchain', 'asp-net-core', 'parser', 'matplotlib', 'crypto', 'ext-ph3', 'hacking', 'algorithm', 'matlab', 'terminal', 'springboot', 'smart-contracts', 'powershell', 'learn', 'extension', 'mysql-database', 'neural-networks', 'stripe', 'hooks', 'network', 'context-api', 'sdk', 'monitoring', 'responsive', 'material-design', 'microservice', 'ml', 'gpt', 'xml', 'programming', 'openai-api', 'dataset', 'package', 'generator', 'npm-package', 'discord-js', 'sentiment-analysis', 'mvvm-architecture', 'mqtt', 'chrome', 'sqlite3', 'prettier', 'deep-neural-networks', 'Svelte', 'encryption', 'c-plus-plus', 'ffmpeg', 'operating-system', 'responsive-design', 'rocketseat', 'spotify', 'android-studio', 'utility', 'machine-learning-algorithms', 'command-line', 'opengl', 'oauth2', 'webdevelopment', 'finance', 'mvc', 'search', '3d', 'front-end', 'math', 'graph', 'mod', 'nextjs14', 'design', 'optimization', 'vitejs', 'threejs', 'localstorage', 'image-classification', 'firebase-database', 'full-stack', 'vscode-extension', 'gamedev', 'firestore', 'analytics', 'scikit-learn', 'retrofit2', 'cms', 'web-application', 'logging', 'security-tools', 'canvas', 'elasticsearch', 'webscraping', 'productivity', 'games', 'supabase', 'ejs', 'vanilla-javascript', 'markdown-lang', 'networking', 'Solidity', 'ubuntu', 'ansible', 'map', 'email',  'ajax', 'markdown-language', 'mathematics', 'github-pages', 'coroutines', 'theme', 'rabbitmq', 'crawler', 'privacy', 'html-css', 'android-library', 'ros', 'dotfiles', 'oop', 'unit-testing', 'web-scraping', 'gradle', 'docker-image', 'demo', 'babel', 'social-media', 'weather', 'command-line-tool', 'esp8266', 'spring-security', 'calculator', 'developer-tools', 'application', 'lambda', 'rag', 'seanpm2001', 'Makefile', 'generative-ai', 'performance', 'async', 'assembly', 'responsive-web-design', 'nft', 'ocr', 'scraping', 'programming-language', 'jsx', 'speech-recognition', 'flask-application', 'nuxt', 'vuex', 'Pascal', 'godot', 'aws-s3', 'face-recognition', 'dependency-injection', 'github-api', 'grpc', 'java-8', 'streaming', 'cplusplus', 'latex', 'zod', 'cicd', 'storybook', 'google-maps-api', 'GDScript', 'EJS', 'large-language-models', 'wpf', 'svg', 's3', 'design-patterns', 'flutter-app', 'qt', 'tkinter', 'analysis', 'figma', 'dockerfile', 'sequelize', 'desktop', 'landing-page', 'next', 'bash-script', 'gcp', 'chat-application', 'instagram', 'Scala', 'mongodb-atlas', 'python-3', 'flutter-examples', 'cmake', 'lstm', 'excel', 'bioinformatics', 'personal-website', 'camera', 'knowledge', 'trading', 'fullstack', 'gpt-4', 'language', 'leetcode', 'workflow', 'nextjs13', 'transformers', 'javafx', 'editor', 'pentesting', 'self-hosted', 'heroku-deployment', 'game-engine', 'navigation', 'prometheus', 'Assembly', 'visual-studio', 'backup', 'state-management', 'spark', 'opencv-python', 'wasm', 'ios-app', 'flexbox', 'accessibility', 'transformer', 'rust-lang', 'socket', 'cache', 'face-detection', 'python-script', 'next-auth', 'Batchfile', 'front-end-development', 'docs', 'development', 'chartjs', 'time-series', 'grafana', 'microsoft', 'client', 'gpt-3', 'calendar', 'orm', 'nlp-machine-learning', 'social-network', 'translation', 'authorization', 'converter', 'weather-app', 'array', 'graphics', 'websockets', 'webgl', 'tcp', 'room', 'dns', 'validation', 'shell-script', 'zustand', 'architecture', 'sqlalchemy', 'deployment', 'scala', 'anime', 'javascript-library', 'home-assistant', 'ci-cd', 'crud-application', 'music-player', 'clustering', 'puppeteer', 'ssr', 'ssh', 'k8s', 'ci', 'gatsby', 'deeplearning', 'notifications', 'spa', 'text-to-speech', 'ui-components', 'e-commerce', 'cloudinary', 'middleware', 'react-hook-form', 'i18n'))"
   ]
  },
  {
   "cell_type": "code",
   "execution_count": 8,
   "id": "7991eeb6-8bb8-4203-8351-a3f3b434ad86",
   "metadata": {},
   "outputs": [
    {
     "name": "stdout",
     "output_type": "stream",
     "text": [
      "Processed 0 items\n"
     ]
    }
   ],
   "source": [
    "normAdapter = Factory_21_04_25_HIGH.createNormAdapter()\n",
    "normalizer = NormalizerRemover(tagsToKeep, tagsDistribution, inputAdapter = fileAdapter, outputAdapters = [normAdapter])\n",
    "\n",
    "#normalizer.selectKmostPopular([\"JavaScript\", \"REMOVE\", \"python\", 'react', 'Java', \"DELETE\"], 4)\n",
    "i = 0\n",
    "while True:\n",
    "    try:\n",
    "        if i % 50000 == 0: print(f\"Processed {i} items\")\n",
    "        normalizer()\n",
    "        i += 1\n",
    "    except EXP_END_OF_DATA:\n",
    "        break"
   ]
  },
  {
   "cell_type": "code",
   "execution_count": 10,
   "id": "f9e462f1-c7ce-4cf6-982e-c21d771401c2",
   "metadata": {},
   "outputs": [
    {
     "name": "stdout",
     "output_type": "stream",
     "text": [
      "Processed 0 items\n"
     ]
    }
   ],
   "source": [
    "normAdapter.reset()\n",
    "count = 0\n",
    "def checkTagAmountMapper(doc):\n",
    "    global count\n",
    "    if len(doc[\"tags\"]) <= 8:\n",
    "        count += 1\n",
    "\n",
    "    return count\n",
    "\n",
    "checker = DatasetManager(10000, inputAdapter = normAdapter, mapper = checkTagAmountMapper)\n",
    "\n",
    "i = 0\n",
    "while True:\n",
    "    try:\n",
    "        if i % 50000 == 0: print(f\"Processed {i} items\")\n",
    "        checker()\n",
    "        i += 1\n",
    "    except EXP_END_OF_DATA:\n",
    "        break"
   ]
  },
  {
   "cell_type": "code",
   "execution_count": 11,
   "id": "aed9401f-2235-44e1-908a-c7fef5741e3f",
   "metadata": {},
   "outputs": [
    {
     "data": {
      "text/plain": [
       "482555"
      ]
     },
     "execution_count": 11,
     "metadata": {},
     "output_type": "execute_result"
    }
   ],
   "source": [
    "count"
   ]
  },
  {
   "cell_type": "code",
   "execution_count": 12,
   "id": "21fb6621-fc03-433b-a828-e1ae42e2dfb0",
   "metadata": {},
   "outputs": [],
   "source": [
    "tagsToKeep = ['JavaScript',\n",
    "'Python',\n",
    "'TypeScript',\n",
    "'javascript',\n",
    "'python',\n",
    "'react',\n",
    "'Java']\n",
    "tagsDistribution = defaultdict(lambda: -float(\"inf\"), [\n",
    "('JavaScript', 98050),\n",
    "('Python', 77518),\n",
    "('TypeScript', 52441),\n",
    "('javascript', 45278),\n",
    "('python', 39661),\n",
    "('react', 37967),\n",
    "('Java', 29253)])"
   ]
  },
  {
   "cell_type": "code",
   "execution_count": 15,
   "id": "fd554e2b-c343-489e-9354-2f92425aa716",
   "metadata": {},
   "outputs": [
    {
     "data": {
      "text/plain": [
       "[('Python', 77518),\n",
       " ('python', 39661),\n",
       " ('react', 37967),\n",
       " ('Java', 29253),\n",
       " ('DELETE', -inf),\n",
       " ('REMOVE', -inf)]"
      ]
     },
     "execution_count": 15,
     "metadata": {},
     "output_type": "execute_result"
    }
   ],
   "source": [
    "c = False\n",
    "class Inp:\n",
    "    def load(self, a = 1):\n",
    "        global c\n",
    "        if c: raise EXP_END_OF_DATA\n",
    "        c = True\n",
    "        return [{\"tokens\" : list(\"qwerty\"), \"tags\" : [\"id\", \"name\", \"JavaScript\", \"REMOVE\", \"python\", 'react', 'Java', \"DELETE\"]}]\n",
    "\n",
    "    def save(self, docs):\n",
    "        print(docs)\n",
    "\n",
    "normalizer = NormalizerRemover(tagsToKeep, tagsDistribution, inputAdapter = Inp(), outputAdapters = [Inp()])\n",
    "\n",
    "normalizer.selectKmostUnpopular([\"JavaScript\", \"REMOVE\", \"Python\", \"python\", 'react', 'Java', \"DELETE\"], 6)\n",
    "#normalizer()"
   ]
  },
  {
   "cell_type": "code",
   "execution_count": 5,
   "id": "de9d6271-b1b2-4273-a248-5019d0aceed5",
   "metadata": {},
   "outputs": [
    {
     "data": {
      "text/plain": [
       "{'DELETE', 'Java', 'JavaScript', 'REMOVE', 'python', 'react'}"
      ]
     },
     "execution_count": 5,
     "metadata": {},
     "output_type": "execute_result"
    }
   ],
   "source": [
    "set([\"JavaScript\", \"REMOVE\", \"python\", 'react', 'Java', \"DELETE\"]) - set(tagsToKeep)"
   ]
  },
  {
   "cell_type": "code",
   "execution_count": null,
   "id": "4127075f-773a-4406-8724-f2c5df877542",
   "metadata": {},
   "outputs": [],
   "source": []
  }
 ],
 "metadata": {
  "kernelspec": {
   "display_name": "Python 3 (ipykernel)",
   "language": "python",
   "name": "python3"
  },
  "language_info": {
   "codemirror_mode": {
    "name": "ipython",
    "version": 3
   },
   "file_extension": ".py",
   "mimetype": "text/x-python",
   "name": "python",
   "nbconvert_exporter": "python",
   "pygments_lexer": "ipython3",
   "version": "3.11.11"
  }
 },
 "nbformat": 4,
 "nbformat_minor": 5
}
