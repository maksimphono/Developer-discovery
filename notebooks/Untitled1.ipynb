{
 "cells": [
  {
   "cell_type": "code",
   "execution_count": 1,
   "id": "455cc887-8373-451d-8c96-a66b7530486c",
   "metadata": {},
   "outputs": [],
   "source": [
    "import sys\n",
    "sys.path.append('/home/trukhinmaksim/src')\n",
    "import json\n",
    "import numpy as np"
   ]
  },
  {
   "cell_type": "code",
   "execution_count": 2,
   "id": "6e9e04f0-6c93-4c2e-9acf-87a2d48be3fd",
   "metadata": {},
   "outputs": [],
   "source": [
    "from time import time\n",
    "from src.utils.CacheAdapter import FlatAdapter, EXP_END_OF_DATA, createAdapter_02_04_25_GOOD, createTrainSetAdapter_02_04_25_GOOD, createTestSetAdapter_02_04_25_GOOD\n",
    "from src.utils.Corpus import CacheCorpus, FlatCorpus, Factory\n",
    "from src.utils.DatasetManager import ProjectsDatasetManager\n",
    "from src.Doc2Vec_model import Model, AnnoySearcher\n",
    "\n",
    "\n",
    "from gensim.models.doc2vec import TaggedDocument\n",
    "from annoy import AnnoyIndex"
   ]
  },
  {
   "cell_type": "code",
   "execution_count": 3,
   "id": "cd2fb6af-bdae-402b-821d-a3b6d9fca58d",
   "metadata": {},
   "outputs": [
    {
     "name": "stdout",
     "output_type": "stream",
     "text": [
      "[TaggedDocument(words=['svelte', 'baidumaps', 'set', 'baidu', 'map', 'component', 'svelte'], tags=['github:vulcangz/svelte-baidumaps', 'svelte-baidumaps', 'Svelte', 'baidu-map', 'baidumap', 'map', 'svelte'])]\n",
      "TaggedDocument<['python', 'djvulibre', 'python', 'interface', 'djvulibre'], ['github:FriedrichFroebel/python-djvulibre', 'python-djvulibre', 'Cython', 'djvu', 'djvulibre']>\n",
      "TaggedDocument<['hledger', 'robust', 'fast', 'intuitive', 'plain', 'text', 'accounting', 'tool', 'cli', 'tui', 'web', 'interface'], ['github:simonmichael/hledger', 'hledger', 'Haskell', 'accounting', 'bounties', 'bounty', 'command-line-tool', 'console-application', 'finance', 'haskell', 'haskell-applications', 'hledger', 'ledger', 'plaintext', 'plaintext-accounting', 'plaintextaccounting', 'tui', 'web-application']>\n",
      "TaggedDocument<['rule', 'nixpkgs', 'rule', 'importing', 'nixpkgs', 'package', 'bazel'], ['github:tweag/rules_nixpkgs', 'rules_nixpkgs', 'Starlark', 'bazel', 'bazel-rules', 'nix', 'nixpkgs']>\n",
      "TaggedDocument<['unix', 'history', 'make', 'code', 'data', 'create', 'git', 'repository', 'representing', 'unix', 'source', 'code', 'history'], ['github:dspinellis/unix-history-make', 'unix-history-make', 'Roff', 'bell-labs', 'evolution', 'history', 'unix']>\n",
      "TaggedDocument<['python', 'djvulibre', 'python', 'interface', 'djvulibre'], ['github:jwilk/python-djvulibre', 'python-djvulibre', 'Cython', 'djvu']>\n",
      "TaggedDocument<['svelte', 'baidumaps', 'set', 'baidu', 'map', 'component', 'svelte'], ['github:vulcangz/svelte-baidumaps', 'svelte-baidumaps', 'Svelte', 'baidu-map', 'baidumap', 'map', 'svelte']>\n",
      "TaggedDocument<['argbash', 'bash', 'argument', 'parsing', 'code', 'generator'], ['github:matejak/argbash', 'argbash', 'M4', 'argument-parsing', 'code-generator', 'shell-scripts']>\n",
      "TaggedDocument<['karpsichord', 'virtual', 'harpsichord', 'based', 'karplus', 'strong', 'string', 'synthesis'], ['github:spaskalev/karpsichord', 'karpsichord', 'Faust', 'baroque', 'harpsichord', 'instrument', 'music', 'musical-instrument', 'physical-modeling', 'synthesis-algorithm']>\n",
      "TaggedDocument<['excision', 'mail', 'fullstack', 'security', 'focused', 'personal', 'mail', 'server', 'based', 'opensmtpd', 'openbsd'], ['github:Excision-Mail/Excision-Mail', 'Excision-Mail', 'Jinja', 'ansible', 'ansible-playbook', 'clamav', 'dovecot', 'gnupg', 'imap', 'ldap', 'letsencrypt', 'mail', 'mailserver', 'mta-sts', 'openbsd', 'opensmtpd', 'pop3', 'rspamd', 'sieve', 'smtp', 'ssl']>\n",
      "TaggedDocument<['calibre', 'web', 'book', 'web', 'app', 'browsing', 'reading', 'downloading', 'ebooks', 'stored', 'calibre', 'database'], ['github:janeczku/calibre-web', 'calibre-web', 'Fluent', 'calibre', 'ebook', 'ebook-manager', 'epub', 'mobi']>\n"
     ]
    }
   ],
   "source": [
    "adapter = createAdapter_02_04_25_GOOD()#JSONMultiFileAdapter(CACHE_FILE_NAME)\n",
    "manager = ProjectsDatasetManager(50, cacheAdapter = adapter)\n",
    "cursor = CacheCorpus(manager, limit = 10)\n",
    "\n",
    "flatAda = createTrainSetAdapter_02_04_25_GOOD()\n",
    "flat = FlatCorpus(flatAda, limit = 10)\n",
    "\n",
    "print(flat[[5]])\n",
    "\n",
    "for doc in flat:\n",
    "    print(doc)\n",
    "    #flatAda.save([{\"tokens\" : doc.words, \"tags\" : doc.tags}])\n",
    "\n",
    "#print(adapter.load(1))\n",
    "#print(adapter.load(3))\n",
    "#print(adapter.load(3))\n",
    "#adapter.save([{\"a\" : [1,2,3,7,8], \"b\" : [4]}, {\"a\" : [9,5, 8], \"b\" : [6]}])"
   ]
  },
  {
   "cell_type": "code",
   "execution_count": 4,
   "id": "c21284e9-c818-4638-8e15-ca514a22405b",
   "metadata": {},
   "outputs": [],
   "source": [
    "import logging\n",
    "logging.basicConfig(\n",
    "    #filename=\"/home/trukhinmaksim/src/logs/09-04-25_autotunning.log\",\n",
    "    format='%(asctime)s : %(levelname)s : %(message)s',\n",
    "    level=logging.INFO\n",
    ")"
   ]
  },
  {
   "cell_type": "code",
   "execution_count": 5,
   "id": "3ef11ae9-0382-42a7-8c16-58ee3a18bd0a",
   "metadata": {},
   "outputs": [
    {
     "name": "stderr",
     "output_type": "stream",
     "text": [
      "2025-04-17 08:47:02,596 : INFO : Model lifecycle event {'params': 'Model<dm/m,d4,n6,w7,s1e-05,t3>', 'datetime': '2025-04-17T08:47:02.596527', 'gensim': '4.3.3', 'python': '3.11.11 (main, Jan 14 2025, 05:22:51) [GCC 12.2.0]', 'platform': 'Linux-6.13.8-200.fc41.x86_64-x86_64-with-glibc2.36', 'event': 'created'}\n",
      "2025-04-17 08:47:02,604 : INFO : collecting all words and their counts\n",
      "2025-04-17 08:47:02,608 : INFO : PROGRESS: at example #0, processed 0 words (0 words/s), 0 word types, 0 tags\n",
      "2025-04-17 08:47:02,610 : INFO : collected 66 word types and 10 unique tags from a corpus of 10 examples and 86 words\n",
      "2025-04-17 08:47:02,610 : INFO : Creating a fresh vocabulary\n",
      "2025-04-17 08:47:02,612 : INFO : Model lifecycle event {'msg': 'effective_min_count=1 retains 66 unique words (100.00% of original 66, drops 0)', 'datetime': '2025-04-17T08:47:02.612662', 'gensim': '4.3.3', 'python': '3.11.11 (main, Jan 14 2025, 05:22:51) [GCC 12.2.0]', 'platform': 'Linux-6.13.8-200.fc41.x86_64-x86_64-with-glibc2.36', 'event': 'prepare_vocab'}\n",
      "2025-04-17 08:47:02,613 : INFO : Model lifecycle event {'msg': 'effective_min_count=1 leaves 86 word corpus (100.00% of original 86, drops 0)', 'datetime': '2025-04-17T08:47:02.613584', 'gensim': '4.3.3', 'python': '3.11.11 (main, Jan 14 2025, 05:22:51) [GCC 12.2.0]', 'platform': 'Linux-6.13.8-200.fc41.x86_64-x86_64-with-glibc2.36', 'event': 'prepare_vocab'}\n",
      "2025-04-17 08:47:02,615 : INFO : deleting the raw counts dictionary of 66 items\n",
      "2025-04-17 08:47:02,616 : INFO : sample=1e-05 downsamples 66 most-common words\n",
      "2025-04-17 08:47:02,617 : INFO : Model lifecycle event {'msg': 'downsampling leaves estimated 2.212492288885778 word corpus (2.6%% of prior 86)', 'datetime': '2025-04-17T08:47:02.617698', 'gensim': '4.3.3', 'python': '3.11.11 (main, Jan 14 2025, 05:22:51) [GCC 12.2.0]', 'platform': 'Linux-6.13.8-200.fc41.x86_64-x86_64-with-glibc2.36', 'event': 'prepare_vocab'}\n",
      "2025-04-17 08:47:02,624 : INFO : estimated required memory for 66 words and 4 dimensions: 37272 bytes\n",
      "2025-04-17 08:47:02,625 : INFO : resetting layer weights\n",
      "2025-04-17 08:47:02,626 : INFO : \n",
      "Vocabulary built in 0.022302865982055664 s\n",
      "\n",
      "2025-04-17 08:47:02,627 : WARNING : Effective 'alpha' higher than previous training cycles\n",
      "2025-04-17 08:47:02,628 : INFO : Model lifecycle event {'msg': 'training model with 3 workers on 66 vocabulary and 4 features, using sg=0 hs=0 sample=1e-05 negative=6 window=7 shrink_windows=True', 'datetime': '2025-04-17T08:47:02.628836', 'gensim': '4.3.3', 'python': '3.11.11 (main, Jan 14 2025, 05:22:51) [GCC 12.2.0]', 'platform': 'Linux-6.13.8-200.fc41.x86_64-x86_64-with-glibc2.36', 'event': 'train'}\n",
      "2025-04-17 08:47:02,636 : INFO : EPOCH 0: training on 86 raw words (11 effective words) took 0.0s, 3227 effective words/s\n",
      "2025-04-17 08:47:02,640 : INFO : EPOCH 1: training on 86 raw words (14 effective words) took 0.0s, 6301 effective words/s\n",
      "2025-04-17 08:47:02,641 : INFO : Model lifecycle event {'msg': 'training on 172 raw words (25 effective words) took 0.0s, 2186 effective words/s', 'datetime': '2025-04-17T08:47:02.641439', 'gensim': '4.3.3', 'python': '3.11.11 (main, Jan 14 2025, 05:22:51) [GCC 12.2.0]', 'platform': 'Linux-6.13.8-200.fc41.x86_64-x86_64-with-glibc2.36', 'event': 'train'}\n",
      "2025-04-17 08:47:02,642 : INFO : \n",
      "Training is completed in 0.014505147933959961 s\n",
      "\n",
      "2025-04-17 08:47:02,651 : INFO : Testing completed in 0.005132198333740234 s\n"
     ]
    },
    {
     "name": "stdout",
     "output_type": "stream",
     "text": [
      "TaggedDocument<['python', 'djvulibre', 'python', 'interface', 'djvulibre'], ['github:FriedrichFroebel/python-djvulibre', 'python-djvulibre', 'Cython', 'djvu', 'djvulibre']>\n",
      "TaggedDocument<['nagios', 'plugin', 'check', 'raid', 'nagios', 'icinga', 'sensu', 'plugin', 'check', 'current', 'server', 'raid', 'status'], ['github:glensc/nagios-plugin-check_raid', 'nagios-plugin-check_raid', 'Perl', 'icinga', 'icinga-plugin', 'monitoring', 'nagios', 'nagios-plugin', 'raid', 'sensu', 'sensu-plugin']>\n",
      "[-0.13077039 -0.14947817 -0.24701884  0.21382114]\n",
      "[ 0.08918235  0.00655542 -0.24697122 -0.12918669]\n",
      "[-0.24294907  0.05026948  0.07075778  0.1160889 ]\n",
      "[-0.1074459  -0.0786437  -0.07693085 -0.21802758]\n",
      "[ 0.05431208  0.23064056 -0.23754668 -0.08645216]\n",
      "[-0.09424773  0.06518456 -0.14228892  0.06551701]\n",
      "[ 0.14506304 -0.2026715  -0.20824477 -0.24886674]\n",
      "[ 0.12332612 -0.22805768  0.14604908  0.17000657]\n",
      "[-0.16266    -0.11299703 -0.03137153  0.04115802]\n",
      "[-0.03696446 -0.21355738 -0.09021129  0.04326465]\n",
      "[-0.00500476  0.09713317 -0.01127674  0.0366715 ]\n",
      "[0, 1, 2, 3, 4, 5, 6, 7, 8]\n"
     ]
    },
    {
     "data": {
      "text/plain": [
       "0.2"
      ]
     },
     "execution_count": 5,
     "metadata": {},
     "output_type": "execute_result"
    }
   ],
   "source": [
    "\n",
    "trainAda = createTrainSetAdapter_02_04_25_GOOD()\n",
    "train = Factory.createFlatTrainDBCorpus_02_04_25_GOOD(10)#FlatCorpus(trainAda, limit = 10)\n",
    "\n",
    "testAda = createTestSetAdapter_02_04_25_GOOD()\n",
    "test = Factory.createFlatTestDBCorpus_02_04_25_GOOD(4)#FlatCorpus(testAda, limit = 10)\n",
    "\n",
    "VECTOR_SIZE = 4\n",
    "EPOCHS_NUMBER = 2\n",
    "WORD_MIN_COUNT = 1\n",
    "WINDOW_SIZE = 7\n",
    "NEGATIVE_SAMPLES_AMOUNT = 6\n",
    "SUBSAMPLING_THRESHOLD = 1e-5\n",
    "ALPHA_INIT = 0.05\n",
    "ALPHA_FINAL = 0.00001\n",
    "DM_DBOW_MODE = \"DM\" # \"DBOW\" \"DM+DBOW\"\n",
    "\n",
    "# finetunning is done by twicking model parameters\n",
    "model = Model(\n",
    "    vector_size =  VECTOR_SIZE, \n",
    "    window =       WINDOW_SIZE, \n",
    "    min_count =    WORD_MIN_COUNT, \n",
    "    epochs =       EPOCHS_NUMBER, \n",
    "    dm_dbow_mode = DM_DBOW_MODE,\n",
    "    negative =     NEGATIVE_SAMPLES_AMOUNT,\n",
    "    sample =       SUBSAMPLING_THRESHOLD,\n",
    "    alpha_init =   ALPHA_INIT,\n",
    "    alpha_final =  ALPHA_FINAL\n",
    ")\n",
    "\n",
    "print(train[[0]][0])\n",
    "print(test[[0]][0])\n",
    "model.trainCorpus = train\n",
    "model.testCorpus = [TaggedDocument(words = train[[1]][0].words, tags = train[[1]][0].tags)]\n",
    "\n",
    "model.train()\n",
    "model.test()\n",
    "#model.evaluate()"
   ]
  },
  {
   "cell_type": "code",
   "execution_count": 6,
   "id": "e4c4a066-3eee-4df9-9434-929bf37c2efb",
   "metadata": {},
   "outputs": [
    {
     "ename": "ZeroDivisionError",
     "evalue": "division by zero",
     "output_type": "error",
     "traceback": [
      "\u001b[0;31m---------------------------------------------------------------------------\u001b[0m",
      "\u001b[0;31mZeroDivisionError\u001b[0m                         Traceback (most recent call last)",
      "Cell \u001b[0;32mIn[6], line 1\u001b[0m\n\u001b[0;32m----> 1\u001b[0m \u001b[38;5;241;43m2\u001b[39;49m\u001b[38;5;241;43m/\u001b[39;49m\u001b[38;5;241;43m0\u001b[39;49m\n\u001b[1;32m      2\u001b[0m \u001b[38;5;66;03m#model.test(3)\u001b[39;00m\n\u001b[1;32m      3\u001b[0m s \u001b[38;5;241m=\u001b[39m AnnoySearcher\u001b[38;5;241m.\u001b[39mcreate(model\u001b[38;5;241m.\u001b[39mdv\u001b[38;5;241m.\u001b[39mvectors)\n",
      "\u001b[0;31mZeroDivisionError\u001b[0m: division by zero"
     ]
    }
   ],
   "source": [
    "2/0\n",
    "#model.test(3)\n",
    "s = AnnoySearcher.create(model.dv.vectors)\n",
    "\n",
    "s.selectKmostSimilar(model.dv.vectors[1], 3)"
   ]
  },
  {
   "cell_type": "code",
   "execution_count": null,
   "id": "5758897e-660a-475e-aecf-d8bf3ad348d3",
   "metadata": {},
   "outputs": [],
   "source": [
    "model.selectKmostSimilar(v, 10)"
   ]
  },
  {
   "cell_type": "code",
   "execution_count": null,
   "id": "cda039ba-a830-492b-a1f3-0624814f89a3",
   "metadata": {},
   "outputs": [],
   "source": [
    "train.onlyID = False\n",
    "model.dv.most_similar([v], topn = 10)"
   ]
  },
  {
   "cell_type": "code",
   "execution_count": null,
   "id": "527c5764-2aec-431f-be3a-409047add529",
   "metadata": {},
   "outputs": [],
   "source": [
    "topK = sorted(model.selectKmostSimilar(v, 10), key = lambda pair: pair[0])\n",
    "topK"
   ]
  },
  {
   "cell_type": "code",
   "execution_count": null,
   "id": "77976cbb-4c60-49d6-a797-a8e4f837fb43",
   "metadata": {},
   "outputs": [],
   "source": [
    "\n",
    "trueRelevant = model.checkRelevants([p[0] for p in topK], ['github:FriedrichFroebel/python-djvulibre', 'python-djvulibre', 'Cython', 'djvu', 'djvulibre'])\n",
    "trueRelevant"
   ]
  },
  {
   "cell_type": "code",
   "execution_count": null,
   "id": "95dde6da-9761-48c0-9fee-075685ba7ad4",
   "metadata": {},
   "outputs": [],
   "source": [
    "train.onlyID = False\n",
    "for doc in train:\n",
    "    print(doc.tags)"
   ]
  },
  {
   "cell_type": "code",
   "execution_count": null,
   "id": "063cc5da-4213-4ee4-a8dc-2419f9c566ac",
   "metadata": {},
   "outputs": [],
   "source": []
  },
  {
   "cell_type": "code",
   "execution_count": null,
   "id": "e041163a-960c-4bc2-aece-a6b3bdbbf874",
   "metadata": {},
   "outputs": [],
   "source": []
  }
 ],
 "metadata": {
  "kernelspec": {
   "display_name": "Python 3 (ipykernel)",
   "language": "python",
   "name": "python3"
  },
  "language_info": {
   "codemirror_mode": {
    "name": "ipython",
    "version": 3
   },
   "file_extension": ".py",
   "mimetype": "text/x-python",
   "name": "python",
   "nbconvert_exporter": "python",
   "pygments_lexer": "ipython3",
   "version": "3.11.11"
  }
 },
 "nbformat": 4,
 "nbformat_minor": 5
}
