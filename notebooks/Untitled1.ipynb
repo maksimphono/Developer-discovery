{
 "cells": [
  {
   "cell_type": "code",
   "execution_count": 1,
   "id": "455cc887-8373-451d-8c96-a66b7530486c",
   "metadata": {},
   "outputs": [],
   "source": [
    "import sys\n",
    "sys.path.append('/home/trukhinmaksim/src')\n",
    "import json"
   ]
  },
  {
   "cell_type": "code",
   "execution_count": 2,
   "id": "6e9e04f0-6c93-4c2e-9acf-87a2d48be3fd",
   "metadata": {},
   "outputs": [],
   "source": [
    "from time import time\n",
    "from src.utils.CacheAdapter import FlatAdapter, EXP_END_OF_DATA, createAdapter_02_04_25_GOOD, createTrainSetAdapter_02_04_25_GOOD, createTestSetAdapter_02_04_25_GOOD\n",
    "from src.utils.Corpus import CacheCorpus, FlatCorpus\n",
    "from src.utils.DatasetManager import ProjectsDatasetManager\n",
    "from src.Doc2Vec_model import Model\n",
    "\n",
    "\n",
    "from gensim.models.doc2vec import TaggedDocument\n"
   ]
  },
  {
   "cell_type": "code",
   "execution_count": 3,
   "id": "cd2fb6af-bdae-402b-821d-a3b6d9fca58d",
   "metadata": {},
   "outputs": [
    {
     "name": "stdout",
     "output_type": "stream",
     "text": [
      "[TaggedDocument(words=['svelte', 'baidumaps', 'set', 'baidu', 'map', 'component', 'svelte'], tags=['github:vulcangz/svelte-baidumaps', 'svelte-baidumaps', 'Svelte', 'baidu-map', 'baidumap', 'map', 'svelte'])]\n",
      "TaggedDocument<['python', 'djvulibre', 'python', 'interface', 'djvulibre'], ['github:FriedrichFroebel/python-djvulibre', 'python-djvulibre', 'Cython', 'djvu', 'djvulibre']>\n",
      "TaggedDocument<['hledger', 'robust', 'fast', 'intuitive', 'plain', 'text', 'accounting', 'tool', 'cli', 'tui', 'web', 'interface'], ['github:simonmichael/hledger', 'hledger', 'Haskell', 'accounting', 'bounties', 'bounty', 'command-line-tool', 'console-application', 'finance', 'haskell', 'haskell-applications', 'hledger', 'ledger', 'plaintext', 'plaintext-accounting', 'plaintextaccounting', 'tui', 'web-application']>\n",
      "TaggedDocument<['rule', 'nixpkgs', 'rule', 'importing', 'nixpkgs', 'package', 'bazel'], ['github:tweag/rules_nixpkgs', 'rules_nixpkgs', 'Starlark', 'bazel', 'bazel-rules', 'nix', 'nixpkgs']>\n",
      "TaggedDocument<['unix', 'history', 'make', 'code', 'data', 'create', 'git', 'repository', 'representing', 'unix', 'source', 'code', 'history'], ['github:dspinellis/unix-history-make', 'unix-history-make', 'Roff', 'bell-labs', 'evolution', 'history', 'unix']>\n",
      "TaggedDocument<['python', 'djvulibre', 'python', 'interface', 'djvulibre'], ['github:jwilk/python-djvulibre', 'python-djvulibre', 'Cython', 'djvu']>\n",
      "TaggedDocument<['svelte', 'baidumaps', 'set', 'baidu', 'map', 'component', 'svelte'], ['github:vulcangz/svelte-baidumaps', 'svelte-baidumaps', 'Svelte', 'baidu-map', 'baidumap', 'map', 'svelte']>\n",
      "TaggedDocument<['argbash', 'bash', 'argument', 'parsing', 'code', 'generator'], ['github:matejak/argbash', 'argbash', 'M4', 'argument-parsing', 'code-generator', 'shell-scripts']>\n",
      "TaggedDocument<['karpsichord', 'virtual', 'harpsichord', 'based', 'karplus', 'strong', 'string', 'synthesis'], ['github:spaskalev/karpsichord', 'karpsichord', 'Faust', 'baroque', 'harpsichord', 'instrument', 'music', 'musical-instrument', 'physical-modeling', 'synthesis-algorithm']>\n",
      "TaggedDocument<['excision', 'mail', 'fullstack', 'security', 'focused', 'personal', 'mail', 'server', 'based', 'opensmtpd', 'openbsd'], ['github:Excision-Mail/Excision-Mail', 'Excision-Mail', 'Jinja', 'ansible', 'ansible-playbook', 'clamav', 'dovecot', 'gnupg', 'imap', 'ldap', 'letsencrypt', 'mail', 'mailserver', 'mta-sts', 'openbsd', 'opensmtpd', 'pop3', 'rspamd', 'sieve', 'smtp', 'ssl']>\n",
      "TaggedDocument<['calibre', 'web', 'book', 'web', 'app', 'browsing', 'reading', 'downloading', 'ebooks', 'stored', 'calibre', 'database'], ['github:janeczku/calibre-web', 'calibre-web', 'Fluent', 'calibre', 'ebook', 'ebook-manager', 'epub', 'mobi']>\n"
     ]
    }
   ],
   "source": [
    "adapter = createAdapter_02_04_25_GOOD()#JSONMultiFileAdapter(CACHE_FILE_NAME)\n",
    "manager = ProjectsDatasetManager(50, cacheAdapter = adapter)\n",
    "cursor = CacheCorpus(manager, limit = 10)\n",
    "\n",
    "flatAda = createTrainSetAdapter_02_04_25_GOOD()\n",
    "flat = FlatCorpus(flatAda, limit = 10)\n",
    "\n",
    "print(flat[[5]])\n",
    "\n",
    "for doc in flat:\n",
    "    print(doc)\n",
    "    #flatAda.save([{\"tokens\" : doc.words, \"tags\" : doc.tags}])\n",
    "\n",
    "#print(adapter.load(1))\n",
    "#print(adapter.load(3))\n",
    "#print(adapter.load(3))\n",
    "#adapter.save([{\"a\" : [1,2,3,7,8], \"b\" : [4]}, {\"a\" : [9,5, 8], \"b\" : [6]}])"
   ]
  },
  {
   "cell_type": "code",
   "execution_count": 4,
   "id": "c21284e9-c818-4638-8e15-ca514a22405b",
   "metadata": {},
   "outputs": [],
   "source": [
    "import logging\n",
    "logging.basicConfig(\n",
    "    #filename=\"/home/trukhinmaksim/src/logs/09-04-25_autotunning.log\",\n",
    "    format='%(asctime)s : %(levelname)s : %(message)s',\n",
    "    level=logging.INFO\n",
    ")"
   ]
  },
  {
   "cell_type": "code",
   "execution_count": 5,
   "id": "3ef11ae9-0382-42a7-8c16-58ee3a18bd0a",
   "metadata": {},
   "outputs": [
    {
     "name": "stderr",
     "output_type": "stream",
     "text": [
      "2025-04-14 16:07:32,678 : INFO : Model lifecycle event {'params': 'Model<dm/m,d4,n6,w7,s1e-05,t3>', 'datetime': '2025-04-14T16:07:32.677967', 'gensim': '4.3.3', 'python': '3.11.11 (main, Jan 14 2025, 05:22:51) [GCC 12.2.0]', 'platform': 'Linux-6.13.8-200.fc41.x86_64-x86_64-with-glibc2.36', 'event': 'created'}\n",
      "2025-04-14 16:07:32,680 : INFO : collecting all words and their counts\n",
      "2025-04-14 16:07:32,681 : INFO : PROGRESS: at example #0, processed 0 words (0 words/s), 0 word types, 0 tags\n",
      "2025-04-14 16:07:32,682 : INFO : collected 66 word types and 10 unique tags from a corpus of 10 examples and 86 words\n",
      "2025-04-14 16:07:32,683 : INFO : Creating a fresh vocabulary\n",
      "2025-04-14 16:07:32,684 : INFO : Model lifecycle event {'msg': 'effective_min_count=1 retains 66 unique words (100.00% of original 66, drops 0)', 'datetime': '2025-04-14T16:07:32.684503', 'gensim': '4.3.3', 'python': '3.11.11 (main, Jan 14 2025, 05:22:51) [GCC 12.2.0]', 'platform': 'Linux-6.13.8-200.fc41.x86_64-x86_64-with-glibc2.36', 'event': 'prepare_vocab'}\n",
      "2025-04-14 16:07:32,685 : INFO : Model lifecycle event {'msg': 'effective_min_count=1 leaves 86 word corpus (100.00% of original 86, drops 0)', 'datetime': '2025-04-14T16:07:32.685230', 'gensim': '4.3.3', 'python': '3.11.11 (main, Jan 14 2025, 05:22:51) [GCC 12.2.0]', 'platform': 'Linux-6.13.8-200.fc41.x86_64-x86_64-with-glibc2.36', 'event': 'prepare_vocab'}\n",
      "2025-04-14 16:07:32,686 : INFO : deleting the raw counts dictionary of 66 items\n",
      "2025-04-14 16:07:32,687 : INFO : sample=1e-05 downsamples 66 most-common words\n",
      "2025-04-14 16:07:32,688 : INFO : Model lifecycle event {'msg': 'downsampling leaves estimated 2.212492288885778 word corpus (2.6%% of prior 86)', 'datetime': '2025-04-14T16:07:32.688181', 'gensim': '4.3.3', 'python': '3.11.11 (main, Jan 14 2025, 05:22:51) [GCC 12.2.0]', 'platform': 'Linux-6.13.8-200.fc41.x86_64-x86_64-with-glibc2.36', 'event': 'prepare_vocab'}\n",
      "2025-04-14 16:07:32,689 : INFO : estimated required memory for 66 words and 4 dimensions: 37272 bytes\n",
      "2025-04-14 16:07:32,690 : INFO : resetting layer weights\n",
      "2025-04-14 16:07:32,693 : INFO : \n",
      "Vocabulary built in 0.012697935104370117 s\n",
      "\n",
      "2025-04-14 16:07:32,694 : WARNING : Effective 'alpha' higher than previous training cycles\n",
      "2025-04-14 16:07:32,695 : INFO : Model lifecycle event {'msg': 'training model with 3 workers on 66 vocabulary and 4 features, using sg=0 hs=0 sample=1e-05 negative=6 window=7 shrink_windows=True', 'datetime': '2025-04-14T16:07:32.695844', 'gensim': '4.3.3', 'python': '3.11.11 (main, Jan 14 2025, 05:22:51) [GCC 12.2.0]', 'platform': 'Linux-6.13.8-200.fc41.x86_64-x86_64-with-glibc2.36', 'event': 'train'}\n",
      "2025-04-14 16:07:32,700 : INFO : EPOCH 0: training on 86 raw words (11 effective words) took 0.0s, 6961 effective words/s\n",
      "2025-04-14 16:07:32,703 : INFO : EPOCH 1: training on 86 raw words (14 effective words) took 0.0s, 11164 effective words/s\n",
      "2025-04-14 16:07:32,704 : INFO : Model lifecycle event {'msg': 'training on 172 raw words (25 effective words) took 0.0s, 3385 effective words/s', 'datetime': '2025-04-14T16:07:32.704789', 'gensim': '4.3.3', 'python': '3.11.11 (main, Jan 14 2025, 05:22:51) [GCC 12.2.0]', 'platform': 'Linux-6.13.8-200.fc41.x86_64-x86_64-with-glibc2.36', 'event': 'train'}\n",
      "2025-04-14 16:07:32,705 : INFO : \n",
      "Training is completed in 0.011021852493286133 s\n",
      "\n",
      "2025-04-14 16:07:32,719 : INFO : Testing completed in 0.013224363327026367 s\n"
     ]
    },
    {
     "name": "stdout",
     "output_type": "stream",
     "text": [
      "TaggedDocument<['python', 'djvulibre', 'python', 'interface', 'djvulibre'], ['github:FriedrichFroebel/python-djvulibre', 'python-djvulibre', 'Cython', 'djvu', 'djvulibre']>\n"
     ]
    },
    {
     "data": {
      "text/plain": [
       "0.2"
      ]
     },
     "execution_count": 5,
     "metadata": {},
     "output_type": "execute_result"
    }
   ],
   "source": [
    "trainAda = createTrainSetAdapter_02_04_25_GOOD()\n",
    "train = FlatCorpus(trainAda, limit = 10)\n",
    "\n",
    "testAda = createTestSetAdapter_02_04_25_GOOD()\n",
    "test = FlatCorpus(testAda, limit = 10)\n",
    "\n",
    "VECTOR_SIZE = 4\n",
    "EPOCHS_NUMBER = 2\n",
    "WORD_MIN_COUNT = 1\n",
    "WINDOW_SIZE = 7\n",
    "NEGATIVE_SAMPLES_AMOUNT = 6\n",
    "SUBSAMPLING_THRESHOLD = 1e-5\n",
    "ALPHA_INIT = 0.05\n",
    "ALPHA_FINAL = 0.00001\n",
    "DM_DBOW_MODE = \"DM\" # \"DBOW\" \"DM+DBOW\"\n",
    "\n",
    "# finetunning is done by twicking model parameters\n",
    "model = Model(\n",
    "    vector_size =  VECTOR_SIZE, \n",
    "    window =       WINDOW_SIZE, \n",
    "    min_count =    WORD_MIN_COUNT, \n",
    "    epochs =       EPOCHS_NUMBER, \n",
    "    dm_dbow_mode = DM_DBOW_MODE,\n",
    "    negative =     NEGATIVE_SAMPLES_AMOUNT,\n",
    "    sample =       SUBSAMPLING_THRESHOLD,\n",
    "    alpha_init =   ALPHA_INIT,\n",
    "    alpha_final =  ALPHA_FINAL\n",
    ")\n",
    "\n",
    "print(train[[0]][0])\n",
    "model.trainCorpus = train\n",
    "model.testCorpus = [TaggedDocument(words = train[[1]][0].words, tags = train[[1]][0].tags)]\n",
    "\n",
    "#model.train()\n",
    "model.evaluate()"
   ]
  },
  {
   "cell_type": "code",
   "execution_count": 6,
   "id": "e4c4a066-3eee-4df9-9434-929bf37c2efb",
   "metadata": {},
   "outputs": [],
   "source": [
    "v = model.dv[0]"
   ]
  },
  {
   "cell_type": "code",
   "execution_count": 7,
   "id": "5758897e-660a-475e-aecf-d8bf3ad348d3",
   "metadata": {},
   "outputs": [
    {
     "data": {
      "text/plain": [
       "[(3, -0.017736465),\n",
       " (4, -0.010454547),\n",
       " (6, 0.061060876),\n",
       " (7, 0.13917464),\n",
       " (1, 0.18533166),\n",
       " (2, 0.29214755),\n",
       " (5, 0.69720995),\n",
       " (8, 0.6990359),\n",
       " (9, 0.74824166),\n",
       " (0, 0.9999999)]"
      ]
     },
     "execution_count": 7,
     "metadata": {},
     "output_type": "execute_result"
    }
   ],
   "source": [
    "model.selectKmostSimilar(v, 10)"
   ]
  },
  {
   "cell_type": "code",
   "execution_count": 8,
   "id": "cda039ba-a830-492b-a1f3-0624814f89a3",
   "metadata": {},
   "outputs": [
    {
     "data": {
      "text/plain": [
       "[('github:FriedrichFroebel/python-djvulibre', 0.9999999403953552),\n",
       " ('github:janeczku/calibre-web', 0.748241662979126),\n",
       " ('github:Excision-Mail/Excision-Mail', 0.6990360021591187),\n",
       " ('github:vulcangz/svelte-baidumaps', 0.6972100734710693),\n",
       " ('github:tweag/rules_nixpkgs', 0.29214754700660706),\n",
       " ('github:simonmichael/hledger', 0.18533167243003845),\n",
       " ('github:spaskalev/karpsichord', 0.13917464017868042),\n",
       " ('github:matejak/argbash', 0.06106089800596237),\n",
       " ('github:jwilk/python-djvulibre', -0.010454473085701466),\n",
       " ('github:dspinellis/unix-history-make', -0.01773645728826523)]"
      ]
     },
     "execution_count": 8,
     "metadata": {},
     "output_type": "execute_result"
    }
   ],
   "source": [
    "train.onlyID = False\n",
    "model.dv.most_similar([v], topn = 10)"
   ]
  },
  {
   "cell_type": "code",
   "execution_count": 9,
   "id": "527c5764-2aec-431f-be3a-409047add529",
   "metadata": {},
   "outputs": [
    {
     "data": {
      "text/plain": [
       "[(0, 0.9999999),\n",
       " (1, 0.18533166),\n",
       " (2, 0.29214755),\n",
       " (3, -0.017736465),\n",
       " (4, -0.010454547),\n",
       " (5, 0.69720995),\n",
       " (6, 0.061060876),\n",
       " (7, 0.13917464),\n",
       " (8, 0.6990359),\n",
       " (9, 0.74824166)]"
      ]
     },
     "execution_count": 9,
     "metadata": {},
     "output_type": "execute_result"
    }
   ],
   "source": [
    "topK = sorted(model.selectKmostSimilar(v, 10), key = lambda pair: pair[0])\n",
    "topK"
   ]
  },
  {
   "cell_type": "code",
   "execution_count": 10,
   "id": "77976cbb-4c60-49d6-a797-a8e4f837fb43",
   "metadata": {},
   "outputs": [
    {
     "data": {
      "text/plain": [
       "array([1., 0., 0., 0., 1., 0., 0., 0., 0., 0.])"
      ]
     },
     "execution_count": 10,
     "metadata": {},
     "output_type": "execute_result"
    }
   ],
   "source": [
    "\n",
    "trueRelevant = model.checkRelevants([p[0] for p in topK], ['github:FriedrichFroebel/python-djvulibre', 'python-djvulibre', 'Cython', 'djvu', 'djvulibre'])\n",
    "trueRelevant"
   ]
  },
  {
   "cell_type": "code",
   "execution_count": 11,
   "id": "95dde6da-9761-48c0-9fee-075685ba7ad4",
   "metadata": {},
   "outputs": [
    {
     "name": "stdout",
     "output_type": "stream",
     "text": [
      "['github:FriedrichFroebel/python-djvulibre', 'python-djvulibre', 'Cython', 'djvu', 'djvulibre']\n",
      "['github:simonmichael/hledger', 'hledger', 'Haskell', 'accounting', 'bounties', 'bounty', 'command-line-tool', 'console-application', 'finance', 'haskell', 'haskell-applications', 'hledger', 'ledger', 'plaintext', 'plaintext-accounting', 'plaintextaccounting', 'tui', 'web-application']\n",
      "['github:tweag/rules_nixpkgs', 'rules_nixpkgs', 'Starlark', 'bazel', 'bazel-rules', 'nix', 'nixpkgs']\n",
      "['github:dspinellis/unix-history-make', 'unix-history-make', 'Roff', 'bell-labs', 'evolution', 'history', 'unix']\n",
      "['github:jwilk/python-djvulibre', 'python-djvulibre', 'Cython', 'djvu']\n",
      "['github:vulcangz/svelte-baidumaps', 'svelte-baidumaps', 'Svelte', 'baidu-map', 'baidumap', 'map', 'svelte']\n",
      "['github:matejak/argbash', 'argbash', 'M4', 'argument-parsing', 'code-generator', 'shell-scripts']\n",
      "['github:spaskalev/karpsichord', 'karpsichord', 'Faust', 'baroque', 'harpsichord', 'instrument', 'music', 'musical-instrument', 'physical-modeling', 'synthesis-algorithm']\n",
      "['github:Excision-Mail/Excision-Mail', 'Excision-Mail', 'Jinja', 'ansible', 'ansible-playbook', 'clamav', 'dovecot', 'gnupg', 'imap', 'ldap', 'letsencrypt', 'mail', 'mailserver', 'mta-sts', 'openbsd', 'opensmtpd', 'pop3', 'rspamd', 'sieve', 'smtp', 'ssl']\n",
      "['github:janeczku/calibre-web', 'calibre-web', 'Fluent', 'calibre', 'ebook', 'ebook-manager', 'epub', 'mobi']\n"
     ]
    }
   ],
   "source": [
    "train.onlyID = False\n",
    "for doc in train:\n",
    "    print(doc.tags)"
   ]
  },
  {
   "cell_type": "code",
   "execution_count": null,
   "id": "063cc5da-4213-4ee4-a8dc-2419f9c566ac",
   "metadata": {},
   "outputs": [],
   "source": []
  },
  {
   "cell_type": "code",
   "execution_count": null,
   "id": "e041163a-960c-4bc2-aece-a6b3bdbbf874",
   "metadata": {},
   "outputs": [],
   "source": []
  }
 ],
 "metadata": {
  "kernelspec": {
   "display_name": "Python 3 (ipykernel)",
   "language": "python",
   "name": "python3"
  },
  "language_info": {
   "codemirror_mode": {
    "name": "ipython",
    "version": 3
   },
   "file_extension": ".py",
   "mimetype": "text/x-python",
   "name": "python",
   "nbconvert_exporter": "python",
   "pygments_lexer": "ipython3",
   "version": "3.11.11"
  }
 },
 "nbformat": 4,
 "nbformat_minor": 5
}
