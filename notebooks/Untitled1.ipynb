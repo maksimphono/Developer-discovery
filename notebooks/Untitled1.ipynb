{
 "cells": [
  {
   "cell_type": "code",
   "execution_count": 1,
   "id": "455cc887-8373-451d-8c96-a66b7530486c",
   "metadata": {},
   "outputs": [],
   "source": [
    "import sys\n",
    "sys.path.append('/home/trukhinmaksim/src')\n",
    "import json"
   ]
  },
  {
   "cell_type": "code",
   "execution_count": 2,
   "id": "6e9e04f0-6c93-4c2e-9acf-87a2d48be3fd",
   "metadata": {},
   "outputs": [],
   "source": [
    "from time import time\n",
    "from src.utils.CacheAdapter import FlatAdapter, EXP_END_OF_DATA, createAdapter_02_04_25_GOOD, createTrainSetAdapter_02_04_25_GOOD\n",
    "from src.utils.Corpus import CacheCorpus, FlatCorpus\n",
    "from src.utils.DatasetManager import ProjectsDatasetManager\n",
    "from src.src.Doc2Vec_model import Model"
   ]
  },
  {
   "cell_type": "code",
   "execution_count": 5,
   "id": "cd2fb6af-bdae-402b-821d-a3b6d9fca58d",
   "metadata": {},
   "outputs": [
    {
     "name": "stderr",
     "output_type": "stream",
     "text": [
      "Exception ignored in: <function FlatAdapter.__del__ at 0x7f0b4ec57600>\n",
      "Traceback (most recent call last):\n",
      "  File \"/home/trukhinmaksim/src/src/utils/CacheAdapter.py\", line 33, in __del__\n",
      "    super().__del__()\n",
      "    ^^^^^^^^^^^^^^^\n",
      "AttributeError: 'super' object has no attribute '__del__'\n"
     ]
    },
    {
     "name": "stdout",
     "output_type": "stream",
     "text": [
      "[TaggedDocument(words=['svelte', 'baidumaps', 'set', 'baidu', 'map', 'component', 'svelte'], tags=['github:vulcangz/svelte-baidumaps', 'svelte-baidumaps', 'Svelte', 'baidu-map', 'baidumap', 'map', 'svelte'])]\n",
      "TaggedDocument<['python', 'djvulibre', 'python', 'interface', 'djvulibre'], ['github:FriedrichFroebel/python-djvulibre', 'python-djvulibre', 'Cython', 'djvu', 'djvulibre']>\n",
      "TaggedDocument<['hledger', 'robust', 'fast', 'intuitive', 'plain', 'text', 'accounting', 'tool', 'cli', 'tui', 'web', 'interface'], ['github:simonmichael/hledger', 'hledger', 'Haskell', 'accounting', 'bounties', 'bounty', 'command-line-tool', 'console-application', 'finance', 'haskell', 'haskell-applications', 'hledger', 'ledger', 'plaintext', 'plaintext-accounting', 'plaintextaccounting', 'tui', 'web-application']>\n",
      "TaggedDocument<['rule', 'nixpkgs', 'rule', 'importing', 'nixpkgs', 'package', 'bazel'], ['github:tweag/rules_nixpkgs', 'rules_nixpkgs', 'Starlark', 'bazel', 'bazel-rules', 'nix', 'nixpkgs']>\n",
      "TaggedDocument<['unix', 'history', 'make', 'code', 'data', 'create', 'git', 'repository', 'representing', 'unix', 'source', 'code', 'history'], ['github:dspinellis/unix-history-make', 'unix-history-make', 'Roff', 'bell-labs', 'evolution', 'history', 'unix']>\n",
      "TaggedDocument<['python', 'djvulibre', 'python', 'interface', 'djvulibre'], ['github:jwilk/python-djvulibre', 'python-djvulibre', 'Cython', 'djvu']>\n",
      "TaggedDocument<['svelte', 'baidumaps', 'set', 'baidu', 'map', 'component', 'svelte'], ['github:vulcangz/svelte-baidumaps', 'svelte-baidumaps', 'Svelte', 'baidu-map', 'baidumap', 'map', 'svelte']>\n",
      "TaggedDocument<['argbash', 'bash', 'argument', 'parsing', 'code', 'generator'], ['github:matejak/argbash', 'argbash', 'M4', 'argument-parsing', 'code-generator', 'shell-scripts']>\n",
      "TaggedDocument<['karpsichord', 'virtual', 'harpsichord', 'based', 'karplus', 'strong', 'string', 'synthesis'], ['github:spaskalev/karpsichord', 'karpsichord', 'Faust', 'baroque', 'harpsichord', 'instrument', 'music', 'musical-instrument', 'physical-modeling', 'synthesis-algorithm']>\n",
      "TaggedDocument<['excision', 'mail', 'fullstack', 'security', 'focused', 'personal', 'mail', 'server', 'based', 'opensmtpd', 'openbsd'], ['github:Excision-Mail/Excision-Mail', 'Excision-Mail', 'Jinja', 'ansible', 'ansible-playbook', 'clamav', 'dovecot', 'gnupg', 'imap', 'ldap', 'letsencrypt', 'mail', 'mailserver', 'mta-sts', 'openbsd', 'opensmtpd', 'pop3', 'rspamd', 'sieve', 'smtp', 'ssl']>\n",
      "TaggedDocument<['calibre', 'web', 'book', 'web', 'app', 'browsing', 'reading', 'downloading', 'ebooks', 'stored', 'calibre', 'database'], ['github:janeczku/calibre-web', 'calibre-web', 'Fluent', 'calibre', 'ebook', 'ebook-manager', 'epub', 'mobi']>\n"
     ]
    }
   ],
   "source": [
    "adapter = createAdapter_02_04_25_GOOD()#JSONMultiFileAdapter(CACHE_FILE_NAME)\n",
    "manager = ProjectsDatasetManager(50, cacheAdapter = adapter)\n",
    "cursor = CacheCorpus(manager, limit = 10)\n",
    "\n",
    "flatAda = createTrainSetAdapter_02_04_25_GOOD()\n",
    "flat = FlatCorpus(flatAda, limit = 10)\n",
    "\n",
    "print(flat[[5]])\n",
    "\n",
    "for doc in flat:\n",
    "    print(doc)\n",
    "    #flatAda.save([{\"tokens\" : doc.words, \"tags\" : doc.tags}])\n",
    "\n",
    "#print(adapter.load(1))\n",
    "#print(adapter.load(3))\n",
    "#print(adapter.load(3))\n",
    "#adapter.save([{\"a\" : [1,2,3,7,8], \"b\" : [4]}, {\"a\" : [9,5, 8], \"b\" : [6]}])"
   ]
  },
  {
   "cell_type": "code",
   "execution_count": null,
   "id": "3ef11ae9-0382-42a7-8c16-58ee3a18bd0a",
   "metadata": {},
   "outputs": [],
   "source": [
    "trainAda = createTrainSetAdapter_02_04_25_GOOD()\n",
    "train = FlatCorpus(trainAda, limit = 10)\n",
    "\n",
    "testAda = createTestSetAdapter_02_04_25_GOOD()\n",
    "test = FlatCorpus(testAda, limit = 10)\n",
    "\n",
    "model = Model()\n",
    "model.trainCorpus = train\n",
    "model.testCorpus = test\n",
    "\n",
    "model.dv = [[]]"
   ]
  }
 ],
 "metadata": {
  "kernelspec": {
   "display_name": "Python 3 (ipykernel)",
   "language": "python",
   "name": "python3"
  },
  "language_info": {
   "codemirror_mode": {
    "name": "ipython",
    "version": 3
   },
   "file_extension": ".py",
   "mimetype": "text/x-python",
   "name": "python",
   "nbconvert_exporter": "python",
   "pygments_lexer": "ipython3",
   "version": "3.11.11"
  }
 },
 "nbformat": 4,
 "nbformat_minor": 5
}
