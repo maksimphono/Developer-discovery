{
 "cells": [
  {
   "cell_type": "code",
   "execution_count": 1,
   "id": "455cc887-8373-451d-8c96-a66b7530486c",
   "metadata": {},
   "outputs": [],
   "source": [
    "import sys\n",
    "sys.path.append('/home/trukhinmaksim/src')\n",
    "import json\n",
    "import numpy as np"
   ]
  },
  {
   "cell_type": "code",
   "execution_count": 2,
   "id": "6e9e04f0-6c93-4c2e-9acf-87a2d48be3fd",
   "metadata": {},
   "outputs": [],
   "source": [
    "from time import time\n",
    "from src.utils.CacheAdapter import FlatAdapter, EXP_END_OF_DATA, createAdapter_02_04_25_GOOD, createTrainSetAdapter_02_04_25_GOOD, createTestSetAdapter_02_04_25_GOOD\n",
    "from src.utils.Corpus import CacheCorpus, FlatCorpus, Factory\n",
    "from src.utils.DatasetManager import ProjectsDatasetManager\n",
    "from src.Doc2Vec_model import Model, AnnoySearcher\n",
    "\n",
    "\n",
    "from gensim.models.doc2vec import TaggedDocument\n",
    "from annoy import AnnoyIndex"
   ]
  },
  {
   "cell_type": "code",
   "execution_count": 3,
   "id": "cd2fb6af-bdae-402b-821d-a3b6d9fca58d",
   "metadata": {},
   "outputs": [
    {
     "name": "stdout",
     "output_type": "stream",
     "text": [
      "[TaggedDocument(words=['svelte', 'baidumaps', 'set', 'baidu', 'map', 'component', 'svelte'], tags=['github:vulcangz/svelte-baidumaps', 'svelte-baidumaps', 'Svelte', 'baidu-map', 'baidumap', 'map', 'svelte'])]\n",
      "TaggedDocument<['python', 'djvulibre', 'python', 'interface', 'djvulibre'], ['github:FriedrichFroebel/python-djvulibre', 'python-djvulibre', 'Cython', 'djvu', 'djvulibre']>\n",
      "TaggedDocument<['hledger', 'robust', 'fast', 'intuitive', 'plain', 'text', 'accounting', 'tool', 'cli', 'tui', 'web', 'interface'], ['github:simonmichael/hledger', 'hledger', 'Haskell', 'accounting', 'bounties', 'bounty', 'command-line-tool', 'console-application', 'finance', 'haskell', 'haskell-applications', 'hledger', 'ledger', 'plaintext', 'plaintext-accounting', 'plaintextaccounting', 'tui', 'web-application']>\n",
      "TaggedDocument<['rule', 'nixpkgs', 'rule', 'importing', 'nixpkgs', 'package', 'bazel'], ['github:tweag/rules_nixpkgs', 'rules_nixpkgs', 'Starlark', 'bazel', 'bazel-rules', 'nix', 'nixpkgs']>\n",
      "TaggedDocument<['unix', 'history', 'make', 'code', 'data', 'create', 'git', 'repository', 'representing', 'unix', 'source', 'code', 'history'], ['github:dspinellis/unix-history-make', 'unix-history-make', 'Roff', 'bell-labs', 'evolution', 'history', 'unix']>\n",
      "TaggedDocument<['python', 'djvulibre', 'python', 'interface', 'djvulibre'], ['github:jwilk/python-djvulibre', 'python-djvulibre', 'Cython', 'djvu']>\n",
      "TaggedDocument<['svelte', 'baidumaps', 'set', 'baidu', 'map', 'component', 'svelte'], ['github:vulcangz/svelte-baidumaps', 'svelte-baidumaps', 'Svelte', 'baidu-map', 'baidumap', 'map', 'svelte']>\n",
      "TaggedDocument<['argbash', 'bash', 'argument', 'parsing', 'code', 'generator'], ['github:matejak/argbash', 'argbash', 'M4', 'argument-parsing', 'code-generator', 'shell-scripts']>\n",
      "TaggedDocument<['karpsichord', 'virtual', 'harpsichord', 'based', 'karplus', 'strong', 'string', 'synthesis'], ['github:spaskalev/karpsichord', 'karpsichord', 'Faust', 'baroque', 'harpsichord', 'instrument', 'music', 'musical-instrument', 'physical-modeling', 'synthesis-algorithm']>\n",
      "TaggedDocument<['excision', 'mail', 'fullstack', 'security', 'focused', 'personal', 'mail', 'server', 'based', 'opensmtpd', 'openbsd'], ['github:Excision-Mail/Excision-Mail', 'Excision-Mail', 'Jinja', 'ansible', 'ansible-playbook', 'clamav', 'dovecot', 'gnupg', 'imap', 'ldap', 'letsencrypt', 'mail', 'mailserver', 'mta-sts', 'openbsd', 'opensmtpd', 'pop3', 'rspamd', 'sieve', 'smtp', 'ssl']>\n",
      "TaggedDocument<['calibre', 'web', 'book', 'web', 'app', 'browsing', 'reading', 'downloading', 'ebooks', 'stored', 'calibre', 'database'], ['github:janeczku/calibre-web', 'calibre-web', 'Fluent', 'calibre', 'ebook', 'ebook-manager', 'epub', 'mobi']>\n"
     ]
    }
   ],
   "source": [
    "adapter = createAdapter_02_04_25_GOOD()#JSONMultiFileAdapter(CACHE_FILE_NAME)\n",
    "manager = ProjectsDatasetManager(50, cacheAdapter = adapter)\n",
    "cursor = CacheCorpus(manager, limit = 10)\n",
    "\n",
    "flatAda = createTrainSetAdapter_02_04_25_GOOD()\n",
    "flat = FlatCorpus(flatAda, limit = 10)\n",
    "\n",
    "print(flat[[5]])\n",
    "\n",
    "for doc in flat:\n",
    "    print(doc)\n",
    "    #flatAda.save([{\"tokens\" : doc.words, \"tags\" : doc.tags}])\n",
    "\n",
    "#print(adapter.load(1))\n",
    "#print(adapter.load(3))\n",
    "#print(adapter.load(3))\n",
    "#adapter.save([{\"a\" : [1,2,3,7,8], \"b\" : [4]}, {\"a\" : [9,5, 8], \"b\" : [6]}])"
   ]
  },
  {
   "cell_type": "code",
   "execution_count": 4,
   "id": "c21284e9-c818-4638-8e15-ca514a22405b",
   "metadata": {},
   "outputs": [],
   "source": [
    "import logging\n",
    "logging.basicConfig(\n",
    "    #filename=\"/home/trukhinmaksim/src/logs/09-04-25_autotunning.log\",\n",
    "    format='%(asctime)s : %(levelname)s : %(message)s',\n",
    "    level=logging.INFO\n",
    ")"
   ]
  },
  {
   "cell_type": "code",
   "execution_count": 7,
   "id": "3ef11ae9-0382-42a7-8c16-58ee3a18bd0a",
   "metadata": {},
   "outputs": [
    {
     "name": "stderr",
     "output_type": "stream",
     "text": [
      "2025-04-17 08:59:30,975 : INFO : Delete adapter\n",
      "2025-04-17 08:59:31,258 : INFO : Delete adapter\n",
      "2025-04-17 08:59:31,320 : INFO : Model lifecycle event {'params': 'Model<dm/m,d40,n6,w7,s1e-05,t3>', 'datetime': '2025-04-17T08:59:31.320610', 'gensim': '4.3.3', 'python': '3.11.11 (main, Jan 14 2025, 05:22:51) [GCC 12.2.0]', 'platform': 'Linux-6.13.8-200.fc41.x86_64-x86_64-with-glibc2.36', 'event': 'created'}\n",
      "2025-04-17 08:59:31,326 : INFO : collecting all words and their counts\n",
      "2025-04-17 08:59:31,329 : INFO : PROGRESS: at example #0, processed 0 words (0 words/s), 0 word types, 0 tags\n",
      "2025-04-17 08:59:31,331 : INFO : collected 66 word types and 10 unique tags from a corpus of 10 examples and 86 words\n",
      "2025-04-17 08:59:31,332 : INFO : Creating a fresh vocabulary\n",
      "2025-04-17 08:59:31,333 : INFO : Model lifecycle event {'msg': 'effective_min_count=1 retains 66 unique words (100.00% of original 66, drops 0)', 'datetime': '2025-04-17T08:59:31.333356', 'gensim': '4.3.3', 'python': '3.11.11 (main, Jan 14 2025, 05:22:51) [GCC 12.2.0]', 'platform': 'Linux-6.13.8-200.fc41.x86_64-x86_64-with-glibc2.36', 'event': 'prepare_vocab'}\n",
      "2025-04-17 08:59:31,334 : INFO : Model lifecycle event {'msg': 'effective_min_count=1 leaves 86 word corpus (100.00% of original 86, drops 0)', 'datetime': '2025-04-17T08:59:31.334356', 'gensim': '4.3.3', 'python': '3.11.11 (main, Jan 14 2025, 05:22:51) [GCC 12.2.0]', 'platform': 'Linux-6.13.8-200.fc41.x86_64-x86_64-with-glibc2.36', 'event': 'prepare_vocab'}\n",
      "2025-04-17 08:59:31,335 : INFO : deleting the raw counts dictionary of 66 items\n",
      "2025-04-17 08:59:31,336 : INFO : sample=1e-05 downsamples 66 most-common words\n",
      "2025-04-17 08:59:31,337 : INFO : Model lifecycle event {'msg': 'downsampling leaves estimated 2.212492288885778 word corpus (2.6%% of prior 86)', 'datetime': '2025-04-17T08:59:31.337681', 'gensim': '4.3.3', 'python': '3.11.11 (main, Jan 14 2025, 05:22:51) [GCC 12.2.0]', 'platform': 'Linux-6.13.8-200.fc41.x86_64-x86_64-with-glibc2.36', 'event': 'prepare_vocab'}\n",
      "2025-04-17 08:59:31,339 : INFO : estimated required memory for 66 words and 40 dimensions: 57720 bytes\n",
      "2025-04-17 08:59:31,340 : INFO : resetting layer weights\n",
      "2025-04-17 08:59:31,342 : INFO : \n",
      "Vocabulary built in 0.015860319137573242 s\n",
      "\n",
      "2025-04-17 08:59:31,343 : WARNING : Effective 'alpha' higher than previous training cycles\n",
      "2025-04-17 08:59:31,344 : INFO : Model lifecycle event {'msg': 'training model with 3 workers on 66 vocabulary and 40 features, using sg=0 hs=0 sample=1e-05 negative=6 window=7 shrink_windows=True', 'datetime': '2025-04-17T08:59:31.344133', 'gensim': '4.3.3', 'python': '3.11.11 (main, Jan 14 2025, 05:22:51) [GCC 12.2.0]', 'platform': 'Linux-6.13.8-200.fc41.x86_64-x86_64-with-glibc2.36', 'event': 'train'}\n",
      "2025-04-17 08:59:31,355 : INFO : EPOCH 0: training on 86 raw words (11 effective words) took 0.0s, 2867 effective words/s\n",
      "2025-04-17 08:59:31,361 : INFO : EPOCH 1: training on 86 raw words (14 effective words) took 0.0s, 4287 effective words/s\n",
      "2025-04-17 08:59:31,362 : INFO : Model lifecycle event {'msg': 'training on 172 raw words (25 effective words) took 0.0s, 1519 effective words/s', 'datetime': '2025-04-17T08:59:31.362138', 'gensim': '4.3.3', 'python': '3.11.11 (main, Jan 14 2025, 05:22:51) [GCC 12.2.0]', 'platform': 'Linux-6.13.8-200.fc41.x86_64-x86_64-with-glibc2.36', 'event': 'train'}\n",
      "2025-04-17 08:59:31,363 : INFO : \n",
      "Training is completed in 0.020122051239013672 s\n",
      "\n"
     ]
    },
    {
     "name": "stdout",
     "output_type": "stream",
     "text": [
      "TaggedDocument<['python', 'djvulibre', 'python', 'interface', 'djvulibre'], ['github:FriedrichFroebel/python-djvulibre', 'python-djvulibre', 'Cython', 'djvu', 'djvulibre']>\n",
      "TaggedDocument<['nagios', 'plugin', 'check', 'raid', 'nagios', 'icinga', 'sensu', 'plugin', 'check', 'current', 'server', 'raid', 'status'], ['github:glensc/nagios-plugin-check_raid', 'nagios-plugin-check_raid', 'Perl', 'icinga', 'icinga-plugin', 'monitoring', 'nagios', 'nagios-plugin', 'raid', 'sensu', 'sensu-plugin']>\n"
     ]
    }
   ],
   "source": [
    "\n",
    "trainAda = createTrainSetAdapter_02_04_25_GOOD()\n",
    "train = Factory.createFlatTrainDBCorpus_02_04_25_GOOD(10)#FlatCorpus(trainAda, limit = 10)\n",
    "\n",
    "testAda = createTestSetAdapter_02_04_25_GOOD()\n",
    "test = Factory.createFlatTestDBCorpus_02_04_25_GOOD(4)#FlatCorpus(testAda, limit = 10)\n",
    "\n",
    "VECTOR_SIZE = 40\n",
    "EPOCHS_NUMBER = 2\n",
    "WORD_MIN_COUNT = 1\n",
    "WINDOW_SIZE = 7\n",
    "NEGATIVE_SAMPLES_AMOUNT = 6\n",
    "SUBSAMPLING_THRESHOLD = 1e-5\n",
    "ALPHA_INIT = 0.05\n",
    "ALPHA_FINAL = 0.00001\n",
    "DM_DBOW_MODE = \"DM\" # \"DBOW\" \"DM+DBOW\"\n",
    "\n",
    "# finetunning is done by twicking model parameters\n",
    "model = Model(\n",
    "    vector_size =  VECTOR_SIZE, \n",
    "    window =       WINDOW_SIZE, \n",
    "    min_count =    WORD_MIN_COUNT, \n",
    "    epochs =       EPOCHS_NUMBER, \n",
    "    dm_dbow_mode = DM_DBOW_MODE,\n",
    "    negative =     NEGATIVE_SAMPLES_AMOUNT,\n",
    "    sample =       SUBSAMPLING_THRESHOLD,\n",
    "    alpha_init =   ALPHA_INIT,\n",
    "    alpha_final =  ALPHA_FINAL\n",
    ")\n",
    "\n",
    "print(train[[0]][0])\n",
    "print(test[[0]][0])\n",
    "model.trainCorpus = train\n",
    "model.testCorpus = test#[TaggedDocument(words = train[[1]][0].words, tags = train[[1]][0].tags)]\n",
    "\n",
    "model.train()\n",
    "#model.test()\n",
    "#model.evaluate()"
   ]
  },
  {
   "cell_type": "code",
   "execution_count": 6,
   "id": "e4c4a066-3eee-4df9-9434-929bf37c2efb",
   "metadata": {},
   "outputs": [
    {
     "ename": "ZeroDivisionError",
     "evalue": "division by zero",
     "output_type": "error",
     "traceback": [
      "\u001b[0;31m---------------------------------------------------------------------------\u001b[0m",
      "\u001b[0;31mZeroDivisionError\u001b[0m                         Traceback (most recent call last)",
      "Cell \u001b[0;32mIn[6], line 1\u001b[0m\n\u001b[0;32m----> 1\u001b[0m \u001b[38;5;241;43m2\u001b[39;49m\u001b[38;5;241;43m/\u001b[39;49m\u001b[38;5;241;43m0\u001b[39;49m\n\u001b[1;32m      2\u001b[0m \u001b[38;5;66;03m#model.test(3)\u001b[39;00m\n\u001b[1;32m      3\u001b[0m s \u001b[38;5;241m=\u001b[39m AnnoySearcher\u001b[38;5;241m.\u001b[39mcreate(model\u001b[38;5;241m.\u001b[39mdv\u001b[38;5;241m.\u001b[39mvectors)\n",
      "\u001b[0;31mZeroDivisionError\u001b[0m: division by zero"
     ]
    }
   ],
   "source": [
    "2/0\n",
    "#model.test(3)\n",
    "s = AnnoySearcher.create(model.dv.vectors)\n",
    "\n",
    "s.selectKmostSimilar(model.dv.vectors[1], 3)"
   ]
  },
  {
   "cell_type": "code",
   "execution_count": null,
   "id": "5758897e-660a-475e-aecf-d8bf3ad348d3",
   "metadata": {},
   "outputs": [],
   "source": [
    "model.selectKmostSimilar(v, 10)"
   ]
  },
  {
   "cell_type": "code",
   "execution_count": null,
   "id": "cda039ba-a830-492b-a1f3-0624814f89a3",
   "metadata": {},
   "outputs": [],
   "source": [
    "train.onlyID = False\n",
    "model.dv.most_similar([v], topn = 10)"
   ]
  },
  {
   "cell_type": "code",
   "execution_count": null,
   "id": "527c5764-2aec-431f-be3a-409047add529",
   "metadata": {},
   "outputs": [],
   "source": [
    "topK = sorted(model.selectKmostSimilar(v, 10), key = lambda pair: pair[0])\n",
    "topK"
   ]
  },
  {
   "cell_type": "code",
   "execution_count": null,
   "id": "77976cbb-4c60-49d6-a797-a8e4f837fb43",
   "metadata": {},
   "outputs": [],
   "source": [
    "\n",
    "trueRelevant = model.checkRelevants([p[0] for p in topK], ['github:FriedrichFroebel/python-djvulibre', 'python-djvulibre', 'Cython', 'djvu', 'djvulibre'])\n",
    "trueRelevant"
   ]
  },
  {
   "cell_type": "code",
   "execution_count": null,
   "id": "95dde6da-9761-48c0-9fee-075685ba7ad4",
   "metadata": {},
   "outputs": [],
   "source": [
    "train.onlyID = False\n",
    "for doc in train:\n",
    "    print(doc.tags)"
   ]
  },
  {
   "cell_type": "code",
   "execution_count": null,
   "id": "063cc5da-4213-4ee4-a8dc-2419f9c566ac",
   "metadata": {},
   "outputs": [],
   "source": []
  },
  {
   "cell_type": "code",
   "execution_count": null,
   "id": "e041163a-960c-4bc2-aece-a6b3bdbbf874",
   "metadata": {},
   "outputs": [],
   "source": []
  }
 ],
 "metadata": {
  "kernelspec": {
   "display_name": "Python 3 (ipykernel)",
   "language": "python",
   "name": "python3"
  },
  "language_info": {
   "codemirror_mode": {
    "name": "ipython",
    "version": 3
   },
   "file_extension": ".py",
   "mimetype": "text/x-python",
   "name": "python",
   "nbconvert_exporter": "python",
   "pygments_lexer": "ipython3",
   "version": "3.11.11"
  }
 },
 "nbformat": 4,
 "nbformat_minor": 5
}
