{
 "cells": [
  {
   "cell_type": "code",
   "execution_count": 21,
   "id": "455cc887-8373-451d-8c96-a66b7530486c",
   "metadata": {},
   "outputs": [],
   "source": [
    "import textstat\n",
    "\n",
    "#text = \"Graphics library to create an embedded GUI with easy-to-use graphical elements, beautiful visual effects and low memory footprint. It offers anti-aliasing, opacity, and animations using only one frame buffer. \"\n",
    "#text = \"Alternative firmware for ESP8266 and ESP32 based devices with easy configuration using webUI, OTA updates, automation using timers or rules, expandability and entirely local control over MQTT, HTTP, Serial or KNX. Full documentation at\"\n",
    "text = \"my exp for CVE-2020-27194, tested on linux kernel 5.8.14.\"\n",
    "#text = \"🎬 IMDb: Link 'em all!  -  Adds all kinds of links to IMDb, customizable!\"\n",
    "#text = \"A sexy achievement file parser with real-time notification, automatic screenshot and playtime tracking. View every achievements earned on your PC whether it's coming from Steam, a Steam emulator, and more.\"\n",
    "#text = \"Complete-Python-3-Bootcamp\""
   ]
  },
  {
   "cell_type": "code",
   "execution_count": 22,
   "id": "6e9e04f0-6c93-4c2e-9acf-87a2d48be3fd",
   "metadata": {},
   "outputs": [
    {
     "name": "stdout",
     "output_type": "stream",
     "text": [
      "87.72\n",
      "21.63\n",
      "67.9\n",
      "68.06\n"
     ]
    }
   ],
   "source": [
    "print(textstat.flesch_reading_ease(text))\n",
    "print(textstat.dale_chall_readability_score(text))\n",
    "print(textstat.gulpease_index(text))\n",
    "print(textstat.osman(text))"
   ]
  },
  {
   "cell_type": "code",
   "execution_count": null,
   "id": "068e10e6-cf56-423d-8783-ccdcd73381db",
   "metadata": {},
   "outputs": [],
   "source": []
  }
 ],
 "metadata": {
  "kernelspec": {
   "display_name": "Python 3 (ipykernel)",
   "language": "python",
   "name": "python3"
  },
  "language_info": {
   "codemirror_mode": {
    "name": "ipython",
    "version": 3
   },
   "file_extension": ".py",
   "mimetype": "text/x-python",
   "name": "python",
   "nbconvert_exporter": "python",
   "pygments_lexer": "ipython3",
   "version": "3.11.11"
  }
 },
 "nbformat": 4,
 "nbformat_minor": 5
}
