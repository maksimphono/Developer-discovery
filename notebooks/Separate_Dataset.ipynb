{
 "cells": [
  {
   "cell_type": "code",
   "execution_count": 1,
   "id": "455cc887-8373-451d-8c96-a66b7530486c",
   "metadata": {},
   "outputs": [],
   "source": [
    "import sys\n",
    "sys.path.append('/home/trukhinmaksim/src')\n",
    "import json"
   ]
  },
  {
   "cell_type": "code",
   "execution_count": 2,
   "id": "6e9e04f0-6c93-4c2e-9acf-87a2d48be3fd",
   "metadata": {},
   "outputs": [],
   "source": [
    "from time import time\n",
    "from src.utils.CacheAdapter import FlatAdapter, EXP_END_OF_DATA, createAdapter_02_04_25_GOOD, createTrainSetAdapter_02_04_25_GOOD\n",
    "from src.utils.Corpus import CacheCorpus, FlatCorpus\n",
    "from src.utils.DatasetManager import ProjectsDatasetManager"
   ]
  },
  {
   "cell_type": "code",
   "execution_count": 3,
   "id": "cd2fb6af-bdae-402b-821d-a3b6d9fca58d",
   "metadata": {},
   "outputs": [
    {
     "name": "stdout",
     "output_type": "stream",
     "text": [
      "['nagios', 'plugin', 'check', 'raid', 'nagios', 'icinga', 'sensu', 'plugin', 'check', 'current', 'server', 'raid', 'status']\n",
      "Saving\n",
      "['imdb', 'link', 'em', 'imdb', 'link', 'em', 'add', 'kind', 'link', 'imdb', 'customizable']\n",
      "Saving\n",
      "['rhash', 'great', 'utility', 'computing', 'hash', 'sum']\n",
      "Saving\n",
      "['achievement', 'watcher', 'sexy', 'achievement', 'file', 'parser', 'real', 'time', 'notification', 'automatic', 'screenshot', 'playtime', 'tracking', 'view', 'every', 'achievement', 'earned', 'pc', 'whether', 'coming', 'steam', 'steam', 'emulator']\n",
      "Saving\n",
      "['xdelta', 'cross', 'gui', 'cross', 'platform', 'gui', 'creating', 'xdelta', 'patch', 'available', 'window', 'linux', 'mac']\n",
      "Saving\n",
      "['projectcpg', 'code', 'property', 'graph', 'cpg', 'frontend', 'binary', 'application', 'library', 'base', 'ghidra', 'project']\n",
      "Saving\n",
      "['pycaching', 'python', 'interface', 'working', 'geocaching', 'com', 'website']\n",
      "Saving\n",
      "['didjvu', 'djvu', 'encoder', 'foreground', 'background', 'separation', 'python', 'fork']\n",
      "Saving\n",
      "['python', 'djvulibre', 'python', 'interface', 'djvulibre']\n",
      "Saving\n",
      "['pdfdjvu', 'pdf', 'djvu', 'converter']\n",
      "Saving\n"
     ]
    }
   ],
   "source": [
    "adapter = createAdapter_02_04_25_GOOD()#JSONMultiFileAdapter(CACHE_FILE_NAME)\n",
    "manager = ProjectsDatasetManager(50, cacheAdapter = adapter)\n",
    "cursor = CacheCorpus(manager, limit = 10)\n",
    "\n",
    "flatAda = createTrainSetAdapter_02_04_25_GOOD()\n",
    "flat = FlatCorpus(flatAda)\n",
    "\n",
    "for doc in cursor:\n",
    "    print(doc.words)\n",
    "    flatAda.save([{\"tokens\" : doc.words, \"tags\" : doc.tags}])\n",
    "\n",
    "#print(adapter.load(1))\n",
    "#print(adapter.load(3))\n",
    "#print(adapter.load(3))\n",
    "#adapter.save([{\"a\" : [1,2,3,7,8], \"b\" : [4]}, {\"a\" : [9,5, 8], \"b\" : [6]}])"
   ]
  },
  {
   "cell_type": "code",
   "execution_count": null,
   "id": "755525b3-c71b-476e-8eb5-4be5ae7936d7",
   "metadata": {},
   "outputs": [],
   "source": []
  }
 ],
 "metadata": {
  "kernelspec": {
   "display_name": "Python 3 (ipykernel)",
   "language": "python",
   "name": "python3"
  },
  "language_info": {
   "codemirror_mode": {
    "name": "ipython",
    "version": 3
   },
   "file_extension": ".py",
   "mimetype": "text/x-python",
   "name": "python",
   "nbconvert_exporter": "python",
   "pygments_lexer": "ipython3",
   "version": "3.11.11"
  }
 },
 "nbformat": 4,
 "nbformat_minor": 5
}
