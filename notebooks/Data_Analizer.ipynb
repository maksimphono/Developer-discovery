{
 "cells": [
  {
   "cell_type": "code",
   "execution_count": 1,
   "id": "f179b8b6-008f-4ddf-a141-c9aa5f6ab272",
   "metadata": {},
   "outputs": [],
   "source": [
    "import sys\n",
    "sys.path.append('/home/trukhinmaksim/src')"
   ]
  },
  {
   "cell_type": "code",
   "execution_count": 2,
   "id": "34d932b3-e28e-48a0-bcc4-2730e75e9518",
   "metadata": {},
   "outputs": [
    {
     "name": "stdout",
     "output_type": "stream",
     "text": [
      "Collection(Database(MongoClient(host=['10.22.50.212:27020'], document_class=dict, tz_aware=False, connect=True), 'mini_database'), 'projects')\n"
     ]
    }
   ],
   "source": [
    "from pandas import DataFrame as DF, Series\n",
    "import numpy as np\n",
    "from pymongo import MongoClient\n",
    "\n",
    "# single machine setup (mongo is running here localy)\n",
    "MY_DATABASE_LINK = 'mongodb://10.22.50.212:27020/' #'mongodb://192.168.100.57:27020/'\n",
    "# multiple mechine setup (mongo is running on another machine)\n",
    "#MY_DATABASE_LINK = 'mongodb://192.168.43.78:27020/'\n",
    "\n",
    "class DatabaseConnect:\n",
    "    DB_LINK = MY_DATABASE_LINK\n",
    "\n",
    "    class Base:\n",
    "        client = None\n",
    "        @classmethod\n",
    "        def connect(cls, databaseName):\n",
    "            cls.client = MongoClient(DatabaseConnect.DB_LINK)\n",
    "            # Access the database\n",
    "            return cls.client[databaseName]\n",
    "\n",
    "        @classmethod\n",
    "        def close(cls):\n",
    "            if cls.client:\n",
    "                cls.client.close()\n",
    "                cls.client = None\n",
    "\n",
    "        @classmethod\n",
    "        def getCollection(cls, collectionName):\n",
    "            return cls.client[collectionName]\n",
    "\n",
    "\n",
    "    class mini_database(Base):\n",
    "        @classmethod\n",
    "        def projects(cls):\n",
    "            return cls.connect('mini_database')['projects']\n",
    "        @classmethod\n",
    "        def users(cls):\n",
    "            return cls.connect('mini_database')['users']\n",
    "\n",
    "projectsCollection = DatabaseConnect.mini_database.projects()\n",
    "print(projectsCollection)\n"
   ]
  },
  {
   "cell_type": "code",
   "execution_count": 3,
   "id": "456ecfdd-61cc-41fa-8bba-521d62314151",
   "metadata": {},
   "outputs": [],
   "source": [
    "from src.utils.CacheAdapter import JSONMultiFileAdapter\n",
    "from src.utils.DatasetManager import ProjectsDatasetManager"
   ]
  },
  {
   "cell_type": "code",
   "execution_count": 4,
   "id": "736f4429-c1c0-4873-9fc7-55c2cf7b8874",
   "metadata": {},
   "outputs": [
    {
     "name": "stdout",
     "output_type": "stream",
     "text": [
      "Total projects:  57701\n"
     ]
    }
   ],
   "source": [
    "def flatternData(data : dict[str, list]) -> np.array(dict):\n",
    "    # takes in data in form of dict, where each key is a user id and each value is a list of that user's projects\n",
    "    # returns just flat list of these projects \n",
    "    result = []\n",
    "\n",
    "    for projectsArray in data.values():\n",
    "        for project in projectsArray:\n",
    "            result.append(project)\n",
    "\n",
    "    return result\n",
    "\n",
    "def collectCacheStatistics():\n",
    "    cacheFileName = \"cache__02-04-2025__(good)_{0}.json\"\n",
    "\n",
    "    adapter = JSONMultiFileAdapter(cacheFileName)\n",
    "    USERS_NUMBER_TO_SCAN = 50\n",
    "    #adapter = JSONAdapter(cacheFileName)\n",
    "\n",
    "    projectsCount = 0\n",
    "    manager = ProjectsDatasetManager(USERS_NUMBER_TO_SCAN, cacheAdapter = adapter)\n",
    "\n",
    "    for i in range(180):\n",
    "        manager.fromCache()\n",
    "        #print(\"Reading:\", adapter.collectionName)\n",
    "        projectsCount += len(flatternData(manager.data))\n",
    "        manager.clearData()\n",
    "\n",
    "    return projectsCount\n",
    "\n",
    "print(\"Total projects: \", collectCacheStatistics())"
   ]
  },
  {
   "cell_type": "code",
   "execution_count": 5,
   "id": "e4e3dc50-9d2b-4e54-a366-a0c15d568cd5",
   "metadata": {},
   "outputs": [
    {
     "ename": "ZeroDivisionError",
     "evalue": "division by zero",
     "output_type": "error",
     "traceback": [
      "\u001b[0;31m---------------------------------------------------------------------------\u001b[0m",
      "\u001b[0;31mZeroDivisionError\u001b[0m                         Traceback (most recent call last)",
      "Cell \u001b[0;32mIn[5], line 1\u001b[0m\n\u001b[0;32m----> 1\u001b[0m \u001b[38;5;241;43m2\u001b[39;49m\u001b[38;5;241;43m/\u001b[39;49m\u001b[38;5;241;43m0\u001b[39;49m\n\u001b[1;32m      2\u001b[0m \u001b[38;5;28;01mdef\u001b[39;00m\u001b[38;5;250m \u001b[39m\u001b[38;5;21mgetProjectsStars\u001b[39m() \u001b[38;5;241m-\u001b[39m\u001b[38;5;241m>\u001b[39m \u001b[38;5;28mlist\u001b[39m:\n\u001b[1;32m      3\u001b[0m     cursor \u001b[38;5;241m=\u001b[39m projectsCollection\u001b[38;5;241m.\u001b[39mfind()\n",
      "\u001b[0;31mZeroDivisionError\u001b[0m: division by zero"
     ]
    }
   ],
   "source": [
    "2/0\n",
    "def getProjectsStars() -> list:\n",
    "    cursor = projectsCollection.find()\n",
    "    stars = []\n",
    "\n",
    "    for proj in cursor:\n",
    "        try:\n",
    "            stars.append(proj[\"stars\"])\n",
    "        except KeyError:\n",
    "            continue\n",
    "\n",
    "    return np.array(stars)\n",
    "\n",
    "def percentileThreshold(stars, percentile=50):\n",
    "    return np.percentile(stars, percentile)\n",
    "\n",
    "starsArray = getProjectsStars()\n",
    "starsThreshold = percentileThreshold(starsArray, 90)  # Keep top 10% posts\n",
    "starsThreshold"
   ]
  },
  {
   "cell_type": "code",
   "execution_count": null,
   "id": "e6782dea-4c11-426c-813a-03a982687ce5",
   "metadata": {},
   "outputs": [],
   "source": [
    "def collectProjectsStatistics():\n",
    "    global starsThreshold\n",
    "    stats = Series({\n",
    "        \"Total project\" : 0,\n",
    "        \"High quality\" : 0,\n",
    "        \"Good\" : 0,\n",
    "        \"Sufficient\" : 0,\n",
    "        \"Has description\" : 0,\n",
    "        \"Has topics\" : 0,\n",
    "        \"Avg description length\" : 0\n",
    "    })\n",
    "    description_lengths = []\n",
    "    cursor = projectsCollection.find()\n",
    "\n",
    "    for proj in cursor:\n",
    "        try:\n",
    "            desc = proj[\"description\"]\n",
    "            #print(desc)\n",
    "        except KeyError:\n",
    "            continue\n",
    "        if desc:\n",
    "            stats[\"Has description\"] += 1\n",
    "            #print(type(desc))\n",
    "            description_lengths.append(len(desc))\n",
    "        \n",
    "        if len(proj[\"topics\"]):\n",
    "            stats[\"Has topics\"] += 1\n",
    "\n",
    "        if desc and (len(proj[\"topics\"]) and proj[\"language\"]) and proj[\"stars\"] >= starsThreshold:\n",
    "            stats[\"High quality\"] += 1\n",
    "        \n",
    "        if desc and (len(proj[\"topics\"]) and proj[\"language\"]):\n",
    "            stats[\"Good\"] += 1\n",
    "        \n",
    "        if desc and (len(proj[\"topics\"]) or proj[\"language\"]):\n",
    "            stats[\"Sufficient\"] += 1\n",
    "        stats[\"Total project\"] += 1\n",
    "\n",
    "    stats[\"Avg description length\"] = sum(description_lengths) / stats[\"Has description\"]\n",
    "\n",
    "    return stats"
   ]
  },
  {
   "cell_type": "code",
   "execution_count": null,
   "id": "48b69ba1-3a66-4bfb-9148-939ad1e34a35",
   "metadata": {},
   "outputs": [],
   "source": [
    "stats = collectProjectsStatistics()"
   ]
  },
  {
   "cell_type": "code",
   "execution_count": null,
   "id": "6f708467-6107-4eb1-9de2-01de7a28dfb7",
   "metadata": {},
   "outputs": [],
   "source": [
    "stats"
   ]
  },
  {
   "cell_type": "code",
   "execution_count": null,
   "id": "b433805b-3b1c-49b5-b74d-14d33eae88a0",
   "metadata": {},
   "outputs": [],
   "source": [
    "from matplotlib import pyplot as plt"
   ]
  },
  {
   "cell_type": "code",
   "execution_count": null,
   "id": "7acea3de-b893-4880-b86f-02919d14e830",
   "metadata": {},
   "outputs": [],
   "source": [
    "stats.index"
   ]
  },
  {
   "cell_type": "code",
   "execution_count": null,
   "id": "7c49b2cc-21bf-4cf0-8eea-d75df1a810ad",
   "metadata": {},
   "outputs": [],
   "source": [
    "labels = \"High quality,Good,Sufficient\".split(\",\")\n",
    "proportions = [stats[lbl] for lbl in labels]\n",
    "summa = stats[\"Sufficient\"]\n",
    "#proportions = proportions / sum(proportions) * 100 # Proportions of each category\n",
    "proportions[0] = stats[\"High quality\"] / summa * 100\n",
    "proportions[1] = (stats[\"Good\"] - stats[\"High quality\"]) / summa * 100\n",
    "proportions[2] = (stats[\"Sufficient\"] - stats[\"Good\"] - stats[\"High quality\"]) / summa * 100\n",
    "colors = ['red', 'orange', 'pink', 'brown', 'green']\n",
    "explode = (0,) * len(proportions)  # Explode the 2nd slice\n",
    "\n",
    "# Creating the pie chart\n",
    "plt.figure(figsize=(8,4))\n",
    "plt.pie(proportions, labels=labels, colors=colors, autopct='%1.1f%%', explode=explode, shadow=False, startangle=140)\n",
    "\n",
    "# Display the chart\n",
    "plt.axis('equal')  # Ensures the pie is a circle\n",
    "plt.title(\"Projects data Distribution by quality\")\n",
    "plt.legend()\n",
    "plt.show()"
   ]
  },
  {
   "cell_type": "code",
   "execution_count": null,
   "id": "19789fbe-4a13-4cb6-bf78-17cff06d0f97",
   "metadata": {},
   "outputs": [],
   "source": [
    "stats"
   ]
  },
  {
   "cell_type": "code",
   "execution_count": null,
   "id": "f9a48a2f-e4ac-4d5f-b691-763ba3f0af39",
   "metadata": {},
   "outputs": [],
   "source": [
    "stats.index\n",
    "stats[\"High quality\"] / summa * 100"
   ]
  },
  {
   "cell_type": "code",
   "execution_count": null,
   "id": "f8c0fcb1-d442-4773-8030-a59016f843d0",
   "metadata": {},
   "outputs": [],
   "source": [
    "(6015 - 4258) / summa * 100\n",
    "proportions"
   ]
  },
  {
   "cell_type": "code",
   "execution_count": null,
   "id": "29a07a3f-f9e2-46fd-831a-28ec6ae18a04",
   "metadata": {},
   "outputs": [],
   "source": [
    "\"\"\"\n",
    "# calculating projects with camel case\n",
    "import re\n",
    "\n",
    "def countCamelCase(camelCase):\n",
    "    template = \"[a-z]+[A-Z]+[a-z]*[A-Z]*[a-z]*[A-Z]*[a-z]*[A-Z]*[a-z]*\"\n",
    "    text = camelCase\n",
    "    n = 0\n",
    "    spans = []\n",
    "\n",
    "    while found := re.search(template, text[n:]):\n",
    "        spans.append((found.span()[0] + n, found.span()[1] + n))\n",
    "        n += found.span()[1]\n",
    "\n",
    "    return len(spans)\n",
    "\n",
    "def collectProjectsCamelCaseStatistics():\n",
    "    stats = Series({\n",
    "        \"Total project\" : 0,\n",
    "        \"CamelCase projects\" : []\n",
    "    })\n",
    "    description_lengths = []\n",
    "    cursor = projectsCollection.find()\n",
    "\n",
    "    for proj in cursor:\n",
    "        try:\n",
    "            desc = proj[\"description\"]\n",
    "            #print(desc)\n",
    "        except KeyError:\n",
    "            continue\n",
    "\n",
    "        if countCamelCase(desc) > 0:\n",
    "            stats[\"CamelCase projects\"].append(proj)\n",
    "\n",
    "        stats[\"Total project\"] += 1\n",
    "\n",
    "    return stats\n",
    "\n",
    "stats = collectProjectsCamelCaseStatistics()\n",
    "\n",
    "print(len(stats[\"CamelCase projects\"]))\n",
    "print(stats[\"CamelCase projects\"])\n",
    "\"\"\""
   ]
  },
  {
   "cell_type": "code",
   "execution_count": null,
   "id": "7ea9b986-4311-4abe-a06f-0e36e8fd7822",
   "metadata": {},
   "outputs": [],
   "source": []
  }
 ],
 "metadata": {
  "kernelspec": {
   "display_name": "Python 3 (ipykernel)",
   "language": "python",
   "name": "python3"
  },
  "language_info": {
   "codemirror_mode": {
    "name": "ipython",
    "version": 3
   },
   "file_extension": ".py",
   "mimetype": "text/x-python",
   "name": "python",
   "nbconvert_exporter": "python",
   "pygments_lexer": "ipython3",
   "version": "3.11.11"
  }
 },
 "nbformat": 4,
 "nbformat_minor": 5
}
