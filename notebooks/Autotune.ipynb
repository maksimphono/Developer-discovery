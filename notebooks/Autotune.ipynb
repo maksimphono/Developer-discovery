{
 "cells": [
  {
   "cell_type": "code",
   "execution_count": 1,
   "id": "99620efc-8987-47e5-8580-8ee36db0dab1",
   "metadata": {},
   "outputs": [],
   "source": [
    "import sys\n",
    "sys.path.append('/home/trukhinmaksim/src')\n",
    "import numpy as np"
   ]
  },
  {
   "cell_type": "code",
   "execution_count": 2,
   "id": "0fb46848-bda5-484c-988b-08997d1135f7",
   "metadata": {},
   "outputs": [],
   "source": [
    "from src.utils.Plot3D import Plot3D\n",
    "from skopt.space import Real, Integer\n",
    "from skopt import gp_minimize"
   ]
  },
  {
   "cell_type": "code",
   "execution_count": 3,
   "id": "26ecb6b0-195e-41fa-8cfb-4ea3d2e12a4e",
   "metadata": {},
   "outputs": [],
   "source": [
    "class BlackBoxOptimizer:\n",
    "    @classmethod\n",
    "    def blackBox(cls, args):\n",
    "        x, y = args\n",
    "        return -(x)**4 - (y)**2 + np.cos(x) ** 3\n",
    "\n",
    "    @classmethod\n",
    "    def optimize(cls):\n",
    "        space = [\n",
    "            Real(-3, 3, name='x'),  # First dimension, continuous from -5 to 5\n",
    "            Real(-3, 3, name='y')   # Second dimension, continuous from -5 to 5\n",
    "            # You can add more dimensions as needed\n",
    "        ]\n",
    "        \n",
    "\n",
    "        n_calls = 30  # Total number of function evaluations\n",
    "        n_initial_points = 10  # Number of initial random evaluations\n",
    "\n",
    "        result = gp_minimize(lambda args: -1 * cls.blackBox(args),\n",
    "                             space,\n",
    "                             n_calls=n_calls,\n",
    "                             n_initial_points=n_initial_points,\n",
    "                             random_state=42) # For reproducibility\n",
    "\n",
    "        return result"
   ]
  },
  {
   "cell_type": "code",
   "execution_count": 4,
   "id": "e47f099d-f666-4c83-86c2-4eea3f03e88b",
   "metadata": {},
   "outputs": [],
   "source": [
    "# optimizing model parameters, using SVM as an observed model\n",
    "from sklearn.datasets import load_iris\n",
    "from sklearn.model_selection import train_test_split\n",
    "from sklearn.svm import SVC\n",
    "from sklearn.metrics import accuracy_score\n",
    "\n",
    "iris = load_iris()\n",
    "X, y = iris.data, iris.target\n",
    "\n",
    "X_train, X_test, y_train, y_test = train_test_split(X, y, test_size=0.3, random_state=42)\n",
    "\n",
    "search_space = [\n",
    "    Real(1e-6, 100.0, prior='log-uniform', name='C'),\n",
    "    Real(1e-6, 10.0, prior='log-uniform', name='gamma')\n",
    "]"
   ]
  },
  {
   "cell_type": "code",
   "execution_count": 5,
   "id": "a3f54cd9-d11a-4607-803c-43648bc40833",
   "metadata": {},
   "outputs": [],
   "source": [
    "\n",
    "def objective(params):\n",
    "    C, gamma = params\n",
    "    model = SVC(C=C, gamma=gamma, random_state=42)\n",
    "\n",
    "    print(params)\n",
    "    # Use cross-validation for a more robust evaluation\n",
    "    cv = StratifiedKFold(n_splits=5, shuffle=True, random_state=42)\n",
    "    scores = cross_val_score(model, X_train, y_train, cv=cv, scoring='accuracy')\n",
    "    return -np.mean(scores)  # Return negative accuracy for minimization\n",
    "\n",
    "def optimize():\n",
    "    n_calls = 30  # Number of times to sample the objective function\n",
    "    n_initial_points = 10  # Number of initial random samples\n",
    "\n",
    "    result = gp_minimize(objective,\n",
    "                     search_space,\n",
    "                     n_calls=n_calls,\n",
    "                     n_initial_points=n_initial_points,\n",
    "                     random_state=42\n",
    "             )\n",
    "\n",
    "    return result"
   ]
  },
  {
   "cell_type": "code",
   "execution_count": 6,
   "id": "047824d4-ec17-491a-a111-4e17a49eec55",
   "metadata": {},
   "outputs": [
    {
     "name": "stdout",
     "output_type": "stream",
     "text": [
      "[Real(low=1e-06, high=100.0, prior='log-uniform', transform='identity'), Real(low=1e-06, high=10.0, prior='log-uniform', transform='identity')]\n"
     ]
    }
   ],
   "source": [
    "from sklearn.model_selection import StratifiedKFold\n",
    "from sklearn.model_selection import cross_val_score\n",
    "\n",
    "\n",
    "class AutoTuner:\n",
    "    EXP_WRONG_PARAMETER_TYPE = Exception(\"EXP_WRONG_PARAMETER_TYPE\")\n",
    "\n",
    "    # wrapper around the model, that will perform autotunnig of the model, based on the ranges and types of parameters, that were specified\n",
    "    def __init__(self, modelConstructor, parameters : dict = dict()):\n",
    "        self.modelConstructor = modelConstructor\n",
    "        self.parameters = [*parameters]\n",
    "        self.valuesSpace = []\n",
    "\n",
    "        createParam = None\n",
    "        for parameter in self.parameters:\n",
    "            createParam = parameter.type\n",
    "\n",
    "            #self.valuesSpace.append(Real(1e-6, 100.0, prior='log-uniform', name='C'))\n",
    "            self.valuesSpace.append(createParam(parameter.range[0], parameter.range[1], prior = parameter.prior, name = parameter.name))\n",
    "\n",
    "        print(self.valuesSpace)\n",
    "    def objective(self, params):\n",
    "        # TODO: fix the bug when I can use the class with \"objective\" function from outside, but can't with this method\n",
    "        parameters = dict(zip((p.name for p in self.parameters), params))\n",
    "\n",
    "        print(params)\n",
    "        model = self.modelConstructor(**parameters)\n",
    "\n",
    "        score = model.evaluate() # evaluate model on the selected set of parameters to get the result\n",
    "\n",
    "        return score # trying to maximize the score\n",
    "\n",
    "    def tune(self, callsNum = 30, initalPointsNum = 0):\n",
    "        n_initial_points = 10  # Number of initial random samples\n",
    "\n",
    "        if initalPointsNum == 0:\n",
    "            x0 = [p.initial for p in self.parameters]\n",
    "            y0 = [self.objective(x0)]\n",
    "            result = gp_minimize(self.objective,\n",
    "                        self.valuesSpace,\n",
    "                        n_calls=callsNum,\n",
    "                        n_initial_points=1,\n",
    "                        x0 = x0,\n",
    "                        y0 = y0,\n",
    "                        random_state=42\n",
    "                     )\n",
    "        else:\n",
    "            result = gp_minimize(self.objective,\n",
    "                        self.valuesSpace,\n",
    "                        n_calls=callsNum,\n",
    "                        n_initial_points=initalPointsNum,\n",
    "                        random_state=42\n",
    "                     )\n",
    "\n",
    "        return result\n",
    "\n",
    "class Param:\n",
    "    def __init__(self, _name, _type = Real, _range = (0, 10), _initial = 5):\n",
    "        self.name = _name\n",
    "        self.type = _type\n",
    "        self.range = _range\n",
    "        self.initial = _initial\n",
    "        self.prior = \"log-uniform\"\n",
    "\n",
    "class MySVC(SVC):\n",
    "    def __init__(self, **args):\n",
    "        super().__init__(**args, random_state = 42)\n",
    "\n",
    "    def evaluate(self):        \n",
    "        cv = StratifiedKFold(n_splits=5, shuffle=True, random_state=42)\n",
    "        scores = cross_val_score(self, X_train, y_train, cv=cv, scoring='accuracy')\n",
    "\n",
    "        return -np.mean(scores)\n",
    "\n",
    "t = AutoTuner(MySVC, [\n",
    "    Param(_name = \"C\", _type = Real, _range = (1e-6, 100.0), _initial = 1),\n",
    "    Param(_name = \"gamma\", _type = Real, _range = (1e-6, 10.0), _initial = 1)\n",
    "])\n"
   ]
  },
  {
   "cell_type": "code",
   "execution_count": 7,
   "id": "757b63b7-d8c6-41e6-b5c0-f76c6e587b7e",
   "metadata": {},
   "outputs": [
    {
     "name": "stdout",
     "output_type": "stream",
     "text": [
      "Class:\n",
      "[2.3569148616733497, 1.9232844888462213e-05]\n",
      "[1.7279373898388395, 0.0150643745670108]\n",
      "[0.0036869056408461564, 5.009846399533714e-06]\n",
      "[0.004720534062044993, 0.0002167505848413957]\n",
      "[1.3897431541069102e-05, 0.0359931047760915]\n",
      "[2.8267840503514722e-06, 0.11323779547027096]\n",
      "[32.24197761544084, 1.0126313321124244e-06]\n",
      "[86.63481938662457, 0.02100731595568065]\n",
      "[0.07820333677531095, 1.120634881774225e-06]\n",
      "[1.5293236347453696e-06, 0.004714358681860233]\n",
      "[99.72268331645303, 8.503922047955504]\n",
      "[45.314880635020195, 0.023835776015524966]\n",
      "[1.7502136073760692, 1.9832464503499283e-05]\n",
      "[1.4396178192778566e-06, 8.189182949593262e-06]\n",
      "[9.74213673406486e-06, 1.5288719608113144]\n",
      "[0.005376973202968548, 4.78204107198005e-06]\n",
      "[1e-06, 10.0]\n",
      "[100.0, 10.0]\n",
      "[1.0125513973234358e-06, 9.650439376162925]\n",
      "[1.0406078900159414e-06, 1.0561506721573278e-06]\n",
      "[93.59818227994994, 9.527803616525702]\n",
      "[1.057915892714748e-06, 9.659279131218884]\n",
      "[3.5398502060948926, 1.1414841513551703]\n",
      "[0.00025707073026136394, 0.0344654985342103]\n",
      "[0.00046097409875057565, 0.33116013400604666]\n",
      "[0.6275608153290438, 8.839712974418046e-05]\n",
      "[1e-06, 1e-06]\n",
      "[83.93429568722614, 1.0042427733513468e-06]\n",
      "[1.0178564268334024e-06, 1.1128394263953944e-06]\n",
      "[87.21145535225149, 9.51679728455269]\n",
      "Func:\n",
      "Best hyperparameters found: [2.3569148616733497, 1.9232844888462213e-05]\n",
      "Best cross-validation accuracy: 0.9714285714285713\n",
      "Test accuracy with best hyperparameters: 0.5333333333333333\n"
     ]
    }
   ],
   "source": [
    "print(\"Class:\")\n",
    "result = t.tune(30, 10)\n",
    "print(\"Func:\")\n",
    "#result = optimize()\n",
    "\n",
    "print(\"Best hyperparameters found:\", result.x)\n",
    "print(\"Best cross-validation accuracy:\", -result.fun)\n",
    "\n",
    "# Train the final model with the best hyperparameters on the full training set\n",
    "best_C, best_gamma = result.x\n",
    "best_model = SVC(C=best_C, gamma=best_gamma, random_state=42)\n",
    "best_model.fit(X_train, y_train)\n",
    "\n",
    "# Evaluate the best model on the test set\n",
    "y_pred = best_model.predict(X_test)\n",
    "test_accuracy = accuracy_score(y_test, y_pred)\n",
    "print(\"Test accuracy with best hyperparameters:\", test_accuracy)"
   ]
  },
  {
   "cell_type": "code",
   "execution_count": 8,
   "id": "903b05b0-2794-4d7d-b588-d2b89300a190",
   "metadata": {},
   "outputs": [
    {
     "data": {
      "image/png": "[encoded data removed]",
      "text/plain": [
       "<Figure size 640x480 with 1 Axes>"
      ]
     },
     "metadata": {},
     "output_type": "display_data"
    }
   ],
   "source": [
    "# Visualize the optimization process\n",
    "from skopt.plots import plot_convergence\n",
    "import matplotlib.pyplot as plt\n",
    "\n",
    "plot_convergence(result)\n",
    "plt.show()"
   ]
  }
 ],
 "metadata": {
  "kernelspec": {
   "display_name": "Python 3 (ipykernel)",
   "language": "python",
   "name": "python3"
  },
  "language_info": {
   "codemirror_mode": {
    "name": "ipython",
    "version": 3
   },
   "file_extension": ".py",
   "mimetype": "text/x-python",
   "name": "python",
   "nbconvert_exporter": "python",
   "pygments_lexer": "ipython3",
   "version": "3.11.11"
  }
 },
 "nbformat": 4,
 "nbformat_minor": 5
}
