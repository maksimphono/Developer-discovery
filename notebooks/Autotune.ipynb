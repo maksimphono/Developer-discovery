{
 "cells": [
  {
   "cell_type": "code",
   "execution_count": 1,
   "id": "99620efc-8987-47e5-8580-8ee36db0dab1",
   "metadata": {},
   "outputs": [],
   "source": [
    "import sys\n",
    "sys.path.append('/home/trukhinmaksim/src')\n",
    "import numpy as np"
   ]
  },
  {
   "cell_type": "code",
   "execution_count": 2,
   "id": "0fb46848-bda5-484c-988b-08997d1135f7",
   "metadata": {},
   "outputs": [],
   "source": [
    "from src.utils.Plot3D import Plot3D\n",
    "from skopt.space import Real, Integer\n",
    "from skopt import gp_minimize"
   ]
  },
  {
   "cell_type": "code",
   "execution_count": 3,
   "id": "26ecb6b0-195e-41fa-8cfb-4ea3d2e12a4e",
   "metadata": {},
   "outputs": [],
   "source": [
    "class BlackBoxOptimizer:\n",
    "    @classmethod\n",
    "    def blackBox(cls, args):\n",
    "        x, y = args\n",
    "        return -(x)**4 - (y)**2 + np.cos(x) ** 3\n",
    "\n",
    "    @classmethod\n",
    "    def optimize(cls):\n",
    "        space = [\n",
    "            Real(-3, 3, name='x'),  # First dimension, continuous from -5 to 5\n",
    "            Real(-3, 3, name='y')   # Second dimension, continuous from -5 to 5\n",
    "            # You can add more dimensions as needed\n",
    "        ]\n",
    "        \n",
    "\n",
    "        n_calls = 30  # Total number of function evaluations\n",
    "        n_initial_points = 10  # Number of initial random evaluations\n",
    "\n",
    "        result = gp_minimize(lambda args: -1 * cls.blackBox(args),\n",
    "                             space,\n",
    "                             n_calls=n_calls,\n",
    "                             n_initial_points=n_initial_points,\n",
    "                             random_state=42) # For reproducibility\n",
    "\n",
    "        return result"
   ]
  },
  {
   "cell_type": "code",
   "execution_count": 4,
   "id": "e47f099d-f666-4c83-86c2-4eea3f03e88b",
   "metadata": {},
   "outputs": [],
   "source": [
    "# optimizing model parameters, using SVM as an observed model\n",
    "from sklearn.datasets import load_iris\n",
    "from sklearn.model_selection import train_test_split\n",
    "from sklearn.svm import SVC\n",
    "from sklearn.metrics import accuracy_score\n",
    "\n",
    "iris = load_iris()\n",
    "X, y = iris.data, iris.target\n",
    "\n",
    "X_train, X_test, y_train, y_test = train_test_split(X, y, test_size=0.3, random_state=42)\n",
    "\n",
    "search_space = [\n",
    "    Real(1e-6, 100.0, prior='log-uniform', name='C'),\n",
    "    Real(1e-6, 10.0, prior='log-uniform', name='gamma')\n",
    "]"
   ]
  },
  {
   "cell_type": "code",
   "execution_count": 11,
   "id": "047824d4-ec17-491a-a111-4e17a49eec55",
   "metadata": {},
   "outputs": [
    {
     "name": "stdout",
     "output_type": "stream",
     "text": [
      "a\n",
      "9.4 4\n"
     ]
    }
   ],
   "source": [
    "from sklearn.model_selection import StratifiedKFold\n",
    "from sklearn.model_selection import cross_val_score\n",
    "\n",
    "\n",
    "class AutoTuner:\n",
    "    EXP_WRONG_PARAMETER_TYPE = Exception(\"EXP_WRONG_PARAMETER_TYPE\")\n",
    "\n",
    "    # wrapper around the model, that will perform autotunnig of the model, based on the ranges and types of parameters, that were specified\n",
    "    def __init__(self, modelConstructor, parameters : dict = dict()):\n",
    "        self.modelConstructor = modelConstructor\n",
    "        self.parameters = [*parameters]\n",
    "        self.valuesSpace = [] # TODO: create space using \"Real\" and \"Integer\"\n",
    "\n",
    "        createParam = None\n",
    "        for parameter in self.parameters:\n",
    "            createParam = parameter.type\n",
    "\n",
    "            self.valuesSpace.append(createParam(parameter.range[0], parameter.range[1], name = parameter.name))\n",
    "\n",
    "    def objective(self, params):\n",
    "        parameters = dict(zip((p.name for p in self.parameters), params))\n",
    "\n",
    "        model = self.modelConstructor(**parameters)\n",
    "        return model\n",
    "        score = model.evaluate() # evaluate model on the selected set of parameters to get the result\n",
    "\n",
    "        return -score # trying to maximize the score\n",
    "\n",
    "    def tune(self, initalPointsNum = 10, callsNum = 30):\n",
    "        n_initial_points = 10  # Number of initial random samples\n",
    "\n",
    "        x0 = [p[\"initial\"] for p in self.parameters]\n",
    "        y0 = [self.objective(x) for x in x0]\n",
    "        result = gp_minimize(self.objective,\n",
    "                    self.valuesSpace,\n",
    "                    n_calls=callsNum,\n",
    "                    n_initial_points=1,\n",
    "                    x0 = x0,\n",
    "                    y0 = y0,\n",
    "                    random_state=42\n",
    "                 )\n",
    "\n",
    "        return result\n",
    "\n",
    "class Param:\n",
    "    def __init__(self, _name, _type = Real, _range = (0, 10), _initial = 5):\n",
    "        self.name = _name\n",
    "        self.type = _type\n",
    "        self.range = _range\n",
    "        self.initial = _initial\n",
    "\n",
    "t = AutoTuner(lambda a, b: print(a, b), [\n",
    "    Param(_name = \"a\", _type = Real, _range = (-2, 3), _initial = 1),\n",
    "    Param(_name = \"b\", _type = Integer, _range = (-3, 1), _initial = -2)\n",
    "])\n",
    "\"\"\"\n",
    "t = AutoTuner(lambda a, b: print(a, b), [\n",
    "    {\"name\" : \"a\", \"type\" : \"Real\", \"range\" : (-2, 3), \"initial\" : 2},\n",
    "    {\"name\" : \"b\", \"type\" : \"Integer\", \"range\" : (-3, 1), \"initial\" : -2},\n",
    "])\n",
    "\"\"\"\n",
    "t.objective((9.4, 4))"
   ]
  },
  {
   "cell_type": "code",
   "execution_count": null,
   "id": "a3f54cd9-d11a-4607-803c-43648bc40833",
   "metadata": {},
   "outputs": [],
   "source": [
    "2/0\n",
    "def objective(params):\n",
    "    C, gamma = params\n",
    "    model = SVC(C=C, gamma=gamma, random_state=42)\n",
    "\n",
    "    # Use cross-validation for a more robust evaluation\n",
    "    cv = StratifiedKFold(n_splits=5, shuffle=True, random_state=42)\n",
    "    scores = cross_val_score(model, X_train, y_train, cv=cv, scoring='accuracy')\n",
    "    return -np.mean(scores)  # Return negative accuracy for minimization\n",
    "\n",
    "def optimize():\n",
    "    n_calls = 30  # Number of times to sample the objective function\n",
    "    n_initial_points = 10  # Number of initial random samples\n",
    "\n",
    "    result = gp_minimize(objective,\n",
    "                     search_space,\n",
    "                     n_calls=n_calls,\n",
    "                     n_initial_points=n_initial_points,\n",
    "                     random_state=42\n",
    "             )\n",
    "\n",
    "    return result"
   ]
  },
  {
   "cell_type": "code",
   "execution_count": null,
   "id": "757b63b7-d8c6-41e6-b5c0-f76c6e587b7e",
   "metadata": {},
   "outputs": [],
   "source": [
    "result = optimize()\n",
    "\n",
    "print(\"Best hyperparameters found:\", result.x)\n",
    "print(\"Best cross-validation accuracy:\", -result.fun)\n",
    "\n",
    "# Train the final model with the best hyperparameters on the full training set\n",
    "best_C, best_gamma = result.x\n",
    "best_model = SVC(C=best_C, gamma=best_gamma, random_state=42)\n",
    "best_model.fit(X_train, y_train)\n",
    "\n",
    "# Evaluate the best model on the test set\n",
    "y_pred = best_model.predict(X_test)\n",
    "test_accuracy = accuracy_score(y_test, y_pred)\n",
    "print(\"Test accuracy with best hyperparameters:\", test_accuracy)"
   ]
  },
  {
   "cell_type": "code",
   "execution_count": null,
   "id": "903b05b0-2794-4d7d-b588-d2b89300a190",
   "metadata": {},
   "outputs": [],
   "source": [
    "# Visualize the optimization process\n",
    "from skopt.plots import plot_convergence\n",
    "import matplotlib.pyplot as plt\n",
    "\n",
    "plot_convergence(result)\n",
    "plt.show()"
   ]
  }
 ],
 "metadata": {
  "kernelspec": {
   "display_name": "Python 3 (ipykernel)",
   "language": "python",
   "name": "python3"
  },
  "language_info": {
   "codemirror_mode": {
    "name": "ipython",
    "version": 3
   },
   "file_extension": ".py",
   "mimetype": "text/x-python",
   "name": "python",
   "nbconvert_exporter": "python",
   "pygments_lexer": "ipython3",
   "version": "3.11.11"
  }
 },
 "nbformat": 4,
 "nbformat_minor": 5
}
